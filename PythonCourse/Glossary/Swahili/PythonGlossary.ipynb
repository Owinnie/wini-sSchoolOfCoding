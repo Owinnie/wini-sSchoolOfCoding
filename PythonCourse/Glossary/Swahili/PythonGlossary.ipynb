{
 "cells": [
  {
   "cell_type": "markdown",
   "id": "b7db2bff-0ee3-4579-b903-98ae8d734e68",
   "metadata": {},
   "source": [
    "<h1 style=\"font-size: 3em;\"> Sehemu za Kamusi ya Python Zilizofafanuliwa </h1>\n",
    "\n",
    "<p style=\"font-size: 18px;\">Karibu katika sehemu hii. Hapa tutajadili baadhi ya vipengele vya kamusi ya Python kwa mifano. Hii itarahisisha kwa yeyote kuelewa dhana za kawaida za Python. </p>\n",
    "\n",
    "<p style=\"font-size: 18px; color:red; font-weight:bolder\">Tayari....</p>"
   ]
  },
  {
   "cell_type": "markdown",
   "id": "c9b0fa76-5aa9-4263-b4f5-8ee57818b3d0",
   "metadata": {},
   "source": [
    "<h2 style=\"font-size: 2em;\"> 1. Ellipsis (...)</h2>\n",
    "\n",
    "<ul>\n",
    "    <li style=\"font-size: 16px;\">Kitu maalum katika Python kinachowakilishwa na nukta tatu (...). Inatumiwa sana katika hali maalum, hasa kwenye 'extended slicing' na nafasi za kazi za muda (placeholders).</li>\n",
    "    <li style=\"font-size: 16px;\">Ellipsis ni mfano pekee wa aina types.EllipsisType, ikimaanisha kuna kitu kimoja tu cha Ellipsis katika programu nzima.</li>\n",
    "</ul>\n",
    "\n",
    "<h3 style=\"font-size: 1.7em;\"> Matumizi </h3>\n",
    "<h4 style=\"font-size: 1.4em;\"> A) Extended Slicing Syntax </h4>\n",
    "<p style=\"font-size: 16px;\">Mara nyingi hutumiwa kwenye 'slicing' kwa safu zenye vipimo vingi, kama vile na maktaba kama NumPy. Inasaidia kuwakilisha nafasi ya waendeshaji wengi wa colon (:) katika 'slicing'.</p>\n",
    "\n",
    "<p style=\"font-size: 16px;\"> <b>Mfano</b> </p>"
   ]
  },
  {
   "cell_type": "code",
   "execution_count": 2,
   "id": "6c17ffc8-b513-4f78-8826-0cd92cfc3b60",
   "metadata": {
    "collapsed": true,
    "jupyter": {
     "outputs_hidden": true
    }
   },
   "outputs": [
    {
     "name": "stdout",
     "output_type": "stream",
     "text": [
      "[[ 1  4  7]\n",
      " [10 13 16]\n",
      " [19 22 25]]\n"
     ]
    }
   ],
   "source": [
    "import numpy as np\n",
    "\n",
    "\n",
    "arr = np.arange(27).reshape(3, 3, 3)\n",
    "print(arr[..., 1])\n",
    "\n",
    "# np.arange(27) => Inaunda mlolongo wa namba 27 (kutoka 0 hadi 26)\n",
    "# .reshape(3, 3, 3) => kupanga upya mlolongo huu katika safu ya 3D yenye umbo la (3, 3, 3)\n",
    "\n",
    "# [[[ 0  1  2]    Safu ya kwanza ya 3x3\n",
    "#   [ 3  4  5]\n",
    "#   [ 6  7  8]]\n",
    "\n",
    "#  [[ 9 10 11]    Safu ya pili ya 3x3\n",
    "#   [12 13 14]\n",
    "#   [15 16 17]]\n",
    "\n",
    "#  [[18 19 20]    Safu ya tatu ya 3x3\n",
    "#   [21 22 23]\n",
    "#   [24 25 26]]]\n",
    "\n",
    "# arr[..., 1] => tumia Ellipsis kuchagua safu nyingi kwa wakati mmoja\n",
    "# ... (Ellipsis) ni nafasi inayowakilisha vipimo vyote vinavyotangulia\n",
    "# Kwa hiyo, arr[..., 1] inamaanisha \"Nipe safu ya pili (kiashiria 1) kutoka kwenye tabaka zote (safu ya 3D).\"\n",
    "# Kwa safu ya kwanza ([[ 0, 1, 2], [ 3, 4, 5], [ 6, 7, 8]]), safu ya pili ni [1, 4, 7]\n",
    "# Kwa safu ya pili ([[ 9, 10, 11], [12, 13, 14], [15, 16, 17]]), safu ya pili ni [10, 13, 16]\n",
    "# Kwa safu ya tatu ([[18, 19, 20], [21, 22, 23], [24, 25, 26]]), safu ya pili ni [19, 22, 25]"
   ]
  },
  {
   "cell_type": "markdown",
   "id": "8f40e833-b126-41c0-9347-f1926a3caec9",
   "metadata": {},
   "source": [
    "<h4 style=\"font-size: 1.4em;\"> B) Kama Nafasi ya Kumbukumbu </h4>\n",
    "<p style=\"font-size: 16px;\">Inatumiwa kama nafasi ya kumbukumbu katika msimbo, kuashiria kuwa sehemu fulani ya kazi au kizuizi haijatekelezwa bado. Hii inaweza kuwa muhimu wakati wa maendeleo kama ukumbusho wa kukamilisha baadaye.</p>\n",
    "\n",
    "<p style=\"font-size: 16px;\"> <b>Mfano</b> </p>"
   ]
  },
  {
   "cell_type": "code",
   "execution_count": 3,
   "id": "76f2902b-93f1-4f51-a15d-c15f6da6222a",
   "metadata": {
    "jupyter": {
     "source_hidden": true
    }
   },
   "outputs": [],
   "source": [
    "def add():\n",
    "    ..."
   ]
  },
  {
   "cell_type": "markdown",
   "id": "f0223b66-eb2d-42b8-acba-4fbe898d948d",
   "metadata": {},
   "source": [
    "<h4 style=\"font-size: 1.4em;\"> C) Kauli za mistari mingi (msimbo uliopangiliwa ndani ya mabano) </h4>\n",
    "<p style=\"font-size: 16px;\">Wakati kauli ni ndefu sana ili kutoshea kwenye mstari mmoja, unaweza kuigawa katika mistari mingi kwa kutumia mabano. Alama ya ... inaonekana kwenye <b style=\"color: red;\">prompt ya shell ya maingiliano</b> ili kuonyesha kuwa Python inatarajia ingizo zaidi.</p>\n",
    "\n",
    "<p style=\"font-size: 16px;\"> <b>Mfano</b> </p>"
   ]
  },
  {
   "cell_type": "code",
   "execution_count": 2,
   "id": "05912da4-3295-4107-b033-cac5c41b3092",
   "metadata": {
    "collapsed": true,
    "jupyter": {
     "outputs_hidden": true,
     "source_hidden": true
    }
   },
   "outputs": [
    {
     "name": "stdout",
     "output_type": "stream",
     "text": [
      ">>> summed = (\n",
      "...     5 + 10 +\n",
      "...     2 + 3\n",
      "... )\n",
      ">>> summed\n",
      "20\n"
     ]
    }
   ],
   "source": [
    "# Kuiga maingiliano ya shell ya Python kwenye notebook\n",
    "print(\"\"\">>> ongeza = (\n",
    "...     5 + 10 +\n",
    "...     2 + 3\n",
    "... )\n",
    ">>> ongeza\n",
    "20\"\"\")"
   ]
  },
  {
   "cell_type": "markdown",
   "id": "714ddafc-b7cb-4631-9965-4c98cde6dc3c",
   "metadata": {},
   "source": [
    "<h4 style=\"font-size: 1.4em;\"> D) Mistari mingi ya maandishi kwa kutumia nukuu tatu </h4>\n",
    "<p style=\"font-size: 16px;\">Unapotumia nukuu tatu kuunda maandishi ya mistari mingi, alama ya ... inaonekana baada ya mstari wa kwanza.</p>\n",
    "\n",
    "<p style=\"font-size: 16px;\"> <b>Mfano</b> </p>"
   ]
  },
  {
   "cell_type": "code",
   "execution_count": 4,
   "id": "5b16983c-fea9-429d-9cda-bc8db87854b3",
   "metadata": {
    "collapsed": true,
    "jupyter": {
     "outputs_hidden": true,
     "source_hidden": true
    }
   },
   "outputs": [
    {
     "name": "stdout",
     "output_type": "stream",
     "text": [
      ">>> text = \"\"\n",
      "...     This is a multiline string.\n",
      "...     It spans several lines.\n",
      "... \"\"\n",
      ">>> print(text)\n",
      "This is a multiline string.\n",
      "It spans several lines.\n"
     ]
    }
   ],
   "source": [
    "# Kuiga maingiliano ya shell ya Python kwenye notebook\n",
    "print(\"\"\">>> text = \"\"\n",
    "...     Huu ni mfuatano wa mistari mingi.\n",
    "...     Inapitia mistari kadhaa.\n",
    "... \"\"\n",
    ">>> print(text)\n",
    "Huu ni mfuatano wa mistari mingi.\n",
    "Inapitia mistari kadhaa.\"\"\")"
   ]
  },
  {
   "cell_type": "markdown",
   "id": "cbc9496b-c1ff-45ea-ae9a-48b625a63495",
   "metadata": {},
   "source": [
    "<h4 style=\"font-size: 1.4em;\"> E) Ndani ya matanzi au taarifa za masharti </h4>\n",
    "<p style=\"font-size: 16px;\">Ikiwa unaandika kitanzi au taarifa ya masharti ambayo ina mistari mingi, alama ya ... itaonekana kwa ujongezaji.</p>\n",
    "\n",
    "<p style=\"font-size: 16px;\"> <b>Mfano</b> </p>"
   ]
  },
  {
   "cell_type": "code",
   "execution_count": 7,
   "id": "8e5c1b0e-1b1b-4cb0-996e-4ce69509cfd3",
   "metadata": {
    "collapsed": true,
    "jupyter": {
     "outputs_hidden": true,
     "source_hidden": true
    }
   },
   "outputs": [
    {
     "name": "stdout",
     "output_type": "stream",
     "text": [
      ">>> for i in range(3):\n",
      "...         print(i)\n",
      "...     \n",
      "0\n",
      "1\n",
      "2\n",
      "\n"
     ]
    }
   ],
   "source": [
    "# Kuiga maingiliano ya shell ya Python kwenye notebook\n",
    "print(\"\"\">>> for i in range(3):\n",
    "...         print(i)\n",
    "...     \n",
    "0\n",
    "1\n",
    "2\n",
    "\"\"\")"
   ]
  },
  {
   "cell_type": "markdown",
   "id": "96f248fe-ad96-46ab-b73e-bf6c985e81d5",
   "metadata": {},
   "source": [
    "<h4 style=\"font-size: 1.4em;\"> F) Kutumia Decorator </h4>\n",
    "<p style=\"font-size: 16px;\">Unapofafanua kazi kwa kutumia 'decorator', ... inaonekana baada ya 'decorator' hadi mwili wa kazi uwe umeandikwa kikamilifu.</p>\n",
    "\n",
    "<p style=\"font-size: 16px;\"> <b>Mfano</b> </p>"
   ]
  },
  {
   "cell_type": "code",
   "execution_count": 13,
   "id": "61119717-28de-43d5-a9b7-2162a60c608d",
   "metadata": {
    "collapsed": true,
    "jupyter": {
     "outputs_hidden": true,
     "source_hidden": true
    }
   },
   "outputs": [
    {
     "name": "stdout",
     "output_type": "stream",
     "text": [
      ">>> @staticmethod\n",
      "... def my_function():\n",
      "...    print(\"This is a static method\")\n",
      "... \n",
      ">>> my_function()\n",
      "This is a static method\n"
     ]
    }
   ],
   "source": [
    "# Kuiga maingiliano ya shell ya Python kwenye notebook\n",
    "print(\"\"\">>> @staticmethod\n",
    "... def my_function():\n",
    "...    print(\"Hii ni mbinu tuli\")\n",
    "... \n",
    ">>> my_function()\n",
    "Hii ni mbinu tuli\"\"\")"
   ]
  },
  {
   "cell_type": "markdown",
   "id": "69810627-243f-4b87-adc4-5eea9ef2c33f",
   "metadata": {},
   "source": [
    "<h2 <p style=\"font-size: 2em;\"> 1b. types.EllipsisType</h2>\n",
    "<p style=\"font-size: 16px;\">EllipsisType ni aina ya kitu cha Ellipsis. Kwenye Python, kila kitu kina aina, na Ellipsis si tofauti. Kitu pekee cha aina hii ni kitu cha Ellipsis chenyewe.</p>\n",
    "\n",
    "<p style=\"font-size: 16px;\"> <b>Mfano</b> </p>"
   ]
  },
  {
   "cell_type": "code",
   "execution_count": 16,
   "id": "96a7a8b9-b4d0-4e90-9165-e676d5bebf0a",
   "metadata": {
    "collapsed": true,
    "jupyter": {
     "outputs_hidden": true,
     "source_hidden": true
    }
   },
   "outputs": [
    {
     "name": "stdout",
     "output_type": "stream",
     "text": [
      ">>> type(Ellipsis)\n",
      "<class 'ellipsis'>\n"
     ]
    }
   ],
   "source": [
    "print(\"\"\">>> type(Ellipsis)\n",
    "<class 'ellipsis'>\"\"\")"
   ]
  },
  {
   "cell_type": "markdown",
   "id": "f5e7663b-5a9e-47e6-9af3-78345fec1bd8",
   "metadata": {},
   "source": [
    "<h2 style=\"font-size: 2em;\"> 1c. types.GenericAlias</h2>\n",
    "<p style=\"font-size: 16px;\">GenericAlias inaruhusu matumizi ya parameta kwenye mfumo wa 'type hinting'. Hii inamaanisha sasa unaweza kuweka parameta kwenye mkusanyiko wa ndani, kama vile list, dict, n.k., kwa aina maalum, kama list[int] au dict[str, int].</p>\n",
    "\n",
    "<p style=\"font-size: 16px;\"> <b>Mfano</b> </p>"
   ]
  },
  {
   "cell_type": "code",
   "execution_count": 1,
   "id": "e149ed97-9977-4849-ba4b-942143d1fdef",
   "metadata": {
    "collapsed": true,
    "jupyter": {
     "outputs_hidden": true,
     "source_hidden": true
    }
   },
   "outputs": [
    {
     "name": "stdout",
     "output_type": "stream",
     "text": [
      "True\n",
      "True\n"
     ]
    }
   ],
   "source": [
    "from types import GenericAlias\n",
    "\n",
    "# Kuangalia kama list[int] ni sawa na kuunda GenericAlias kwa list na int\n",
    "print(list[int] == GenericAlias(list, (int,)))\n",
    "\n",
    "\n",
    "# Kuangalia kama dict[str, int] ni sawa na kuunda GenericAlias kwa dict na (str, int)\n",
    "print(dict[str, int] == GenericAlias(dict, (str, int)))\n",
    "\n",
    "# t_origin: Hii ni darasa la msingi unalopewa parameta\n",
    "# t_args: Hii ni tuple inayowakilisha aina zinazotumika kuweka parameta"
   ]
  },
  {
   "cell_type": "code",
   "execution_count": 17,
   "id": "82ff253a-643e-4120-bb97-f4af37e47d1f",
   "metadata": {
    "collapsed": true,
    "jupyter": {
     "outputs_hidden": true,
     "source_hidden": true
    }
   },
   "outputs": [
    {
     "name": "stdout",
     "output_type": "stream",
     "text": [
      "10\n"
     ]
    }
   ],
   "source": [
    "# Mfano wa matumizi ya GenericAlias kwa type hinting\n",
    "from typing import List\n",
    "\n",
    "def sum_list(numbers: List[int]) -> int:\n",
    "    return sum(numbers)\n",
    "\n",
    "result = sum_list([1, 2, 3, 4])\n",
    "print(result)"
   ]
  },
  {
   "cell_type": "markdown",
   "id": "9b4bd006-7ea5-4739-b893-992f4307c3a9",
   "metadata": {},
   "source": [
    "<h2 style=\"font-size: 2em;\">2. Abstract Base Classes (ABC)</h2>\n",
    "<p style=\"font-size: 16px;\">Abstract Base Class (ABC) hufafanua kiolesura cha kawaida kwa kundi la madarasa yanayohusiana. Inafanya kazi kama ramani kwa madarasa yake madogo, kuhakikisha kuwa yanatekeleza mbinu maalum.</p>\n",
    "<h3 style=\"font-size: 1.7em;\">Mafunzo Muhimu</h3>\n",
    "<ul>\n",
    "    <li style=\"font-size: 16px;\">Common Interface: ABC inahakikisha kwamba madarasa yote yaliyotokana yanatekeleza mbinu maalum.</li>\n",
    "    <li style=\"font-size: 16px;\">Duck Typing: ABC inasaidia duck-typing ya Python, ambapo aina ya kitu inaamuliwa na tabia yake, badala ya aina yake maalum.</li>\n",
    "    <li style=\"font-size: 16px;\">Virtual Subclasses: Haya ni madarasa ambayo hayahitajiki kurithi moja kwa moja kutoka ABC lakini bado yanaweza kutambulika kama madarasa madogo kupitia isinstance() au issubclass().</li>\n",
    "    <li style=\"font-size: 16px;\">Python ina ABC zilizojengwa ndani kama zile zilizopo kwenye moduli ya collections.abc na numbers, lakini pia unaweza kuunda ABC zako mwenyewe kwa kutumia moduli ya abc.</li>\n",
    "</ul>\n",
    "\n",
    "<p style=\"font-size: 16px;\"> <b>Mfano</b> </p>"
   ]
  },
  {
   "cell_type": "code",
   "execution_count": 20,
   "id": "712e8bc2-5dc7-4e96-8bba-c2dbe1ed7abe",
   "metadata": {
    "collapsed": true,
    "jupyter": {
     "outputs_hidden": true,
     "source_hidden": true
    }
   },
   "outputs": [
    {
     "name": "stdout",
     "output_type": "stream",
     "text": [
      "Area: 12\n",
      "Perimeter: 14\n",
      "My width is 3\n"
     ]
    }
   ],
   "source": [
    "from abc import ABC, abstractmethod\n",
    "\n",
    "# Kufafanua darasa la msingi la kielelezo\n",
    "class Shape(ABC):\n",
    "    \n",
    "    # Kufafanua mbinu ya kielelezo ambayo madarasa yote ndogo lazima yatekeleze\n",
    "    @abstractmethod\n",
    "    def area(self):\n",
    "        pass\n",
    "    \n",
    "    @abstractmethod\n",
    "    def perimeter(self):\n",
    "        pass\n",
    "\n",
    "# Darasa halisi linalorithi kutoka ABC\n",
    "class Rectangle(Shape):\n",
    "    \n",
    "    def __init__(self, width, height):\n",
    "        self.width = width\n",
    "        self.height = height\n",
    "    \n",
    "    # Tekeleza mbinu za kielelezo\n",
    "    def area(self):\n",
    "        return self.width * self.height\n",
    "    \n",
    "    def perimeter(self):\n",
    "        return 2 * (self.width + self.height)\n",
    "\n",
    "# Unda kitu cha darasa la Rectangle\n",
    "rect = Rectangle(3, 4)\n",
    "print(f\"Area: {rect.area()}\")        # Output: Area: 12\n",
    "print(f\"Perimeter: {rect.perimeter()}\")  # Output: Perimeter: 14\n",
    "\n",
    "class Square(Rectangle):\n",
    "    \n",
    "    def __init__(self, width, height):\n",
    "        self.width = width\n",
    "        self.height = height\n",
    "    \n",
    "    def printwdth(self):\n",
    "        print(f\"My width is {self.width}\")\n",
    "\n",
    "s = Square(3, 4)\n",
    "s.printwdth()\n",
    "\n",
    "# Jaribio la kuunda kitu cha darasa la kielelezo litasababisha kosa\n",
    "# shape = Shape()  # Hii itasababisha TypeError"
   ]
  },
  {
   "cell_type": "markdown",
   "id": "b3765297-cb3f-4c44-9345-2bd85b7b53b4",
   "metadata": {},
   "source": [
    "<h2 style=\"font-size: 2em;\">2b. Virtual Subclasses</h2>\n",
    "    <p style=\"font-size: 16px;\">A virtual subclass halirithi waziwazi kutoka kwa ABC lakini linaweza kusajiliwa ili kutambulika kama vile.</p>\n",
    "<p style=\"font-size: 16px;\"> <b>Mfano</b> </p>"
   ]
  },
  {
   "cell_type": "code",
   "execution_count": 22,
   "id": "9c4ac622-4c22-4595-bbd5-96757adc2a58",
   "metadata": {
    "collapsed": true,
    "jupyter": {
     "outputs_hidden": true,
     "source_hidden": true
    }
   },
   "outputs": [
    {
     "name": "stdout",
     "output_type": "stream",
     "text": [
      "True\n"
     ]
    }
   ],
   "source": [
    "class Circle:\n",
    "    def area(self):\n",
    "        return 3.14\n",
    "    \n",
    "    def perimeter(self):\n",
    "        return 6.28\n",
    "\n",
    "# Sajili Circle kama darasa bandia la Shape\n",
    "Shape.register(Circle)  # Darasa la msingi . sajili (darasa bandia)\n",
    "\n",
    "# Sasa, Circle inachukuliwa kama darasa ndogo la Shape\n",
    "# hata bila urithi waziwazi\n",
    "c = Circle()\n",
    "print(isinstance(c, Shape))  "
   ]
  },
  {
   "cell_type": "markdown",
   "id": "90c5a74f-4b46-4b78-ad5c-942e77d646b0",
   "metadata": {},
   "source": [
    "<h2 style=\"font-size: 2em;\">3. Annotations in Python</h2>\n",
    "    <p style=\"font-size: 16px;\">Annotations ni njia ya kuongeza vihisia vya aina au metadata ya ziada kwenye mabadiliko, vigezo vya kazi, na thamani za kurudi, kutoa uwazi kuhusu aina zinazotarajiwa.</p>\n",
    "<h3 style=\"font-size: 1.7em;\">Matumizi ya Annotations:</h3>\n",
    "    <ul>\n",
    "        <li style=\"font-size: 16px;\">Variables: Pendekeza aina ya mabadiliko. variable.</li>\n",
    "        <li style=\"font-size: 16px;\">Functions: Pendekeza aina za parameters and return values.</li>\n",
    "        <li style=\"font-size: 16px;\">Python huhifadhi maelezo haya kwenye attribute maalum inayoitwa <code>__annotations__</code>.</li>\n",
    "    </ul>\n",
    "    <h3 style=\"font-size: 1.7em;\">Mambo Muhimu:</h3>\n",
    "    <ul>\n",
    "        <li style=\"font-size: 16px;\">Annotations Hayalazimishi Types: Yanatoa vihisia juu ya type gani inapaswa kutumiwa, lakini Python haileti makosa ikiwa type hazifanani.</li>\n",
    "        <li style=\"font-size: 16px;\">Yamehifadhiwa katika <code>__annotations__</code>: Function na variable annotations yanahifadhiwa katika kamusi ya <code>__annotations__</code>.</li>\n",
    "    </ul>\n",
    "    <p style=\"font-size: 16px;\"> <b>Mfano</b> </p>"
   ]
  },
  {
   "cell_type": "code",
   "execution_count": 27,
   "id": "d2ea1da1-4745-4e94-9d5d-789dc5ca72fe",
   "metadata": {
    "collapsed": true,
    "jupyter": {
     "outputs_hidden": true,
     "source_hidden": true
    }
   },
   "outputs": [
    {
     "name": "stdout",
     "output_type": "stream",
     "text": [
      "{'x': <class 'int'>}\n",
      "{'name': <class 'str'>, 'return': <class 'str'>}\n",
      "{'attr': <class 'float'>}\n",
      "Hello, 20\n"
     ]
    }
   ],
   "source": [
    "# 1. Variable annotation ya kimataifa (Global)\n",
    "x: int = 10\n",
    "print(__annotations__)\n",
    "\n",
    "# 2. Function yenye annotated parameters and return type\n",
    "def greet(name: str) -> str:\n",
    "    return f\"Hello, {name}\"\n",
    "print(greet.__annotations__)\n",
    "\n",
    "#3. Kupata Maelezo ya Sifa za Darasa\n",
    "class MyClass:\n",
    "    attr: float = 3.14\n",
    "print(MyClass.__annotations__)\n",
    "\n",
    "\n",
    "# Annotations hayalazimishi types\n",
    "print(greet(20))"
   ]
  },
  {
   "cell_type": "markdown",
   "id": "67902479-add7-492c-9f27-f00973874c5c",
   "metadata": {},
   "source": [
    "<h2 style=\"font-size: 2em;\">4. PEP 484 and PEP 526</h2>\n",
    "<p style=\"font-size: 16px;\">PEP 484: Iliingiza \"type hints\" kwa Python, ikieleza jinsi ya kutumia annotations kwa ajili ya kuonyesha aina.</p>\n",
    "<p style=\"font-size: 16px;\">PEP 526: Iliingiza variable annotations, ikiruhusu annotations kwa variable na sifa za darasa bila kuhitaji ugawaji wa mara moja.</p>\n",
    "<h3 style=\"font-size: 1.7em;\">Miongozo Bora</h3>\n",
    "<ul>\n",
    "    <li style=\"font-size: 16px;\">Tumia annotations kwa mpangilio kwa uelewa bora zaidi.</li>\n",
    "    <li style=\"font-size: 16px;\">Fikiria kutumia kihakiki cha type kama mypy ili kuhakikisha usahihi wa aina.</li>\n",
    "    <li style=\"font-size: 16px;\">Annotations zinaongeza uwazi, zikisaidia watengenezaji na zana kuelewa aina zinazotarajiwa.</li>\n",
    "</ul>\n",
    "<p style=\"font-size: 16px;\"> <b>Mfano</b> </p>\n"
   ]
  },
  {
   "cell_type": "code",
   "execution_count": 29,
   "id": "0a466fba-bfbf-4ff1-8701-f1b78eeed9ea",
   "metadata": {
    "jupyter": {
     "source_hidden": true
    }
   },
   "outputs": [],
   "source": [
    "# PEP 526\n",
    "# 1. Kutangaza variable na annotation ya aina lakini bila thamani ya awali\n",
    "x: int  # x inatarajiwa kuwa ya aina 'int'\n",
    "\n",
    "# Sasa weka thamani baadaye\n",
    "x = 10\n",
    "\n",
    "# 2. Annotation ya Sifa ya Darasa Bila Thamani ya Awali\n",
    "class MyClass:\n",
    "    # Kutangaza sifa ya darasa na annotation ya aina\n",
    "    name: str  # name inatarajiwa kuwa ya aina 'str'\n",
    "\n",
    "# Sasa weka thamani baada ya kuunda instance\n",
    "obj = MyClass()\n",
    "obj.name = \"Alice\""
   ]
  },
  {
   "cell_type": "markdown",
   "id": "a2922ae9-f59c-48aa-923d-7eb7ccfb7210",
   "metadata": {},
   "source": [
    "<h2 style=\"font-size: 2em;\">5. Arguments in Python</h2>\n",
    "<p style=\"font-size: 16px;\">Argument ni thamani inayopitishwa kwenye function wakati inaitwa. Arguments zinatoa pembejeo zinazohitajika ili function ifanye shughuli zake.</p>\n",
    "\n",
    "<h3 style=\"font-size: 1.7em;\">Aina mbili kuu za arguments</h3>\n",
    "\n",
    "<h4 style=\"font-size: 1.4em;\">A) Positional Arguments</h4>\n",
    "<p style=\"font-size: 16px;\">Hizi hupitishwa kwa function kwa mpangilio zinavyofafanuliwa. Function inatarajia arguments kutolewa kwa mpangilio sahihi.</p>\n",
    "\n",
    "<p style=\"font-size: 16px;\"> <b>Mfano</b> </p>"
   ]
  },
  {
   "cell_type": "code",
   "execution_count": 2,
   "id": "1664640a-0770-4f41-ba60-89f63710992f",
   "metadata": {
    "collapsed": true,
    "jupyter": {
     "outputs_hidden": true,
     "source_hidden": true
    }
   },
   "outputs": [
    {
     "name": "stdout",
     "output_type": "stream",
     "text": [
      "8\n",
      "8\n"
     ]
    }
   ],
   "source": [
    "def add(a, b):\n",
    "    return a + b\n",
    "\n",
    "result = add(3, 5)  # 3 na 5 ni positional arguments\n",
    "print(result)\n",
    "\n",
    "# Tumia `*` kupitisha vipengele vya iterable kama positional arguments\n",
    "args = (3, 5)\n",
    "result = add(*args)\n",
    "print(result)"
   ]
  },
  {
   "cell_type": "markdown",
   "id": "f7cb5886-01af-4665-aa8c-e088569378f7",
   "metadata": {},
   "source": [
    "<h4 style=\"font-size: 1.4em;\">B) Keyword Arguments</h4>\n",
    "<p style=\"font-size: 16px;\">Hizi hupitishwa kwa kutumia syntax ya name=value, ikiruhusu kueleza ni argument gani inahusiana na parameter ipi. Zinaweza kutolewa kwa mpangilio wowote.</p>\n",
    "\n",
    "<p style=\"font-size: 16px;\"> <b>Mfano</b> </p>"
   ]
  },
  {
   "cell_type": "code",
   "execution_count": 2,
   "id": "b12f842d-3ddf-4f42-b179-ee63b557a2e1",
   "metadata": {
    "collapsed": true,
    "jupyter": {
     "outputs_hidden": true,
     "source_hidden": true
    }
   },
   "outputs": [
    {
     "name": "stdout",
     "output_type": "stream",
     "text": [
      "8\n",
      "8\n"
     ]
    }
   ],
   "source": [
    "# Ita function kwa kutumia keyword arguments\n",
    "result = add(a=3, b=5)\n",
    "print(result)\n",
    "\n",
    "# Pitisha keyword arguments kutoka kwa kamusi\n",
    "kwargs = {'a': 3, 'b': 5}\n",
    "result = add(**kwargs)\n",
    "print(result)"
   ]
  },
  {
   "cell_type": "markdown",
   "id": "90d6427a-f452-4de7-8de2-ec6bfbc34b5e",
   "metadata": {},
   "source": [
    "<h4 style=\"font-size: 1.4em;\">c) Kuchanganya Positional na Keyword Arguments</h4>\n",
    "<p style=\"font-size: 16px;\">Unaweza kuchanganya positional na keyword arguments katika wito wa function, lakini positional arguments <b style=\"color: red;\">lazima zije kwanza.</b></p>\n",
    "\n",
    "<p style=\"font-size: 16px;\"> <b>Mfano</b> </p>"
   ]
  },
  {
   "cell_type": "code",
   "execution_count": 6,
   "id": "d18d39a3-95aa-43d4-ae8a-85f7908f28db",
   "metadata": {
    "collapsed": true,
    "jupyter": {
     "outputs_hidden": true,
     "source_hidden": true
    }
   },
   "outputs": [
    {
     "name": "stdout",
     "output_type": "stream",
     "text": [
      "8\n"
     ]
    }
   ],
   "source": [
    "# Kuchanganya positional na keyword arguments\n",
    "# Vinginevyo utapata SyntaxError\n",
    "result = add(3, b=5)\n",
    "print(result)"
   ]
  },
  {
   "cell_type": "markdown",
   "id": "bdde8c73-4e5b-4b2e-992b-2afc8f851ba0",
   "metadata": {},
   "source": [
    "<h2 style=\"font-size: 1.7em;\">6. Asynchronous Context Manager</h2>\n",
    "<p style=\"font-size: 16px;\">Inaruhusu usimamizi wa rasilimali kwa namna ya asynchronous ukitumia <code>async with</code>. Lazima ifafanue <code>__aenter__()</code> na <code>__aexit__()</code>, zote ni mbinu za asynchronous ambazo zinarudisha vitu vinavyoweza kusubiriwa (awaitable objects).</p>\n",
    "\n",
    "<p style=\"font-size: 16px;\"> <b>Mfano</b> </p>"
   ]
  },
  {
   "cell_type": "code",
   "execution_count": 8,
   "id": "84aa9cbf-639e-4523-b99a-7e9c2ee0355a",
   "metadata": {
    "collapsed": true,
    "jupyter": {
     "outputs_hidden": true,
     "source_hidden": true
    }
   },
   "outputs": [
    {
     "name": "stdout",
     "output_type": "stream",
     "text": [
      "Entering context\n",
      "Inside context\n",
      "Exiting context\n"
     ]
    }
   ],
   "source": [
    "import asyncio\n",
    "\n",
    "class AsyncContextManager:\n",
    "    async def __aenter__(self):\n",
    "        print(\"Entering context\")\n",
    "        return self\n",
    "    \n",
    "    async def __aexit__(self, exc_type, exc_value, traceback):\n",
    "        print(\"Exiting context\")\n",
    "\n",
    "async def main():\n",
    "    async with AsyncContextManager() as manager:\n",
    "        print(\"Inside context\")\n",
    "\n",
    "# Running the asynchronous code\n",
    "# asyncio.run(main())\n",
    "await main()"
   ]
  },
  {
   "cell_type": "code",
   "execution_count": 14,
   "id": "c7cc9bc7-d0c3-4a70-afe5-e6a8f798425f",
   "metadata": {
    "collapsed": true,
    "jupyter": {
     "outputs_hidden": true,
     "source_hidden": true
    }
   },
   "outputs": [
    {
     "name": "stdout",
     "output_type": "stream",
     "text": [
      "sample.txt Successfully downloaded\n"
     ]
    }
   ],
   "source": [
    "# Mfano wa vitendo\n",
    "import aiohttp\n",
    "import asyncio\n",
    "\n",
    "\n",
    "class AsyncFileDownload:\n",
    "    def __init__(self, url: str, dest: str) -> None:\n",
    "        self.url = url\n",
    "        self.dest = dest\n",
    "\n",
    "    async def __aenter__(self):\n",
    "        self.session = aiohttp.ClientSession()  # establish session\n",
    "        return self\n",
    "    \n",
    "    async def __aexit__(self, exc_type, exc_value, traceback):\n",
    "        await self.session.close()\n",
    "\n",
    "    async def downloadFile(self):\n",
    "        async with self.session.get(self.url) as res:\n",
    "            if res.status == 200:\n",
    "                cont = await res.read()\n",
    "                with open(self.dest, 'wb') as f:\n",
    "                    f.write(cont)\n",
    "                print(f\"{self.dest} Imepakuliwa kwa mafanikio\")\n",
    "            else:\n",
    "                print(f\"{res.status}: Kupakua kumeshindikana\")\n",
    "\n",
    "async def main():\n",
    "    url = \"https://www.gutenberg.org/files/1342/1342-0.txt\"\n",
    "    dest = \"sample.txt\"\n",
    "    async with AsyncFileDownload(url, dest) as downloader:\n",
    "        await downloader.downloadFile()\n",
    "\n",
    "if __name__ == \"__main__\":\n",
    "    # asyncio.run(main())\n",
    "    await main()"
   ]
  },
  {
   "cell_type": "markdown",
   "id": "d2abedc4-7689-4287-a6a1-1a5a44493b90",
   "metadata": {},
   "source": [
    "<h2 style=\"font-size: 1.7em;\">7. Asynchronous Generator</h2>\n",
    "<p style=\"font-size: 16px;\">Ni function inayoweza kutoa thamani kwa namna ya asynchronous na hutumika katika <code>async for</code> loop. Inaonekana kama coroutine lakini inatumia <code>yield</code> kutoa thamani.</p>\n",
    "\n",
    "<p style=\"font-size: 16px;\"> <b>Mfano</b> </p>"
   ]
  },
  {
   "cell_type": "code",
   "execution_count": 10,
   "id": "4e6d1651-7664-496f-980f-f9aab89aa0a8",
   "metadata": {
    "collapsed": true,
    "jupyter": {
     "outputs_hidden": true,
     "source_hidden": true
    }
   },
   "outputs": [
    {
     "name": "stdout",
     "output_type": "stream",
     "text": [
      "Received: 0\n",
      "Received: 1\n",
      "Received: 2\n"
     ]
    }
   ],
   "source": [
    "import asyncio\n",
    "\n",
    "# Fafanua asynchronous generator\n",
    "async def async_generator():\n",
    "    for i in range(3):\n",
    "        await asyncio.sleep(1)  # Kuiga operesheni ya async operation\n",
    "        yield i  # Toa thamani kwa namna ya asynchronous\n",
    "\n",
    "# Kutumia asynchronous generator\n",
    "async def main():\n",
    "    async for value in async_generator():\n",
    "        print(f\"Imepokelewa: {value}\")\n",
    "\n",
    "# Running the asynchronous code\n",
    "# asyncio.run(main())\n",
    "await main()"
   ]
  },
  {
   "cell_type": "markdown",
   "id": "bd73efd1-317e-426a-993b-08ec75e5f984",
   "metadata": {},
   "source": [
    "<h2 style=\"font-size: 1.7em;\">8. Asynchronous Generator Iterator</h2>\n",
    "<p style=\"font-size: 16px;\">Unapoita asynchronous generator function, inarudisha asynchronous generator iterator ambayo inatekeleza mbinu ya <code>__anext__()</code>, ikiruhusu udhibiti wa utekelezaji wa generator.</p>\n",
    "\n",
    "<p style=\"font-size: 16px;\"> <b>Mfano</b> </p>"
   ]
  },
  {
   "cell_type": "code",
   "execution_count": 11,
   "id": "a29d4dc6-4d40-4ef7-85bc-24005c08d1af",
   "metadata": {
    "collapsed": true,
    "jupyter": {
     "outputs_hidden": true,
     "source_hidden": true
    }
   },
   "outputs": [
    {
     "name": "stdout",
     "output_type": "stream",
     "text": [
      "1\n",
      "2\n"
     ]
    }
   ],
   "source": [
    "async def async_generator():\n",
    "    yield 1\n",
    "    yield 2\n",
    "\n",
    "async def main():\n",
    "    # Unda asynchronous generator iterator\n",
    "    gen = async_generator()\n",
    "\n",
    "    # Pata thamani kwa kutumia __anext__()\n",
    "    print(await gen.__anext__())\n",
    "    print(await gen.__anext__())\n",
    "\n",
    "# Running the asynchronous code\n",
    "# asyncio.run(main())\n",
    "await main()"
   ]
  },
  {
   "cell_type": "markdown",
   "id": "7aa27651-e77a-4d43-b0b4-6b60dfe998ac",
   "metadata": {},
   "source": [
    "<h2 style=\"font-size: 1.7em;\">9. Asynchronous Iterable</h2>\n",
    "<p style=\"font-size: 16px;\">Iterable ya asynchronous inaweza kutumika katika <code>async for</code> loop na lazima ifafanue mbinu ya <code>__aiter__()</code>.</p>\n",
    "\n",
    "<p style=\"font-size: 16px;\"> <b>Mfano</b> </p>"
   ]
  },
  {
   "cell_type": "code",
   "execution_count": 12,
   "id": "b4cc7f91-cc03-42dc-888a-41950d765ad7",
   "metadata": {
    "collapsed": true,
    "jupyter": {
     "outputs_hidden": true,
     "source_hidden": true
    }
   },
   "outputs": [
    {
     "name": "stdout",
     "output_type": "stream",
     "text": [
      "1\n",
      "2\n",
      "3\n"
     ]
    }
   ],
   "source": [
    "class AsyncIterable:\n",
    "    def __init__(self):\n",
    "        self.data = [1, 2, 3]\n",
    "    \n",
    "    def __aiter__(self):\n",
    "        return self\n",
    "\n",
    "    async def __anext__(self):\n",
    "        if not self.data:\n",
    "            raise StopAsyncIteration\n",
    "        await asyncio.sleep(1)  # Kuiga operesheni ya asynchronous\n",
    "        return self.data.pop(0)\n",
    "\n",
    "async def main():\n",
    "    async for item in AsyncIterable():\n",
    "        print(item)\n",
    "\n",
    "# Running the asynchronous code\n",
    "# asyncio.run(main())\n",
    "await main()"
   ]
  },
  {
   "cell_type": "markdown",
   "id": "f3c95f1a-93d5-4d77-8908-15fd904787f7",
   "metadata": {},
   "source": [
    "<h2 style=\"font-size: 1.7em;\">10. Awaitable</h2>\n",
    "<p style=\"font-size: 16px;\">Kitu ambacho kinaweza kutumika katika expression ya await. Inaweza kuwa coroutine (function iliyoainishwa na <code>async def</code>) au kitu kilicho na mbinu ya <code>__await__()</code>.</p>\n",
    "<p style=\"font-size: 16px;\"> <b>Mfano</b> </p>"
   ]
  },
  {
   "cell_type": "code",
   "execution_count": 15,
   "id": "5b7cf93b-61aa-4326-8ab2-eb72f2e8ce08",
   "metadata": {
    "jupyter": {
     "source_hidden": true
    }
   },
   "outputs": [],
   "source": [
    "import asyncio\n",
    "\n",
    "class CustomAwaitable:\n",
    "    def __await__(self):\n",
    "        return (yield from asyncio.sleep(1).__await__())  # Custom await logic\n",
    "\n",
    "async def main():\n",
    "    await CustomAwaitable()  # Awaiting the custom awaitable\n",
    "\n",
    "# Running the asynchronous code\n",
    "# asyncio.run(main())\n",
    "await main()\n",
    "\n",
    "# __await__(self) Method: Hii ni mbinu maalum ambayo lazima ifafanuliwe ili kitu kiwe awaitable.\n",
    "# Unapopiga await kwa instance ya darasa hili, Python inaita mbinu hii.\n",
    "# asyncio.sleep(1).__await__(): Sehemu hii inaita asyncio.sleep(1), \n",
    "# ambayo ni coroutine inayosimamisha utekelezaji kwa sekunde 1. \n",
    "# Mbinu ya __await__() ya coroutine inaitwa, ambayo inarudisha iterator itakayokabidhi udhibiti kwa event loop hadi operesheni ya kulala ikamilike."
   ]
  },
  {
   "cell_type": "markdown",
   "id": "b382c4e1-5d8a-4924-85a6-d4bdc10f8ecb",
   "metadata": {},
   "source": [
    "<h2 style=\"font-size: 2em;\">11. Binary File</h2>\n",
    "    <p style=\"font-size: 16px;\">\n",
    "        Faili ya binary ina data kwa muundo wa binary (0s na 1s), tofauti na faili ya maandishi inayokuwa na maandishi yanayosomeka. Faili hizi zinasomwa na kuandikwa kwa kutumia binary modes kama vile 'rb' (kusoma binary), 'wb' (kuandika binary), au 'rb+' (kusoma/kuandika binary).\n",
    "    </p>\n",
    "    <p style=\"font-size: 16px;\"> <b>Mfano</b> </p>"
   ]
  },
  {
   "cell_type": "code",
   "execution_count": 16,
   "id": "44a0b105-8d75-4459-8466-df9f1e1a1d87",
   "metadata": {
    "collapsed": true,
    "jupyter": {
     "outputs_hidden": true,
     "source_hidden": true
    }
   },
   "outputs": [
    {
     "name": "stdout",
     "output_type": "stream",
     "text": [
      "b'\\x00\\x01\\x02\\x03\\x04'\n"
     ]
    }
   ],
   "source": [
    "# Kuandika data ya binary kwenye faili\n",
    "with open('binaryfile.bin', 'wb') as f:\n",
    "    f.write(b'\\x00\\x01\\x02\\x03\\x04')  # kuandika bytes\n",
    "\n",
    "# Kusoma data ya binary kutoka faili\n",
    "with open('binaryfile.bin', 'rb') as f:\n",
    "    data = f.read()\n",
    "    print(data)"
   ]
  },
  {
   "cell_type": "markdown",
   "id": "239c6326-c395-4a60-817f-6a764dee7608",
   "metadata": {},
   "source": [
    "<h2 style=\"font-size: 1.7em;\">12. Borrowed Reference</h2>\n",
    "    <p style=\"font-size: 16px;\">\n",
    "        Borrowed reference katika C API ya Python (inayotumika wakati wa kuipanua au kuijumuisha Python kwenye msimbo wa C) inahusu reference ya object ambayo msimbo haumiliki. Hii inamaanisha kuwa msimbo hauongezi idadi ya references, na object inaweza kufutwa na garbage collector wakati wowote isipokuwa ikibadilishwa kuwa strong reference kwa kutumia Py_INCREF().\n",
    "    </p>\n",
    "    <p style=\"font-size: 16px;\"> <b>Mfano</b> </p>"
   ]
  },
  {
   "cell_type": "code",
   "execution_count": 17,
   "id": "992a8f64-69bf-4248-b710-968296641967",
   "metadata": {
    "jupyter": {
     "source_hidden": true
    }
   },
   "outputs": [],
   "source": [
    "# PyObject* borrowed_ref = PyList_GetItem(some_list, 0);  // Haiongezi idadi ya reference\n",
    "# if (borrowed_ref == NULL) {\n",
    "#     return NULL;  // Shughulikia hitilafu\n",
    "# }\n",
    "# Py_INCREF(borrowed_ref);  // Badilisha kuwa strong reference kwa usalama\n",
    "\n",
    "# PyList_GetItem inarudisha borrowed reference ya object kwenye index 0.\n",
    "# Kwa kuwa idadi ya reference haiongezi, object inaweza kuharibiwa wakati wowote \n",
    "# isipokuwa tutumie Py_INCREF() kuibadilisha kuwa strong reference."
   ]
  },
  {
   "cell_type": "markdown",
   "id": "47c005fa-6f61-4815-93ae-ccd52809bf82",
   "metadata": {},
   "source": [
    "<h2 style=\"font-size: 1.7em;\">13. Bytes-like Object</h2>\n",
    "    <p style=\"font-size: 16px;\">\n",
    "        Bytes-like object ni object inayounga mkono protocol ya buffer ya Python, ambayo inaruhusu kutoa raw byte memory (kundi la bytes). Hizi ni pamoja na:</p>  \n",
    "        <ul>\n",
    "            <li style=\"font-size: 16px;\">Bytes (immutable)</li>\n",
    "            <li style=\"font-size: 16px;\">Bytearray (mutable)</li>\n",
    "            <li style=\"font-size: 16px;\">Memoryview (views of byte data) [mutable na immutable]</li>\n",
    "            <li style=\"font-size: 16px;\">Array.array (mutable)</li>\n",
    "        </ul>\n",
    "    <p style=\"font-size: 16px;\">Bytes-like objects mara nyingi zinatumika kwa shughuli zinazohitaji data ya binary kama vile compression, encryption, na mawasiliano ya mtandao.</p>\n",
    "    <p style=\"font-size: 16px;\"> <b>Mfano</b> </p>"
   ]
  },
  {
   "cell_type": "code",
   "execution_count": 18,
   "id": "bcaa4359-5ff8-4fc0-b594-cd70f70cddb6",
   "metadata": {
    "collapsed": true,
    "jupyter": {
     "outputs_hidden": true,
     "source_hidden": true
    }
   },
   "outputs": [
    {
     "name": "stdout",
     "output_type": "stream",
     "text": [
      "b'Hello, world!'\n",
      "bytearray(b'Hello')\n",
      "bytearray(b'Gello')\n",
      "71\n"
     ]
    }
   ],
   "source": [
    "# Kutumia bytes (immutable bytes-like object)\n",
    "data = b'Hello, world!'\n",
    "print(data)  # Output: b'Hello, world!'\n",
    "\n",
    "# Kutumia bytearray (mutable bytes-like object)\n",
    "data_mutable = bytearray(b'Hello')\n",
    "print(data_mutable)\n",
    "data_mutable[0] = 0x47  # Badilisha byte kwenye index 0\n",
    "print(data_mutable)\n",
    "\n",
    "# Kutumia memoryview (maoni kwenye bytearray)\n",
    "mem_view = memoryview(data_mutable)\n",
    "print(mem_view[0])"
   ]
  },
  {
   "cell_type": "markdown",
   "id": "ffc58f4c-160e-4f7a-9b5e-b5ae21c7b972",
   "metadata": {},
   "source": [
    "<h2 style=\"font-size: 1.7em;\">14. Bytecode</h2>\n",
    "    <p style=\"font-size: 16px;\">\n",
    "        Bytecode ya Python ni uwakilishi wa katikati wa msimbo wako wa Python baada ya kukusanywa. Inatekelezwa na Python virtual machine (CPython). Bytecode huhifadhiwa kwenye faili za .pyc ili kuboresha utendaji wakati wa utekelezaji wa kurudiwa. Bytecode haisomeki na binadamu, lakini ni muundo wa ndani unaotumika kuboresha utendaji.\n",
    "    </p>\n",
    "    <p style=\"font-size: 16px;\"> <b>Mfano</b> </p>"
   ]
  },
  {
   "cell_type": "code",
   "execution_count": 19,
   "id": "f9da5d55-9a2c-4d4d-acf4-bc9fba8518d6",
   "metadata": {
    "collapsed": true,
    "jupyter": {
     "outputs_hidden": true,
     "source_hidden": true
    }
   },
   "outputs": [
    {
     "name": "stdout",
     "output_type": "stream",
     "text": [
      "  4           0 RESUME                   0\n",
      "\n",
      "  5           2 LOAD_GLOBAL              1 (NULL + print)\n",
      "             12 LOAD_CONST               1 ('Hello, World!')\n",
      "             14 CALL                     1\n",
      "             22 POP_TOP\n",
      "             24 RETURN_CONST             0 (None)\n"
     ]
    }
   ],
   "source": [
    "# Kuorodhesha maelekezo ya bytecode kwa Python function ukitumia moduli ya dis\n",
    "import dis\n",
    "\n",
    "def hello_world():\n",
    "    print(\"Hello, World!\")\n",
    "\n",
    "dis.dis(hello_world)  # Inatoa bytecode ya function"
   ]
  },
  {
   "cell_type": "markdown",
   "id": "9827b811-79ee-47e3-ba1a-d57eb1d8c329",
   "metadata": {},
   "source": [
    "<h2 style=\"font-size: 1.4em;\">15. Bytes-like Objects</h2>\n",
    "    <p style=\"font-size: 16px;\">\n",
    "        Hebu tuangalie kwa kina jinsi bytearray na memoryview zinavyofanya kazi na thamani za ASCII na uwakilishi wake wa hexadecimal.\n",
    "    </p>\n",
    "    <ul>\n",
    "        <li style=\"font-size: 16px;\">\n",
    "            <strong>a) Kufanya kazi na bytearray na ASCII/Hexadecimal:</strong> Unaweza kubadilisha bytearrays kwenye kiwango cha byte, ambapo kila herufi inawakilishwa na thamani yake ya ASCII au sawa na hexadecimal.\n",
    "        </li>\n",
    "    </ul>\n",
    "    <p style=\"font-size: 16px;\"> <b>Mfano</b> </p>\n"
   ]
  },
  {
   "cell_type": "code",
   "execution_count": 20,
   "id": "7c777673-5deb-42e0-b149-c4d670fe223b",
   "metadata": {
    "collapsed": true,
    "jupyter": {
     "outputs_hidden": true,
     "source_hidden": true
    }
   },
   "outputs": [
    {
     "name": "stdout",
     "output_type": "stream",
     "text": [
      "bytearray(b'Hello')\n",
      "[72, 101, 108, 108, 111]\n",
      "['0x48', '0x65', '0x6c', '0x6c', '0x6f']\n",
      "bytearray(b'Jello')\n"
     ]
    }
   ],
   "source": [
    "data_mutable = bytearray(b'Hello')\n",
    "print(data_mutable)\n",
    "\n",
    "# Kutazama thamani za ASCII za kila byte\n",
    "ascii_values = [b for b in data_mutable]\n",
    "print(ascii_values)\n",
    "\n",
    "# Kutazama uwakilishi wa hexadecimal\n",
    "hex_values = [hex(b) for b in data_mutable]\n",
    "print(hex_values)\n",
    "\n",
    "# Kubadilisha byte ya kwanza (ASCII ya 'H' ni 72, tunabadilisha kuwa 'J' ambayo ni 74)\n",
    "data_mutable[0] = 0x4A  # 0x4A ni hexadecimal ya 74, ambayo ni ASCII ya 'J'\n",
    "print(data_mutable)\n"
   ]
  },
  {
   "cell_type": "markdown",
   "id": "4a8d2afd-517a-4624-968b-f38965fbdc9f",
   "metadata": {},
   "source": [
    "<ul>\n",
    "    <li style=\"font-size: 16px;\">\n",
    "            <strong>b) Kufanya kazi na memoryview:</strong> memoryview inakuruhusu kubadilisha sehemu za data kubwa ya binary kwa ufanisi bila kuunda nakala ya data hiyo.\n",
    "        </li>\n",
    "</ul>\n",
    "<p style=\"font-size: 16px;\"> <b>Mfano</b> </p>\n"
   ]
  },
  {
   "cell_type": "code",
   "execution_count": 1,
   "id": "b36ed2e3-0ed2-4ea4-ac4a-670034e23e77",
   "metadata": {
    "collapsed": true,
    "jupyter": {
     "outputs_hidden": true,
     "source_hidden": true
    }
   },
   "outputs": [
    {
     "name": "stdout",
     "output_type": "stream",
     "text": [
      "[80, 121, 116, 104, 111, 110]\n",
      "bytearray(b'Jython')\n"
     ]
    }
   ],
   "source": [
    "# Kuunda bytearray na memoryview\n",
    "data_mutable = bytearray(b'Python')\n",
    "mem_view = memoryview(data_mutable)\n",
    "\n",
    "# Angalia thamani za awali za ASCII kupitia memoryview\n",
    "ascii_mem_view = [mem_view[i] for i in range(len(mem_view))]\n",
    "print(ascii_mem_view)\n",
    "\n",
    "# Badilisha memoryview ili kubadilisha 'P' kuwa 'J' (80 -> 74)\n",
    "mem_view[0] = 0x4A  # 0x4A ni ASCII ya 'J'\n",
    "print(data_mutable)\n"
   ]
  },
  {
   "cell_type": "markdown",
   "id": "176ca162-a7c4-4ea3-bcaf-a84f309daff3",
   "metadata": {},
   "source": [
    "<h2 style=\"font-size: 2em;\">16. Callable</h2>\n",
    "    <p style=\"font-size: 16px;\">\n",
    "        Callable ni kitu ambacho kinaweza kuitwa kwa kutumia mabano (), kwa kawaida function, method, au instance ya class ambayo inafafanua <code>__call__()</code>.\n",
    "    </p>\n",
    "<p style=\"font-size: 16px;\"> <b>Mfano</b> </p>\n"
   ]
  },
  {
   "cell_type": "code",
   "execution_count": 24,
   "id": "884753cc-2465-4ba0-93c6-bea6a071d4cb",
   "metadata": {
    "collapsed": true,
    "jupyter": {
     "outputs_hidden": true,
     "source_hidden": true
    }
   },
   "outputs": [
    {
     "name": "stdout",
     "output_type": "stream",
     "text": [
      "Hello, world!\n",
      "This instance is callable!\n"
     ]
    }
   ],
   "source": [
    "# Function ni callable\n",
    "def my_function():\n",
    "    print(\"Hello, world!\")\n",
    "\n",
    "my_function() \n",
    "\n",
    "# Instance ya class inaweza pia kuwa callable ikiwa imeongeza __call__()\n",
    "class MyClass:\n",
    "    def __call__(self):\n",
    "        print(\"Hii instance ni callable!\")\n",
    "\n",
    "obj = MyClass()\n",
    "obj()\n"
   ]
  },
  {
   "cell_type": "markdown",
   "id": "2d79e123-d1be-4e72-a55a-de7b0fca9176",
   "metadata": {},
   "source": [
    "<h2 style=\"font-size: 1.7em;\">17. Callback</h2>\n",
    "    <p style=\"font-size: 16px;\">\n",
    "        Callback ni function inayopitishwa kama argument kwa function nyingine, ambayo itaitwa (au \"kuitwa tena\") baadaye kwenye programu.\n",
    "    </p>\n",
    "<p style=\"font-size: 16px;\"> <b>Mfano</b> </p>\n"
   ]
  },
  {
   "cell_type": "code",
   "execution_count": 25,
   "id": "60bed3bf-58fe-452b-8c62-4dbc79f7083a",
   "metadata": {
    "collapsed": true,
    "jupyter": {
     "outputs_hidden": true,
     "source_hidden": true
    }
   },
   "outputs": [
    {
     "name": "stdout",
     "output_type": "stream",
     "text": [
      "Processing data...\n",
      "Callback called!\n"
     ]
    }
   ],
   "source": [
    "# Kufafanua function ya callback\n",
    "def callback_function():\n",
    "    print(\"Callback imeitwa!\")\n",
    "\n",
    "# Kufafanua function inayopokea callback kama argument\n",
    "def process_data(callback):\n",
    "    print(\"Inachakata data...\")\n",
    "    callback()  # Kuita function ya callback\n",
    "\n",
    "# Kutumia callback\n",
    "process_data(callback_function)\n"
   ]
  },
  {
   "cell_type": "markdown",
   "id": "42bfdab4-60d8-4044-b655-e9bc58461ee3",
   "metadata": {},
   "source": [
    "<h2 style=\"font-size: 1.7em;\">18. Class</h2>\n",
    "    <p style=\"font-size: 16px;\">\n",
    "        Class ni ramani ya kutengeneza vitu (instances) katika Python. Inafafanua attributes na methods.\n",
    "    </p>\n",
    "<p style=\"font-size: 16px;\"> <b>Mfano</b> </p>\n"
   ]
  },
  {
   "cell_type": "code",
   "execution_count": 26,
   "id": "37bdfaf3-57e0-4397-9dc6-e323da668dd7",
   "metadata": {
    "collapsed": true,
    "jupyter": {
     "outputs_hidden": true,
     "source_hidden": true
    }
   },
   "outputs": [
    {
     "name": "stdout",
     "output_type": "stream",
     "text": [
      "Hello, my name is Alice.\n"
     ]
    }
   ],
   "source": [
    "# Kufafanua class ya Person\n",
    "class Person:\n",
    "    def __init__(self, name, age):\n",
    "        self.name = name  # Variable ya instance\n",
    "        self.age = age    # Variable ya instance\n",
    "\n",
    "    def greet(self):\n",
    "        print(f\"Hello, jina langu ni {self.name}.\")\n",
    "\n",
    "# Kuunda object (instance) ya class\n",
    "person = Person(\"Alice\", 30)\n",
    "person.greet()\n"
   ]
  },
  {
   "cell_type": "code",
   "execution_count": 25,
   "id": "2049c2e9-a8c0-431e-b267-e489cac426f0",
   "metadata": {
    "collapsed": true,
    "jupyter": {
     "outputs_hidden": true,
     "source_hidden": true
    }
   },
   "outputs": [
    {
     "name": "stdout",
     "output_type": "stream",
     "text": [
      "My name's Winnie\n"
     ]
    }
   ],
   "source": [
    "# Class nyingine ya mfano\n",
    "class Person:\n",
    "    def __init__(self, name: str, age: int) -> None:\n",
    "        self.name = name\n",
    "        self.age = age\n",
    "\n",
    "    def intro(self) -> None:\n",
    "        print(f\"Jina langu ni {self.name}\")\n",
    "\n",
    "# Kuunda instance mpya\n",
    "person1 = Person(\"Winnie\", 22)\n",
    "person1.intro()\n"
   ]
  },
  {
   "cell_type": "markdown",
   "id": "f27ac021-c074-487a-9923-b0d0b4ca0161",
   "metadata": {},
   "source": [
    "<h2 style=\"font-size: 1.7em;\">19. Class Variable</h2>\n",
    "    <p style=\"font-size: 16px;\">\n",
    "        Class variable inashirikiwa na instances zote za class. Inafafanuliwa ndani ya class lakini nje ya methods yoyote.\n",
    "    </p>\n",
    "<p style=\"font-size: 16px;\"> <b>Mfano</b> </p>\n"
   ]
  },
  {
   "cell_type": "code",
   "execution_count": 27,
   "id": "b20d0844-2601-4c75-becd-5e53e9e7d866",
   "metadata": {
    "collapsed": true,
    "jupyter": {
     "outputs_hidden": true,
     "source_hidden": true
    }
   },
   "outputs": [
    {
     "name": "stdout",
     "output_type": "stream",
     "text": [
      "TechCorp\n",
      "TechCorp\n",
      "TechCorp\n"
     ]
    }
   ],
   "source": [
    "# Kufafanua class ya Employee\n",
    "class Employee:\n",
    "    company = \"TechCorp\"  # Class variable\n",
    "\n",
    "    def __init__(self, name):\n",
    "        self.name = name  # Instance variable\n",
    "\n",
    "# Kupata class variable\n",
    "print(Employee.company)\n",
    "\n",
    "emp1 = Employee(\"John\")\n",
    "emp2 = Employee(\"Jane\")\n",
    "\n",
    "# Instances zote zinatumia class variable moja\n",
    "print(emp1.company)\n",
    "print(emp2.company)\n"
   ]
  },
  {
   "cell_type": "markdown",
   "id": "ff8be2b7-92fa-4bf1-975f-64cabbdf2690",
   "metadata": {},
   "source": [
    "<h2 style=\"font-size: 1.7em;\">20. Complex Number</h2>\n",
    "    <p style=\"font-size: 16px;\">\n",
    "        Nambari tata (complex number) katika Python ina sehemu halisi na sehemu ya kufikirika, inayowakilishwa na <code>j</code>.\n",
    "    </p>\n",
    "<p style=\"font-size: 16px;\"> <b>Mfano</b> </p>\n"
   ]
  },
  {
   "cell_type": "code",
   "execution_count": 28,
   "id": "6cff1091-c9e8-4163-86a4-b0ac5b499ab8",
   "metadata": {
    "collapsed": true,
    "jupyter": {
     "outputs_hidden": true,
     "source_hidden": true
    }
   },
   "outputs": [
    {
     "name": "stdout",
     "output_type": "stream",
     "text": [
      "3.0\n",
      "4.0\n",
      "(5+1j)\n"
     ]
    }
   ],
   "source": [
    "# Kuunda nambari tata\n",
    "c = 3 + 4j\n",
    "print(c.real)  # Sehemu halisi\n",
    "print(c.imag)  # Sehemu ya kufikirika\n",
    "\n",
    "# Operesheni na nambari tata\n",
    "c2 = 2 - 3j\n",
    "result = c + c2\n",
    "print(result)\n"
   ]
  },
  {
   "cell_type": "markdown",
   "id": "3bcb4601-ae69-4dde-8889-1e3f31aa51ba",
   "metadata": {},
   "source": [
    "<h2 style=\"font-size: 1.7em;\">21. Context Manager</h2>\n",
    "    <p style=\"font-size: 16px;\">\n",
    "        Context manager hudhibiti mazingira katika statement ya <code>with</code>, kwa kawaida inashughulikia kupata na kuachilia rasilimali.\n",
    "    </p>\n",
    "<p style=\"font-size: 16px;\"> <b>Mfano</b> </p>\n"
   ]
  },
  {
   "cell_type": "code",
   "execution_count": 29,
   "id": "fc31da40-68a7-4be2-a410-21e15604db90",
   "metadata": {
    "collapsed": true,
    "jupyter": {
     "outputs_hidden": true,
     "source_hidden": true
    }
   },
   "outputs": [
    {
     "name": "stdout",
     "output_type": "stream",
     "text": [
      "Entering context\n",
      "Inside the context\n",
      "Exiting context\n"
     ]
    }
   ],
   "source": [
    "# Kutumia context manager na faili\n",
    "with open(\"example.txt\", \"w\") as file:\n",
    "    file.write(\"Hello, world!\")  # Faili inafungwa moja kwa moja baada ya block\n",
    "\n",
    "# Context manager ya kawaida\n",
    "class MyContextManager:\n",
    "    def __enter__(self):\n",
    "        print(\"Kuingia katika mazingira\")\n",
    "        return self\n",
    "\n",
    "    def __exit__(self, exc_type, exc_val, exc_tb):\n",
    "        print(\"Kutoka katika mazingira\")\n",
    "\n",
    "with MyContextManager():\n",
    "    print(\"Ndani ya mazingira\")\n"
   ]
  },
  {
   "cell_type": "markdown",
   "id": "c5bf03d9-7342-49ac-8554-a0559edec57d",
   "metadata": {},
   "source": [
    "<h2 style=\"font-size: 1.7em;\">22. Context Variable</h2>\n",
    "    <p style=\"font-size: 16px;\">\n",
    "        Context variable ni variable ambayo inaweza kuwa na thamani tofauti kulingana na muktadha (mfano, kazi za asynchronous).\n",
    "    </p>\n",
    "<p style=\"font-size: 16px;\"> <b>Mfano</b> </p>\n"
   ]
  },
  {
   "cell_type": "code",
   "execution_count": 31,
   "id": "f8dc8e7e-3ad2-465d-ab43-32a8490b7341",
   "metadata": {
    "collapsed": true,
    "jupyter": {
     "outputs_hidden": true,
     "source_hidden": true
    }
   },
   "outputs": [
    {
     "name": "stdout",
     "output_type": "stream",
     "text": [
      "default_value\n",
      "new_value\n",
      "default_value\n"
     ]
    }
   ],
   "source": [
    "import contextvars\n",
    "\n",
    "# Kuunda context variable\n",
    "var = contextvars.ContextVar(\"var\", default=\"default_value\")\n",
    "\n",
    "def print_var():\n",
    "    print(var.get())  # Inapata thamani ya variable katika muktadha wa sasa\n",
    "\n",
    "print_var()\n",
    "\n",
    "# Kubadilisha thamani katika muktadha maalum\n",
    "token = var.set(\"new_value\")\n",
    "print_var()\n",
    "\n",
    "# Kurudisha thamani ya awali\n",
    "var.reset(token)\n",
    "print_var()\n"
   ]
  },
  {
   "cell_type": "markdown",
   "id": "609b9bf1-8c32-46d6-a1f6-0349ea5b5bbf",
   "metadata": {},
   "source": [
    "<h2 style=\"font-size: 1.7em;\">23. Contiguous</h2>\n",
    "    <p style=\"font-size: 16px;\">\n",
    "        Buffer ni contiguous ikiwa data inahifadhiwa mfululizo kwenye memory, kama arrays au lists katika C/Fortran. Katika Python, neno hili linatumika unaposhughulika na mpangilio wa memory ya arrays.\n",
    "    </p>\n",
    "<p style=\"font-size: 16px;\"> <b>Mfano</b> </p>\n"
   ]
  },
  {
   "cell_type": "code",
   "execution_count": 32,
   "id": "14e833fa-4b2b-49f3-adfb-80f25d2dbd92",
   "metadata": {
    "collapsed": true,
    "jupyter": {
     "outputs_hidden": true,
     "source_hidden": true
    }
   },
   "outputs": [
    {
     "name": "stdout",
     "output_type": "stream",
     "text": [
      "True\n",
      "True\n"
     ]
    }
   ],
   "source": [
    "import numpy as np\n",
    "\n",
    "# Kuunda array yenye mpangilio wa C (C-contiguous kwa kawaida)\n",
    "arr = np.array([[1, 2], [3, 4]], order='C')\n",
    "print(arr.flags['C_CONTIGUOUS'])  # Huu ni mpangilio wa C\n",
    "\n",
    "# Kuunda array yenye mpangilio wa Fortran\n",
    "arr_f = np.array([[1, 2], [3, 4]], order='F')\n",
    "print(arr_f.flags['F_CONTIGUOUS'])  # Huu ni mpangilio wa Fortran\n"
   ]
  },
  {
   "cell_type": "markdown",
   "id": "1b36357c-2e0a-4c57-b8fe-d90b972bca8a",
   "metadata": {},
   "source": [
    "<h2 style=\"font-size: 1.7em;\">24. Coroutine</h2>\n",
    "    <p style=\"font-size: 16px;\">\n",
    "        Coroutine ni aina maalum ya function inayoweza kusimamishwa na kuanza tena kwa nyakati tofauti.\n",
    "    </p>\n",
    "<p style=\"font-size: 16px;\"> <b>Mfano</b> </p>\n"
   ]
  },
  {
   "cell_type": "code",
   "execution_count": 33,
   "id": "00d6ccff-5392-441a-9ca7-446ead8bdf6f",
   "metadata": {
    "collapsed": true,
    "jupyter": {
     "outputs_hidden": true,
     "source_hidden": true
    }
   },
   "outputs": [
    {
     "name": "stdout",
     "output_type": "stream",
     "text": [
      "Start coroutine\n",
      "End coroutine\n"
     ]
    }
   ],
   "source": [
    "# Kufafanua coroutine\n",
    "async def my_coroutine():\n",
    "    print(\"Anza coroutine\")\n",
    "    await asyncio.sleep(1)\n",
    "    print(\"Maliza coroutine\")\n",
    "\n",
    "# Kuanza coroutine\n",
    "await my_coroutine()\n"
   ]
  },
  {
   "cell_type": "markdown",
   "id": "abf50fe1-a7da-4520-953f-a298ef24a650",
   "metadata": {},
   "source": [
    "<h2 style=\"font-size: 1.7em;\">25. Coroutine Function</h2>\n",
    "    <p style=\"font-size: 16px;\">\n",
    "        Coroutine function ni function inayorejesha coroutine object. Inaandikwa kwa kutumia <code>async def</code>.\n",
    "    </p>\n",
    "<p style=\"font-size: 16px;\"> <b>Mfano</b> </p>\n"
   ]
  },
  {
   "cell_type": "code",
   "execution_count": 34,
   "id": "f8569815-0580-4ec8-8b41-cb3856149d00",
   "metadata": {
    "collapsed": true,
    "jupyter": {
     "outputs_hidden": true,
     "source_hidden": true
    }
   },
   "outputs": [
    {
     "name": "stdout",
     "output_type": "stream",
     "text": [
      "Fetching data...\n",
      "Data fetched\n"
     ]
    }
   ],
   "source": [
    "# Coroutine function\n",
    "async def fetch_data():\n",
    "    print(\"Inachukua data...\")\n",
    "    await asyncio.sleep(2)  # Kuingiza kuchelewesha kwa mtandao\n",
    "    print(\"Data imechukuliwa\")\n",
    "\n",
    "# Kuanza coroutine function\n",
    "await fetch_data()\n"
   ]
  },
  {
   "cell_type": "markdown",
   "id": "a2173762-0a26-42a9-b328-8abf7cae52b3",
   "metadata": {},
   "source": [
    "<h2 style=\"font-size: 1.7em;\">26. CPython</h2>\n",
    "    <p style=\"font-size: 16px;\">\n",
    "        CPython ni utekelezaji wa kawaida na unaotumika sana wa lugha ya programu ya Python. Ni utekelezaji wa kumbukumbu ambao unapakua kutoka python.org. Inatafsiri code ya Python kuwa bytecode na kuitekeleza kwa kutumia mashine halisi.\n",
    "    </p>\n",
    "<p style=\"font-size: 16px;\"> <b>Mfano</b> </p>\n"
   ]
  },
  {
   "cell_type": "code",
   "execution_count": 22,
   "id": "1e742565-37a3-483e-a494-184066d87da1",
   "metadata": {
    "collapsed": true,
    "jupyter": {
     "outputs_hidden": true,
     "source_hidden": true
    }
   },
   "outputs": [
    {
     "name": "stdout",
     "output_type": "stream",
     "text": [
      "This is executed by CPython!\n",
      "CPython\n"
     ]
    }
   ],
   "source": [
    "# Unapoandika na kutekeleza code ya Python, kwa kawaida unatumia CPython:\n",
    "print(\"Hii inatekelezwa na CPython!\")\n",
    "\n",
    "# Unaweza kuthibitisha utekelezaji:\n",
    "import platform\n",
    "print(platform.python_implementation())  # Inarudisha CPython kama utekelezaji\n"
   ]
  },
  {
   "cell_type": "markdown",
   "id": "ae73cdee-d309-41ae-97fd-4114e08285f8",
   "metadata": {},
   "source": [
    "<h2 style=\"font-size: 2em;\">27. Decorator</h2>\n",
    "<p style=\"font-size: 16px;\">\n",
    "    Decorator ni function inayochukua function nyingine na kuongeza au kubadilisha tabia zake bila kubadilisha function yenyewe. Decorators mara nyingi hutumika kuongeza utendaji wa nambari kwa njia safi na inayoweza kutumika tena.\n",
    "</p>\n",
    "<p style=\"font-size: 16px;\"> <b>Mfano</b> </p>\n"
   ]
  },
  {
   "cell_type": "code",
   "execution_count": 50,
   "id": "60c95c10-29bd-4c61-8f93-f47fa1ea6ae6",
   "metadata": {
    "collapsed": true,
    "jupyter": {
     "outputs_hidden": true,
     "source_hidden": true
    }
   },
   "outputs": [
    {
     "name": "stdout",
     "output_type": "stream",
     "text": [
      "Something before the function.\n",
      "Hello!\n",
      "Something after the function.\n"
     ]
    }
   ],
   "source": [
    "def my_decorator(func):\n",
    "    def wrapper():\n",
    "        print(\"Kitu kabla ya function.\")\n",
    "        func()\n",
    "        print(\"Kitu baada ya function.\")\n",
    "    return wrapper\n",
    "\n",
    "@my_decorator  # Hii ni sawa na: say_hello = my_decorator(say_hello)\n",
    "def say_hello():\n",
    "    print(\"Habari!\")\n",
    "\n",
    "say_hello()\n"
   ]
  },
  {
   "cell_type": "code",
   "execution_count": 26,
   "id": "d53d2355-8ca5-4b39-98a2-faa5b5909d5c",
   "metadata": {
    "collapsed": true,
    "jupyter": {
     "outputs_hidden": true,
     "source_hidden": true
    }
   },
   "outputs": [
    {
     "name": "stdout",
     "output_type": "stream",
     "text": [
      "Hello, ready to run\n",
      "5\n",
      "Goodbye\n"
     ]
    },
    {
     "data": {
      "text/plain": [
       "5"
      ]
     },
     "execution_count": 26,
     "metadata": {},
     "output_type": "execute_result"
    }
   ],
   "source": [
    "def greet(f):\n",
    "    def wrapper(*args, **kwargs):\n",
    "        print(\"Habari, tayari kuendesha\")\n",
    "        result = f(*args, **kwargs)\n",
    "        print(result)\n",
    "        print(\"Kwaheri\")\n",
    "        return result\n",
    "    return wrapper\n",
    "\n",
    "@greet\n",
    "def add(a, b):\n",
    "    return a + b\n",
    "\n",
    "add(2, 3)\n"
   ]
  },
  {
   "cell_type": "markdown",
   "id": "ece041c9-52d9-426c-923b-cb29806713ee",
   "metadata": {},
   "source": [
    "<h2 style=\"font-size: 2em;\">28. Descriptor</h2>\n",
    "<p style=\"font-size: 16px;\">\n",
    "    Descriptor ni kitu kinachofafanua method kama <code>__get__()</code>, <code>__set__()</code>, au <code>__delete__()</code>. Descriptors hudhibiti nini kinachotokea wakati sifa inarejeshwa, inabadilishwa, au kufutwa.\n",
    "</p>\n",
    "<p style=\"font-size: 16px;\"> <b>Mfano</b> </p>\n"
   ]
  },
  {
   "cell_type": "code",
   "execution_count": 49,
   "id": "b7171a7f-a250-4837-ae5b-8c0102a358aa",
   "metadata": {
    "collapsed": true,
    "jupyter": {
     "outputs_hidden": true,
     "source_hidden": true
    }
   },
   "outputs": [
    {
     "name": "stdout",
     "output_type": "stream",
     "text": [
      "This is the value\n",
      "Setting new value!\n"
     ]
    }
   ],
   "source": [
    "class MyDescriptor:\n",
    "    def __get__(self, obj, objtype=None):\n",
    "        return \"Hii ni thamani\"\n",
    "\n",
    "    def __set__(self, obj, value):\n",
    "        print(f\"Kuweka {value}!\")\n",
    "\n",
    "class MyClass:\n",
    "    attr = MyDescriptor()\n",
    "\n",
    "instance = MyClass()\n",
    "print(instance.attr)  # Inaita MyDescriptor.__get__()\n",
    "instance.attr = \"thamani mpya\"  # Inaita MyDescriptor.__set__()\n"
   ]
  },
  {
   "cell_type": "markdown",
   "id": "a32f505b-8604-4ea3-863e-f8a2ad632621",
   "metadata": {},
   "source": [
    "<h2 style=\"font-size: 2em;\">29. Dictionary</h2>\n",
    "<p style=\"font-size: 16px;\">\n",
    "    Dictionary ni mkusanyiko wa jozi za ufunguo-thamani, ambapo funguo ni vitu vya kipekee na visivyobadilika (kama strings, nambari, au tuples), na thamani inaweza kuwa kitu chochote.\n",
    "</p>\n",
    "<p style=\"font-size: 16px;\"> <b>Mfano</b> </p>\n"
   ]
  },
  {
   "cell_type": "code",
   "execution_count": 48,
   "id": "7fa49d4c-914f-43bb-937a-eede5b4cfecf",
   "metadata": {
    "collapsed": true,
    "jupyter": {
     "outputs_hidden": true,
     "source_hidden": true
    }
   },
   "outputs": [
    {
     "name": "stdout",
     "output_type": "stream",
     "text": [
      "Alice\n"
     ]
    }
   ],
   "source": [
    "my_dict = {\"name\": \"Alice\", \"age\": 30}\n",
    "print(my_dict[\"name\"])  # Kufikia thamani kwa kutumia ufunguo 'name'\n"
   ]
  },
  {
   "cell_type": "markdown",
   "id": "58d36b2e-94d6-4321-b44f-6c59fb5c5a20",
   "metadata": {},
   "source": [
    "<h2 style=\"font-size: 2em;\">30. Dictionary Comprehension</h2>\n",
    "<p style=\"font-size: 16px;\">\n",
    "    Dictionary comprehension ni njia fupi ya kuunda dictionaries kwa kutumia expression.\n",
    "</p>\n",
    "<p style=\"font-size: 16px;\"> <b>Mfano</b> </p>\n"
   ]
  },
  {
   "cell_type": "code",
   "execution_count": 47,
   "id": "e9943956-a0d9-4a5e-a488-5fc4ad70f9de",
   "metadata": {
    "collapsed": true,
    "jupyter": {
     "outputs_hidden": true,
     "source_hidden": true
    }
   },
   "outputs": [
    {
     "name": "stdout",
     "output_type": "stream",
     "text": [
      "{0: 0, 1: 1, 2: 4, 3: 9, 4: 16}\n"
     ]
    }
   ],
   "source": [
    "squares = {n: n**2 for n in range(5)}\n",
    "print(squares)"
   ]
  },
  {
   "cell_type": "markdown",
   "id": "a8294fb9-2414-4b2f-be7e-c28c3dc0d7b5",
   "metadata": {},
   "source": [
    "<h2 style=\"font-size: 2em;\">31. Docstring</h2>\n",
    "<p style=\"font-size: 16px;\">\n",
    "    Docstring ni string literal inayotumika kuelezea moduli, darasa, function, au method. Inaonekana kama kauli ya kwanza katika kitu na inapatikana kupitia <code>__doc__</code> attribute.\n",
    "</p>\n",
    "<p style=\"font-size: 16px;\"> <b>Mfano</b> </p>\n"
   ]
  },
  {
   "cell_type": "code",
   "execution_count": 46,
   "id": "09a5f0a0-f460-4fbd-9434-25071ae5fd3b",
   "metadata": {
    "collapsed": true,
    "jupyter": {
     "outputs_hidden": true,
     "source_hidden": true
    }
   },
   "outputs": [
    {
     "name": "stdout",
     "output_type": "stream",
     "text": [
      "This function does something.\n"
     ]
    }
   ],
   "source": [
    "def my_function():\n",
    "    \"\"\"Hii function inafanya kitu.\"\"\"\n",
    "    pass\n",
    "\n",
    "print(my_function.__doc__)  # Fikia docstring\n",
    "\n"
   ]
  },
  {
   "cell_type": "markdown",
   "id": "a5ed5995-a3c1-4c7e-bfa4-daa551c31918",
   "metadata": {},
   "source": [
    "<h2 style=\"font-size: 2em;\">32. Duck-Typing</h2>\n",
    "<p style=\"font-size: 16px;\">\n",
    "    Duck-typing inamaanisha kwamba aina ya kitu haisababishi moja kwa moja, bali tabia yake inategemewa. Jina linatokana na methali, \"Kama inavyoonekana kama bata na kuanguka kama bata, lazima iwe bata.\"\n",
    "</p>\n",
    "<p style=\"font-size: 16px;\"> <b>Mfano</b> </p>\n"
   ]
  },
  {
   "cell_type": "code",
   "execution_count": 45,
   "id": "6113f00c-2775-4921-b687-94c75a5a8884",
   "metadata": {
    "collapsed": true,
    "jupyter": {
     "outputs_hidden": true,
     "source_hidden": true
    }
   },
   "outputs": [
    {
     "name": "stdout",
     "output_type": "stream",
     "text": [
      "Quack!\n",
      "I'm quacking like a duck!\n"
     ]
    }
   ],
   "source": [
    "def quack(duck):\n",
    "    duck.quack()\n",
    "\n",
    "class Duck:\n",
    "    def quack(self):\n",
    "        print(\"Quack!\")\n",
    "\n",
    "class Person:\n",
    "    def quack(self):\n",
    "        print(\"Ninakuanguka kama bata!\")\n",
    "\n",
    "duck = Duck()\n",
    "person = Person()\n",
    "\n",
    "quack(duck)   # Inafanya kazi\n",
    "quack(person)  # Pia inafanya kazi kwa sababu mtu ana method ya quack()\n"
   ]
  },
  {
   "cell_type": "markdown",
   "id": "5ea14cac-c156-409f-a0e8-2c618d636055",
   "metadata": {},
   "source": [
    "<h2 style=\"font-size: 2em;\">33. EAFP (Easier to Ask for Forgiveness than Permission)</h2>\n",
    "<p style=\"font-size: 16px;\">\n",
    "    Katika Python, EAFP ni mtindo wa uandishi wa nambari ambapo unadhani kila kitu kitafanya kazi na kushughulikia makosa ikiwa mambo yanakwenda vibaya. Hii ni tofauti na kuangalia matatizo ya uwezekano kabla ya kuendelea.\n",
    "</p>\n",
    "<p style=\"font-size: 16px;\"> <b>Mfano</b> </p>\n"
   ]
  },
  {
   "cell_type": "code",
   "execution_count": 44,
   "id": "ceed6caa-a86a-4bfa-8481-bf7f76606746",
   "metadata": {
    "collapsed": true,
    "jupyter": {
     "outputs_hidden": true,
     "source_hidden": true
    }
   },
   "outputs": [
    {
     "name": "stdout",
     "output_type": "stream",
     "text": [
      "Age not found\n"
     ]
    }
   ],
   "source": [
    "# Mtindo wa EAFP\n",
    "try:\n",
    "    my_dict = {\"name\": \"Alice\"}\n",
    "    print(my_dict[\"age\"])  # Hii itasababisha KeyError\n",
    "except KeyError:\n",
    "    print(\"Umri haukupatikana\")\n"
   ]
  },
  {
   "cell_type": "markdown",
   "id": "225dec8e-9030-497d-b898-d0e7a2464fb0",
   "metadata": {},
   "source": [
    "<h2 style=\"font-size: 2em;\">34. f-string (Formatted String)</h2>\n",
    "    <p style=\"font-size: 16px;\">\n",
    "        F-string ni mfuatano uliowekwa awali na <code>f</code> au <code>F</code> ambayo huruhusu vielezi vilivyo ndani ya viunga vilivyopinda <code>{}</code> kutathminiwa wakati wa utekelezaji.\n",
    "    </p>\n",
    "<p style=\"font-size: 16px;\"> <b>Mfano</b> </p>"
   ]
  },
  {
   "cell_type": "code",
   "execution_count": 43,
   "id": "09fdc2cd-9afe-454e-a032-bfd49c3e99cf",
   "metadata": {
    "collapsed": true,
    "jupyter": {
     "outputs_hidden": true,
     "source_hidden": true
    }
   },
   "outputs": [
    {
     "name": "stdout",
     "output_type": "stream",
     "text": [
      "My name is Alice and I'm 30 years old.\n"
     ]
    }
   ],
   "source": [
    "name = \"Alice\"\n",
    "age = 30\n",
    "print(f\"Jina langu ni {name} na nina {age} miaka.\")\n"
   ]
  },
  {
   "cell_type": "markdown",
   "id": "ec15af6e-083b-4fbb-8a2a-f9c1816a024b",
   "metadata": {},
   "source": [
    "<h2 style=\"font-size: 2em;\">35. Floor Division</h2>\n",
    "<p style=\"font-size: 16px;\">\n",
    "    Floor division (<code>//</code>) inagawa mgawanyiko kati ya nambari mbili na kupunguza hadi nambari kamili ya karibu chini.\n",
    "</p>\n",
    "<p style=\"font-size: 16px;\"> <b>Mfano</b> </p>\n"
   ]
  },
  {
   "cell_type": "code",
   "execution_count": 42,
   "id": "5c9a7383-0266-49d2-aef1-bf909e9955af",
   "metadata": {
    "collapsed": true,
    "jupyter": {
     "outputs_hidden": true,
     "source_hidden": true
    }
   },
   "outputs": [
    {
     "name": "stdout",
     "output_type": "stream",
     "text": [
      "2\n",
      "-3\n"
     ]
    }
   ],
   "source": [
    "print(11 // 4)  # 11 iliyogawanywa na 4 ni 2.75, lakini inapunguza hadi 2\n",
    "print(-11 // 4)  # -2.75 inapunguza hadi -3\n"
   ]
  },
  {
   "cell_type": "markdown",
   "id": "30876498-bc25-460f-a3a4-6d697a6fc412",
   "metadata": {},
   "source": [
    "<h2 style=\"font-size: 2em;\">36. Function Annotations</h2>\n",
    "<p style=\"font-size: 16px;\">\n",
    "    Function annotations zinakuruhusu kufafanua metadata kuhusu parameta za function na thamani za kurudi, kawaida kwa ajili ya vidokezo vya aina.\n",
    "</p>\n",
    "<p style=\"font-size: 16px;\"> <b>Mfano</b> </p>\n"
   ]
  },
  {
   "cell_type": "code",
   "execution_count": 41,
   "id": "6417de2a-b279-440b-8f56-57c8c05fe225",
   "metadata": {
    "collapsed": true,
    "jupyter": {
     "outputs_hidden": true,
     "source_hidden": true
    }
   },
   "outputs": [
    {
     "name": "stdout",
     "output_type": "stream",
     "text": [
      "Hello, Alice\n"
     ]
    }
   ],
   "source": [
    "def greet(name: str) -> str:\n",
    "    return f\"Halo, {name}\"\n",
    "\n",
    "print(greet(\"Alice\"))\n",
    ")"
   ]
  },
  {
   "cell_type": "markdown",
   "id": "4388b8f2-4a2e-4ac3-a5b1-76fbbc6e485d",
   "metadata": {},
   "source": [
    "<h2 style=\"font-size: 2em;\">37. File Object</h2>\n",
    "<p style=\"font-size: 16px;\">\n",
    "    A file object katika Python inawakilisha faili lililo wazi ambalo linaweza kusomwa au kuandikwa. Inatoa API yenye methods kama <code>read()</code>, <code>write()</code>, <code>close()</code>, nk, na inaundwa kwa kutumia function <code>open()</code>.\n",
    "    File objects zinaweza kuunganishwa na rasilimali mbalimbali, kama:\n",
    "</p>\n",
    "    <ul>\n",
    "        <li style=\"font-size: 16px;\">Text files: Hushughulikia data za maandiko (<code>str</code> objects), ikitumia encoding maalum (kama UTF-8). Unaweza kusoma na kuandika data.</li>\n",
    "        <li style=\"font-size: 16px;\">Binary files: Hushughulikia data za binary (kama <code>bytes</code>), na unaweza kufanya kazi na picha, sauti, nk.</li>\n",
    "        <li style=\"font-size: 16px;\">Buffered files: Hushughulikia faili zinazopatikana kupitia HTTP, FTP, nk.</li>\n",
    "    </ul>\n",
    "<p style=\"font-size: 16px;\"> <b>Mfano</b> </p>"
   ]
  },
  {
   "cell_type": "code",
   "execution_count": 40,
   "id": "7724fd1e-36cb-455c-a9bf-04486330d87d",
   "metadata": {
    "collapsed": true,
    "jupyter": {
     "outputs_hidden": true,
     "source_hidden": true
    }
   },
   "outputs": [
    {
     "name": "stdout",
     "output_type": "stream",
     "text": [
      "Hello, this is an example.\n"
     ]
    }
   ],
   "source": [
    "# Kufungua faili (huunda kitu cha faili)\n",
    "file = open(\"example.txt\", \"w\")  # 'w' inamaanisha hali ya kuandika\n",
    "\n",
    "# Kuandika kwa faili\n",
    "file.write(\"Hello, huu ni mfano.\")\n",
    "\n",
    "# Kufunga faili\n",
    "file.close()\n",
    "\n",
    "# Kusoma faili (huunda kitu cha faili)\n",
    "file = open(\"example.txt\", \"r\")  # 'r' inamaanisha hali ya kusoma\n",
    "\n",
    "# Kusoma yaliyomo kwenye faili\n",
    "content = file.read()\n",
    "print(content)\n",
    "\n",
    "# Kufunga faili\n",
    "file.close()"
   ]
  },
  {
   "cell_type": "markdown",
   "id": "70ed2793-cca3-4d2b-9353-185943b8ff1a",
   "metadata": {},
   "source": [
    "<h2 style=\"font-size: 2em;\">38. File-like Object</h2>\n",
    "<p style=\"font-size: 16px;\">\n",
    "    File-like object hutenda sawa na file object lakini sio lazima iunganishwe na faili halisi. Mifano ni pamoja na sockets, hifadhidata za ndani (<code>io.StringIO</code> au <code>io.BytesIO</code>), au mitiririko mingine.\n",
    "    File-like objects zina mbinu kama <code>read()</code> na <code>write()</code>, sawa na vitu vya faili.\n",
    "</p>\n",
    "<p style=\"font-size: 16px;\"><b>Mfano</b></p>\n"
   ]
  },
  {
   "cell_type": "code",
   "execution_count": 38,
   "id": "152e9c36-a745-49cc-bbd4-d6087c7cea94",
   "metadata": {
    "collapsed": true,
    "jupyter": {
     "outputs_hidden": true,
     "source_hidden": true
    }
   },
   "outputs": [
    {
     "name": "stdout",
     "output_type": "stream",
     "text": [
      "This is an in-memory file-like object.\n"
     ]
    }
   ],
   "source": [
    "import io\n",
    "\n",
    "# Kuunda kitu cha StringIO (hifadhi ya ndani)\n",
    "buffer = io.StringIO()\n",
    "\n",
    "# Kuandika kwenye hifadhi\n",
    "buffer.write(\"Hiki ni kitu cha kama faili cha ndani.\")\n",
    "\n",
    "# Kusogeza kifaa kurudi mwanzo kusoma\n",
    "buffer.seek(0)\n",
    "\n",
    "# Kusoma kutoka kwenye hifadhi\n",
    "print(buffer.read())  # Matokeo: Hiki ni kitu cha kama faili cha ndani.\n",
    "\n",
    "# Kufunga hifadhi\n",
    "buffer.close()\n"
   ]
  },
  {
   "cell_type": "markdown",
   "id": "869efe18-b71b-4f43-b72d-f751ee6c353c",
   "metadata": {},
   "source": [
    "<h2 style=\"font-size: 2em;\">39. Filesystem Encoding and Error Handler</h2>\n",
    "<p style=\"font-size: 16px;\">\n",
    "    Usimbuaji wa mfumo wa faili ni usimbuaji ambao Python hutumia kubadilisha kati ya bytes na nyuzi wakati inashughulika na mfumo wa uendeshaji (kwa mfano, kusoma/writing njia za faili). Python kawaida hutumia usimbuaji wa eneo, ambao ni maalum kwa jukwaa.\n",
    "</p>\n",
    "<p style=\"font-size: 16px;\">\n",
    "    <code>sys.getfilesystemencoding()</code> inarudisha usimbuaji. <code>sys.getfilesystemencodeerrors()</code> inarudisha mpangilio wa makosa unaotumika.\n",
    "</p>\n",
    "<p style=\"font-size: 16px;\"> <b>Mfano</b> </p>\n"
   ]
  },
  {
   "cell_type": "code",
   "execution_count": 37,
   "id": "e9242ef5-a090-4f70-8c0b-f87af8dc8cf4",
   "metadata": {
    "collapsed": true,
    "jupyter": {
     "outputs_hidden": true,
     "source_hidden": true
    }
   },
   "outputs": [
    {
     "name": "stdout",
     "output_type": "stream",
     "text": [
      "Filesystem encoding: utf-8\n",
      "Error handler: surrogateescape\n"
     ]
    }
   ],
   "source": [
    "import sys\n",
    "\n",
    "# Kupata usimbuaji wa mfumo wa faili na mpangilio wa makosa\n",
    "encoding = sys.getfilesystemencoding()\n",
    "error_handler = sys.getfilesystemencodeerrors()\n",
    "\n",
    "print(\"Usimbuaji wa mfumo wa faili:\", encoding)\n",
    "print(\"Mpangilio wa makosa:\", error_handler)\n"
   ]
  },
  {
   "cell_type": "markdown",
   "id": "87fcc780-2fd1-4db0-a5ef-aad2a577ccc5",
   "metadata": {},
   "source": [
    "<h2 style=\"font-size: 2em;\">40. Finder</h2>\n",
    "<p style=\"font-size: 16px;\">\n",
    "    Finder ni kitu kinachohusika na kutafuta na kupakia moduli za Python wakati wa mchakato wa uagizaji. Mekanizma ya uagizaji ya Python inatumia finder tofauti kutafuta moduli:\n",
    "</p>\n",
    "<ul>\n",
    "    <li style=\"font-size: 16px;\">Meta path finders: Hizi hufanya kazi na <code>sys.meta_path</code> kutafuta moduli, ikiwa ni pamoja na moduli za ndani au za tatu.</li>\n",
    "    <li style=\"font-size: 16px;\">Path entry finders: Hizi zinatumika kwa <code>sys.path_hooks</code>, kutafuta directories maalum kwenye mfumo wa faili.</li>\n",
    "</ul>\n",
    "<p style=\"font-size: 16px;\"> <b>Mfano</b> </p>\n"
   ]
  },
  {
   "cell_type": "code",
   "execution_count": 36,
   "id": "be969ffe-1bc9-4e3f-8244-138206244369",
   "metadata": {
    "collapsed": true,
    "jupyter": {
     "outputs_hidden": true,
     "source_hidden": true
    }
   },
   "outputs": [
    {
     "name": "stdout",
     "output_type": "stream",
     "text": [
      "Custom module not found!\n"
     ]
    }
   ],
   "source": [
    "import sys\n",
    "import importlib.abc\n",
    "import importlib.util\n",
    "\n",
    "# Finder rahisi ya kawaida\n",
    "class CustomFinder(importlib.abc.MetaPathFinder):\n",
    "    def find_spec(self, fullname, path, target=None):\n",
    "        if fullname == \"my_custom_module\":\n",
    "            spec = importlib.util.spec_from_loader(fullname, loader=None)\n",
    "            return spec\n",
    "\n",
    "# Kuongeza finder maalum kwenye sys.meta_path\n",
    "sys.meta_path.insert(0, CustomFinder())\n",
    "\n",
    "# Sasa unaweza kujaribu kuagiza 'my_custom_module'\n",
    "try:\n",
    "    import my_custom_module\n",
    "except ImportError:\n",
    "    print(\"Moduli maalum haipatikani!\")\n"
   ]
  },
  {
   "cell_type": "markdown",
   "id": "ce6b25df-bb61-4e12-b919-5cff23d2dc21",
   "metadata": {},
   "source": [
    "<h2 style=\"font-size: 2em;\">41. __future__ Module</h2>\n",
    "<p style=\"font-size: 16px;\">\n",
    "    Moduli ya <code>__future__</code> katika Python inakuruhusu kutumia vipengele kutoka kwa matoleo yajayo ya Python katika toleo la sasa. Unapoweka kipengele kutoka <code>__future__</code>, unamwambia mfasiri wa Python atumie sintaksia au maana mpya ambazo zitakuwa za kawaida katika matoleo yajayo ya lugha.\n",
    "</p>\n",
    "<p style=\"font-size: 16px;\"> <b>Mfano</b> </p>\n"
   ]
  },
  {
   "cell_type": "code",
   "execution_count": 35,
   "id": "0b9e61af-612d-466c-8173-5f81d84b0bcf",
   "metadata": {
    "collapsed": true,
    "jupyter": {
     "outputs_hidden": true,
     "source_hidden": true
    }
   },
   "outputs": [
    {
     "name": "stdout",
     "output_type": "stream",
     "text": [
      "2.5\n"
     ]
    }
   ],
   "source": [
    "# Kuagiza sehemu ya ugawanyiko kutoka siku zijazo (kwa ajili ya ulinganifu wa Python 2.x)\n",
    "from __future__ import division\n",
    "\n",
    "# Sasa ugawanyiko unafanya kazi kama Python 3.x (ugawanyiko wa kweli)\n",
    "print(5 / 2)  # (katika Python 2.x, hii itakuwa 2)\n"
   ]
  },
  {
   "cell_type": "markdown",
   "id": "093d2407-4486-4003-9f1a-ec38aac6614e",
   "metadata": {},
   "source": [
    "<h2 style=\"font-size: 2em;\">42. Garbage Collection</h2>\n",
    "<p style=\"font-size: 16px;\">Garbage collection ni mchakato wa kuachilia kiotomatiki kumbukumbu ambayo haitumiki tena. Python inatumia hesabu ya marejeleo na mchakato wa kukusanya taka wa mzunguko ili kushughulikia hili. Wakati hesabu ya marejeleo ya kitu inaposhuka hadi sifuri, Python inarudisha kumbukumbu hiyo. Moduli ya <code>gc</code> inaruhusu kudhibiti kukusanya taka.</p>\n",
    "\n",
    "<p style=\"font-size: 16px;\"> <b>Mfano</b> </p>\n"
   ]
  },
  {
   "cell_type": "code",
   "execution_count": 1,
   "id": "13dc34e2-a177-4777-a180-a3cf7332fcbb",
   "metadata": {
    "collapsed": true,
    "jupyter": {
     "outputs_hidden": true,
     "source_hidden": true
    }
   },
   "outputs": [
    {
     "data": {
      "text/plain": [
       "123"
      ]
     },
     "execution_count": 1,
     "metadata": {},
     "output_type": "execute_result"
    }
   ],
   "source": [
    "import gc\n",
    "\n",
    "# Dhibiti kukusanya taka\n",
    "gc.collect()  # Lazimisha kukusanya taka\n"
   ]
  },
  {
   "cell_type": "markdown",
   "id": "e024e4d4-d4b3-4a12-80e5-b6cbf6c96629",
   "metadata": {},
   "source": [
    "<h2 style=\"font-size: 2em;\">43. Generator</h2>\n",
    "<p style=\"font-size: 16px;\">Aina maalum ya function inayotumia <code>yield</code> kurudisha mfululizo wa thamani. Inakuwezesha kuzunguka data bila kuihifadhi kwenye kumbukumbu mara moja.</p>\n",
    "\n",
    "<p style=\"font-size: 16px;\"> <b>Mfano</b> </p>\n"
   ]
  },
  {
   "cell_type": "code",
   "execution_count": 2,
   "id": "7c460f7a-64cf-4226-ac8d-51b6699e4b36",
   "metadata": {
    "collapsed": true,
    "jupyter": {
     "outputs_hidden": true,
     "source_hidden": true
    }
   },
   "outputs": [
    {
     "name": "stdout",
     "output_type": "stream",
     "text": [
      "5\n",
      "4\n",
      "3\n",
      "2\n",
      "1\n"
     ]
    }
   ],
   "source": [
    "def countdown(n):\n",
    "    while n > 0:\n",
    "        yield n\n",
    "        n -= 1\n",
    "\n",
    "for i in countdown(5):\n",
    "    print(i)"
   ]
  },
  {
   "cell_type": "markdown",
   "id": "0f8bc16b-67a7-4ab4-924d-a1fe91c6318d",
   "metadata": {},
   "source": [
    "<h3 style=\"font-size: 1.7em;\">43.1 Generator Iterator</h3>\n",
    "<p style=\"font-size: 16px;\">Generator iterator ni kitu kinachoundwa wakati function ya generator inaitwa. Inaruhusu iteration ya uvivu juu ya mfululizo wa thamani.</p>\n",
    "\n",
    "<p style=\"font-size: 16px;\"> <b>Mfano</b> </p>\n"
   ]
  },
  {
   "cell_type": "code",
   "execution_count": 3,
   "id": "2bc1f99f-057b-4279-9f86-78f9fe719883",
   "metadata": {
    "collapsed": true,
    "jupyter": {
     "outputs_hidden": true,
     "source_hidden": true
    }
   },
   "outputs": [
    {
     "name": "stdout",
     "output_type": "stream",
     "text": [
      "3\n",
      "2\n"
     ]
    }
   ],
   "source": [
    "gen = countdown(3)\n",
    "print(next(gen))\n",
    "print(next(gen))"
   ]
  },
  {
   "cell_type": "markdown",
   "id": "a5f8fba2-33c4-4bae-b435-07e0c46a65b7",
   "metadata": {},
   "source": [
    "<h3 style=\"font-size: 1.7em;\">43.2 Generator Expression</h3>\n",
    "<p style=\"font-size: 16px;\">Generator expression ni njia ya muhtasari ya kuunda generator kwa kutumia expression, mara nyingi ndani ya mabano.</p>\n",
    "\n",
    "<p style=\"font-size: 16px;\"> <b>Mfano</b> </p>\n"
   ]
  },
  {
   "cell_type": "code",
   "execution_count": 4,
   "id": "1abe8f2d-90ac-4d77-b47e-084718807f16",
   "metadata": {
    "collapsed": true,
    "jupyter": {
     "outputs_hidden": true,
     "source_hidden": true
    }
   },
   "outputs": [
    {
     "name": "stdout",
     "output_type": "stream",
     "text": [
      "30\n"
     ]
    }
   ],
   "source": [
    "gen_exp = (x * x for x in range(5))\n",
    "print(sum(gen_exp))"
   ]
  },
  {
   "cell_type": "markdown",
   "id": "cdb6c52f-478b-4401-8ffd-d0e27f7e0e60",
   "metadata": {},
   "source": [
    "<h2 style=\"font-size: 2em;\">44. Generic Function</h2>\n",
    "<p style=\"font-size: 16px;\">Generic function inaundwa na functions nyingi, kila moja iliyoandaliwa kwa aina tofauti za pembejeo. Decorator ya <code>functools.singledispatch()</code> inaruhusu kufafanua functions kama hizi.</p>\n",
    "\n",
    "<p style=\"font-size: 16px;\"> <b>Mfano</b> </p>\n"
   ]
  },
  {
   "cell_type": "code",
   "execution_count": 5,
   "id": "3274e4fd-df93-4b9c-90a3-83bba490c0be",
   "metadata": {
    "collapsed": true,
    "jupyter": {
     "outputs_hidden": true,
     "source_hidden": true
    }
   },
   "outputs": [
    {
     "name": "stdout",
     "output_type": "stream",
     "text": [
      "Integer: 10\n",
      "Default: Hello\n"
     ]
    }
   ],
   "source": [
    "from functools import singledispatch\n",
    "\n",
    "@singledispatch\n",
    "def process(value):\n",
    "    print(f\"Default: {value}\")\n",
    "\n",
    "@process.register(int)\n",
    "def _(value):\n",
    "    print(f\"Integer: {value}\")\n",
    "\n",
    "process(10)\n",
    "process(\"Hello\")\n"
   ]
  },
  {
   "cell_type": "markdown",
   "id": "a3dcb5e2-ab8e-4f6b-9980-e02f09c8d4c1",
   "metadata": {},
   "source": [
    "<h2 style=\"font-size: 2em;\">45. Generic Type</h2>\n",
    "<p style=\"font-size: 16px;\">Type inayoweza kutolewa, kama vile class ya kontena kama <code>List[T]</code>. Mara nyingi hutumika na type hints.</p>\n",
    "\n",
    "<p style=\"font-size: 16px;\"> <b>Mfano</b> </p>\n"
   ]
  },
  {
   "cell_type": "code",
   "execution_count": 9,
   "id": "ad7bf4cc-3a21-4e59-81cc-d0d20664ee96",
   "metadata": {
    "collapsed": true,
    "jupyter": {
     "outputs_hidden": true,
     "source_hidden": true
    }
   },
   "outputs": [
    {
     "name": "stdout",
     "output_type": "stream",
     "text": [
      "[2, 4, 6]\n"
     ]
    }
   ],
   "source": [
    "from typing import List\n",
    "\n",
    "def process_items(items: List[int]):\n",
    "    return [item * 2 for item in items]\n",
    "\n",
    "print(process_items([1, 2, 3]))\n",
    "\n",
    "# Kumbuka, hii haitahakikisha na Python"
   ]
  },
  {
   "cell_type": "markdown",
   "id": "fa735d42-7a4b-4ba3-9196-ed1b47544120",
   "metadata": {},
   "source": [
    "<h2 style=\"font-size: 2em;\">46. Global Interpreter Lock (GIL)</h2>\n",
    "<p style=\"font-size: 16px;\">GIL ni mekani katika CPython ambayo inahakikisha kwamba thread moja pekee inatekeleza bytecode ya Python kwa wakati mmoja. Hii inarahisisha programu zenye nyuzi nyingi lakini inatumia uwezo wa pamoja kwenye mifumo yenye nyuzi nyingi.</p>\n"
   ]
  },
  {
   "cell_type": "markdown",
   "id": "6bf51b80-7b5d-4d66-b5ef-82709e8eca98",
   "metadata": {},
   "source": [
    "<h2 style=\"font-size: 2em;\">47. Hash-Based PYC</h2>\n",
    "<p style=\"font-size: 16px;\">Hii inarejelea faili za cache za bytecode za Python (zikiwa na kiambatisho <code>.pyc</code>) ambazo zinatumia hash ya ms source ili kubaini ukweli, badala ya muda wa mabadiliko.</p>\n"
   ]
  },
  {
   "cell_type": "markdown",
   "id": "fd66be4e-5854-46aa-a59e-79f05c4ef164",
   "metadata": {},
   "source": [
    "<h2 style=\"font-size: 2em;\">48. Hashable</h2>\n",
    "<p style=\"font-size: 16px;\">Kitu ni hashable ikiwa ina thamani thabiti ya hash wakati wa maisha yake. Vitu vya hashable vinaweza kutumika kama funguo za kamusi (dictionary keys) au vipengele vya seti.</p>\n",
    "\n",
    "<p style=\"font-size: 16px;\"> <b>Mfano</b> </p>"
   ]
  },
  {
   "cell_type": "code",
   "execution_count": 10,
   "id": "c6e69f73-57d6-49bf-9eb3-0d4496be4bf9",
   "metadata": {
    "collapsed": true,
    "jupyter": {
     "outputs_hidden": true,
     "source_hidden": true
    }
   },
   "outputs": [
    {
     "data": {
      "text/plain": [
       "8290431938110860586"
      ]
     },
     "execution_count": 10,
     "metadata": {},
     "output_type": "execute_result"
    }
   ],
   "source": [
    "hash(\"hello\")"
   ]
  },
  {
   "cell_type": "markdown",
   "id": "96181bbb-27de-4263-b6ad-743cc35ac3bc",
   "metadata": {},
   "source": [
    "<h2 style=\"font-size: 2em;\">49. IDLE</h2>\n",
    "<p style=\"font-size: 16px;\">IDLE ni Mazingira ya Maendeleo na Kujifunza ya Python. Inatoa mhariri wa msingi na shell ya mwingiliano kwa waanza.</p>\n"
   ]
  },
  {
   "cell_type": "markdown",
   "id": "f7ae9aa6-cc7a-4172-aec2-60dda0381045",
   "metadata": {},
   "source": [
    "<h2 style=\"font-size: 2em;\">50. Immortal</h2>\n",
    "<p style=\"font-size: 16px;\">Kitu kisichokufa katika Python kina hesabu ya marejeleo ambayo haitabadilika, hakikishiwa hakitakubaliwa kama taka. Wazo hili lilianzishwa katika PEP 683. Vitu kama <code>None</code> na <code>True</code> ni visichokufa.</p>\n"
   ]
  },
  {
   "cell_type": "markdown",
   "id": "5fd297d7-c4c7-497e-9cda-019cc1a8339b",
   "metadata": {},
   "source": [
    "<h2 style=\"font-size: 2em;\">51. Immutable</h2>\n",
    "<p style=\"font-size: 16px;\">Kitu kisichoweza kubadilishwa hakiwezi kubadilishwa mara tu kinapoundwa. Mfano ni tuples na nyuzi.</p>\n",
    "\n",
    "<p style=\"font-size: 16px;\"> <b>Mfano</b> </p>"
   ]
  },
  {
   "cell_type": "code",
   "execution_count": 11,
   "id": "54942e89-8be9-4791-8c41-86e733c8297d",
   "metadata": {
    "jupyter": {
     "source_hidden": true
    }
   },
   "outputs": [],
   "source": [
    "x = (1, 2, 3)\n",
    "# x[0] = 4  # Hii itasababisha kosa kwani tuples hazibadilishwi."
   ]
  },
  {
   "cell_type": "markdown",
   "id": "3a095c58-85f1-479b-9668-792ea7bb4f78",
   "metadata": {},
   "source": [
    "<h2 style=\"font-size: 2em;\">52. Import Path</h2>\n",
    "<p style=\"font-size: 16px;\">Njia ya uingizaji ni orodha ya saraka ambazo Python hutafuta kupata moduli wakati wa operesheni ya uingizaji. Njia hii inaweza kurekebishwa kwa kuongeza saraka mpya kwenye <code>sys.path</code>.</p>\n",
    "\n",
    "<p style=\"font-size: 16px;\"> <b>Mfano</b> </p>"
   ]
  },
  {
   "cell_type": "code",
   "execution_count": 12,
   "id": "5e599640-d7d0-4b26-bf6f-671d1940c0a0",
   "metadata": {
    "collapsed": true,
    "jupyter": {
     "outputs_hidden": true,
     "source_hidden": true
    }
   },
   "outputs": [
    {
     "name": "stdout",
     "output_type": "stream",
     "text": [
      "['/usr/lib/python312.zip', '/usr/lib/python3.12', '/usr/lib/python3.12/lib-dynload', '', '/home/owinnie/GitHub/winisSchoolOfCoding/PythonCourse/winis/lib/python3.12/site-packages']\n"
     ]
    }
   ],
   "source": [
    "import sys\n",
    "print(sys.path)  # Matokeo: Orodha ya saraka ambazo Python inatafuta kwa moduli"
   ]
  },
  {
   "cell_type": "markdown",
   "id": "a721e508-f34c-4f6c-939a-a57b8b6b36a4",
   "metadata": {},
   "source": [
    "<h2 style=\"font-size: 2em;\">53. Importing</h2>\n",
    "<p style=\"font-size: 16px;\">Kuagiza ni mchakato wa kupakia moduli na kufanya kazi zake na darasa ziweze kupatikana katika moduli nyingine.</p>\n",
    "\n",
    "<p style=\"font-size: 16px;\"> <b>Mfano</b> </p>\n"
   ]
  },
  {
   "cell_type": "code",
   "execution_count": 13,
   "id": "982f84a3-b963-45d1-8890-eb7a09b223da",
   "metadata": {
    "collapsed": true,
    "jupyter": {
     "outputs_hidden": true,
     "source_hidden": true
    }
   },
   "outputs": [
    {
     "name": "stdout",
     "output_type": "stream",
     "text": [
      "4.0\n"
     ]
    }
   ],
   "source": [
    "import math\n",
    "print(math.sqrt(16)) "
   ]
  },
  {
   "cell_type": "markdown",
   "id": "aeb2d374-02e4-42f1-9f3b-a1f6c15252d1",
   "metadata": {},
   "source": [
    "<h2 style=\"font-size: 2em;\">54. Importer</h2>\n",
    "<p style=\"font-size: 16px;\">Importer anawajibika kupata na kupakia moduli. Inafanya kazi kama mtafutaji na mpakiaji.</p>\n"
   ]
  },
  {
   "cell_type": "markdown",
   "id": "6b27c4f5-0574-42df-b5e5-63ad86f9c26d",
   "metadata": {},
   "source": [
    "<h2 style=\"font-size: 2em;\">55. Interactive</h2>\n",
    "<p style=\"font-size: 16px;\">Python inatoa interpreter ya mwingiliano ambapo unaweza kuandika msimbo na kuona matokeo mara moja.</p>\n",
    "\n",
    "<p style=\"font-size: 16px;\"> <b>Mfano</b> </p>"
   ]
  },
  {
   "cell_type": "code",
   "execution_count": null,
   "id": "791f168d-8ffc-47ca-aa56-8c25db95ddce",
   "metadata": {
    "jupyter": {
     "source_hidden": true
    }
   },
   "outputs": [],
   "source": [
    "$ python\n",
    ">>> print(\"Hello, world!\")\n",
    "Hello, world!"
   ]
  },
  {
   "cell_type": "markdown",
   "id": "507e3096-d541-4381-b649-00636a77b116",
   "metadata": {},
   "source": [
    "<h2 style=\"font-size: 2em;\">56. Interpreted</h2>\n",
    "<p style=\"font-size: 16px;\">Python ni lugha inayotafsiriwa, ikimaanisha kwamba msimbo wake unatekelezwa moja kwa moja bila kutafsiriwa kuwa msimbo wa mashine.</p>\n"
   ]
  },
  {
   "cell_type": "markdown",
   "id": "18e30cbd-9e2f-4db7-98d2-23c1cdb0edd4",
   "metadata": {},
   "source": [
    "<h2 style=\"font-size: 2em;\">57. Interpreter Shutdown</h2>\n",
    "<p style=\"font-size: 16px;\">Hii inarejelea awamu ambayo Python inafunga, ikiachilia rasilimali, na kuendesha wa mwisho. Inatokea baada ya programu kuu kumaliza kutekeleza.</p>\n"
   ]
  },
  {
   "cell_type": "markdown",
   "id": "f814143a-037f-41e0-a104-f804a021f8e8",
   "metadata": {},
   "source": [
    "<h2 style=\"font-size: 2em;\">58. Iterable</h2>\n",
    "<p style=\"font-size: 16px;\">Iterable ni kitu chochote kinachoweza kurudisha wanachama wake mmoja mmoja. Orodha, nyuzi, na kamusi ni mifano.</p>\n",
    "\n",
    "<p style=\"font-size: 16px;\"> <b>Mfano</b> </p>\n"
   ]
  },
  {
   "cell_type": "code",
   "execution_count": 15,
   "id": "c0d008c2-2c24-4b5d-aa98-329ac6ec6182",
   "metadata": {
    "collapsed": true,
    "jupyter": {
     "outputs_hidden": true,
     "source_hidden": true
    }
   },
   "outputs": [
    {
     "name": "stdout",
     "output_type": "stream",
     "text": [
      "h\n",
      "e\n",
      "l\n",
      "l\n",
      "o\n"
     ]
    }
   ],
   "source": [
    "for char in \"hello\":\n",
    "    print(char)"
   ]
  },
  {
   "cell_type": "markdown",
   "id": "cc51d593-7ec5-4158-990f-2e0fa22f5974",
   "metadata": {},
   "source": [
    "<h2 style=\"font-size: 2em;\">59. Iterator</h2>\n",
    "<p style=\"font-size: 16px;\">Iterator ni kitu ambacho kinafanya kazi ya <code>__next__()</code>, ikirudisha vipengele vinavyofuatana. Wakati inakamilika, inatoa <code>StopIteration</code>.</p>\n",
    "\n",
    "<p style=\"font-size: 16px;\"> <b>Mfano</b> </p>\n"
   ]
  },
  {
   "cell_type": "code",
   "execution_count": 16,
   "id": "c4603b6e-76b2-4d20-81d3-8f8933ab8e36",
   "metadata": {
    "collapsed": true,
    "jupyter": {
     "outputs_hidden": true,
     "source_hidden": true
    }
   },
   "outputs": [
    {
     "name": "stdout",
     "output_type": "stream",
     "text": [
      "1\n"
     ]
    }
   ],
   "source": [
    "it = iter([1, 2, 3])\n",
    "print(next(it)) "
   ]
  },
  {
   "cell_type": "markdown",
   "id": "ea0276c8-6d75-48dc-8459-697535267621",
   "metadata": {},
   "source": [
    "<h2 style=\"font-size: 2em;\">60. Key Function</h2>\n",
    "<p style=\"font-size: 16px;\">Key function inatumika kuonyesha mabadiliko ya upangaji au utaratibu maalum katika kazi kama <code>sorted()</code> au <code>min()</code>.</p>\n",
    "\n",
    "<p style=\"font-size: 16px;\"> <b>Mfano</b> </p>\n"
   ]
  },
  {
   "cell_type": "code",
   "execution_count": 17,
   "id": "97802e51-0416-4a31-ac79-aed84ab0a378",
   "metadata": {
    "collapsed": true,
    "jupyter": {
     "outputs_hidden": true,
     "source_hidden": true
    }
   },
   "outputs": [
    {
     "name": "stdout",
     "output_type": "stream",
     "text": [
      "['Alice', 'bob', 'Charlie']\n"
     ]
    }
   ],
   "source": [
    "names = [\"Alice\", \"bob\", \"Charlie\"]\n",
    "print(sorted(names, key=str.lower))"
   ]
  },
  {
   "cell_type": "markdown",
   "id": "2e0e6778-faff-4409-8369-711145476325",
   "metadata": {},
   "source": [
    "<h2 style=\"font-size: 2em;\">61. Keyword Argument</h2>\n",
    "<p style=\"font-size: 16px;\">Keyword argument inapitishwa kwa function kwa kutumia jina la argument, ikiboresha uelewa na kubadilika.</p>\n",
    "\n",
    "<p style=\"font-size: 16px;\"> <b>Mfano</b> </p>"
   ]
  },
  {
   "cell_type": "code",
   "execution_count": 18,
   "id": "52cfa01a-b7be-4326-b375-4844fe264678",
   "metadata": {
    "collapsed": true,
    "jupyter": {
     "outputs_hidden": true,
     "source_hidden": true
    }
   },
   "outputs": [
    {
     "name": "stdout",
     "output_type": "stream",
     "text": [
      "Hi, Alice\n"
     ]
    }
   ],
   "source": [
    "def greet(name, greeting=\"Hello\"):\n",
    "    print(f\"{greeting}, {name}\")\n",
    "\n",
    "greet(\"Alice\", greeting=\"Hi\") "
   ]
  },
  {
   "cell_type": "markdown",
   "id": "161b64ca-0e43-4488-b2e3-b078a42597c6",
   "metadata": {},
   "source": [
    "<h2 style=\"font-size: 2em;\">62. Lambda</h2>\n",
    "<p style=\"font-size: 16px;\">Lambda function ni function isiyo na jina, inayofafanuliwa kwa kutumia neno la kiufundi <code>lambda</code>.</p>\n",
    "\n",
    "<p style=\"font-size: 16px;\"> <b>Mfano</b> </p>\n"
   ]
  },
  {
   "cell_type": "code",
   "execution_count": 19,
   "id": "605712a7-1a1a-481c-a926-3e89ac967932",
   "metadata": {
    "collapsed": true,
    "jupyter": {
     "outputs_hidden": true,
     "source_hidden": true
    }
   },
   "outputs": [
    {
     "name": "stdout",
     "output_type": "stream",
     "text": [
      "5\n"
     ]
    }
   ],
   "source": [
    "add = lambda x, y: x + y\n",
    "print(add(2, 3)) "
   ]
  },
  {
   "cell_type": "markdown",
   "id": "80d96c37-82d7-497c-b240-a38151e6208c",
   "metadata": {},
   "source": [
    "<h2 style=\"font-size: 2em;\">63. LBYL (Look Before You Leap)</h2>\n",
    "<p style=\"font-size: 16px;\">LBYL ni mtindo wa coding ambao huangalia hali kabla ya kufanya kitendo ili kuzuia makosa.</p>\n",
    "\n",
    "<p style=\"font-size: 16px;\"> <b>Mfano</b> </p>\n"
   ]
  },
  {
   "cell_type": "code",
   "execution_count": 20,
   "id": "672cbb01-d520-4b19-9e7e-3439dddd9813",
   "metadata": {
    "jupyter": {
     "source_hidden": true
    }
   },
   "outputs": [],
   "source": [
    "d = {'a': 1}\n",
    "if 'b' in d:\n",
    "    print(d['b'])\n",
    "# Hakuna kosa linaloinuka kwani funguo inakaguliwa kwanza."
   ]
  },
  {
   "cell_type": "markdown",
   "id": "71817b77-3015-41a4-818d-402bd2bc840d",
   "metadata": {},
   "source": [
    "<h2 style=\"font-size: 2em;\">64. List</h2>\n",
    "<p style=\"font-size: 16px;\">List ni muundo wa data wa ndani katika Python ambao huhifadhi mkusanyiko wa vitu ulio na mpangilio na wa kubadilika.</p>\n",
    "\n",
    "<p style=\"font-size: 16px;\"> <b>Mfano</b> </p>\n"
   ]
  },
  {
   "cell_type": "code",
   "execution_count": 21,
   "id": "41f0510d-7c18-4fb9-95d2-9f7a234c90a0",
   "metadata": {
    "collapsed": true,
    "jupyter": {
     "outputs_hidden": true,
     "source_hidden": true
    }
   },
   "outputs": [
    {
     "name": "stdout",
     "output_type": "stream",
     "text": [
      "1\n"
     ]
    }
   ],
   "source": [
    "my_list = [1, 2, 3]\n",
    "print(my_list[0])  "
   ]
  },
  {
   "cell_type": "markdown",
   "id": "edf44e87-5cb0-4a07-8b3e-c63f30817400",
   "metadata": {},
   "source": [
    "<h2 style=\"font-size: 2em;\">65. List Comprehension</h2>\n",
    "<p style=\"font-size: 16px;\">List comprehension ni njia ya muhtasari ya kuunda orodha kwa kutumia kauli.</p>\n",
    "\n",
    "<p style=\"font-size: 16px;\"> <b>Mfano</b> </p>\n"
   ]
  },
  {
   "cell_type": "code",
   "execution_count": 22,
   "id": "2a942a50-22fc-4238-92af-1bf383430982",
   "metadata": {
    "collapsed": true,
    "jupyter": {
     "outputs_hidden": true,
     "source_hidden": true
    }
   },
   "outputs": [
    {
     "name": "stdout",
     "output_type": "stream",
     "text": [
      "[0, 1, 4, 9, 16]\n"
     ]
    }
   ],
   "source": [
    "squares = [x*x for x in range(5)]\n",
    "print(squares) "
   ]
  },
  {
   "cell_type": "markdown",
   "id": "4340e383-8b7e-48bb-ae70-3e96572da4b9",
   "metadata": {},
   "source": [
    "<h2 style=\"font-size: 2em;\">66. Loader</h2>\n",
    "<p style=\"font-size: 16px;\">Loader ina jukumu la kupakia msimbo wa moduli baada ya kupatikana na finder.</p>\n"
   ]
  },
  {
   "cell_type": "markdown",
   "id": "a0ddeacb-4f55-4608-928e-3101e8c00905",
   "metadata": {},
   "source": [
    "<h2 style=\"font-size: 2em;\">67. Locale Encoding</h2>\n",
    "<p style=\"font-size: 16px;\">Usimbaji wa eneo ni usimbaji wa herufi chaguomsingi wa mfumo, ambao hutofautiana kulingana na mfumo na mara nyingi hutegemea mipangilio ya eneo la mfumo.</p>"
   ]
  },
  {
   "cell_type": "markdown",
   "id": "45ddf70e-929c-4ba6-9be5-7b8661f6b378",
   "metadata": {},
   "source": [
    "<h2 style=\"font-size: 2em;\">69. Magic Method (Special Method)</h2>\n",
    "<p style=\"font-size: 16px;\">Magic methods ni mbinu maalum katika Python ambazo huanza na kumalizika na viwango viwili vya underscore (<code>__</code>). Zinawezesha kubinafsisha tabia ya shughuli za ndani.</p>\n",
    "<p style=\"font-size: 16px;\"> <b>Mfano</b> </p>\n"
   ]
  },
  {
   "cell_type": "code",
   "execution_count": 23,
   "id": "20e420a6-1a78-41c0-95c0-6d8e7f0e9b1c",
   "metadata": {
    "collapsed": true,
    "jupyter": {
     "outputs_hidden": true,
     "source_hidden": true
    }
   },
   "outputs": [
    {
     "name": "stdout",
     "output_type": "stream",
     "text": [
      "Value: 10\n"
     ]
    }
   ],
   "source": [
    "class MyClass:\n",
    "    def __init__(self, value):\n",
    "        self.value = value\n",
    "    \n",
    "    def __str__(self):\n",
    "        return f\"Value: {self.value}\"\n",
    "\n",
    "obj = MyClass(10)\n",
    "print(obj) "
   ]
  },
  {
   "cell_type": "markdown",
   "id": "cc57b890-8e35-48c5-aeac-b19e66ca5cd4",
   "metadata": {},
   "source": [
    "<h2 style=\"font-size: 2em;\">70. Mapping</h2>\n",
    "<p style=\"font-size: 16px;\">Mapping ni chombo cha chombo kinachohusisha vitufe na thamani. Mifano ni pamoja na dict na collections.defaultdict.</p>\n",
    "\n",
    "<p style=\"font-size: 16px;\"> <b>Mfano</b> </p>"
   ]
  },
  {
   "cell_type": "code",
   "execution_count": 24,
   "id": "396146ee-032b-416f-839f-de4cdfa3df9d",
   "metadata": {
    "collapsed": true,
    "jupyter": {
     "outputs_hidden": true,
     "source_hidden": true
    }
   },
   "outputs": [
    {
     "name": "stdout",
     "output_type": "stream",
     "text": [
      "Alice\n"
     ]
    }
   ],
   "source": [
    "my_dict = {'name': 'Alice', 'age': 30}\n",
    "print(my_dict['name']) "
   ]
  },
  {
   "cell_type": "markdown",
   "id": "731c7010-b96c-4c61-a322-53307e04948f",
   "metadata": {},
   "source": [
    "<h2 style=\"font-size: 1.7em;\">71. Metaclass</h2>\n",
    "<p style=\"font-size: 16px;\">Metaclass ni darasa la darasa (class of a class), linadhibiti jinsi madarasa yanavyoundwa. Unaweza kuunda tabia maalum kwa ajili ya uundaji wa darasa kwa kutumia metaclasses.</p>\n",
    "\n",
    "<p style=\"font-size: 16px;\"> <b>Mfano</b> </p>\n"
   ]
  },
  {
   "cell_type": "code",
   "execution_count": 27,
   "id": "6da94efe-ed94-4798-ae4c-596277d1621c",
   "metadata": {
    "collapsed": true,
    "jupyter": {
     "outputs_hidden": true,
     "source_hidden": true
    }
   },
   "outputs": [
    {
     "name": "stdout",
     "output_type": "stream",
     "text": [
      "Creating class MyClass\n"
     ]
    }
   ],
   "source": [
    "class Meta(type):\n",
    "    def __new__(cls, name, bases, dct):\n",
    "        print(f\"Creating class {name}\")\n",
    "        return super().__new__(cls, name, bases, dct)\n",
    "\n",
    "class MyClass(metaclass=Meta):\n",
    "    pass"
   ]
  },
  {
   "cell_type": "markdown",
   "id": "44cc937a-8315-47ea-9745-d8eb0370e27d",
   "metadata": {},
   "source": [
    "<p style=\"font-size: 16px;\"> <b>Use Cases</b> </p>"
   ]
  },
  {
   "cell_type": "code",
   "execution_count": 28,
   "id": "d2710552-c708-45f8-bdd4-88bfd4cfc62c",
   "metadata": {
    "collapsed": true,
    "jupyter": {
     "outputs_hidden": true,
     "source_hidden": true
    }
   },
   "outputs": [
    {
     "name": "stdout",
     "output_type": "stream",
     "text": [
      "Created class First\n",
      "Created class Second\n",
      "Created class Person\n",
      "<class '__main__.First'>\n",
      "<class '__main__.Second'>\n",
      "<class '__main__.Person'>\n",
      "<__main__.First object at 0x752d5c36c920>\n",
      "<Person({'name': 'Winnie', 'age': 20})>\n",
      "Creating class Gender with base[parent] classes ()\n",
      "Creating class Female with base[parent] classes (<class '__main__.Gender'>,)\n",
      "Created class SingleMeta\n",
      "<__main__.Third object at 0x752d5c36cc20>  ,  5\n",
      "Created class SingleMeta\n",
      "<__main__.Third object at 0x752d5c36cc20>  ,  10\n",
      "True  ,  True\n",
      "Created class Fourth\n",
      "Calling greet with args: ('Ashley',), and kwargs: {}\n",
      "Hello Ashley\n",
      "Created class Fifth\n",
      "Hello Nelly\n"
     ]
    }
   ],
   "source": [
    "# Matumizi ya metaclasses\n",
    "\n",
    "\n",
    "\"\"\" 1. Badilisha tabia ya darasa \"\"\"\n",
    "# DEFINE THE META CLASS\n",
    "from typing import Any\n",
    "\n",
    "class Meta(type):\n",
    "    def __new__(cls, name, bases, dct):\n",
    "        print(f\"Kuunda darasa {name}\")\n",
    "        return super().__new__(cls, name, bases, dct)\n",
    "\n",
    "# CREATE A CLASS FROM THE META\n",
    "class First(metaclass=Meta):\n",
    "    ...\n",
    "\n",
    "\n",
    "\"\"\" 2. Kulazimisha kanuni za majina ya sifa\n",
    "kwa mfano, sifa zote za darasa lazima ziwe kwa herufi kubwa \"\"\"\n",
    "# DEFINE THE META CLASS\n",
    "class UpperMeta(type):\n",
    "    def __new__(cls, name, bases, dct):\n",
    "        for k in dct:\n",
    "            if not k.isupper() and not k.startswith('__'):\n",
    "                raise ValueError(F\"Sifa {k} haiko kwa herufi kubwa\")\n",
    "        print(f\"Kuunda darasa {name}\")\n",
    "        return super().__new__(cls, name, bases, dct)\n",
    "\n",
    "# CREATE A CLASS FROM THE META\n",
    "class Second(metaclass=UpperMeta):\n",
    "    AGE = 10\n",
    "    YEAR = 2014\n",
    "    # name = \"Nnie\"\n",
    "\n",
    "\n",
    "\"\"\" 3. Kuongeza __repr__ method \"\"\"\n",
    "# DEFINE THE META CLASS\n",
    "class ReprMeta(type):\n",
    "    def __new__(cls, name, bases, dct: dict):\n",
    "        if \"__repr__\" not in dct:\n",
    "            def __repr__(self):\n",
    "                return f\"<{self.__class__.__name__}({self.__dict__})>\"\n",
    "            dct[\"__repr__\"] = __repr__\n",
    "        print(f\"Kuunda darasa {name}\")\n",
    "        return super().__new__(cls, name, bases, dct)\n",
    "\n",
    "# CREATE A CLASS FROM THE META\n",
    "class Person(metaclass=ReprMeta):\n",
    "    def __init__(self, name: str, age: int) -> None:\n",
    "        self.name = name\n",
    "        self.age = age\n",
    "\n",
    "# CREATE OBJECT OF TYPE PERSON\n",
    "p0 = First()\n",
    "p1 = Person(\"Winnie\", 20)\n",
    "\n",
    "# PRINT THE OBJECTS\n",
    "print(First)\n",
    "print(Second)\n",
    "print(Person)\n",
    "print(p0)\n",
    "print(p1)\n",
    "\n",
    "\n",
    "\"\"\" 4. Kuandika kumbukumbu ya uundaji wa darasa w/ bases \"\"\"\n",
    "# DEFINE THE META CLASS\n",
    "class LoggingMeta(type):\n",
    "    def __new__(cls, name, bases, dct):\n",
    "        print(f\"Kuunda darasa {name} pamoja na madarasa ya msingi {bases}\")\n",
    "        return super().__new__(cls, name, bases, dct)\n",
    "\n",
    "# CREATE A CLASS FROM THE META\n",
    "class Gender(metaclass=LoggingMeta):\n",
    "    ...\n",
    "\n",
    "class Female(Gender):\n",
    "    ...\n",
    "\n",
    "\n",
    "\"\"\" 5. Mpango wa Singleton \"\"\"\n",
    "# DEFINE THE META CLASS\n",
    "class SingleMeta(type):\n",
    "    _instances = {}\n",
    "    def __call__(cls, *args: Any, **kwargs: Any) -> Any:\n",
    "        if cls not in cls._instances:\n",
    "            instance = super().__call__(*args, **kwargs)\n",
    "            cls._instances[cls] = instance\n",
    "        else:\n",
    "            instance = cls._instances[cls]\n",
    "            instance.__init__(*args, **kwargs)\n",
    "        print(f\"Kuunda darasa {cls.__class__.__name__}\")\n",
    "        return instance\n",
    "\n",
    "# CREATE A CLASS FROM THE META\n",
    "class Third(metaclass=SingleMeta):\n",
    "    def __init__(self, value: int) -> None:\n",
    "        self.value = value\n",
    "\n",
    "s1 = Third(5)\n",
    "print(s1, \" , \", s1.value)\n",
    "s2 = Third(10)\n",
    "print(s2, \" , \", s2.value)\n",
    "\n",
    "print(s1 is s2, \" , \", s1 == s2)\n",
    "\n",
    "\n",
    "\"\"\" 6. Badilisha tabia kulingana na sifa \"\"\"\n",
    "# DEFINE THE META CLASS\n",
    "class TracingMeta(type):\n",
    "    def __new__(cls, name, bases, dct):\n",
    "        trace = dct.get('trace\n"
   ]
  },
  {
   "cell_type": "markdown",
   "id": "e8eff12c-6238-4bd6-8923-7c6b11d76ea4",
   "metadata": {},
   "source": [
    "<h2 style=\"font-size: 2em;\">72. Method</h2>\n",
    "<p style=\"font-size: 16px;\">Method ni function ambayo imewekwa ndani ya class na imefungwa kwa mfano.</p>\n",
    "\n",
    "<p style=\"font-size: 16px;\"> <b>Mfano</b> </p>\n"
   ]
  },
  {
   "cell_type": "code",
   "execution_count": 29,
   "id": "396eb94c-56a2-4203-8563-cbb0171dc806",
   "metadata": {
    "collapsed": true,
    "jupyter": {
     "outputs_hidden": true,
     "source_hidden": true
    }
   },
   "outputs": [
    {
     "name": "stdout",
     "output_type": "stream",
     "text": [
      "Hello, World!\n"
     ]
    }
   ],
   "source": [
    "class MyClass:\n",
    "    def say_hello(self):\n",
    "        print(\"Habari, Dunia!\")\n",
    "\n",
    "obj = MyClass()\n",
    "obj.say_hello()"
   ]
  },
  {
   "cell_type": "markdown",
   "id": "d3295bab-6859-4c45-bafb-824456fe480e",
   "metadata": {},
   "source": [
    "<h2 style=\"font-size: 2em;\">73. Method Resolution Order (MRO)</h2>\n",
    "<p style=\"font-size: 16px;\">MRO inaelezea mpangilio ambao madarasa ya msingi yanatafutwa unapokuwa unatafuta kazi au sifa.</p>\n",
    "\n",
    "<p style=\"font-size: 16px;\"> <b>Mfano</b> </p>\n"
   ]
  },
  {
   "cell_type": "code",
   "execution_count": 30,
   "id": "ace7faaf-cba4-4b1f-832c-a18bc0788f85",
   "metadata": {
    "collapsed": true,
    "jupyter": {
     "outputs_hidden": true,
     "source_hidden": true
    }
   },
   "outputs": [
    {
     "name": "stdout",
     "output_type": "stream",
     "text": [
      "[<class '__main__.C'>, <class '__main__.B'>, <class '__main__.A'>, <class 'object'>]\n"
     ]
    }
   ],
   "source": [
    "class A: pass\n",
    "class B(A): pass\n",
    "class C(B): pass\n",
    "\n",
    "print(C.mro())"
   ]
  },
  {
   "cell_type": "markdown",
   "id": "90f05076-5b60-4959-8810-9e5154eb0c06",
   "metadata": {},
   "source": [
    "<h2 style=\"font-size: 2em;\">74. Module</h2>\n",
    "<p style=\"font-size: 16px;\">Module ni faili lenye ufafanuzi na matamko ya Python.</p>\n",
    "\n",
    "<p style=\"font-size: 16px;\"> <b>Mfano</b> </p>\n"
   ]
  },
  {
   "cell_type": "code",
   "execution_count": 31,
   "id": "69239e46-d6ca-481c-b42b-7cb2c38d854d",
   "metadata": {
    "collapsed": true,
    "jupyter": {
     "outputs_hidden": true,
     "source_hidden": true
    }
   },
   "outputs": [
    {
     "name": "stdout",
     "output_type": "stream",
     "text": [
      "4.0\n"
     ]
    }
   ],
   "source": [
    "import math\n",
    "print(math.sqrt(16)) "
   ]
  },
  {
   "cell_type": "markdown",
   "id": "96272c29-a7cb-48a5-a933-59f9cbec06ac",
   "metadata": {},
   "source": [
    "<h2 style=\"font-size: 2em;\">75. Module Spec</h2>\n",
    "<p style=\"font-size: 16px;\">ModuleSpec object kina taarifa kuhusu jinsi ya kupakia module.</p>\n",
    "\n",
    "<p style=\"font-size: 16px;\"> <b>Mfano</b> </p>\n"
   ]
  },
  {
   "cell_type": "code",
   "execution_count": 32,
   "id": "4465aabd-e679-4a88-9870-c9536d010298",
   "metadata": {
    "collapsed": true,
    "jupyter": {
     "outputs_hidden": true,
     "source_hidden": true
    }
   },
   "outputs": [
    {
     "name": "stdout",
     "output_type": "stream",
     "text": [
      "ModuleSpec(name='math', loader=<class '_frozen_importlib.BuiltinImporter'>, origin='built-in')\n"
     ]
    }
   ],
   "source": [
    "import importlib.util\n",
    "spec = importlib.util.find_spec('math')\n",
    "print(spec)"
   ]
  },
  {
   "cell_type": "markdown",
   "id": "aad709ab-de75-4781-88b6-d147acdc0972",
   "metadata": {},
   "source": [
    "<h2 style=\"font-size: 2em;\">76. Mutable</h2>\n",
    "<p style=\"font-size: 16px;\">Mambo yanayoweza kubadilishwa yanaweza kubadilishwa baada ya kuumbwa (mfano, orodha[list], kamusi[dictionary]).</p>\n",
    "\n",
    "<p style=\"font-size: 16px;\"> <b>Mfano</b> </p>\n"
   ]
  },
  {
   "cell_type": "code",
   "execution_count": 33,
   "id": "f24ef97b-634d-42c9-85ee-9a6522be3e17",
   "metadata": {
    "collapsed": true,
    "jupyter": {
     "outputs_hidden": true,
     "source_hidden": true
    }
   },
   "outputs": [
    {
     "name": "stdout",
     "output_type": "stream",
     "text": [
      "[1, 2, 3, 4]\n"
     ]
    }
   ],
   "source": [
    "my_list = [1, 2, 3]\n",
    "my_list.append(4)  # Inabadilisha orodha\n",
    "print(my_list) "
   ]
  },
  {
   "cell_type": "markdown",
   "id": "7f63b323-0ed6-44ef-87f8-c787d889fbeb",
   "metadata": {},
   "source": [
    "<h2 style=\"font-size: 2em;\">77. Named Tuple</h2>\n",
    "<p style=\"font-size: 16px;\">Named tuple ni subclass ya tuples ambapo mashamba yanaweza kupatikana kwa jina.</p>\n",
    "\n",
    "<p style=\"font-size: 16px;\"> <b>Mfano</b> </p>\n"
   ]
  },
  {
   "cell_type": "code",
   "execution_count": 34,
   "id": "66b2ce3b-2e34-49f8-ac1a-e5d394137de8",
   "metadata": {
    "collapsed": true,
    "jupyter": {
     "outputs_hidden": true,
     "source_hidden": true
    }
   },
   "outputs": [
    {
     "name": "stdout",
     "output_type": "stream",
     "text": [
      "1 2\n"
     ]
    }
   ],
   "source": [
    "from collections import namedtuple\n",
    "Point = namedtuple('Point', ['x', 'y'])\n",
    "p = Point(1, 2)\n",
    "print(p.x, p.y) "
   ]
  },
  {
   "cell_type": "markdown",
   "id": "323366b2-e48a-48cd-8449-5003c56db895",
   "metadata": {},
   "source": [
    "<h2 style=\"font-size: 2em;\">78. Namespace</h2>\n",
    "<p style=\"font-size: 16px;\">Namespace ni konteyner ambapo majina yanahusishwa na vitu. Inazuia migongano ya majina.</p>\n",
    "\n",
    "<p style=\"font-size: 16px;\"> <b>Mfano</b> </p>\n"
   ]
  },
  {
   "cell_type": "code",
   "execution_count": 35,
   "id": "9e771c70-39cd-45da-961c-59481e64d07c",
   "metadata": {
    "jupyter": {
     "source_hidden": true
    }
   },
   "outputs": [],
   "source": [
    "x = 10  # Nafasi ya majina ya ulimwengu (Global namespace)\n",
    "def func():\n",
    "    y = 5  # Nafasi ya majina ya eneo (Local namespace)\n",
    "\n",
    "func()"
   ]
  },
  {
   "cell_type": "markdown",
   "id": "2a475717-6b3e-4ff0-b384-1bd722e75b76",
   "metadata": {},
   "source": [
    "<h2 style=\"font-size: 2em;\">79. Namespace Package</h2>\n",
    "<p style=\"font-size: 16px;\">Package ambayo inatumika kama konteyner cha subpackages lakini haina faili __init__.py.</p>\n",
    "\n",
    "<p style=\"font-size: 16px;\"> <b>Mfano</b> </p>\n"
   ]
  },
  {
   "cell_type": "code",
   "execution_count": null,
   "id": "cf438a28-6219-4bf8-9aa3-61165af13964",
   "metadata": {
    "jupyter": {
     "source_hidden": true
    }
   },
   "outputs": [],
   "source": [
    "my_namespace/\n",
    "    pkg1/\n",
    "    pkg2/"
   ]
  },
  {
   "cell_type": "markdown",
   "id": "b1d8a611-0eab-42a1-9577-8b564a53fca5",
   "metadata": {},
   "source": [
    "<h2 style=\"font-size: 2em;\">80. Nested Scope</h2>\n",
    "<p style=\"font-size: 16px;\">Nested scopes zinawaruhusu functions ndani ya functions kurejelea mabadiliko katika functions za nje.</p>\n",
    "\n",
    "<p style=\"font-size: 16px;\"> <b>Mfano</b> </p>\n"
   ]
  },
  {
   "cell_type": "code",
   "execution_count": 36,
   "id": "c48720c5-e026-40cb-b53a-a69c96bd453a",
   "metadata": {
    "collapsed": true,
    "jupyter": {
     "outputs_hidden": true,
     "source_hidden": true
    }
   },
   "outputs": [
    {
     "name": "stdout",
     "output_type": "stream",
     "text": [
      "10\n"
     ]
    }
   ],
   "source": [
    "def outer():\n",
    "    x = 10\n",
    "    def inner():\n",
    "        print(x)  # Anarejelea x kutoka kwa function ya nje\n",
    "    inner()\n",
    "\n",
    "outer() "
   ]
  },
  {
   "cell_type": "markdown",
   "id": "f232eb11-0ae6-49d7-b0ce-b51ee1071e57",
   "metadata": {},
   "source": [
    "<h2 style=\"font-size: 2em;\">81. New-Style Class</h2>\n",
    "<p style=\"font-size: 16px;\">Classes zote katika Python 3 ni new-style classes, maana yake zinarithishwa kutoka kwa object.</p>\n",
    "\n",
    "<p style=\"font-size: 16px;\"> <b>Mfano</b> </p>\n"
   ]
  },
  {
   "cell_type": "code",
   "execution_count": 37,
   "id": "9ac84afe-78af-44a5-ba76-38c6647edc34",
   "metadata": {
    "collapsed": true,
    "jupyter": {
     "outputs_hidden": true,
     "source_hidden": true
    }
   },
   "outputs": [
    {
     "name": "stdout",
     "output_type": "stream",
     "text": [
      "True\n"
     ]
    }
   ],
   "source": [
    "class MyClass:\n",
    "    pass\n",
    "\n",
    "print(isinstance(MyClass(), object)) "
   ]
  },
  {
   "cell_type": "markdown",
   "id": "1d824b8c-0188-4efc-a632-71742e7335b9",
   "metadata": {},
   "source": [
    "<h2 style=\"font-size: 2em;\">82. Object</h2>\n",
    "<p style=\"font-size: 16px;\">Object ni mfano wa (instance of) class katika Python, na kila kitu ni object katika Python.</p>\n",
    "\n",
    "<p style=\"font-size: 16px;\"> <b>Mfano</b> </p>\n"
   ]
  },
  {
   "cell_type": "code",
   "execution_count": 38,
   "id": "3d716cb9-858f-4b35-8a16-534572e17ed5",
   "metadata": {
    "collapsed": true,
    "jupyter": {
     "outputs_hidden": true,
     "source_hidden": true
    }
   },
   "outputs": [
    {
     "name": "stdout",
     "output_type": "stream",
     "text": [
      "True\n"
     ]
    }
   ],
   "source": [
    "x = 10\n",
    "print(isinstance(x, object)) "
   ]
  },
  {
   "cell_type": "markdown",
   "id": "fb15a61f-5f53-43d8-969f-cde2df715aa3",
   "metadata": {},
   "source": [
    "<h2 style=\"font-size: 2em;\">83. Package</h2>\n",
    "<p style=\"font-size: 16px;\">Package ni module ambayo ina submodules. Ina <code>__init__.py</code></p>\n",
    "\n",
    "<p style=\"font-size: 16px;\"> <b>Mfano</b> </p>\n"
   ]
  },
  {
   "cell_type": "code",
   "execution_count": null,
   "id": "8a0e011d-af2c-440d-afe5-ff60a65c4968",
   "metadata": {
    "jupyter": {
     "source_hidden": true
    }
   },
   "outputs": [],
   "source": [
    "my_package/\n",
    "    __init__.py\n",
    "    module1.py\n",
    "    module2.py"
   ]
  },
  {
   "cell_type": "markdown",
   "id": "bb5e8e19-626b-4892-a983-fc019c681abb",
   "metadata": {},
   "source": [
    "<h2 style=\"font-size: 2em;\">84. Parameter</h2>\n",
    "<p style=\"font-size: 16px;\">Parameter ni variable iliyo na jina katika ufafanuzi wa function.</p>\n",
    "\n",
    "<p style=\"font-size: 16px;\"> <b>Mfano</b> </p>\n"
   ]
  },
  {
   "cell_type": "code",
   "execution_count": 39,
   "id": "d87e2e07-6613-4d6a-9db1-f6f568f8135d",
   "metadata": {
    "collapsed": true,
    "jupyter": {
     "outputs_hidden": true,
     "source_hidden": true
    }
   },
   "outputs": [
    {
     "name": "stdout",
     "output_type": "stream",
     "text": [
      "15\n"
     ]
    }
   ],
   "source": [
    "def func(a, b=10):\n",
    "    return a + b\n",
    "\n",
    "print(func(5))  "
   ]
  },
  {
   "cell_type": "markdown",
   "id": "78acfb12-0af5-4e17-8432-4299963221b2",
   "metadata": {},
   "source": [
    "<h2 style=\"font-size: 2em;\">85. Path Entry</h2>\n",
    "<p style=\"font-size: 16px;\">Mahali moja kwenye njia ya kuagiza ambayo mtafutaji anatafuta ili kupata modules.</p>\n",
    "\n",
    "<p style=\"font-size: 16px;\"> <b>Mfano</b> </p>\n"
   ]
  },
  {
   "cell_type": "code",
   "execution_count": 40,
   "id": "fbb6997c-25a3-4107-b444-d5e5d31e2055",
   "metadata": {
    "collapsed": true,
    "jupyter": {
     "outputs_hidden": true,
     "source_hidden": true
    }
   },
   "outputs": [
    {
     "name": "stdout",
     "output_type": "stream",
     "text": [
      "['/usr/lib/python312.zip', '/usr/lib/python3.12', '/usr/lib/python3.12/lib-dynload', '', '/home/owinnie/GitHub/winisSchoolOfCoding/PythonCourse/winis/lib/python3.12/site-packages']\n"
     ]
    }
   ],
   "source": [
    "import sys\n",
    "print(sys.path)"
   ]
  },
  {
   "cell_type": "markdown",
   "id": "f5df67c0-4d61-43eb-9dae-5bae8f593dd4",
   "metadata": {},
   "source": [
    "<h2 style=\"font-size: 2em;\">86. Path Entry Finder</h2>\n",
    "<p style=\"font-size: 16px;\">Kitu kinachopata modules kulingana na path entry.</p>\n"
   ]
  },
  {
   "cell_type": "markdown",
   "id": "d33d665b-c6ec-4fac-b6a0-48cfd5da0f66",
   "metadata": {},
   "source": [
    "<h2 style=\"font-size: 2em;\">87. Path Entry Hook</h2>\n",
    "<p style=\"font-size: 16px;\">Kitu kinachoweza kuitwa (callable) kinachorejesha path entry finder.</p>\n"
   ]
  },
  {
   "cell_type": "markdown",
   "id": "bf38d5cf-4bef-46de-a076-8146e1b90879",
   "metadata": {},
   "source": [
    "<h2 style=\"font-size: 2em;\">88. Path Based Finder</h2>\n",
    "<p style=\"font-size: 16px;\">Mtafutaji wa meta wa msingi ambao anatafuta njia ya kuagiza kwa modules.</p>\n"
   ]
  },
  {
   "cell_type": "markdown",
   "id": "d92feec3-3e4b-4b8c-8c74-2c48a301e7ea",
   "metadata": {},
   "source": [
    "<h2 style=\"font-size: 2em;\">89. Path-Like Object</h2>\n",
    "<p style=\"font-size: 16px;\">Kitu kinachoakisi njia ya mfumo wa faili, iwe ni string au kitu kinachotekeleza os.PathLike.</p>\n",
    "\n",
    "<p style=\"font-size: 16px;\"> <b>Mfano</b> </p>\n"
   ]
  },
  {
   "cell_type": "code",
   "execution_count": 41,
   "id": "5a80ff64-59b3-4e21-8873-b96743c5db26",
   "metadata": {
    "collapsed": true,
    "jupyter": {
     "outputs_hidden": true,
     "source_hidden": true
    }
   },
   "outputs": [
    {
     "name": "stdout",
     "output_type": "stream",
     "text": [
      "path/to/file\n"
     ]
    }
   ],
   "source": [
    "import os\n",
    "print(os.fspath(\"path/to/file\"))"
   ]
  },
  {
   "cell_type": "markdown",
   "id": "20caf983-99f5-4647-82ce-3f97ed97b17f",
   "metadata": {},
   "source": [
    "<h2 style=\"font-size: 2em;\">90. PEP (Python Enhancement Proposal)</h2>\n",
    "<p style=\"font-size: 16px;\">PEP ni hati ya muundo inayotoa habari au vipengele vipya kwa Python.</p>\n",
    "\n",
    "<p style=\"font-size: 16px;\"> <b>Mfano</b> </p>\n"
   ]
  },
  {
   "cell_type": "code",
   "execution_count": null,
   "id": "626e01f3-eb85-41c7-b1ff-209709cf5ef8",
   "metadata": {
    "jupyter": {
     "source_hidden": true
    }
   },
   "outputs": [],
   "source": [
    "PEP 8: Style Guide for Python Code"
   ]
  },
  {
   "cell_type": "markdown",
   "id": "7a6a1b4e-a6a8-46c5-81ff-1a295bc4b007",
   "metadata": {},
   "source": [
    "<h2 style=\"font-size: 2em;\">91. Portion</h2>\n",
    "<p style=\"font-size: 16px;\">Seti ya faili zinazochangia kwenye namespace package.</p>\n"
   ]
  },
  {
   "cell_type": "markdown",
   "id": "e5b20f04-a7c0-47bd-8748-ecc57c6465b5",
   "metadata": {},
   "source": [
    "<h2 style=\"font-size: 2em;\">92. Positional Argument</h2>\n",
    "<p style=\"font-size: 16px;\">Argument ambayo inapitishwa kwa function kulingana na mkao (position) wake.</p>\n",
    "\n",
    "<p style=\"font-size: 16px;\"> <b>Mfano</b> </p>\n"
   ]
  },
  {
   "cell_type": "code",
   "execution_count": 42,
   "id": "924f126e-ab1a-41a2-9a42-09c43bb48eef",
   "metadata": {
    "collapsed": true,
    "jupyter": {
     "outputs_hidden": true,
     "source_hidden": true
    }
   },
   "outputs": [
    {
     "name": "stdout",
     "output_type": "stream",
     "text": [
      "Hello, Alice!\n"
     ]
    }
   ],
   "source": [
    "def greet(name):\n",
    "    print(f\"Hello, {name}!\")\n",
    "\n",
    "greet(\"Alice\") "
   ]
  },
  {
   "cell_type": "markdown",
   "id": "3984e92e-8cd0-47f0-8ab3-78653ae3a703",
   "metadata": {},
   "source": [
    "<h2 style=\"font-size: 2em;\">93. Provisional API</h2>\n",
    "<p style=\"font-size: 16px;\">Provisional API ni ile ambayo inaweza kubadilika katika toleo zijazo, ingawa ni sehemu ya maktaba ya kawaida.</p>\n"
   ]
  },
  {
   "cell_type": "markdown",
   "id": "f6a638a8-0c57-411b-81af-950df393533b",
   "metadata": {},
   "source": [
    "<h2 style=\"font-size: 2em;\">94. Provisional Package</h2>\n",
    "<p style=\"font-size: 16px;\">Package ambayo ina Provisional API.</p>\n"
   ]
  },
  {
   "cell_type": "markdown",
   "id": "5983a440-4c9b-49d9-97cc-3238b442e2f5",
   "metadata": {},
   "source": [
    "<h2 style=\"font-size: 2em;\">95. Python 3000 (Py3k)</h2>\n",
    "<p style=\"font-size: 16px;\">Python 3000 inahusisha Python 3.x, ambayo ilikuwa mabadiliko makubwa ya lugha.</p>\n"
   ]
  },
  {
   "cell_type": "markdown",
   "id": "2adca092-e5ec-431d-ad0f-65f3355d787e",
   "metadata": {},
   "source": [
    "<h2 style=\"font-size: 2em;\">96. Pythonic</h2>\n",
    "<p style=\"font-size: 16px;\">Code inayofuata mazoea ya kawaida ya Python.</p>\n",
    "\n",
    "<p style=\"font-size: 16px;\"> <b>Mfano</b> </p>\n"
   ]
  },
  {
   "cell_type": "code",
   "execution_count": 43,
   "id": "743e32d1-3e7d-4f27-86b1-7b8ab9030d75",
   "metadata": {
    "collapsed": true,
    "jupyter": {
     "outputs_hidden": true,
     "source_hidden": true
    }
   },
   "outputs": [
    {
     "name": "stdout",
     "output_type": "stream",
     "text": [
      "1\n",
      "2\n",
      "3\n",
      "4\n",
      "1\n",
      "2\n",
      "3\n",
      "4\n"
     ]
    }
   ],
   "source": [
    "# Njia ya Pythonic\n",
    "for item in my_list:\n",
    "    print(item)\n",
    "\n",
    "# Njia isiyo ya Pythonic\n",
    "for i in range(len(my_list)):\n",
    "    print(my_list[i])\n"
   ]
  },
  {
   "cell_type": "markdown",
   "id": "c8bb5f3b-069f-4d96-9df2-61dadafb8c51",
   "metadata": {},
   "source": [
    "<h2 style=\"font-size: 2em;\">97. Qualified Name</h2>\n",
    "<p style=\"font-size: 16px;\">Njia iliyo na nukta inayowrepresenti mahali pa kitu.</p>\n",
    "<p style=\"font-size: 16px;\"> <b>Mfano</b> </p>\n"
   ]
  },
  {
   "cell_type": "code",
   "execution_count": 44,
   "id": "f8e8dc01-6b13-4849-b037-d2ed6c4fb1db",
   "metadata": {
    "collapsed": true,
    "jupyter": {
     "outputs_hidden": true,
     "source_hidden": true
    }
   },
   "outputs": [
    {
     "name": "stdout",
     "output_type": "stream",
     "text": [
      "A.B\n"
     ]
    }
   ],
   "source": [
    "class A:\n",
    "    class B:\n",
    "        pass\n",
    "\n",
    "print(A.B.__qualname__) "
   ]
  },
  {
   "cell_type": "markdown",
   "id": "416ad19c-3bf4-4dba-b3ac-0decf2f4ae1f",
   "metadata": {},
   "source": [
    "<h2 style=\"font-size: 2em;\">98. Reference Count</h2>\n",
    "<p style=\"font-size: 16px;\">Katika Python, kila kitu kina hesabu ya rejea — idadi ya rejea zinazokielekezea. Wakati hesabu hii inaposhuka hadi sifuri, kumbukumbu iliyotengwa kwa ajili ya kitu hicho inachukuliwa (inafuta). Vitu vingine, kama vile constants za ndani (mfano: None, True, False), ni \"milele\" — hesabu zao za rejea hazibadilishwi, hivyo hazifutwi kamwe. Unaweza kuangalia hesabu ya rejea ya kitu kwa kutumia sys.getrefcount().</p>\n",
    "<p style=\"font-size: 16px;\"> <b>Mfano</b> </p>\n"
   ]
  },
  {
   "cell_type": "code",
   "execution_count": 61,
   "id": "9fc3d4c7-86e5-499a-b3b8-8df6094342c0",
   "metadata": {
    "collapsed": true,
    "jupyter": {
     "outputs_hidden": true,
     "source_hidden": true
    }
   },
   "outputs": [
    {
     "name": "stdout",
     "output_type": "stream",
     "text": [
      "2\n",
      "3\n"
     ]
    }
   ],
   "source": [
    "import sys\n",
    "a = []\n",
    "print(sys.getrefcount(a))  \n",
    "b = a\n",
    "print(sys.getrefcount(a)) "
   ]
  },
  {
   "cell_type": "markdown",
   "id": "c5e33a0b-6682-43c3-b346-aaee8e27113a",
   "metadata": {},
   "source": [
    "<h2 style=\"font-size: 2em;\">99. Regular Package</h2>\n",
    "<p style=\"font-size: 16px;\">Kifurushi cha kawaida katika Python ni direktorii ambayo ina faili ya __init__.py. Faili hii inaweza kuwa na msimbo wa kuanzisha kiwango cha kifurushi. Kifurushi cha kawaida kinakuwezesha kuunganisha moduli zinazohusiana katika kifurushi kimoja.</p>\n",
    "<p style=\"font-size: 16px;\"> <b>Mfano</b> </p>\n"
   ]
  },
  {
   "cell_type": "code",
   "execution_count": null,
   "id": "59c37279-fd95-4ddf-ad45-20e7e8c0ac49",
   "metadata": {
    "jupyter": {
     "source_hidden": true
    }
   },
   "outputs": [],
   "source": [
    "my_package/\n",
    "    __init__.py\n",
    "    module1.py\n",
    "    module2.py"
   ]
  },
  {
   "cell_type": "markdown",
   "id": "d95db89b-4cc0-4374-9d25-fb1663deda14",
   "metadata": {},
   "source": [
    "<h2 style=\"font-size: 2em;\">100. __slots__</h2>\n",
    "<p style=\"font-size: 16px;\">Kutumia __slots__ katika darasa (class) kunaweza kuokoa kumbukumbu kwa kukataza sifa ambazo matukio ya darasa yanaweza kuwa nazo. Hii inafuta haja ya kamusi ya matukio, ambayo inahifadhi sifa kwa njia ya kidinamik. Hata hivyo, inapaswa kutumika tu wakati wa kudhibiti idadi kubwa ya matukio katika programu zinazohitaji kumbukumbu.</p>\n",
    "<p style=\"font-size: 16px;\"> <b>Mfano</b> </p>\n"
   ]
  },
  {
   "cell_type": "code",
   "execution_count": 60,
   "id": "1aa3dc38-b2c1-4dad-a2b2-0f2e658fe2d9",
   "metadata": {
    "jupyter": {
     "source_hidden": true
    }
   },
   "outputs": [],
   "source": [
    "class Person:\n",
    "    __slots__ = ['name', 'age']  # Kuweka sifa zinazoruhusiwa\n",
    "    \n",
    "    def __init__(self, name, age):\n",
    "        self.name = name\n",
    "        self.age = age\n",
    "\n",
    "p = Person('Alice', 30)\n",
    "# p.address = \"New York\"  # Hii itasababisha AttributeError"
   ]
  },
  {
   "cell_type": "markdown",
   "id": "ac3314ad-18df-4adb-933b-c8d1e7281f5b",
   "metadata": {},
   "source": [
    "<h2 style=\"font-size: 2em;\">101. Sequence</h2>\n",
    "<p style=\"font-size: 16px;\">Mfuatano katika Python ni iterable inayounga mkono indexing na ina urefu ulioainishwa. Inasaidia kufikia vipengele kwa kutumia viashiria vya nambari (__getitem__()) na ina njia ya urefu (__len__()).</p>\n",
    "<p style=\"font-size: 16px;\"> <b>Mfano</b> </p>\n"
   ]
  },
  {
   "cell_type": "code",
   "execution_count": 59,
   "id": "9f891b38-ac1e-4793-84d9-bace70d10184",
   "metadata": {
    "collapsed": true,
    "jupyter": {
     "outputs_hidden": true,
     "source_hidden": true
    }
   },
   "outputs": [
    {
     "name": "stdout",
     "output_type": "stream",
     "text": [
      "2\n",
      "3\n"
     ]
    }
   ],
   "source": [
    "my_list = [1, 2, 3]\n",
    "print(my_list[1])  \n",
    "print(len(my_list))  "
   ]
  },
  {
   "cell_type": "markdown",
   "id": "86b0f31f-f4f6-46e7-944b-2b31db897e3a",
   "metadata": {},
   "source": [
    "<h2 style=\"font-size: 2em;\">102. Set Comprehension</h2>\n",
    "<p style=\"font-size: 16px;\">Set comprehension ni njia fupi ya kuunda seti kwa kuchuja na kubadilisha vipengele kutoka kwa iterable.</p>\n",
    "<p style=\"font-size: 16px;\"> <b>Mfano</b> </p>\n"
   ]
  },
  {
   "cell_type": "code",
   "execution_count": 58,
   "id": "dd833f0b-1939-4a2b-9275-d6d0bc4522b8",
   "metadata": {
    "collapsed": true,
    "jupyter": {
     "outputs_hidden": true,
     "source_hidden": true
    }
   },
   "outputs": [
    {
     "name": "stdout",
     "output_type": "stream",
     "text": [
      "{'r', 'd'}\n"
     ]
    }
   ],
   "source": [
    "unique_chars = {char for char in 'abracadabra' if char not in 'abc'}\n",
    "print(unique_chars) "
   ]
  },
  {
   "cell_type": "markdown",
   "id": "3354be98-a392-4bec-883a-e1b4471b0510",
   "metadata": {},
   "source": [
    "<h2 style=\"font-size: 2em;\">103. Single Dispatch</h2>\n",
    "<p style=\"font-size: 16px;\">Single dispatch inahusu kuchagua utekelezaji wa kazi kulingana na aina ya hoja moja. Python inatoa decorator ya functools.singledispatch kufikia hili.</p>\n",
    "<p style=\"font-size: 16px;\"> <b>Mfano</b> </p>\n"
   ]
  },
  {
   "cell_type": "code",
   "execution_count": 57,
   "id": "e000afe1-e43a-498c-8790-31308ac8b968",
   "metadata": {
    "collapsed": true,
    "jupyter": {
     "outputs_hidden": true,
     "source_hidden": true
    }
   },
   "outputs": [
    {
     "name": "stdout",
     "output_type": "stream",
     "text": [
      "Processing integer 5\n",
      "Processing string 'hi'\n"
     ]
    }
   ],
   "source": [
    "from functools import singledispatch\n",
    "\n",
    "@singledispatch\n",
    "def process(value):\n",
    "    print(f\"Utekelezaji wa kawaida kwa {value}\")\n",
    "\n",
    "@process.register(int)\n",
    "def _(value):\n",
    "    print(f\"Processing integer {value}\")\n",
    "\n",
    "@process.register(str)\n",
    "def _(value):\n",
    "    print(f\"Processing string '{value}'\")\n",
    "\n",
    "process(5)    \n",
    "process(\"hi\") \n"
   ]
  },
  {
   "cell_type": "markdown",
   "id": "faab71d3-1af4-4d15-9125-07ab0be34f30",
   "metadata": {},
   "source": [
    "<h2 style=\"font-size: 2em;\">104. Slice</h2>\n",
    "<p style=\"font-size: 16px;\">Slice inawakilisha sehemu ya mfuatano. Unaweza kuunda slices kwa kutumia noti ya nukta : ndani ya mabano ya mraba [].</p>\n",
    "<p style=\"font-size: 16px;\"> <b>Mfano</b> </p>\n"
   ]
  },
  {
   "cell_type": "code",
   "execution_count": 56,
   "id": "a1c64338-89fd-4f3e-a302-fc335907cd7e",
   "metadata": {
    "collapsed": true,
    "jupyter": {
     "outputs_hidden": true,
     "source_hidden": true
    }
   },
   "outputs": [
    {
     "name": "stdout",
     "output_type": "stream",
     "text": [
      "[20, 30, 40]\n"
     ]
    }
   ],
   "source": [
    "my_list = [10, 20, 30, 40, 50]\n",
    "sub_list = my_list[1:4]  # Slice kutoka index 1 hadi 3\n",
    "print(sub_list) "
   ]
  },
  {
   "cell_type": "markdown",
   "id": "e5c95ad1-4f0e-4373-960c-de07658d83a4",
   "metadata": {},
   "source": [
    "<h2 style=\"font-size: 2em;\">105. Special Method</h2>\n",
    "<p style=\"font-size: 16px;\">Njia maalum (pia inajulikana kama \"njia za kichawi\") ni njia katika Python ambazo zina mistari miwili ya underscore kabla na baada ya majina yao. Njia hizi zinaitwa na Python ili kutekeleza operesheni maalum kama vile kuongeza (__add__()) au uwakilishi wa string (__repr__()).</p>\n",
    "<p style=\"font-size: 16px;\"> <b>Mfano</b> </p>\n"
   ]
  },
  {
   "cell_type": "code",
   "execution_count": 55,
   "id": "3282c475-c006-4343-ab5c-01256862b609",
   "metadata": {
    "collapsed": true,
    "jupyter": {
     "outputs_hidden": true,
     "source_hidden": true
    }
   },
   "outputs": [
    {
     "name": "stdout",
     "output_type": "stream",
     "text": [
      "15\n"
     ]
    }
   ],
   "source": [
    "class MyNumber:\n",
    "    def __init__(self, value):\n",
    "        self.value = value\n",
    "    \n",
    "    def __add__(self, other):\n",
    "        return MyNumber(self.value + other.value)\n",
    "\n",
    "a = MyNumber(5)\n",
    "b = MyNumber(10)\n",
    "c = a + b  # Inaita njia ya __add__()\n",
    "print(c.value)  "
   ]
  },
  {
   "cell_type": "markdown",
   "id": "7f97adc5-b186-45ce-ad1f-aceb28f21bf2",
   "metadata": {},
   "source": [
    "<h2 style=\"font-size: 2em;\">106. Statement</h2>\n",
    "<p style=\"font-size: 16px;\">Statement ni mstari wa msimbo unaofanya kitendo fulani. Mfano ni pamoja na maelezo, if statements, for loops, na function calls.</p>\n",
    "<p style=\"font-size: 16px;\"> <b>Mfano</b> </p>\n"
   ]
  },
  {
   "cell_type": "code",
   "execution_count": 54,
   "id": "2e722726-c417-408e-b162-0e7fb767ac5a",
   "metadata": {
    "collapsed": true,
    "jupyter": {
     "outputs_hidden": true,
     "source_hidden": true
    }
   },
   "outputs": [
    {
     "name": "stdout",
     "output_type": "stream",
     "text": [
      "Positive number\n"
     ]
    }
   ],
   "source": [
    "x = 5  # Statement ya assignment\n",
    "if x > 0:  # if statement\n",
    "    print(\"Nambari chanya\")\n"
   ]
  },
  {
   "cell_type": "markdown",
   "id": "7d40d2dc-76f8-4b94-bcb6-c84b0eb6e33c",
   "metadata": {},
   "source": [
    "<h2 style=\"font-size: 2em;\">107. Static Type Checker</h2>\n",
    "<p style=\"font-size: 16px;\">Static type checker huchanganua msimbo wa Python kwa makosa ya aina bila kuendesha. Inakagua kama msimbo unafuata vidokezo vya aina vilivyoainishwa kwa kutumia moduli ya typing.</p>\n",
    "<p style=\"font-size: 16px;\"> <b>Mfano</b> </p>\n"
   ]
  },
  {
   "cell_type": "code",
   "execution_count": 53,
   "id": "55613642-010e-4a24-825a-4bc3a63ccc9f",
   "metadata": {
    "jupyter": {
     "source_hidden": true
    }
   },
   "outputs": [],
   "source": [
    "def add(a: int, b: int) -> int:\n",
    "    return a + b\n",
    "\n",
    "# Kuendesha mypy kwenye msimbo huu utahakikisha kwamba aina sahihi zinatumika.\n"
   ]
  },
  {
   "cell_type": "markdown",
   "id": "ba239e61-cbc7-463d-8dc0-5ce955cfe5ae",
   "metadata": {},
   "source": [
    "<h2 style=\"font-size: 2em;\">108. Strong Reference</h2>\n",
    "<p style=\"font-size: 16px;\">Rejea yenye nguvu ni rejea kwa kitu ambayo inahakikisha kitu hakiwezi kufutwa hadi rejea hiyo itolewe. Katika C API ya Python, kazi kama Py_INCREF() huunda rejea zenye nguvu, na Py_DECREF() huziondoa.</p>\n"
   ]
  },
  {
   "cell_type": "markdown",
   "id": "7026b63c-9ae0-4c03-b874-a05651729407",
   "metadata": {},
   "source": [
    "<h2 style=\"font-size: 2em;\">109. Text Encoding</h2>\n",
    "<p style=\"font-size: 16px;\">Urekebishaji wa maandiko ni mchakato wa kubadilisha string kuwa mfuatano wa bytes. Ni muhimu wakati wa kuhifadhi au kutuma strings. Urekebishaji maarufu ni pamoja na UTF-8 na ASCII.</p>\n",
    "<p style=\"font-size: 16px;\"> <b>Mfano</b> </p>\n"
   ]
  },
  {
   "cell_type": "code",
   "execution_count": 52,
   "id": "e2fb65d4-b2b6-4fd8-b820-e35afc42775d",
   "metadata": {
    "collapsed": true,
    "jupyter": {
     "outputs_hidden": true,
     "source_hidden": true
    }
   },
   "outputs": [
    {
     "name": "stdout",
     "output_type": "stream",
     "text": [
      "b'Hello'\n"
     ]
    }
   ],
   "source": [
    "text = \"Hello\"\n",
    "encoded_text = text.encode('utf-8')\n",
    "print(encoded_text) "
   ]
  },
  {
   "cell_type": "markdown",
   "id": "dbf9c251-afbf-4bef-9b92-9dd70ae893b4",
   "metadata": {},
   "source": [
    "<h2 style=\"font-size: 2em;\">110. Text File</h2>\n",
    "<p style=\"font-size: 16px;\">Faili la maandiko ni faili ambalo lina data za maandiko (mfuatano), mara nyingi husomwa au kuandikwa kwa kutumia vitu vya str. Faili inashughulikia uandishi wa ndani unapofunguliwa katika hali ya maandiko.</p>\n",
    "<p style=\"font-size: 16px;\"> <b>Mfano</b> </p>\n"
   ]
  },
  {
   "cell_type": "code",
   "execution_count": 51,
   "id": "f14ec095-87a5-4602-bfa2-b3d9d8854cbf",
   "metadata": {
    "jupyter": {
     "source_hidden": true
    }
   },
   "outputs": [],
   "source": [
    "with open('file.txt', 'w') as file:\n",
    "    file.write(\"Habari, Dunia!\")\n"
   ]
  },
  {
   "cell_type": "markdown",
   "id": "24eb79b9-6404-4788-923f-152ddeaf02ea",
   "metadata": {},
   "source": [
    "<h2 style=\"font-size: 2em;\">111. Triple-Quoted String</h2>\n",
    "<p style=\"font-size: 16px;\">Mfuatano wa triple-quoted umezungukwa na matukio matatu ya nukuu (\"\"\" au '''). Inaruhusu mfuatano wa mistari mingi na nukuu zisizo na kuteleza ndani ya mfuatano.</p>\n",
    "<p style=\"font-size: 16px;\"> <b>Mfano</b> </p>\n"
   ]
  },
  {
   "cell_type": "code",
   "execution_count": 50,
   "id": "4c98c159-5735-44e9-85c1-db1fe80d5f72",
   "metadata": {
    "collapsed": true,
    "jupyter": {
     "outputs_hidden": true,
     "source_hidden": true
    }
   },
   "outputs": [
    {
     "name": "stdout",
     "output_type": "stream",
     "text": [
      "This is a \n",
      "multi-line string with \"double\" and 'single' quotes.\n"
     ]
    }
   ],
   "source": [
    "docstring = \"\"\"Hii ni \n",
    "nyongeza ya mistari mingi yenye nukuu \"za mbili\" na 'za moja'.\"\"\"\n",
    "print(docstring)\n"
   ]
  },
  {
   "cell_type": "markdown",
   "id": "4e838359-0183-4c80-8c08-d912b1971048",
   "metadata": {},
   "source": [
    "<h2 style=\"font-size: 2em;\">112. Aina</h2>\n",
    "<p style=\"font-size: 16px;\">Kila kitu katika Python kina aina ambayo inamua tabia yake. Unaweza kufikia aina ya kitu kwa kutumia type() au __class__.</p>\n",
    "<p style=\"font-size: 16px;\"> <b>Mfano</b> </p>\n"
   ]
  },
  {
   "cell_type": "code",
   "execution_count": 49,
   "id": "f7c1fc88-4ac7-4f52-bb78-52d4d1879525",
   "metadata": {
    "jupyter": {
     "source_hidden": true
    }
   },
   "outputs": [
    {
     "name": "stdout",
     "output_type": "stream",
     "text": [
      "<class 'int'>\n"
     ]
    }
   ],
   "source": [
    "x = 10\n",
    "print(type(x)) "
   ]
  },
  {
   "cell_type": "markdown",
   "id": "5679b786-c94c-4b43-96d5-e2f1a6fc62f9",
   "metadata": {},
   "source": [
    "<h2 style=\"font-size: 2em;\">113. Type Alias</h2>\n",
    "<p style=\"font-size: 16px;\">Alias ya aina ni neno la kufananisha kwa aina, mara nyingi hutumiwa katika vihashiria vya aina ili kufanya msimbo uwe wazi zaidi.</p>\n",
    "<p style=\"font-size: 16px;\"> <b>Mfano</b> </p>\n"
   ]
  },
  {
   "cell_type": "code",
   "execution_count": 48,
   "id": "30cd1d5b-0b25-4756-acff-04b90182cb08",
   "metadata": {
    "jupyter": {
     "source_hidden": true
    }
   },
   "outputs": [],
   "source": [
    "Color = tuple[int, int, int]\n",
    "\n",
    "def get_color() -> Color:\n",
    "    return (255, 0, 0)"
   ]
  },
  {
   "cell_type": "markdown",
   "id": "f2169b2b-2793-4fba-900c-264e6a682a68",
   "metadata": {},
   "source": [
    "<h2 style=\"font-size: 2em;\">114. Type Hint</h2>\n",
    "<p style=\"font-size: 16px;\">Vihashiria vya aina vinabainisha aina zinazotarajiwa za mabadiliko, hoja za kazi, au thamani za kurudi. Haviwekwa nguvu na Python lakini husaidia katika ufahamu wa msimbo na ukaguzi wa aina za kawaida.</p>\n",
    "<p style=\"font-size: 16px;\"> <b>Mfano</b> </p>\n"
   ]
  },
  {
   "cell_type": "code",
   "execution_count": 47,
   "id": "3f39465d-9e2f-4aef-9af2-8e25769bafa0",
   "metadata": {
    "jupyter": {
     "source_hidden": true
    }
   },
   "outputs": [],
   "source": [
    "def add(a: int, b: int) -> int:\n",
    "    return a + b"
   ]
  },
  {
   "cell_type": "markdown",
   "id": "0c200667-f5cb-42b4-b58b-4ae46d20a134",
   "metadata": {},
   "source": [
    "<h2 style=\"font-size: 2em;\">115. Universal Newlines</h2>\n",
    "<p style=\"font-size: 16px;\">Mistari mpya ya ulimwengu [Universal Newlines] inaruhusu Python kushughulikia wahusika tofauti wa mwisho wa mstari (\\n, \\r\\n, \\r) wakati wa kusoma au kuandika faili za maandiko.</p>\n"
   ]
  },
  {
   "cell_type": "markdown",
   "id": "a27a019b-5954-422d-8437-f8ecf63381ab",
   "metadata": {},
   "source": [
    "<h2 style=\"font-size: 2em;\">116. Variable Annotation</h2>\n",
    "<p style=\"font-size: 16px;\">Maalum ya mabadiliko inaeleza aina ya mabadiliko au sifa za darasa, mara nyingi kama sehemu ya vihashiria vya aina.</p>\n",
    "<p style=\"font-size: 16px;\"> <b>Mfano</b> </p>\n"
   ]
  },
  {
   "cell_type": "code",
   "execution_count": 46,
   "id": "5c13649e-5043-4cbb-9959-a39a32d4dfd6",
   "metadata": {},
   "outputs": [],
   "source": [
    "name: str = \"Alice\""
   ]
  },
  {
   "cell_type": "markdown",
   "id": "f46456be-ebee-457a-a515-ecaaef31c0ce",
   "metadata": {},
   "source": [
    "<h2 style=\"font-size: 2em;\">117. Virtual Environment</h2>\n",
    "<p style=\"font-size: 16px;\">Mazingira ya virtual ni mazingira ya Python yaliyojitegemea ambayo yanakuwezesha kufunga na kusimamia vifurushi bila kuathiri usakinishaji wa Python wa ulimwengu mzima.</p>\n",
    "<p style=\"font-size: 16px;\"> <b>Mfano</b> </p>\n"
   ]
  },
  {
   "cell_type": "code",
   "execution_count": null,
   "id": "7757f5c4-b72e-4bc4-bac0-55fb8ac04b71",
   "metadata": {
    "jupyter": {
     "source_hidden": true
    }
   },
   "outputs": [],
   "source": [
    "python -m venv myenv\n",
    "source myenv/bin/activate"
   ]
  },
  {
   "cell_type": "markdown",
   "id": "70a62d9f-aeac-4c1e-8480-32066256d9ac",
   "metadata": {},
   "source": [
    "<h2 style=\"font-size: 2em;\">118. Virtual Machine</h2>\n",
    "<p style=\"font-size: 16px;\">Mashine ya virtual (VM) ni mazingira yanayoonyeshwa na programu yanayokimbia bytecode. Python ina mashine ya virtual inayotekeleza bytecode iliyozalishwa na kompyuta ya Python.</p>\n"
   ]
  },
  {
   "cell_type": "markdown",
   "id": "0c7cfe11-0ee7-49ea-be7a-1a1160fd69e8",
   "metadata": {},
   "source": [
    "<h2 style=\"font-size: 2em;\">119. Zen of Python</h2>\n",
    "<p style=\"font-size: 16px;\">\"Zen ya Python\" ni seti ya kanuni zinazoongoza falsafa ya kubuni ya Python. Unaweza kuangalia kwa kuandika import this katika shell ya Python.</p>\n",
    "<p style=\"font-size: 16px;\"> <b>Mfano</b> </p>\n"
   ]
  },
  {
   "cell_type": "code",
   "execution_count": 45,
   "id": "22ddeb70-2148-4731-b0d9-3907b1a28c31",
   "metadata": {
    "collapsed": true,
    "jupyter": {
     "outputs_hidden": true,
     "source_hidden": true
    }
   },
   "outputs": [
    {
     "name": "stdout",
     "output_type": "stream",
     "text": [
      "The Zen of Python, by Tim Peters\n",
      "\n",
      "Beautiful is better than ugly.\n",
      "Explicit is better than implicit.\n",
      "Simple is better than complex.\n",
      "Complex is better than complicated.\n",
      "Flat is better than nested.\n",
      "Sparse is better than dense.\n",
      "Readability counts.\n",
      "Special cases aren't special enough to break the rules.\n",
      "Although practicality beats purity.\n",
      "Errors should never pass silently.\n",
      "Unless explicitly silenced.\n",
      "In the face of ambiguity, refuse the temptation to guess.\n",
      "There should be one-- and preferably only one --obvious way to do it.\n",
      "Although that way may not be obvious at first unless you're Dutch.\n",
      "Now is better than never.\n",
      "Although never is often better than *right* now.\n",
      "If the implementation is hard to explain, it's a bad idea.\n",
      "If the implementation is easy to explain, it may be a good idea.\n",
      "Namespaces are one honking great idea -- let's do more of those!\n"
     ]
    }
   ],
   "source": [
    "import this\n",
    "# Matokeo:\n",
    "# Zen ya Python, na Tim Peters\n",
    "# Urembo ni bora kuliko chafu.\n",
    "# Wazi ni bora kuliko fiche.\n",
    "# Rahisi ni bora kuliko tata.\n",
    "# ..."
   ]
  }
 ],
 "metadata": {
  "kernelspec": {
   "display_name": "winis",
   "language": "python",
   "name": "winis"
  },
  "language_info": {
   "codemirror_mode": {
    "name": "ipython",
    "version": 3
   },
   "file_extension": ".py",
   "mimetype": "text/x-python",
   "name": "python",
   "nbconvert_exporter": "python",
   "pygments_lexer": "ipython3",
   "version": "3.12.3"
  }
 },
 "nbformat": 4,
 "nbformat_minor": 5
}
