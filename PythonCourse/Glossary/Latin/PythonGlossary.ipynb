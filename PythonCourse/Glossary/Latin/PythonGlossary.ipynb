{
 "cells": [
  {
   "cell_type": "markdown",
   "id": "fa9e5c63-a0be-45e4-9327-150b14b8b265",
   "metadata": {},
   "source": [
    "<h1 style=\"font-size: 3em;\"> Partes Glossarii Python Explicatae </h1>\n",
    "\n",
    "<p style=\"font-size: 18px;\">Salve et Bene Ventum ad hanc sectionem. Hic nonnullae partes glossarii Python explanabuntur cum exemplis. Haec facient ut aliquis conceptus communis Python facilius percipiat. </p>\n",
    "\n",
    "<p style=\"font-size: 18px; color:red; font-weight:bolder\">Parati...</p>\n"
   ]
  },
  {
   "cell_type": "markdown",
   "id": "d16f4e5d-c61f-4ec4-9136-de1bf13f9d81",
   "metadata": {},
   "source": [
    "<h2 style=\"font-size: 2em;\"> 1. Ellipsis (...)</h2>\n",
    "\n",
    "<ul>\n",
    "    <li style=\"font-size: 16px;\">Objectum speciale in Python per tres puncta (...) repraesentatur. Plerumque adhibetur in circumstantiis specificis, maxime in sectionibus extensis et placeholderibus functionum.</li>\n",
    "    <li style=\"font-size: 16px;\">Ellipsis unicum exemplum generis <b>types.EllipsisType</b> est, quod significat unum tantum objectum Ellipsis per totum programmata existere.</li>\n",
    "</ul>\n",
    "\n",
    "<h3 style=\"font-size: 1.7em;\"> Usus Casus </h3>\n",
    "<h4 style=\"font-size: 1.4em;\"> A) Syntaxin Sectionis Extensae </h4>\n",
    "<p style=\"font-size: 16px;\">Saepe in sectionibus pro arrayis multidimensionalibus adhibetur, ut apud bibliothecas sicut NumPy. Placeholder pro multis operatores colon (:) in sectionibus repraesentat.</p>\n",
    "\n",
    "<p style=\"font-size: 16px;\"> <b>Example</b> </p>"
   ]
  },
  {
   "cell_type": "code",
   "execution_count": 2,
   "id": "6c17ffc8-b513-4f78-8826-0cd92cfc3b60",
   "metadata": {
    "collapsed": true,
    "jupyter": {
     "outputs_hidden": true,
     "source_hidden": true
    }
   },
   "outputs": [
    {
     "name": "stdout",
     "output_type": "stream",
     "text": [
      "[[ 1  4  7]\n",
      " [10 13 16]\n",
      " [19 22 25]]\n"
     ]
    }
   ],
   "source": [
    "import numpy as np\n",
    "\n",
    "\n",
    "arr = np.arange(27).reshape(3, 3, 3)\n",
    "print(arr[..., 1])\n",
    "\n",
    "# np.arange(27) => Creates a sequence of 27 numbers (from 0 to 26)\n",
    "# .reshape(3, 3, 3) => reshape this sequence into a 3D array of shape (3, 3, 3)\n",
    "\n",
    "# [[[ 0  1  2]    First 3x3 layer\n",
    "#   [ 3  4  5]\n",
    "#   [ 6  7  8]]\n",
    "\n",
    "#  [[ 9 10 11]    Second 3x3 layer\n",
    "#   [12 13 14]\n",
    "#   [15 16 17]]\n",
    "\n",
    "#  [[18 19 20]    Third 3x3 layer\n",
    "#   [21 22 23]\n",
    "#   [24 25 26]]]\n",
    "\n",
    "# arr[..., 1] => use Ellipsis to slice across multiple dimensions\n",
    "# ... (Ellipsis) is a placeholder that represents all preceding dimensions\n",
    "# So, arr[..., 1] means \"Give me the second column (1 index) from all the layers (3D array).\"\n",
    "# For the first layer ([[ 0, 1, 2], [ 3, 4, 5], [ 6, 7, 8]]), the second column is [1, 4, 7]\n",
    "# For the second layer ([[ 9, 10, 11], [12, 13, 14], [15, 16, 17]]), the second column is [10, 13, 16]\n",
    "# For the third layer ([[18, 19, 20], [21, 22, 23], [24, 25, 26]]), the second column is [19, 22, 25]"
   ]
  },
  {
   "cell_type": "markdown",
   "id": "2cb2f7fb-5e35-4419-8126-fcb986e99fb8",
   "metadata": {},
   "source": [
    "<h4 style=\"font-size: 1.4em;\"> B) Placeholder </h4>\n",
    "<p style=\"font-size: 16px;\">Adhibetur ut placeholder in codice, significans partem functionis aut sectionis nondum implementatam. Hoc in progressu utile est ut moneatur aliquid postea perficiendum esse.</p>\n",
    "\n",
    "<p style=\"font-size: 16px;\"> <b>Example</b> </p>\n"
   ]
  },
  {
   "cell_type": "code",
   "execution_count": 3,
   "id": "76f2902b-93f1-4f51-a15d-c15f6da6222a",
   "metadata": {
    "jupyter": {
     "source_hidden": true
    }
   },
   "outputs": [],
   "source": [
    "def add():\n",
    "    ..."
   ]
  },
  {
   "cell_type": "markdown",
   "id": "0461507c-2c3d-49e9-a2cc-982dc15569d7",
   "metadata": {},
   "source": [
    "<h4 style=\"font-size: 1.4em;\"> C) Multiline Statements </h4>\n",
    "<p style=\"font-size: 16px;\">Si sententia nimis longa est ut in unam lineam aptetur, eam per plures lineas dividas potes, utens parenthesibus. Tres puncta in <b style=\"color: red;\">interactive shell prompt</b> apparent ad indicandum Python exspectare plus input.</p>\n",
    "\n",
    "<p style=\"font-size: 16px;\"> <b>Example</b> </p>\n"
   ]
  },
  {
   "cell_type": "code",
   "execution_count": 2,
   "id": "05912da4-3295-4107-b033-cac5c41b3092",
   "metadata": {
    "collapsed": true,
    "jupyter": {
     "outputs_hidden": true,
     "source_hidden": true
    }
   },
   "outputs": [
    {
     "name": "stdout",
     "output_type": "stream",
     "text": [
      ">>> summed = (\n",
      "...     5 + 10 +\n",
      "...     2 + 3\n",
      "... )\n",
      ">>> summed\n",
      "20\n"
     ]
    }
   ],
   "source": [
    "# Simulatio Pythonis in notebook\n",
    "print(\"\"\">>> summed = (\n",
    "...     5 + 10 +\n",
    "...     2 + 3\n",
    "... )\n",
    ">>> summed\n",
    "20\"\"\")\n"
   ]
  },
  {
   "cell_type": "markdown",
   "id": "ce50ea69-3523-446a-938e-00d4778253ee",
   "metadata": {},
   "source": [
    "<h4 style=\"font-size: 1.4em;\"> D) Multiline Strings </h4>\n",
    "<p style=\"font-size: 16px;\">In utens triplici citatione ad creandum string multiline, ... prompta apparet post primam lineam.</p>\n",
    "\n",
    "<p style=\"font-size: 16px;\"> <b>Example</b> </p>\n"
   ]
  },
  {
   "cell_type": "code",
   "execution_count": 4,
   "id": "5b16983c-fea9-429d-9cda-bc8db87854b3",
   "metadata": {
    "collapsed": true,
    "jupyter": {
     "outputs_hidden": true,
     "source_hidden": true
    }
   },
   "outputs": [
    {
     "name": "stdout",
     "output_type": "stream",
     "text": [
      ">>> text = \"\"\n",
      "...     This is a multiline string.\n",
      "...     It spans several lines.\n",
      "... \"\"\n",
      ">>> print(text)\n",
      "This is a multiline string.\n",
      "It spans several lines.\n"
     ]
    }
   ],
   "source": [
    "# Simulatio Pythonis in notebook\n",
    "print(\"\"\">>> text = \"\"\n",
    "...     This is a multiline string.\n",
    "...     It spans several lines.\n",
    "... \"\"\n",
    ">>> print(text)\n",
    "This is a multiline string.\n",
    "It spans several lines.\"\"\")"
   ]
  },
  {
   "cell_type": "markdown",
   "id": "fbb4e580-74fc-46cd-9112-674f83fa4a40",
   "metadata": {},
   "source": [
    "<h4 style=\"font-size: 1.4em;\"> E) Loops vel Conditional Statements </h4>\n",
    "<p style=\"font-size: 16px;\">Si scribis loop vel sententiam conditionalem quae per plures lineas se extendit, tres puncta promptam pro indentatione ostendentur.</p>\n",
    "\n",
    "<p style=\"font-size: 16px;\"> <b>Example</b> </p>\n"
   ]
  },
  {
   "cell_type": "code",
   "execution_count": 7,
   "id": "8e5c1b0e-1b1b-4cb0-996e-4ce69509cfd3",
   "metadata": {
    "collapsed": true,
    "jupyter": {
     "outputs_hidden": true,
     "source_hidden": true
    }
   },
   "outputs": [
    {
     "name": "stdout",
     "output_type": "stream",
     "text": [
      ">>> for i in range(3):\n",
      "...         print(i)\n",
      "...     \n",
      "0\n",
      "1\n",
      "2\n",
      "\n"
     ]
    }
   ],
   "source": [
    "# Simulatio Pythonis in notebook\n",
    "print(\"\"\">>> for i in range(3):\n",
    "...         print(i)\n",
    "...     \n",
    "0\n",
    "1\n",
    "2\n",
    "\"\"\")"
   ]
  },
  {
   "cell_type": "markdown",
   "id": "d36ff63e-b6ad-4e59-b546-2bff7e7cee82",
   "metadata": {},
   "source": [
    "<h4 style=\"font-size: 1.4em;\"> F) Adhibens Decoratorem </h4>\n",
    "<p style=\"font-size: 16px;\">In definendo functionem cum decoratore, ... apparet post decoratorem usque ad plenam functionis scripturam.</p>\n",
    "\n",
    "<p style=\"font-size: 16px;\"> <b>Example</b> </p>\n"
   ]
  },
  {
   "cell_type": "code",
   "execution_count": 13,
   "id": "61119717-28de-43d5-a9b7-2162a60c608d",
   "metadata": {
    "collapsed": true,
    "jupyter": {
     "outputs_hidden": true,
     "source_hidden": true
    }
   },
   "outputs": [
    {
     "name": "stdout",
     "output_type": "stream",
     "text": [
      ">>> @staticmethod\n",
      "... def my_function():\n",
      "...    print(\"This is a static method\")\n",
      "... \n",
      ">>> my_function()\n",
      "This is a static method\n"
     ]
    }
   ],
   "source": [
    "# Simulatio Pythonis in notebook\n",
    "print(\"\"\">>> @staticmethod\n",
    "... def my_function():\n",
    "...    print(\"This is a static method\")\n",
    "... \n",
    ">>> my_function()\n",
    "This is a static method\"\"\")"
   ]
  },
  {
   "cell_type": "markdown",
   "id": "b4819b06-25a9-4778-af4f-8b642c53d68d",
   "metadata": {},
   "source": [
    "<h2 style=\"font-size: 2em;\"> 1b. types.EllipsisType </h2>\n",
    "<p style=\"font-size: 16px;\"><b>EllipsisType</b> est genus objecti Ellipsis. In Python, omnia habent genus, et Ellipsis non dissimile est. Unicum objectum huius generis est ipse Ellipsis objectum.</p>\n",
    "\n",
    "<p style=\"font-size: 16px;\"> <b>Example</b> </p>\n"
   ]
  },
  {
   "cell_type": "code",
   "execution_count": 16,
   "id": "96a7a8b9-b4d0-4e90-9165-e676d5bebf0a",
   "metadata": {
    "collapsed": true,
    "jupyter": {
     "outputs_hidden": true,
     "source_hidden": true
    }
   },
   "outputs": [
    {
     "name": "stdout",
     "output_type": "stream",
     "text": [
      ">>> type(Ellipsis)\n",
      "<class 'ellipsis'>\n"
     ]
    }
   ],
   "source": [
    "print(\"\"\">>> type(Ellipsis)\n",
    "<class 'ellipsis'>\"\"\")"
   ]
  },
  {
   "cell_type": "markdown",
   "id": "88678a48-6391-426e-b646-cc2e39807e39",
   "metadata": {},
   "source": [
    "<h2 style=\"font-size: 2em;\"> 1c. types.GenericAlias </h2>\n",
    "<p style=\"font-size: 16px;\"><b>GenericAlias</b> permittit generica parametris declarari in systemate type hinting. Hoc significat te collectiones, sicut <b>list</b> aut <b>dict</b>, cum typis specificis adhibere posse, sicut <b>list[int]</b> aut <b>dict[str, int]</b>.</p>\n",
    "\n",
    "<p style=\"font-size: 16px;\"> <b>Example</b> </p>\n"
   ]
  },
  {
   "cell_type": "code",
   "execution_count": 15,
   "id": "e149ed97-9977-4849-ba4b-942143d1fdef",
   "metadata": {
    "collapsed": true,
    "jupyter": {
     "outputs_hidden": true,
     "source_hidden": true
    }
   },
   "outputs": [
    {
     "name": "stdout",
     "output_type": "stream",
     "text": [
      "True\n",
      "True\n"
     ]
    }
   ],
   "source": [
    "from types import GenericAlias\n",
    "\n",
    "# list[int] aequale GenericAlias pro list et int creandum\n",
    "print(list[int] == GenericAlias(list, (int,)))\n",
    "\n",
    "# dict[str, int] aequale GenericAlias pro dict et (str, int) creandum\n",
    "print(dict[str, int] == GenericAlias(dict, (str, int)))\n",
    "\n",
    "# t_origin: This is the base class you're parameterizing\n",
    "# t_args: This is a tuple representing the types used to parameterize"
   ]
  },
  {
   "cell_type": "code",
   "execution_count": 17,
   "id": "82ff253a-643e-4120-bb97-f4af37e47d1f",
   "metadata": {
    "collapsed": true,
    "jupyter": {
     "outputs_hidden": true,
     "source_hidden": true
    }
   },
   "outputs": [
    {
     "name": "stdout",
     "output_type": "stream",
     "text": [
      "10\n"
     ]
    }
   ],
   "source": [
    "from typing import List\n",
    "\n",
    "def sum_list(numbers: List[int]) -> int:\n",
    "    return sum(numbers)\n",
    "\n",
    "result = sum_list([1, 2, 3, 4])\n",
    "print(result)"
   ]
  },
  {
   "cell_type": "markdown",
   "id": "626594d5-d918-4650-a46e-8d6cb17f4a33",
   "metadata": {},
   "source": [
    "<h2 style=\"font-size: 2em;\">2. Abstract Base Classes (ABC)</h2>\n",
    "<p style=\"font-size: 16px;\">Abstract Base Class (ABC) definire commune interface pro coetu classium cognatorum. Agit ut exemplar pro suis subscriptoribus, curans ut methodos specificas impleant.</p>\n",
    "\n",
    "<h3 style=\"font-size: 1.7em;\">Conceptus Claves</h3>\n",
    "<ul>\n",
    "    <li style=\"font-size: 16px;\">Commune Interface: ABCs commune interface praebent, curantes ut omnes classium derivatorum methodos certas impleant.</li>\n",
    "    <li style=\"font-size: 16px;\">Duck Typing: ABCs complementum typizationis anatis Pythonis, ubi typus obiecti determinatur per eius comportamentum (methodi et proprietates), non per typum explicitum.</li>\n",
    "    <li style=\"font-size: 16px;\">Virtual Subclasses: Hae sunt classes quae non necesse est explicite ab ABC heredes esse, sed tamen per <code>isinstance()</code> vel <code>issubclass()</code> agnosci possunt ut subscriptores.</li>\n",
    "    <li style=\"font-size: 16px;\">Python habet ABCs constructas in modulis ut <code>collections.abc</code> (listae, congeries) et <code>numbers</code>, sed etiam tuas ABCs creare potes utens modulo <code>abc</code>.</li>\n",
    "</ul>\n",
    "\n",
    "<p style=\"font-size: 16px;\"><b>Example</b></p>"
   ]
  },
  {
   "cell_type": "code",
   "execution_count": 20,
   "id": "712e8bc2-5dc7-4e96-8bba-c2dbe1ed7abe",
   "metadata": {
    "collapsed": true,
    "jupyter": {
     "outputs_hidden": true,
     "source_hidden": true
    }
   },
   "outputs": [
    {
     "name": "stdout",
     "output_type": "stream",
     "text": [
      "Area: 12\n",
      "Perimeter: 14\n",
      "My width is 3\n"
     ]
    }
   ],
   "source": [
    "from abc import ABC, abstractmethod\n",
    "\n",
    "# Definire classis abstractae base\n",
    "class Shape(ABC):\n",
    "\n",
    "    # Definire methodum abstractam quae omnes subclasse impleant\n",
    "    @abstractmethod\n",
    "    def area(self):\n",
    "        pass\n",
    "\n",
    "    @abstractmethod\n",
    "    def perimeter(self):\n",
    "        pass\n",
    "\n",
    "# Classis concreta quae ab ABC heres est\n",
    "class Rectangle(Shape):\n",
    "\n",
    "    def __init__(self, width, height):\n",
    "        self.width = width\n",
    "        self.height = height\n",
    "\n",
    "    # Implemenatio methodorum abstractarum\n",
    "    def area(self):\n",
    "        return self.width * self.height\n",
    "\n",
    "    def perimeter(self):\n",
    "        return 2 * (self.width + self.height)\n",
    "\n",
    "# Instantiatio classis Rectangle\n",
    "rect = Rectangle(3, 4)\n",
    "print(f\"Area: {rect.area()}\")        # Output: Area: 12\n",
    "print(f\"Perimeter: {rect.perimeter()}\")  # Output: Perimeter: 14\n",
    "\n",
    "class Square(Rectangle):\n",
    "    \n",
    "    def __init__(self, width, height):\n",
    "        self.width = width\n",
    "        self.height = height\n",
    "    \n",
    "    def printwdth(self):\n",
    "        print(f\"My width is {self.width}\")\n",
    "\n",
    "s = Square(3, 4)\n",
    "s.printwdth()\n",
    "\n",
    "# Trying to instantiate the abstract class will raise an error\n",
    "# shape = Shape()  # This will raise a TypeError\n"
   ]
  },
  {
   "cell_type": "markdown",
   "id": "df07df91-b44a-4c37-a1ff-e3489606316d",
   "metadata": {},
   "source": [
    "<h2 style=\"font-size: 2em;\">2b. Virtual Subclasses</h2>\n",
    "<p style=\"font-size: 16px;\">Subscriptor virtualis non explicite ab ABC heredes est sed potest registrari ut tale agnoscatur.</p>\n",
    "\n",
    "<p style=\"font-size: 16px;\"><b>Example</b></p>"
   ]
  },
  {
   "cell_type": "code",
   "execution_count": 22,
   "id": "9c4ac622-4c22-4595-bbd5-96757adc2a58",
   "metadata": {
    "collapsed": true,
    "jupyter": {
     "outputs_hidden": true,
     "source_hidden": true
    }
   },
   "outputs": [
    {
     "name": "stdout",
     "output_type": "stream",
     "text": [
      "True\n"
     ]
    }
   ],
   "source": [
    "class Circle:\n",
    "    def area(self):\n",
    "        return 3.14\n",
    "    \n",
    "    def perimeter(self):\n",
    "        return 6.28\n",
    "\n",
    "# Register Circle ut virtualis subscriptor classis Shape\n",
    "Shape.register(Circle)  # Base class . register (virtual class)\n",
    "\n",
    "# Nunc, Circle agnoscitur ut subscriptor classis Shape\n",
    "c = Circle()\n",
    "print(isinstance(c, Shape))  \n"
   ]
  },
  {
   "cell_type": "markdown",
   "id": "ce8c9eca-2a4b-4edd-b546-fc0b289b220d",
   "metadata": {},
   "source": [
    "<h2 style=\"font-size: 2em;\">3. Annotations in Python</h2>\n",
    "<p style=\"font-size: 16px;\">Annotationes addunt notitiam typi vel metadata additamenta variabilibus, parametris functionum, et valoribus reditu, praebentes claritatem de typis expectatis.</p>\n",
    "\n",
    "<h3 style=\"font-size: 1.7em;\">Usus Annotationum:</h3>\n",
    "<ul>\n",
    "    <li style=\"font-size: 16px;\">Variabiles: Typum variabilis suggerunt.</li>\n",
    "    <li style=\"font-size: 16px;\">Functiones: Typum parameterum et valorum reditu suggerunt.</li>\n",
    "    <li style=\"font-size: 16px;\">Python has annotationes in attributo speciali dicto <code>__annotations__</code>.</li>\n",
    "</ul>\n",
    "\n",
    "<p style=\"font-size: 16px;\"><b>Example</b></p>"
   ]
  },
  {
   "cell_type": "code",
   "execution_count": 27,
   "id": "d2ea1da1-4745-4e94-9d5d-789dc5ca72fe",
   "metadata": {
    "collapsed": true,
    "jupyter": {
     "outputs_hidden": true,
     "source_hidden": true
    }
   },
   "outputs": [
    {
     "name": "stdout",
     "output_type": "stream",
     "text": [
      "{'x': <class 'int'>}\n",
      "{'name': <class 'str'>, 'return': <class 'str'>}\n",
      "{'attr': <class 'float'>}\n",
      "Hello, 20\n"
     ]
    }
   ],
   "source": [
    "# 1. Annotatio variabilis globalis\n",
    "x: int = 10\n",
    "print(__annotations__)\n",
    "\n",
    "# 2. Functio cum parametris annotatis et typus reditu\n",
    "def greet(name: str) -> str:\n",
    "    return f\"Hello, {name}\"\n",
    "print(greet.__annotations__)\n",
    "\n",
    "# 3. Accessus Annotationum Attributorum Classis\n",
    "class MyClass:\n",
    "    attr: float = 3.14\n",
    "print(MyClass.__annotations__)"
   ]
  },
  {
   "cell_type": "markdown",
   "id": "4827702d-1004-48f3-b0cc-34eab29bdb99",
   "metadata": {},
   "source": [
    "<h2 style=\"font-size: 2em;\">4. PEP 484 et PEP 526</h2>\n",
    "<p style=\"font-size: 16px;\">PEP 484: Introdusit annotationes typorum in Python, explanans quomodo annotationes ad typorum indiciationem adhiberi possint.</p>\n",
    "<p style=\"font-size: 16px;\">PEP 526: Introdusit annotationes variabilium, permittens annotationes pro variabilibus et attributis classium sine necessitate statim assignandi.</p>\n",
    "\n",
    "<h3 style=\"font-size: 1.7em;\">Optimae Practicae</h3>\n",
    "<ul>\n",
    "    <li style=\"font-size: 16px;\">Usus annotationum constanter pro meliore legibilitate.</li>\n",
    "    <li style=\"font-size: 16px;\">Considera usum indictoris typorum ut mypy ad validitatem typorum confirmandam.</li>\n",
    "    <li style=\"font-size: 16px;\">Annotationes claritatem augent, adiuvantes et programmatorem et instrumenta ad intelligendum typorum exspectatos.</li>\n",
    "</ul>\n",
    "\n",
    "<p style=\"font-size: 16px;\"><b>Exemplar</b></p>"
   ]
  },
  {
   "cell_type": "code",
   "execution_count": 1,
   "id": "0a466fba-bfbf-4ff1-8701-f1b78eeed9ea",
   "metadata": {
    "jupyter": {
     "source_hidden": true
    }
   },
   "outputs": [],
   "source": [
    "# PEP 526\n",
    "# 1. Variabilem cum annotatione typi declarans sed sine valore initiali\n",
    "x: int  # x exspectatur esse typi 'int'\n",
    "\n",
    "# Nunc assigna valorem postea\n",
    "x = 10\n",
    "\n",
    "# 2. Annotatio Attributi Classis Sine Valore Initiali\n",
    "class MyClass:\n",
    "    # Attributum classis cum annotatione typi declarans\n",
    "    name: str  # name exspectatur esse typi 'str'\n",
    "\n",
    "# Nunc assigna valorem post creandum instantiam\n",
    "obj = MyClass()\n",
    "obj.name = \"Alice\"\n"
   ]
  },
  {
   "cell_type": "markdown",
   "id": "eb80d555-84a6-4340-b722-011bec35807b",
   "metadata": {},
   "source": [
    "<h2 style=\"font-size: 2em;\">5. Arguments in Python</h2>\n",
    "<p style=\"font-size: 16px;\">Argumentum est valor transitus ad functionem cum vocatur. Argumenta praebent necessariam input ad functionem ut operationes suas exsequi possit.</p>\n",
    "\n",
    "<h3 style=\"font-size: 1.7em;\">Duo genera principalia argumentorum</h3>\n",
    "\n",
    "<h4 style=\"font-size: 1.4em;\">A) Argumenta Positionalia</h4>\n",
    "<p style=\"font-size: 16px;\">Haec ad functionem transmittuntur in ordine quo definita sunt. Functio exspectat argumenta in eadem serie praeberi.</p>\n",
    "\n",
    "<p style=\"font-size: 16px;\"> <b>Exemplum</b> </p>"
   ]
  },
  {
   "cell_type": "code",
   "execution_count": 1,
   "id": "1664640a-0770-4f41-ba60-89f63710992f",
   "metadata": {
    "collapsed": true,
    "jupyter": {
     "outputs_hidden": true,
     "source_hidden": true
    }
   },
   "outputs": [
    {
     "name": "stdout",
     "output_type": "stream",
     "text": [
      "8\n",
      "8\n"
     ]
    }
   ],
   "source": [
    "def add(a, b):\n",
    "    return a + b\n",
    "\n",
    "result = add(3, 5)  # 3 et 5 sunt argumenta positionalia\n",
    "print(result)\n",
    "\n",
    "# Utere `*` ut elementa iterabilis transmittas ut argumenta positionalia\n",
    "args = (3, 5)\n",
    "result = add(*args)\n",
    "print(result)"
   ]
  },
  {
   "cell_type": "markdown",
   "id": "4af55b25-33a9-4fc4-914d-f40a16cf0c37",
   "metadata": {},
   "source": [
    "<h4 style=\"font-size: 1.4em;\">B) Keyword Arguments</h4>\n",
    "<p style=\"font-size: 16px;\">Hae transmittuntur utens syntaxi nomine=valor, permitte ut specifiques quid argumentum correspondet cui parametri. Possunt in quacumque ordinem praeberi.</p>\n",
    "\n",
    "<p style=\"font-size: 16px;\"> <b>Exemplum</b> </p>"
   ]
  },
  {
   "cell_type": "code",
   "execution_count": 2,
   "id": "b12f842d-3ddf-4f42-b179-ee63b557a2e1",
   "metadata": {
    "collapsed": true,
    "jupyter": {
     "outputs_hidden": true,
     "source_hidden": true
    }
   },
   "outputs": [
    {
     "name": "stdout",
     "output_type": "stream",
     "text": [
      "8\n",
      "8\n"
     ]
    }
   ],
   "source": [
    "# Vocare functionem utens argumentis keyword\n",
    "result = add(a=3, b=5)\n",
    "print(result)\n",
    "\n",
    "# Transmitte argumenta keyword ex dictionario\n",
    "kwargs = {'a': 3, 'b': 5}\n",
    "result = add(**kwargs)\n",
    "print(result)"
   ]
  },
  {
   "cell_type": "markdown",
   "id": "0b570e07-f873-48f8-963d-b40579a49459",
   "metadata": {},
   "source": [
    "<h4 style=\"font-size: 1.4em;\">c) Mixing Positional and Keyword Arguments</h4>\n",
    "<p style=\"font-size: 16px;\">Potes miscere argumenta positionalia et keyword in vocatione functionis, sed argumenta positionalia <b style=\"color: red;\">semper prius venire debent.</b></p>\n",
    "\n",
    "<p style=\"font-size: 16px;\"> <b>Exemplum</b> </p>\n"
   ]
  },
  {
   "cell_type": "code",
   "execution_count": 6,
   "id": "d18d39a3-95aa-43d4-ae8a-85f7908f28db",
   "metadata": {
    "collapsed": true,
    "jupyter": {
     "outputs_hidden": true,
     "source_hidden": true
    }
   },
   "outputs": [
    {
     "name": "stdout",
     "output_type": "stream",
     "text": [
      "8\n"
     ]
    }
   ],
   "source": [
    "# Miscere argumenta positionalia et keyword\n",
    "# Aliter eris error SyntaxError\n",
    "result = add(3, b=5)\n",
    "print(result)"
   ]
  },
  {
   "cell_type": "markdown",
   "id": "a8b016cf-5411-4f2a-9701-44a86f1318c3",
   "metadata": {},
   "source": [
    "<h2 style=\"font-size: 1.7em;\">6. Asynchronous Context Manager</h2>\n",
    "<p style=\"font-size: 16px;\">Permittit administrationem rerum asynchronous utens enuntiatione <code>async with</code>. Oportet definiat <code>__aenter__()</code> et <code>__aexit__()</code>, quae ambae sunt methodi asynchronous quae reddunt obiecta exspectanda.</p>\n",
    "\n",
    "<p style=\"font-size: 16px;\"> <b>Exemplum</b> </p>\n"
   ]
  },
  {
   "cell_type": "code",
   "execution_count": 8,
   "id": "84aa9cbf-639e-4523-b99a-7e9c2ee0355a",
   "metadata": {
    "collapsed": true,
    "jupyter": {
     "outputs_hidden": true,
     "source_hidden": true
    }
   },
   "outputs": [
    {
     "name": "stdout",
     "output_type": "stream",
     "text": [
      "Entering context\n",
      "Inside context\n",
      "Exiting context\n"
     ]
    }
   ],
   "source": [
    "import asyncio\n",
    "\n",
    "class AsyncContextManager:\n",
    "    async def __aenter__(self):\n",
    "        print(\"Entering context\")\n",
    "        return self\n",
    "    \n",
    "    async def __aexit__(self, exc_type, exc_value, traceback):\n",
    "        print(\"Exiting context\")\n",
    "\n",
    "async def main():\n",
    "    async with AsyncContextManager() as manager:\n",
    "        print(\"Inside context\")\n",
    "\n",
    "# Running the asynchronous code\n",
    "# asyncio.run(main())\n",
    "await main()"
   ]
  },
  {
   "cell_type": "code",
   "execution_count": 14,
   "id": "c7cc9bc7-d0c3-4a70-afe5-e6a8f798425f",
   "metadata": {
    "collapsed": true,
    "jupyter": {
     "outputs_hidden": true,
     "source_hidden": true
    }
   },
   "outputs": [
    {
     "name": "stdout",
     "output_type": "stream",
     "text": [
      "sample.txt Successfully downloaded\n"
     ]
    }
   ],
   "source": [
    "# Practical example\n",
    "import aiohttp\n",
    "import asyncio\n",
    "\n",
    "\n",
    "class AsyncFileDownload:\n",
    "    def __init__(self, url: str, dest: str) -> None:\n",
    "        self.url = url\n",
    "        self.dest = dest\n",
    "\n",
    "    async def __aenter__(self):\n",
    "        self.session = aiohttp.ClientSession()  # establish session\n",
    "        return self\n",
    "    \n",
    "    async def __aexit__(self, exc_type, exc_value, traceback):\n",
    "        await self.session.close()\n",
    "\n",
    "    async def downloadFile(self):\n",
    "        async with self.session.get(self.url) as res:\n",
    "            if res.status == 200:\n",
    "                cont = await res.read()\n",
    "                with open(self.dest, 'wb') as f:\n",
    "                    f.write(cont)\n",
    "                print(f\"{self.dest} Successfully downloaded\")\n",
    "            else:\n",
    "                print(f\"{res.status}: Failed download\")\n",
    "\n",
    "async def main():\n",
    "    url = \"https://www.gutenberg.org/files/1342/1342-0.txt\"\n",
    "    dest = \"sample.txt\"\n",
    "    async with AsyncFileDownload(url, dest) as downloader:\n",
    "        await downloader.downloadFile()\n",
    "\n",
    "if __name__ == \"__main__\":\n",
    "    # asyncio.run(main())\n",
    "    await main()"
   ]
  },
  {
   "cell_type": "markdown",
   "id": "c621654a-8020-490b-8767-a8e943bda628",
   "metadata": {},
   "source": [
    "<h2 style=\"font-size: 1.7em;\">7. Asynchronous Generator</h2>\n",
    "<p style=\"font-size: 16px;\">Functio quae potest valores asynchronous producit et in circulo <code>async for</code> adhibetur. Videtur quasi coroutine sed utens enuntiatione <code>yield</code> ad valores producendos.</p>\n",
    "\n",
    "<p style=\"font-size: 16px;\"> <b>Exemplum</b> </p>"
   ]
  },
  {
   "cell_type": "code",
   "execution_count": 2,
   "id": "4e6d1651-7664-496f-980f-f9aab89aa0a8",
   "metadata": {
    "collapsed": true,
    "jupyter": {
     "outputs_hidden": true,
     "source_hidden": true
    }
   },
   "outputs": [
    {
     "name": "stdout",
     "output_type": "stream",
     "text": [
      "Recepit: 0\n",
      "Recepit: 1\n",
      "Recepit: 2\n"
     ]
    }
   ],
   "source": [
    "import asyncio\n",
    "\n",
    "# Define generator asynchronous\n",
    "async def async_generator():\n",
    "    for i in range(3):\n",
    "        await asyncio.sleep(1)  # Simulare operationem asynchronous\n",
    "        yield i  # Valores asynchronous producit\n",
    "\n",
    "# Consumptio generatoris asynchronous\n",
    "async def main():\n",
    "    async for value in async_generator():\n",
    "        print(f\"Recepit: {value}\")\n",
    "\n",
    "# Currens codex asynchronous\n",
    "# asyncio.run(main())\n",
    "await main()"
   ]
  },
  {
   "cell_type": "markdown",
   "id": "51ca59f4-e66a-4b7f-9f40-98fad13e763f",
   "metadata": {},
   "source": [
    "<h2 style=\"font-size: 1.7em;\">8. Asynchronous Generator Iterator</h2>\n",
    "<p style=\"font-size: 16px;\">Cum vocatur functio generatoris asynchronous, redditur iterator generatoris asynchronous qui implementat methodum <code>__anext__()</code>, permitte ut imperium habeas super executionem generatoris.</p>\n",
    "\n",
    "<p style=\"font-size: 16px;\"> <b>Exemplum</b> </p>\n"
   ]
  },
  {
   "cell_type": "code",
   "execution_count": 11,
   "id": "a29d4dc6-4d40-4ef7-85bc-24005c08d1af",
   "metadata": {
    "collapsed": true,
    "jupyter": {
     "outputs_hidden": true,
     "source_hidden": true
    }
   },
   "outputs": [
    {
     "name": "stdout",
     "output_type": "stream",
     "text": [
      "1\n",
      "2\n"
     ]
    }
   ],
   "source": [
    "async def async_generator():\n",
    "    yield 1\n",
    "    yield 2\n",
    "\n",
    "async def main():\n",
    "    # Creare iterator generatoris asynchronous\n",
    "    gen = async_generator()\n",
    "\n",
    "    # Manualiter capere valores utens __anext__()\n",
    "    print(await gen.__anext__())\n",
    "    print(await gen.__anext__())\n",
    "\n",
    "# Currens codex asynchronous\n",
    "# asyncio.run(main())\n",
    "await main()"
   ]
  },
  {
   "cell_type": "markdown",
   "id": "d174bdc9-e116-41a1-99e0-7b0345afda36",
   "metadata": {},
   "source": [
    "<h2 style=\"font-size: 1.7em;\">9. Asynchronous Iterable</h2>\n",
    "<p style=\"font-size: 16px;\">Iterabile asynchronous adhiberi potest in circulo <code>async for</code> et debet implementare methodum <code>__aiter__()</code>.</p>\n",
    "\n",
    "<p style=\"font-size: 16px;\"> <b>Exemplum</b> </p>"
   ]
  },
  {
   "cell_type": "code",
   "execution_count": 12,
   "id": "b4cc7f91-cc03-42dc-888a-41950d765ad7",
   "metadata": {
    "collapsed": true,
    "jupyter": {
     "outputs_hidden": true,
     "source_hidden": true
    }
   },
   "outputs": [
    {
     "name": "stdout",
     "output_type": "stream",
     "text": [
      "1\n",
      "2\n",
      "3\n"
     ]
    }
   ],
   "source": [
    "class AsyncIterable:\n",
    "    def __init__(self):\n",
    "        self.data = [1, 2, 3]\n",
    "    \n",
    "    def __aiter__(self):\n",
    "        return self\n",
    "\n",
    "    async def __anext__(self):\n",
    "        if not self.data:\n",
    "            raise StopAsyncIteration\n",
    "        await asyncio.sleep(1)  # Simulate an async operation\n",
    "        return self.data.pop(0)\n",
    "\n",
    "async def main():\n",
    "    async for item in AsyncIterable():\n",
    "        print(item)\n",
    "\n",
    "# Running the asynchronous code\n",
    "# asyncio.run(main())\n",
    "await main()"
   ]
  },
  {
   "cell_type": "markdown",
   "id": "74cc2d0c-e8ab-4a6a-ae5f-2a1d51c3b306",
   "metadata": {},
   "source": [
    "<h2 style=\"font-size: 1.7em;\">10. Awaitable</h2>\n",
    "<p style=\"font-size: 16px;\">Obiectum quod adhiberi potest in enuntiatione <code>await</code>. Potest esse vel coroutine (functio definita cum <code>async def</code>) vel obiectum cum methodo <code>__await__()</code>.</p>\n",
    "\n",
    "<p style=\"font-size: 16px;\"> <b>Exemplum</b> </p>"
   ]
  },
  {
   "cell_type": "code",
   "execution_count": 15,
   "id": "5b7cf93b-61aa-4326-8ab2-eb72f2e8ce08",
   "metadata": {
    "jupyter": {
     "source_hidden": true
    }
   },
   "outputs": [],
   "source": [
    "import asyncio\n",
    "\n",
    "class CustomAwaitable:\n",
    "    def __await__(self):\n",
    "        return (yield from asyncio.sleep(1).__await__())  # Custom await logic\n",
    "\n",
    "async def main():\n",
    "    await CustomAwaitable()  # Awaiting the custom awaitable\n",
    "\n",
    "# Running the asynchronous code\n",
    "# asyncio.run(main())\n",
    "await main()\n",
    "\n",
    "# __await__(self) Method: This is a special method that must be implemented for the object to be awaitable.\n",
    "# When you call await on an instance of this class, Python calls this method.\n",
    "# asyncio.sleep(1).__await__(): This part calls asyncio.sleep(1), \n",
    "# which is a coroutine that pauses execution for 1 second. \n",
    "# The __await__() method of the coroutine is then called, which returns an iterator that will yield control back to the event loop until the sleep operation is complete."
   ]
  },
  {
   "cell_type": "markdown",
   "id": "653ea0cd-361e-41d9-b47a-5391b68a5cc6",
   "metadata": {},
   "source": [
    "<h2 style=\"font-size: 2em;\">11. Binary File</h2>\n",
    "    <p style=\"font-size: 16px;\">\n",
    "        Fajum binary continet data in formato binario (0s et 1s), dissimile a file textuali quod continet textum legibile. Hae fajus leguntur et scribuntur utens modis binariis ut 'rb' (legere binary), 'wb' (scribere binary), vel 'rb+' (legere/scribere binary).\n",
    "    </p>\n",
    "    <p style=\"font-size: 16px;\"> <b>Exemplum</b> </p>"
   ]
  },
  {
   "cell_type": "code",
   "execution_count": 16,
   "id": "44a0b105-8d75-4459-8466-df9f1e1a1d87",
   "metadata": {
    "collapsed": true,
    "jupyter": {
     "outputs_hidden": true,
     "source_hidden": true
    }
   },
   "outputs": [
    {
     "name": "stdout",
     "output_type": "stream",
     "text": [
      "b'\\x00\\x01\\x02\\x03\\x04'\n"
     ]
    }
   ],
   "source": [
    "# Writing binary data to a file\n",
    "with open('binaryfile.bin', 'wb') as f:\n",
    "    f.write(b'\\x00\\x01\\x02\\x03\\x04')  # writing bytes\n",
    "\n",
    "# Reading binary data from a file\n",
    "with open('binaryfile.bin', 'rb') as f:\n",
    "    data = f.read()\n",
    "    print(data)"
   ]
  },
  {
   "cell_type": "markdown",
   "id": "3e7bb846-f246-4ae2-b871-57e39f20a65c",
   "metadata": {},
   "source": [
    "<h2 style=\"font-size: 1.7em;\">12. Borrowed Reference</h2>\n",
    "    <p style=\"font-size: 16px;\">\n",
    "        Referentia mutua in C API Python (adhibita cum extendendo vel includendo Python in codice C) refert ad referentiam obiecti quam codex non \"possidet.\" Significat codex non augere numerum referentiarum, et obiectum potest colligi in garbage quovis tempore nisi expresse in referentiam firmam cum Py_INCREF() convertatur.\n",
    "    </p>\n",
    "    <p style=\"font-size: 16px;\"> <b>Exemplum</b> </p>"
   ]
  },
  {
   "cell_type": "code",
   "execution_count": 17,
   "id": "992a8f64-69bf-4248-b710-968296641967",
   "metadata": {
    "jupyter": {
     "source_hidden": true
    }
   },
   "outputs": [],
   "source": [
    "# PyObject* borrowed_ref = PyList_GetItem(some_list, 0);  // Does not increment reference count\n",
    "# if (borrowed_ref == NULL) {\n",
    "#     return NULL;  // Handle error\n",
    "# }\n",
    "# Py_INCREF(borrowed_ref);  // Safely turn it into a strong reference\n",
    "\n",
    "# PyList_GetItem returns a borrowed reference to the object at index 0. \n",
    "# Since the reference count is not incremented, the object can be destroyed\n",
    "# at any time unless we use Py_INCREF() to convert it into a strong reference."
   ]
  },
  {
   "cell_type": "markdown",
   "id": "91bd994a-59b7-4868-b037-0f198cd3a9f6",
   "metadata": {},
   "source": [
    "<h2 style=\"font-size: 1.7em;\">13. Bytes-like Object</h2>\n",
    "    <p style=\"font-size: 16px;\">\n",
    "        Obiectum simile bytes est obiectum quod sustinet protocolum buffer Python, quod permittit illud exponere raw byte memoria (continuus clusum bytes). Hae includunt:</p>  \n",
    "        <ul>\n",
    "            <li style=\"font-size: 16px;\">Bytes (immutabilia)</li>\n",
    "            <li style=\"font-size: 16px;\">Bytearray (mutabilia)</li>\n",
    "            <li style=\"font-size: 16px;\">Memoryview (spectacula data byte) [utrumque mutabilia et immutabilia]</li>\n",
    "            <li style=\"font-size: 16px;\">Array.array (mutabilia)</li>\n",
    "        </ul>\n",
    "    <p style=\"font-size: 16px;\">Obiecta similia bytes saepe adhibentur ad operationes quae requirem data binary raw, sicut compressio, encryptio, et communicatio reticularis.</p>\n",
    "    <p style=\"font-size: 16px;\"> <b>Exemplum</b> </p>"
   ]
  },
  {
   "cell_type": "code",
   "execution_count": 18,
   "id": "bcaa4359-5ff8-4fc0-b594-cd70f70cddb6",
   "metadata": {
    "collapsed": true,
    "jupyter": {
     "outputs_hidden": true,
     "source_hidden": true
    }
   },
   "outputs": [
    {
     "name": "stdout",
     "output_type": "stream",
     "text": [
      "b'Hello, world!'\n",
      "bytearray(b'Hello')\n",
      "bytearray(b'Gello')\n",
      "71\n"
     ]
    }
   ],
   "source": [
    "# Using bytes (immutable bytes-like object)\n",
    "data = b'Hello, world!'\n",
    "print(data)  # Output: b'Hello, world!'\n",
    "\n",
    "# Using bytearray (mutable bytes-like object)\n",
    "data_mutable = bytearray(b'Hello')\n",
    "print(data_mutable)\n",
    "data_mutable[0] = 0x47  # Modify the byte at index 0\n",
    "print(data_mutable)\n",
    "\n",
    "# Using memoryview (view on bytearray)\n",
    "mem_view = memoryview(data_mutable)\n",
    "print(mem_view[0])\n"
   ]
  },
  {
   "cell_type": "markdown",
   "id": "d07a03dc-4ebc-474e-a0c5-c660d08e1ab1",
   "metadata": {},
   "source": [
    "<h2 style=\"font-size: 1.7em;\">14. Bytecode</h2>\n",
    "    <p style=\"font-size: 16px;\">\n",
    "        Bytecode Python est repraesentatio intermedia codicis Python postquam compilatur. Exsecutur ab machina virtuali Python (CPython). Bytecode servatur in .pyc fajus ad optimizationem performance durante repetitione executionis. Bytecode non est legibile ab hominibus, sed est formatum internum adhibitum ad performance optimizandam.\n",
    "    </p>\n",
    "    <p style=\"font-size: 16px;\"> <b>Exemplum</b> </p>"
   ]
  },
  {
   "cell_type": "code",
   "execution_count": 19,
   "id": "f9da5d55-9a2c-4d4d-acf4-bc9fba8518d6",
   "metadata": {
    "collapsed": true,
    "jupyter": {
     "outputs_hidden": true,
     "source_hidden": true
    }
   },
   "outputs": [
    {
     "name": "stdout",
     "output_type": "stream",
     "text": [
      "  4           0 RESUME                   0\n",
      "\n",
      "  5           2 LOAD_GLOBAL              1 (NULL + print)\n",
      "             12 LOAD_CONST               1 ('Hello, World!')\n",
      "             14 CALL                     1\n",
      "             22 POP_TOP\n",
      "             24 RETURN_CONST             0 (None)\n"
     ]
    }
   ],
   "source": [
    "# Listing bytecode instructions for a Python function using the dis module\n",
    "import dis\n",
    "\n",
    "def hello_world():\n",
    "    print(\"Hello, World!\")\n",
    "\n",
    "dis.dis(hello_world)  # Disassembles the function into bytecode"
   ]
  },
  {
   "cell_type": "markdown",
   "id": "d86807f2-7af6-4588-9f1f-c2d17a3fc1a6",
   "metadata": {},
   "source": [
    "<h2 style=\"font-size: 1.4em;\">15. Bytes-like Objects</h2>\n",
    "    <p style=\"font-size: 16px;\">\n",
    "        Immergamus profundius in quomodo bytearray et memoryview operantur cum valoribus ASCII et earum repraesentationibus hexadecimales.\n",
    "    </p>\n",
    "    <ul>\n",
    "        <li style=\"font-size: 16px;\">\n",
    "            <strong>a) Laborare cum bytearray et ASCII/Hexadecimal:</strong> Potestis manipulare bytearrays ad gradum byte, ubi unusquisque character repraesentatur per codicem ASCII vel aequivalentem hexadecimalem.\n",
    "        </li>\n",
    "    </ul>\n",
    "    <p style=\"font-size: 16px;\"> <b>Exemplum</b> </p>"
   ]
  },
  {
   "cell_type": "code",
   "execution_count": 20,
   "id": "7c777673-5deb-42e0-b149-c4d670fe223b",
   "metadata": {
    "collapsed": true,
    "jupyter": {
     "outputs_hidden": true,
     "source_hidden": true
    }
   },
   "outputs": [
    {
     "name": "stdout",
     "output_type": "stream",
     "text": [
      "bytearray(b'Hello')\n",
      "[72, 101, 108, 108, 111]\n",
      "['0x48', '0x65', '0x6c', '0x6c', '0x6f']\n",
      "bytearray(b'Jello')\n"
     ]
    }
   ],
   "source": [
    "data_mutable = bytearray(b'Hello')\n",
    "print(data_mutable)\n",
    "\n",
    "# Viewing ASCII values of each byte\n",
    "ascii_values = [b for b in data_mutable]\n",
    "print(ascii_values)\n",
    "\n",
    "# Viewing hexadecimal representation\n",
    "hex_values = [hex(b) for b in data_mutable]\n",
    "print(hex_values)\n",
    "\n",
    "# Modifying the first byte (ASCII for 'H' is 72, we change it to 'J' which is 74)\n",
    "data_mutable[0] = 0x4A  # 0x4A is hexadecimal for 74, which is ASCII for 'J'\n",
    "print(data_mutable)\n"
   ]
  },
  {
   "cell_type": "markdown",
   "id": "d3b953cb-f4f9-4c25-b65a-90190ec43c59",
   "metadata": {},
   "source": [
    "<ul>\n",
    "    <li style=\"font-size: 16px;\">\n",
    "            <strong>b) Laborare cum memoryview:</strong> memoryview permittit te partes magnorum datorum binary efficaciter manipulare sine creando exemplum datorum.\n",
    "        </li>\n",
    "</ul>\n",
    "\n",
    "<p style=\"font-size: 16px;\"> <b>Exemplum</b> </p>"
   ]
  },
  {
   "cell_type": "code",
   "execution_count": 21,
   "id": "b36ed2e3-0ed2-4ea4-ac4a-670034e23e77",
   "metadata": {
    "collapsed": true,
    "jupyter": {
     "outputs_hidden": true,
     "source_hidden": true
    }
   },
   "outputs": [
    {
     "name": "stdout",
     "output_type": "stream",
     "text": [
      "[80, 121, 116, 104, 111, 110]\n",
      "bytearray(b'Jython')\n"
     ]
    }
   ],
   "source": [
    "# Creating a bytearray and a memoryview\n",
    "data_mutable = bytearray(b'Python')\n",
    "mem_view = memoryview(data_mutable)\n",
    "\n",
    "# View original ASCII values via memoryview\n",
    "ascii_mem_view = [mem_view[i] for i in range(len(mem_view))]\n",
    "print(ascii_mem_view)\n",
    "\n",
    "# Modify the memoryview to change 'P' to 'J' (80 -> 74)\n",
    "mem_view[0] = 0x4A  # 0x4A is ASCII for 'J'\n",
    "print(data_mutable)\n"
   ]
  },
  {
   "cell_type": "markdown",
   "id": "ea164cc6-e9bd-4a37-aba1-6ba99f3f14ae",
   "metadata": {},
   "source": [
    "<h2 style=\"font-size: 2em;\">16. Callable</h2>\n",
    "    <p style=\"font-size: 16px;\">\n",
    "        Callable est obiectum quod vocari potest utens parenthesis (), plerumque functio, methodus, vel instanti classis quae definit methodum <code>__call__()</code>.\n",
    "    </p>\n",
    "<p style=\"font-size: 16px;\"> <b>Exemplum</b> </p>"
   ]
  },
  {
   "cell_type": "code",
   "execution_count": 24,
   "id": "884753cc-2465-4ba0-93c6-bea6a071d4cb",
   "metadata": {
    "collapsed": true,
    "jupyter": {
     "outputs_hidden": true,
     "source_hidden": true
    }
   },
   "outputs": [
    {
     "name": "stdout",
     "output_type": "stream",
     "text": [
      "Hello, world!\n",
      "This instance is callable!\n"
     ]
    }
   ],
   "source": [
    "# A function is callable\n",
    "def my_function():\n",
    "    print(\"Hello, world!\")\n",
    "\n",
    "my_function() \n",
    "\n",
    "# A class instance can also be callable if it implements __call__()\n",
    "class MyClass:\n",
    "    def __call__(self):\n",
    "        print(\"This instance is callable!\")\n",
    "\n",
    "obj = MyClass()\n",
    "obj()\n"
   ]
  },
  {
   "cell_type": "markdown",
   "id": "ea5202eb-3ffe-4435-b489-edf46894b508",
   "metadata": {},
   "source": [
    "<h2 style=\"font-size: 1.7em;\">17. Callback</h2>\n",
    "    <p style=\"font-size: 16px;\">\n",
    "        Callback est functio quae transit ut argumentum ad aliam functionem, quae vocabitur (vel \"revocabitur\") ad aliquod tempus posterius in programma.\n",
    "    </p>\n",
    "<p style=\"font-size: 16px;\"> <b>Exemplum</b> </p>"
   ]
  },
  {
   "cell_type": "code",
   "execution_count": 25,
   "id": "60bed3bf-58fe-452b-8c62-4dbc79f7083a",
   "metadata": {
    "collapsed": true,
    "jupyter": {
     "outputs_hidden": true,
     "source_hidden": true
    }
   },
   "outputs": [
    {
     "name": "stdout",
     "output_type": "stream",
     "text": [
      "Processing data...\n",
      "Callback called!\n"
     ]
    }
   ],
   "source": [
    "# Define a callback function\n",
    "def callback_function():\n",
    "    print(\"Callback called!\")\n",
    "\n",
    "# Define a function that takes a callback as an argument\n",
    "def process_data(callback):\n",
    "    print(\"Processing data...\")\n",
    "    callback()  # Call the callback function\n",
    "\n",
    "# Use the callback\n",
    "process_data(callback_function)"
   ]
  },
  {
   "cell_type": "markdown",
   "id": "401ccd4e-c500-4769-b7e4-4e0583cf08a6",
   "metadata": {},
   "source": [
    "<h2 style=\"font-size: 1.7em;\">18. Class</h2>\n",
    "    <p style=\"font-size: 16px;\">\n",
    "        Classis est exemplar pro creando obiecta (instantias) in Python. Definit attributa et methodos.\n",
    "    </p>\n",
    "<p style=\"font-size: 16px;\"> <b>Exemplum</b> </p>"
   ]
  },
  {
   "cell_type": "code",
   "execution_count": 26,
   "id": "37bdfaf3-57e0-4397-9dc6-e323da668dd7",
   "metadata": {
    "collapsed": true,
    "jupyter": {
     "outputs_hidden": true,
     "source_hidden": true
    }
   },
   "outputs": [
    {
     "name": "stdout",
     "output_type": "stream",
     "text": [
      "Hello, my name is Alice.\n"
     ]
    }
   ],
   "source": [
    "class Person:\n",
    "    def __init__(self, name, age):\n",
    "        self.name = name  # Instance variable\n",
    "        self.age = age    # Instance variable\n",
    "\n",
    "    def greet(self):\n",
    "        print(f\"Hello, my name is {self.name}.\")\n",
    "\n",
    "# Creating an object (instance) of the class\n",
    "person = Person(\"Alice\", 30)\n",
    "person.greet()"
   ]
  },
  {
   "cell_type": "code",
   "execution_count": 25,
   "id": "2049c2e9-a8c0-431e-b267-e489cac426f0",
   "metadata": {
    "collapsed": true,
    "jupyter": {
     "outputs_hidden": true,
     "source_hidden": true
    }
   },
   "outputs": [
    {
     "name": "stdout",
     "output_type": "stream",
     "text": [
      "My name's Winnie\n"
     ]
    }
   ],
   "source": [
    "class Person:\n",
    "    def __init__(self, name: str, age: int) -> None:\n",
    "        self.name = name\n",
    "        self.age = age\n",
    "\n",
    "    def intro(self) -> None:\n",
    "        print(f\"My name's {self.name}\")\n",
    "\n",
    "\n",
    "person1 = Person(\"Winnie\", 22)\n",
    "person1.intro()"
   ]
  },
  {
   "cell_type": "markdown",
   "id": "45dbbc73-29f7-45cb-9f8d-5bff11839519",
   "metadata": {},
   "source": [
    "<h2 style=\"font-size: 1.7em;\">19. Class Variable</h2>\n",
    "    <p style=\"font-size: 16px;\">\n",
    "        Variabilis classis communicatur ab omnibus instantibus classis. Definita est intra classis sed extra ullam methodum.\n",
    "    </p>\n",
    "<p style=\"font-size: 16px;\"> <b>Exemplum</b> </p>"
   ]
  },
  {
   "cell_type": "code",
   "execution_count": 27,
   "id": "b20d0844-2601-4c75-becd-5e53e9e7d866",
   "metadata": {
    "collapsed": true,
    "jupyter": {
     "outputs_hidden": true,
     "source_hidden": true
    }
   },
   "outputs": [
    {
     "name": "stdout",
     "output_type": "stream",
     "text": [
      "TechCorp\n",
      "TechCorp\n",
      "TechCorp\n"
     ]
    }
   ],
   "source": [
    "class Employee:\n",
    "    company = \"TechCorp\"  # Class variable\n",
    "\n",
    "    def __init__(self, name):\n",
    "        self.name = name  # Instance variable\n",
    "\n",
    "# Accessing the class variable\n",
    "print(Employee.company)\n",
    "\n",
    "emp1 = Employee(\"John\")\n",
    "emp2 = Employee(\"Jane\")\n",
    "\n",
    "# Both instances share the same class variable\n",
    "print(emp1.company)\n",
    "print(emp2.company)"
   ]
  },
  {
   "cell_type": "markdown",
   "id": "0b642053-63b4-42f4-bdfc-8b04ebcdad5d",
   "metadata": {},
   "source": [
    "<h2 style=\"font-size: 1.7em;\">20. Complex Number</h2>\n",
    "    <p style=\"font-size: 16px;\">\n",
    "        Numerus complexus in Python habet partem realem et partem imaginariam, repraesentata per <code>j</code>.\n",
    "    </p>\n",
    "<p style=\"font-size: 16px;\"> <b>Exemplum</b> </p>"
   ]
  },
  {
   "cell_type": "code",
   "execution_count": 28,
   "id": "6cff1091-c9e8-4163-86a4-b0ac5b499ab8",
   "metadata": {
    "collapsed": true,
    "jupyter": {
     "outputs_hidden": true,
     "source_hidden": true
    }
   },
   "outputs": [
    {
     "name": "stdout",
     "output_type": "stream",
     "text": [
      "3.0\n",
      "4.0\n",
      "(5+1j)\n"
     ]
    }
   ],
   "source": [
    "# Creating a complex number\n",
    "c = 3 + 4j\n",
    "print(c.real)  \n",
    "print(c.imag)  \n",
    "\n",
    "# Operations with complex numbers\n",
    "c2 = 2 - 3j\n",
    "result = c + c2\n",
    "print(result)"
   ]
  },
  {
   "cell_type": "markdown",
   "id": "4dfa5cb6-5e18-43e8-8275-d029a118d3f3",
   "metadata": {},
   "source": [
    "<h2 style=\"font-size: 1.7em;\">21. Context Manager</h2>\n",
    "    <p style=\"font-size: 16px;\">\n",
    "        Contextus administratio regit ambitum in enuntiatione <code>with</code>, plerumque tractans acquisitionem et liberationem rerum.\n",
    "    </p>\n",
    "<p style=\"font-size: 16px;\"> <b>Exemplum</b> </p>"
   ]
  },
  {
   "cell_type": "code",
   "execution_count": 29,
   "id": "fc31da40-68a7-4be2-a410-21e15604db90",
   "metadata": {
    "collapsed": true,
    "jupyter": {
     "outputs_hidden": true,
     "source_hidden": true
    }
   },
   "outputs": [
    {
     "name": "stdout",
     "output_type": "stream",
     "text": [
      "Entering context\n",
      "Inside the context\n",
      "Exiting context\n"
     ]
    }
   ],
   "source": [
    "# Using a context manager with a file\n",
    "with open(\"example.txt\", \"w\") as file:\n",
    "    file.write(\"Hello, world!\")  # The file is automatically closed after the block\n",
    "\n",
    "# Custom context manager\n",
    "class MyContextManager:\n",
    "    def __enter__(self):\n",
    "        print(\"Entering context\")\n",
    "        return self\n",
    "\n",
    "    def __exit__(self, exc_type, exc_val, exc_tb):\n",
    "        print(\"Exiting context\")\n",
    "\n",
    "with MyContextManager():\n",
    "    print(\"Inside the context\")"
   ]
  },
  {
   "cell_type": "markdown",
   "id": "5b33f666-e634-4b35-a98a-bcdd178e2c73",
   "metadata": {},
   "source": [
    "<h2 style=\"font-size: 1.7em;\">22. Context Variable</h2>\n",
    "    <p style=\"font-size: 16px;\">\n",
    "        Variabilis contextus est variabilis quae diversas valores habere potest secundum contextum (exempli gratia, negotia asynchronous).\n",
    "    </p>\n",
    "<p style=\"font-size: 16px;\"> <b>Exemplum</b> </p>"
   ]
  },
  {
   "cell_type": "code",
   "execution_count": 31,
   "id": "f8dc8e7e-3ad2-465d-ab43-32a8490b7341",
   "metadata": {
    "collapsed": true,
    "jupyter": {
     "outputs_hidden": true,
     "source_hidden": true
    }
   },
   "outputs": [
    {
     "name": "stdout",
     "output_type": "stream",
     "text": [
      "default_value\n",
      "new_value\n",
      "default_value\n"
     ]
    }
   ],
   "source": [
    "import contextvars\n",
    "\n",
    "# Create a context variable\n",
    "var = contextvars.ContextVar(\"var\", default=\"default_value\")\n",
    "\n",
    "def print_var():\n",
    "    print(var.get())\n",
    "\n",
    "print_var()\n",
    "\n",
    "# Change the value in a specific context\n",
    "token = var.set(\"new_value\")\n",
    "print_var()\n",
    "\n",
    "# Reset to the previous value\n",
    "var.reset(token)\n",
    "print_var()"
   ]
  },
  {
   "cell_type": "markdown",
   "id": "1d499b5b-57e8-445c-953f-8362d36be8a7",
   "metadata": {},
   "source": [
    "<h2 style=\"font-size: 1.7em;\">23. Contiguous</h2>\n",
    "    <p style=\"font-size: 16px;\">\n",
    "        Buffer est continuum si data in memoria sequentia servata sunt, sicut arrays vel indices in C/Fortran. In Python, hic terminus adhibetur cum tractando dispositiones memoriae arrays.\n",
    "    </p>\n",
    "<p style=\"font-size: 16px;\"> <b>Exemplum</b> </p>"
   ]
  },
  {
   "cell_type": "code",
   "execution_count": 32,
   "id": "14e833fa-4b2b-49f3-adfb-80f25d2dbd92",
   "metadata": {
    "collapsed": true,
    "jupyter": {
     "outputs_hidden": true,
     "source_hidden": true
    }
   },
   "outputs": [
    {
     "name": "stdout",
     "output_type": "stream",
     "text": [
      "True\n",
      "True\n"
     ]
    }
   ],
   "source": [
    "import numpy as np\n",
    "\n",
    "# Creating a contiguous array (C-contiguous by default)\n",
    "arr = np.array([[1, 2], [3, 4]], order='C')\n",
    "print(arr.flags['C_CONTIGUOUS'])\n",
    "\n",
    "# Creating a Fortran-contiguous array\n",
    "arr_f = np.array([[1, 2], [3, 4]], order='F')\n",
    "print(arr_f.flags['F_CONTIGUOUS'])"
   ]
  },
  {
   "cell_type": "markdown",
   "id": "2fd0a015-9679-411d-b9ab-acfb13d236b5",
   "metadata": {},
   "source": [
    "<h2 style=\"font-size: 1.7em;\">24. Coroutine</h2>\n",
    "    <p style=\"font-size: 16px;\">\n",
    "        Coroutine est specialis genus functionis quae pausari et resumere potest ad diversos puncta.\n",
    "    </p>\n",
    "<p style=\"font-size: 16px;\"> <b>Exemplum</b> </p>"
   ]
  },
  {
   "cell_type": "code",
   "execution_count": 33,
   "id": "00d6ccff-5392-441a-9ca7-446ead8bdf6f",
   "metadata": {
    "collapsed": true,
    "jupyter": {
     "outputs_hidden": true,
     "source_hidden": true
    }
   },
   "outputs": [
    {
     "name": "stdout",
     "output_type": "stream",
     "text": [
      "Start coroutine\n",
      "End coroutine\n"
     ]
    }
   ],
   "source": [
    "# Defining a coroutine\n",
    "async def my_coroutine():\n",
    "    print(\"Start coroutine\")\n",
    "    await asyncio.sleep(1)\n",
    "    print(\"End coroutine\")\n",
    "\n",
    "# Running the coroutine\n",
    "await my_coroutine()"
   ]
  },
  {
   "cell_type": "markdown",
   "id": "572150ce-cc5c-44e5-8b38-f69add14972e",
   "metadata": {},
   "source": [
    "<h2 style=\"font-size: 1.7em;\">25. Coroutine Function</h2>\n",
    "    <p style=\"font-size: 16px;\">\n",
    "        Functio coroutine est functio quae reddit obiectum coroutine. Definitur utens <code>async def</code>.\n",
    "    </p>\n",
    "<p style=\"font-size: 16px;\"> <b>Exemplum</b> </p>"
   ]
  },
  {
   "cell_type": "code",
   "execution_count": 34,
   "id": "f8569815-0580-4ec8-8b41-cb3856149d00",
   "metadata": {
    "collapsed": true,
    "jupyter": {
     "outputs_hidden": true,
     "source_hidden": true
    }
   },
   "outputs": [
    {
     "name": "stdout",
     "output_type": "stream",
     "text": [
      "Fetching data...\n",
      "Data fetched\n"
     ]
    }
   ],
   "source": [
    "# Coroutine function\n",
    "async def fetch_data():\n",
    "    print(\"Fetching data...\")\n",
    "    await asyncio.sleep(2)  # Simulate network delay\n",
    "    print(\"Data fetched\")\n",
    "\n",
    "# Running the coroutine function\n",
    "await fetch_data()"
   ]
  },
  {
   "cell_type": "markdown",
   "id": "176a74d3-1190-4131-a299-f0d1f8ec6d1d",
   "metadata": {},
   "source": [
    "<h2 style=\"font-size: 1.7em;\">26. CPython</h2>\n",
    "    <p style=\"font-size: 16px;\">\n",
    "        CPython est implementatio default et maxime late usitata linguarum programmandi Python. Est referentia implementatio quam download ab python.org. Compilat codicem Python in bytecode et exsecutur utitur machina virtuali.\n",
    "    </p>\n",
    "<p style=\"font-size: 16px;\"> <b>Exemplum</b> </p>"
   ]
  },
  {
   "cell_type": "code",
   "execution_count": 22,
   "id": "1e742565-37a3-483e-a494-184066d87da1",
   "metadata": {
    "collapsed": true,
    "jupyter": {
     "outputs_hidden": true,
     "source_hidden": true
    }
   },
   "outputs": [
    {
     "name": "stdout",
     "output_type": "stream",
     "text": [
      "This is executed by CPython!\n",
      "CPython\n"
     ]
    }
   ],
   "source": [
    "# When you write and run Python code, you are usually using CPython:\n",
    "print(\"This is executed by CPython!\")\n",
    "\n",
    "# You can verify the implementation:\n",
    "import platform\n",
    "print(platform.python_implementation())"
   ]
  },
  {
   "cell_type": "markdown",
   "id": "43a64e0c-31d8-4211-af80-55459f793d4f",
   "metadata": {},
   "source": [
    "<h2 style=\"font-size: 2em;\">27. Decorator</h2>\n",
    "    <p style=\"font-size: 16px;\">\n",
    "        Decorator est functio quae accipit aliam functionem et extendit vel mutat eius comportamentum sine expresso emendando. \n",
    "        Decoratores saepe adhibentur ad addendam functionem ad codicem existens in modo purissimo et reutilizabili.\n",
    "    </p>\n",
    "<p style=\"font-size: 16px;\"> <b>Exemplum</b> </p>"
   ]
  },
  {
   "cell_type": "code",
   "execution_count": 50,
   "id": "60c95c10-29bd-4c61-8f93-f47fa1ea6ae6",
   "metadata": {
    "collapsed": true,
    "jupyter": {
     "outputs_hidden": true,
     "source_hidden": true
    }
   },
   "outputs": [
    {
     "name": "stdout",
     "output_type": "stream",
     "text": [
      "Something before the function.\n",
      "Hello!\n",
      "Something after the function.\n"
     ]
    }
   ],
   "source": [
    "def my_decorator(func):\n",
    "    def wrapper():\n",
    "        print(\"Something before the function.\")\n",
    "        func()\n",
    "        print(\"Something after the function.\")\n",
    "    return wrapper\n",
    "\n",
    "@my_decorator  # This is equivalent to: say_hello = my_decorator(say_hello)\n",
    "def say_hello():\n",
    "    print(\"Hello!\")\n",
    "\n",
    "say_hello()"
   ]
  },
  {
   "cell_type": "code",
   "execution_count": 26,
   "id": "d53d2355-8ca5-4b39-98a2-faa5b5909d5c",
   "metadata": {
    "collapsed": true,
    "jupyter": {
     "outputs_hidden": true,
     "source_hidden": true
    }
   },
   "outputs": [
    {
     "name": "stdout",
     "output_type": "stream",
     "text": [
      "Hello, ready to run\n",
      "5\n",
      "Goodbye\n"
     ]
    },
    {
     "data": {
      "text/plain": [
       "5"
      ]
     },
     "execution_count": 26,
     "metadata": {},
     "output_type": "execute_result"
    }
   ],
   "source": [
    "def greet(f):\n",
    "    def wrapper(*args, **kwargs):\n",
    "        print(\"Hello, ready to run\")\n",
    "        result = f(*args, **kwargs)\n",
    "        print(result)\n",
    "        print(\"Goodbye\")\n",
    "        return result\n",
    "    return wrapper\n",
    "\n",
    "@greet\n",
    "def add(a, b):\n",
    "    return a + b\n",
    "\n",
    "add(2, 3)"
   ]
  },
  {
   "cell_type": "markdown",
   "id": "12ac5ac3-52c7-402b-b746-13147b1d29e5",
   "metadata": {},
   "source": [
    "<h2 style=\"font-size: 2em;\">28. Descriptor</h2>\n",
    "    <p style=\"font-size: 16px;\">\n",
    "        Descriptor est obiectum quod definit methodos <code>__get__()</code>, <code>__set__()</code>, vel <code>__delete__()</code>. \n",
    "        Descriptoria moderantur quid accidit cum attributum recipitur, constituitur, vel deletur.\n",
    "    </p>\n",
    "<p style=\"font-size: 16px;\"> <b>Exemplum</b> </p>"
   ]
  },
  {
   "cell_type": "code",
   "execution_count": 49,
   "id": "b7171a7f-a250-4837-ae5b-8c0102a358aa",
   "metadata": {
    "collapsed": true,
    "jupyter": {
     "outputs_hidden": true,
     "source_hidden": true
    }
   },
   "outputs": [
    {
     "name": "stdout",
     "output_type": "stream",
     "text": [
      "This is the value\n",
      "Setting new value!\n"
     ]
    }
   ],
   "source": [
    "class MyDescriptor:\n",
    "    def __get__(self, obj, objtype=None):\n",
    "        return \"This is the value\"\n",
    "\n",
    "    def __set__(self, obj, value):\n",
    "        print(f\"Setting {value}!\")\n",
    "\n",
    "class MyClass:\n",
    "    attr = MyDescriptor()\n",
    "\n",
    "instance = MyClass()\n",
    "print(instance.attr)  # Calls MyDescriptor.__get__()\n",
    "instance.attr = \"new value\"  # Calls MyDescriptor.__set__()"
   ]
  },
  {
   "cell_type": "markdown",
   "id": "fb9ad4b1-9806-48b0-a94b-914d19b9eb98",
   "metadata": {},
   "source": [
    "<h2 style=\"font-size: 2em;\">29. Dictionary</h2>\n",
    "    <p style=\"font-size: 16px;\">\n",
    "        Dictionarium est collectio clavium parium pretii, in quo claves sunt objecta singularia et immutabilia (sicut chordae, numeri, vel tuples);\n",
    " et bona cuiuslibet rei.\n",
    "    </p>\n",
    "<p style=\"font-size: 16px;\"> <b>Exemplum</b> </p>"
   ]
  },
  {
   "cell_type": "code",
   "execution_count": 48,
   "id": "7fa49d4c-914f-43bb-937a-eede5b4cfecf",
   "metadata": {
    "collapsed": true,
    "jupyter": {
     "outputs_hidden": true,
     "source_hidden": true
    }
   },
   "outputs": [
    {
     "name": "stdout",
     "output_type": "stream",
     "text": [
      "Alice\n"
     ]
    }
   ],
   "source": [
    "my_dict = {\"name\": \"Alice\", \"age\": 30}\n",
    "print(my_dict[\"name\"])  # Accessing the value using the key 'name'"
   ]
  },
  {
   "cell_type": "markdown",
   "id": "cb902875-e898-4998-9563-1e35243a4891",
   "metadata": {},
   "source": [
    "<h2 style=\"font-size: 2em;\">30. Dictionary Comprehension</h2>\n",
    "    <p style=\"font-size: 16px;\">\n",
    "        Comprehensio dictionarii est concisa via ad creandos dictionarios utens expressione.\n",
    "    </p>\n",
    "<p style=\"font-size: 16px;\"> <b>Exemplum</b> </p>"
   ]
  },
  {
   "cell_type": "code",
   "execution_count": 47,
   "id": "e9943956-a0d9-4a5e-a488-5fc4ad70f9de",
   "metadata": {
    "collapsed": true,
    "jupyter": {
     "outputs_hidden": true,
     "source_hidden": true
    }
   },
   "outputs": [
    {
     "name": "stdout",
     "output_type": "stream",
     "text": [
      "{0: 0, 1: 1, 2: 4, 3: 9, 4: 16}\n"
     ]
    }
   ],
   "source": [
    "squares = {n: n**2 for n in range(5)}\n",
    "print(squares)"
   ]
  },
  {
   "cell_type": "markdown",
   "id": "86e3b7b2-bc78-4437-88c6-54f18d1a1c1d",
   "metadata": {},
   "source": [
    "<h2 style=\"font-size: 2em;\">31. Docstring</h2>\n",
    "    <p style=\"font-size: 16px;\">\n",
    "        Docstring est string literal usus ad documentandum modulorum, classis, functionum, vel methodum. Apparet ut prima enuntiatio in obiecto et praesto est per attributum <code>__doc__</code>.\n",
    "    </p>\n",
    "<p style=\"font-size: 16px;\"> <b>Exemplum</b> </p>"
   ]
  },
  {
   "cell_type": "code",
   "execution_count": 46,
   "id": "09a5f0a0-f460-4fbd-9434-25071ae5fd3b",
   "metadata": {
    "collapsed": true,
    "jupyter": {
     "outputs_hidden": true,
     "source_hidden": true
    }
   },
   "outputs": [
    {
     "name": "stdout",
     "output_type": "stream",
     "text": [
      "This function does something.\n"
     ]
    }
   ],
   "source": [
    "def my_function():\n",
    "    \"\"\"This function does something.\"\"\"\n",
    "    pass\n",
    "\n",
    "print(my_function.__doc__)  # Access the docstring\n"
   ]
  },
  {
   "cell_type": "markdown",
   "id": "6fa1fe99-f76b-41b7-9004-2aa2149ca693",
   "metadata": {},
   "source": [
    "<h2 style=\"font-size: 2em;\">32. Duck-Typing</h2>\n",
    "    <p style=\"font-size: 16px;\">\n",
    "        Duck-typing significat quod genus obiecti non directe controllatur, sed potius eius comportamentum fiditur. \n",
    "        Nomen venit ex phrasi, \"Si simile est anatae et quack simile anatae, debet esse anas.\"\n",
    "    </p>\n",
    "<p style=\"font-size: 16px;\"> <b>Exemplum</b> </p>"
   ]
  },
  {
   "cell_type": "code",
   "execution_count": 45,
   "id": "6113f00c-2775-4921-b687-94c75a5a8884",
   "metadata": {
    "collapsed": true,
    "jupyter": {
     "outputs_hidden": true,
     "source_hidden": true
    }
   },
   "outputs": [
    {
     "name": "stdout",
     "output_type": "stream",
     "text": [
      "Quack!\n",
      "I'm quacking like a duck!\n"
     ]
    }
   ],
   "source": [
    "def quack(duck):\n",
    "    duck.quack()\n",
    "\n",
    "class Duck:\n",
    "    def quack(self):\n",
    "        print(\"Quack!\")\n",
    "\n",
    "class Person:\n",
    "    def quack(self):\n",
    "        print(\"I'm quacking like a duck!\")\n",
    "\n",
    "duck = Duck()\n",
    "person = Person()\n",
    "\n",
    "quack(duck)   # Works\n",
    "quack(person)  # Also works because person has a quack() method"
   ]
  },
  {
   "cell_type": "markdown",
   "id": "91edb580-5773-449c-b8be-ebcf9efbc52a",
   "metadata": {},
   "source": [
    "<h2 style=\"font-size: 2em;\">33. EAFP (Easier to Ask for Forgiveness than Permission)</h2>\n",
    "    <p style=\"font-size: 16px;\">\n",
    "        In Python, EAFP est stylus codicis ubi supponitur omnia operari et exceptiones tractantur si res male procedunt. \n",
    "        Hoc contrarium est ad quaerendum de potentialibus quaestionibus ante procedendum.\n",
    "    </p>\n",
    "<p style=\"font-size: 16px;\"> <b>Exemplum</b> </p>"
   ]
  },
  {
   "cell_type": "code",
   "execution_count": 44,
   "id": "ceed6caa-a86a-4bfa-8481-bf7f76606746",
   "metadata": {
    "collapsed": true,
    "jupyter": {
     "outputs_hidden": true,
     "source_hidden": true
    }
   },
   "outputs": [
    {
     "name": "stdout",
     "output_type": "stream",
     "text": [
      "Age not found\n"
     ]
    }
   ],
   "source": [
    "# EAFP style\n",
    "try:\n",
    "    my_dict = {\"name\": \"Alice\"}\n",
    "    print(my_dict[\"age\"])  # This will raise a KeyError\n",
    "except KeyError:\n",
    "    print(\"Age not found\")"
   ]
  },
  {
   "cell_type": "markdown",
   "id": "1c8909d5-4e09-494e-b6f0-13843337c2f6",
   "metadata": {},
   "source": [
    "<h2 style=\"font-size: 2em;\">34. f-string (Formatted String)</h2>\n",
    "    <p style=\"font-size: 16px;\">\n",
    "        F-string est string prefixata <code>f</code> vel <code>F</code> quae permittit expressiones intra bracchia curvilinea <code>{}</code> ad evaluandum tempore exsecutionis.\n",
    "    </p>\n",
    "<p style=\"font-size: 16px;\"> <b>Exemplum</b> </p>"
   ]
  },
  {
   "cell_type": "code",
   "execution_count": 43,
   "id": "09fdc2cd-9afe-454e-a032-bfd49c3e99cf",
   "metadata": {
    "collapsed": true,
    "jupyter": {
     "outputs_hidden": true,
     "source_hidden": true
    }
   },
   "outputs": [
    {
     "name": "stdout",
     "output_type": "stream",
     "text": [
      "My name is Alice and I'm 30 years old.\n"
     ]
    }
   ],
   "source": [
    "name = \"Alice\"\n",
    "age = 30\n",
    "print(f\"My name is {name} and I'm {age} years old.\")"
   ]
  },
  {
   "cell_type": "markdown",
   "id": "dfa8894e-3295-48f3-bc96-e77bdf385a55",
   "metadata": {},
   "source": [
    "<h2 style=\"font-size: 2em;\">35. Floor Division</h2>\n",
    "    <p style=\"font-size: 16px;\">\n",
    "        Divisio per terram (<code>//</code>) dividit duo numeri et rotundat ad proximam integram.\n",
    "    </p>\n",
    "<p style=\"font-size: 16px;\"> <b>Exemplum</b> </p>"
   ]
  },
  {
   "cell_type": "code",
   "execution_count": 42,
   "id": "5c9a7383-0266-49d2-aef1-bf909e9955af",
   "metadata": {
    "collapsed": true,
    "jupyter": {
     "outputs_hidden": true,
     "source_hidden": true
    }
   },
   "outputs": [
    {
     "name": "stdout",
     "output_type": "stream",
     "text": [
      "2\n",
      "-3\n"
     ]
    }
   ],
   "source": [
    "print(11 // 4)  # 11 divided by 4 is 2.75, but it rounds down to 2\n",
    "print(-11 // 4)  # -2.75 rounds down to -3"
   ]
  },
  {
   "cell_type": "markdown",
   "id": "da3f41e3-c028-40b7-bc11-debc0656369b",
   "metadata": {},
   "source": [
    "<h2 style=\"font-size: 2em;\">36. Function Annotations</h2>\n",
    "    <p style=\"font-size: 16px;\">\n",
    "        Annotationes functionum sinunt te specificare metadata de parametris functionum et valoribus reditus, plerumque pro indiciis generis.\n",
    "    </p>\n",
    "<p style=\"font-size: 16px;\"> <b>Exemplum</b> </p>"
   ]
  },
  {
   "cell_type": "code",
   "execution_count": 41,
   "id": "6417de2a-b279-440b-8f56-57c8c05fe225",
   "metadata": {
    "collapsed": true,
    "jupyter": {
     "outputs_hidden": true,
     "source_hidden": true
    }
   },
   "outputs": [
    {
     "name": "stdout",
     "output_type": "stream",
     "text": [
      "Hello, Alice\n"
     ]
    }
   ],
   "source": [
    "def greet(name: str) -> str:\n",
    "    return f\"Hello, {name}\"\n",
    "\n",
    "print(greet(\"Alice\"))"
   ]
  },
  {
   "cell_type": "markdown",
   "id": "6539ed23-ebca-4380-8ef3-b2f548c3472c",
   "metadata": {},
   "source": [
    "<h2 style=\"font-size: 2em;\">37. File Object</h2>\n",
    "    <p style=\"font-size: 16px;\">\n",
    "        Obiectum file in Python repraesentat file apertum ex quo legi vel scribi potest. Praebet API cum methodis sicut <code>read()</code>, <code>write()</code>, <code>close()</code>, etc., et creatur utens functione <code>open()</code>.\n",
    "        Obiecta file possunt interfacere cum variis fontibus, sicut:\n",
    "    </p>\n",
    "    <ul>\n",
    "        <li style=\"font-size: 16px;\">Text files: tractant data textuales (<code>str</code> obiecta), utens specifica codificatione (exempli gratia, UTF-8). Potes legere et scribere strings in hoc modo.</li>\n",
    "        <li style=\"font-size: 16px;\">Binary files: tractant data binaria (<code>bytes</code> obiecta). Hic modus adhibetur ad legendum et scribendum data binaria ut imagines, videos, etc.</li>\n",
    "        <li style=\"font-size: 16px;\">Buffered files: Python utitur buffers ad optimizandum operationes legendi et scribendi, tractata per classes sicut <code>io.BufferedReader</code> et <code>io.BufferedWriter</code>.</li>\n",
    "    </ul>\n",
    "<p style=\"font-size: 16px;\"> <b>Exemplum</b> </p>"
   ]
  },
  {
   "cell_type": "code",
   "execution_count": 40,
   "id": "7724fd1e-36cb-455c-a9bf-04486330d87d",
   "metadata": {
    "collapsed": true,
    "jupyter": {
     "outputs_hidden": true,
     "source_hidden": true
    }
   },
   "outputs": [
    {
     "name": "stdout",
     "output_type": "stream",
     "text": [
      "Hello, this is an example.\n"
     ]
    }
   ],
   "source": [
    "# Opening a file (creates a file object)\n",
    "file = open(\"example.txt\", \"w\")  # 'w' means write mode\n",
    "\n",
    "# Writing to the file\n",
    "file.write(\"Hello, this is an example.\")\n",
    "\n",
    "# Closing the file\n",
    "file.close()\n",
    "\n",
    "# Reading a file (creates a file object)\n",
    "file = open(\"example.txt\", \"r\")  # 'r' means read mode\n",
    "\n",
    "# Reading contents of the file\n",
    "content = file.read()\n",
    "print(content)\n",
    "\n",
    "# Closing the file\n",
    "file.close()"
   ]
  },
  {
   "cell_type": "markdown",
   "id": "356e73f2-b1c3-48ad-a72a-b39fc1a240cd",
   "metadata": {},
   "source": [
    "<h2 style=\"font-size: 2em;\">38. File-like Object</h2>\n",
    "    <p style=\"font-size: 16px;\">\n",
    "        Obiectum simile file simile se habet ad obiectum file sed non necessario ligatum est ad file physicam. Exempla includunt sockets, buffers in memoria (<code>io.StringIO</code> vel <code>io.BytesIO</code>), vel alios fluxus.\n",
    "        Obiecta similia file habent methodos sicut <code>read()</code> et <code>write()</code>, similes ad obiecta file.\n",
    "    </p>\n",
    "<p style=\"font-size: 16px;\"> <b>Exemplum</b> </p>"
   ]
  },
  {
   "cell_type": "code",
   "execution_count": 38,
   "id": "152e9c36-a745-49cc-bbd4-d6087c7cea94",
   "metadata": {
    "collapsed": true,
    "jupyter": {
     "outputs_hidden": true,
     "source_hidden": true
    }
   },
   "outputs": [
    {
     "name": "stdout",
     "output_type": "stream",
     "text": [
      "This is an in-memory file-like object.\n"
     ]
    }
   ],
   "source": [
    "import io\n",
    "\n",
    "# Create a StringIO object (in-memory buffer)\n",
    "buffer = io.StringIO()\n",
    "\n",
    "# Writing to the buffer\n",
    "buffer.write(\"This is an in-memory file-like object.\")\n",
    "\n",
    "# Moving the cursor back to the start to read\n",
    "buffer.seek(0)\n",
    "\n",
    "# Reading from the buffer\n",
    "print(buffer.read())  # Output: This is an in-memory file-like object.\n",
    "\n",
    "# Closing the buffer\n",
    "buffer.close()"
   ]
  },
  {
   "cell_type": "markdown",
   "id": "b2ad1086-2db2-4df8-84ba-e446494e7f12",
   "metadata": {},
   "source": [
    "<h2 style=\"font-size: 2em;\">39. Filesystem Encoding and Error Handler</h2>\n",
    "    <p style=\"font-size: 16px;\">\n",
    "        Codificatio systematis file est codificatio quam Python utitur ad convertendum inter bytes et strings cum interagendo cum systemate operandi (exempli gratia, legendo/scribendo itinera file). Python plerumque utitur codificatione loci, quae est specifica pro suggestu.\n",
    "    </p>\n",
    "    <p style=\"font-size: 16px;\">\n",
    "        <code>sys.getfilesystemencoding()</code> reddit codificationem. <code>sys.getfilesystemencodeerrors()</code> reddit errorum moderatoris in usu.\n",
    "    </p>\n",
    "<p style=\"font-size: 16px;\"> <b>Exemplum</b> </p>"
   ]
  },
  {
   "cell_type": "code",
   "execution_count": 37,
   "id": "e9242ef5-a090-4f70-8c0b-f87af8dc8cf4",
   "metadata": {
    "collapsed": true,
    "jupyter": {
     "outputs_hidden": true,
     "source_hidden": true
    }
   },
   "outputs": [
    {
     "name": "stdout",
     "output_type": "stream",
     "text": [
      "Filesystem encoding: utf-8\n",
      "Error handler: surrogateescape\n"
     ]
    }
   ],
   "source": [
    "import sys\n",
    "\n",
    "# Getting the filesystem encoding and error handler\n",
    "encoding = sys.getfilesystemencoding()\n",
    "error_handler = sys.getfilesystemencodeerrors()\n",
    "\n",
    "print(\"Filesystem encoding:\", encoding)\n",
    "print(\"Error handler:\", error_handler)"
   ]
  },
  {
   "cell_type": "markdown",
   "id": "2bd86a4a-858e-445a-914b-013d49c6f6d8",
   "metadata": {},
   "source": [
    "<h2 style=\"font-size: 2em;\">40. Finder</h2>\n",
    "    <p style=\"font-size: 16px;\">\n",
    "        Finder est obiectum quod responsabilitatem habet ad locandum et loading modulorum Python durante processu importandi. Mechanismus importandi Python utitur diversis finders ad quaerendum modulorum:\n",
    "    </p>\n",
    "    <ul>\n",
    "        <li style=\"font-size: 16px;\">Meta path finders: Hae operantur cum <code>sys.meta_path</code> ad inveniendum modulorum, includens incorporatos vel tertiae partis modulos.</li>\n",
    "        <li style=\"font-size: 16px;\">Path entry finders: Hae adhibentur pro <code>sys.path_hooks</code>, quaerendo specificas directories in systemate file.</li>\n",
    "    </ul>\n",
    "<p style=\"font-size: 16px;\"> <b>Exemplum</b> </p>"
   ]
  },
  {
   "cell_type": "code",
   "execution_count": 36,
   "id": "be969ffe-1bc9-4e3f-8244-138206244369",
   "metadata": {
    "collapsed": true,
    "jupyter": {
     "outputs_hidden": true,
     "source_hidden": true
    }
   },
   "outputs": [
    {
     "name": "stdout",
     "output_type": "stream",
     "text": [
      "Custom module not found!\n"
     ]
    }
   ],
   "source": [
    "import sys\n",
    "import importlib.abc\n",
    "import importlib.util\n",
    "\n",
    "# A simple custom finder\n",
    "class CustomFinder(importlib.abc.MetaPathFinder):\n",
    "    def find_spec(self, fullname, path, target=None):\n",
    "        if fullname == \"my_custom_module\":\n",
    "            spec = importlib.util.spec_from_loader(fullname, loader=None)\n",
    "            return spec\n",
    "\n",
    "# Adding the custom finder to sys.meta_path\n",
    "sys.meta_path.insert(0, CustomFinder())\n",
    "\n",
    "# Now you can try importing 'my_custom_module'\n",
    "try:\n",
    "    import my_custom_module\n",
    "except ImportError:\n",
    "    print(\"Custom module not found!\")"
   ]
  },
  {
   "cell_type": "markdown",
   "id": "679a9ad5-a1fe-426b-acae-e9bb4799a9bb",
   "metadata": {},
   "source": [
    "<h2 style=\"font-size: 2em;\">41. __future__ Module</h2>\n",
    "    <p style=\"font-size: 16px;\">\n",
    "        Modulus <code>__future__</code> in Python sinit te uti functionibus ex futuris versionibus Python in versione currenti. Cum importas functionem ex <code>__future__</code>, dicis interpreti Python utatur nova syntaxi vel semantica quae fieri debet norma in futuris editionibus linguae.\n",
    "    </p>\n",
    "<p style=\"font-size: 16px;\"> <b>Exemplum</b> </p>"
   ]
  },
  {
   "cell_type": "code",
   "execution_count": 35,
   "id": "0b9e61af-612d-466c-8173-5f81d84b0bcf",
   "metadata": {
    "collapsed": true,
    "jupyter": {
     "outputs_hidden": true,
     "source_hidden": true
    }
   },
   "outputs": [
    {
     "name": "stdout",
     "output_type": "stream",
     "text": [
      "2.5\n"
     ]
    }
   ],
   "source": [
    "# Import division from future (for Python 2.x compatibility)\n",
    "from __future__ import division\n",
    "\n",
    "# Now division works like Python 3.x (true division)\n",
    "print(5 / 2)  # (in Python 2.x, this would be 2)"
   ]
  },
  {
   "cell_type": "markdown",
   "id": "9c1c7c00-c0a5-4004-86e7-ef0d544f6c38",
   "metadata": {},
   "source": [
    "<h2 style=\"font-size: 2em;\">42. Garbage Collection</h2>\n",
    "<p style=\"font-size: 16px;\">Collectio immunditiae est processus automatice liberandi memoriam quae iam non in usu est. Python utitur numeratione referentiae et collectore immunditiae cyclicum ad hoc tractandum. Cum numerus referentiae obiecti ad nullum decrescitur, Python illam memoriam recuperat. Modulus <code>gc</code> sinit moderari collectorem immunditiae.</p>\n",
    "\n",
    "<p style=\"font-size: 16px;\"> <b>Exemplum</b> </p>"
   ]
  },
  {
   "cell_type": "code",
   "execution_count": 1,
   "id": "13dc34e2-a177-4777-a180-a3cf7332fcbb",
   "metadata": {
    "collapsed": true,
    "jupyter": {
     "outputs_hidden": true,
     "source_hidden": true
    }
   },
   "outputs": [
    {
     "data": {
      "text/plain": [
       "123"
      ]
     },
     "execution_count": 1,
     "metadata": {},
     "output_type": "execute_result"
    }
   ],
   "source": [
    "import gc\n",
    "\n",
    "# Control the garbage collector\n",
    "gc.collect()  # Force garbage collection"
   ]
  },
  {
   "cell_type": "markdown",
   "id": "64f12bc5-70a2-4a71-bfb0-b3ec2860fc17",
   "metadata": {},
   "source": [
    "<h2 style=\"font-size: 2em;\">43. Generator</h2>\n",
    "<p style=\"font-size: 16px;\">Specialis genus functionis quae utitur <code>yield</code> ad reddendum seriem valorum. Permittit te iterare super data sine ea condere in memoria omnia simul.</p>\n",
    "\n",
    "<p style=\"font-size: 16px;\"> <b>Exemplum</b> </p>"
   ]
  },
  {
   "cell_type": "code",
   "execution_count": 2,
   "id": "7c460f7a-64cf-4226-ac8d-51b6699e4b36",
   "metadata": {
    "collapsed": true,
    "jupyter": {
     "outputs_hidden": true,
     "source_hidden": true
    }
   },
   "outputs": [
    {
     "name": "stdout",
     "output_type": "stream",
     "text": [
      "5\n",
      "4\n",
      "3\n",
      "2\n",
      "1\n"
     ]
    }
   ],
   "source": [
    "def countdown(n):\n",
    "    while n > 0:\n",
    "        yield n\n",
    "        n -= 1\n",
    "\n",
    "for i in countdown(5):\n",
    "    print(i)"
   ]
  },
  {
   "cell_type": "markdown",
   "id": "99517d48-c8ca-402d-8695-4911dfb7c90c",
   "metadata": {},
   "source": [
    "<h3 style=\"font-size: 1.7em;\">43.1 Generator Iterator</h3>\n",
    "<p style=\"font-size: 16px;\">Iterator generatoris est obiectum creatum cum functio generatoris vocatur. Permittit lazam iterationem super seriem valorum.</p>\n",
    "\n",
    "<p style=\"font-size: 16px;\"> <b>Exemplum</b> </p>"
   ]
  },
  {
   "cell_type": "code",
   "execution_count": 3,
   "id": "2bc1f99f-057b-4279-9f86-78f9fe719883",
   "metadata": {
    "collapsed": true,
    "jupyter": {
     "outputs_hidden": true,
     "source_hidden": true
    }
   },
   "outputs": [
    {
     "name": "stdout",
     "output_type": "stream",
     "text": [
      "3\n",
      "2\n"
     ]
    }
   ],
   "source": [
    "gen = countdown(3)\n",
    "print(next(gen))\n",
    "print(next(gen))"
   ]
  },
  {
   "cell_type": "markdown",
   "id": "4ea247fb-85d3-4a14-ab22-7731ee6c347b",
   "metadata": {},
   "source": [
    "<h3 style=\"font-size: 1.7em;\">43.2 Generator Expression</h3>\n",
    "<p style=\"font-size: 16px;\">Expressio generatoris est concisa via ad creando generatoris utens expressione, plerumque intra parenthesi.</p>\n",
    "\n",
    "<p style=\"font-size: 16px;\"> <b>Exemplum</b> </p>"
   ]
  },
  {
   "cell_type": "code",
   "execution_count": 4,
   "id": "1abe8f2d-90ac-4d77-b47e-084718807f16",
   "metadata": {
    "collapsed": true,
    "jupyter": {
     "outputs_hidden": true,
     "source_hidden": true
    }
   },
   "outputs": [
    {
     "name": "stdout",
     "output_type": "stream",
     "text": [
      "30\n"
     ]
    }
   ],
   "source": [
    "gen_exp = (x * x for x in range(5))\n",
    "print(sum(gen_exp))"
   ]
  },
  {
   "cell_type": "markdown",
   "id": "739333d2-62a7-4e8b-aff3-392ec94761f2",
   "metadata": {},
   "source": [
    "<h2 style=\"font-size: 2em;\">44. Generic Function</h2>\n",
    "<p style=\"font-size: 16px;\">Functio generica constat ex pluribus functionibus, quae singulae ad diversos typus inputorum adaptatae sunt. Decorator <code>functools.singledispatch()</code> sinit definiendum talis functiones.</p>\n",
    "\n",
    "<p style=\"font-size: 16px;\"> <b>Exemplum</b> </p>"
   ]
  },
  {
   "cell_type": "code",
   "execution_count": 5,
   "id": "3274e4fd-df93-4b9c-90a3-83bba490c0be",
   "metadata": {
    "collapsed": true,
    "jupyter": {
     "outputs_hidden": true,
     "source_hidden": true
    }
   },
   "outputs": [
    {
     "name": "stdout",
     "output_type": "stream",
     "text": [
      "Integer: 10\n",
      "Default: Hello\n"
     ]
    }
   ],
   "source": [
    "from functools import singledispatch\n",
    "\n",
    "@singledispatch\n",
    "def process(value):\n",
    "    print(f\"Default: {value}\")\n",
    "\n",
    "@process.register(int)\n",
    "def _(value):\n",
    "    print(f\"Integer: {value}\")\n",
    "\n",
    "process(10)\n",
    "process(\"Hello\")\n"
   ]
  },
  {
   "cell_type": "markdown",
   "id": "04f3d927-716e-4466-b47f-338f25b40a4d",
   "metadata": {},
   "source": [
    "<h2 style=\"font-size: 2em;\">45. Generic Type</h2>\n",
    "<p style=\"font-size: 16px;\">Typus qui parametri fieri potest, ut classis continentis sicut <code>List[T]</code>. Communiter adhibetur cum indiciis generis.</p>\n",
    "\n",
    "<p style=\"font-size: 16px;\"> <b>Exemplum</b> </p>"
   ]
  },
  {
   "cell_type": "code",
   "execution_count": 9,
   "id": "ad7bf4cc-3a21-4e59-81cc-d0d20664ee96",
   "metadata": {
    "collapsed": true,
    "jupyter": {
     "outputs_hidden": true,
     "source_hidden": true
    }
   },
   "outputs": [
    {
     "name": "stdout",
     "output_type": "stream",
     "text": [
      "[2, 4, 6]\n"
     ]
    }
   ],
   "source": [
    "from typing import List\n",
    "\n",
    "def process_items(items: List[int]):\n",
    "    return [item * 2 for item in items]\n",
    "\n",
    "print(process_items([1, 2, 3]))\n",
    "\n",
    "# Remember, this is not enforced by Python"
   ]
  },
  {
   "cell_type": "markdown",
   "id": "971b26a1-2781-4d09-abb4-9a10ceb112de",
   "metadata": {},
   "source": [
    "<h2 style=\"font-size: 2em;\">46. Global Interpreter Lock (GIL)</h2>\n",
    "<p style=\"font-size: 16px;\">GIL est mechanismus in CPython qui curat ut solum unus filum exsecutio codicem byte Python simul. Hoc simplificat applicationes multi-threaded sed limitat parallelismum in systematibus multi-core.</p>\n"
   ]
  },
  {
   "cell_type": "markdown",
   "id": "e7b6dcfc-f64d-4fea-b2b0-b6a06e1d95d8",
   "metadata": {},
   "source": [
    "<h2 style=\"font-size: 2em;\">47. Hash-Based PYC</h2>\n",
    "<p style=\"font-size: 16px;\">Hoc refert ad archivos cacha codicis byte Python (cum extensione <code>.pyc</code>) quae usum hash codicis fontis ad determinandum validitatem, potius quam temporis modificationis notam.</p>\n"
   ]
  },
  {
   "cell_type": "markdown",
   "id": "00d40c55-72a9-47b6-bde4-cea6c945b208",
   "metadata": {},
   "source": [
    "<h2 style=\"font-size: 2em;\">48. Hashable</h2>\n",
    "<p style=\"font-size: 16px;\">Objectum est hashable si habet fixum valorem hash per totam vitam suam. Obiecta hashable adhiberi possunt ut claves dictionarii vel elementa set.</p>\n",
    "<p style=\"font-size: 16px;\"> <b>Exemplum</b> </p>"
   ]
  },
  {
   "cell_type": "code",
   "execution_count": 10,
   "id": "c6e69f73-57d6-49bf-9eb3-0d4496be4bf9",
   "metadata": {
    "collapsed": true,
    "jupyter": {
     "outputs_hidden": true,
     "source_hidden": true
    }
   },
   "outputs": [
    {
     "data": {
      "text/plain": [
       "8290431938110860586"
      ]
     },
     "execution_count": 10,
     "metadata": {},
     "output_type": "execute_result"
    }
   ],
   "source": [
    "hash(\"hello\")"
   ]
  },
  {
   "cell_type": "markdown",
   "id": "bd7cdfc3-102c-4ace-ac9d-26c2f86b4ff0",
   "metadata": {},
   "source": [
    "<h2 style=\"font-size: 2em;\">49. IDLE</h2>\n",
    "<p style=\"font-size: 16px;\">IDLE est Integrated Development and Learning Environment Python. Praebet editor simplicem et shell interactivum pro initiatis.</p>\n"
   ]
  },
  {
   "cell_type": "markdown",
   "id": "f4e95f71-0977-4979-b731-7bd6229b755b",
   "metadata": {},
   "source": [
    "<h2 style=\"font-size: 2em;\">50. Immortal</h2>\n",
    "<p style=\"font-size: 16px;\">Objectum immortale in Python habet numerum referentiae qui numquam mutatur, curans ut numquam collectio immunditiae fiat. Hoc conceptum introductum est in PEP 683. Obiecta ut <code>None</code> et <code>True</code> sunt immutabilia.</p>\n"
   ]
  },
  {
   "cell_type": "markdown",
   "id": "576d23af-7c02-4d79-be55-e6b2a108cf96",
   "metadata": {},
   "source": [
    "<h2 style=\"font-size: 2em;\">51. Immutable</h2>\n",
    "<p style=\"font-size: 16px;\">Objectum immutabile non potest mutari postquam creatum est. Exempla includunt tuplas et stringas.</p>\n",
    "\n",
    "<p style=\"font-size: 16px;\"> <b>Exemplum</b> </p>\n"
   ]
  },
  {
   "cell_type": "code",
   "execution_count": 11,
   "id": "54942e89-8be9-4791-8c41-86e733c8297d",
   "metadata": {
    "jupyter": {
     "source_hidden": true
    }
   },
   "outputs": [],
   "source": [
    "x = (1, 2, 3)\n",
    "# x[0] = 4  # This will raise an error since tuples are immutable."
   ]
  },
  {
   "cell_type": "markdown",
   "id": "ce5806a0-d39e-40dc-aacd-fb0c0b1aa484",
   "metadata": {},
   "source": [
    "<h2 style=\"font-size: 2em;\">52. Import Path</h2>\n",
    "<p style=\"font-size: 16px;\">Iter importationis est index directories quas Python quaerit ad inveniendum modulorum durante operatione importandi. Hic iter potest modificari per addendas novas directories ad <code>sys.path</code>.</p>\n",
    "\n",
    "<p style=\"font-size: 16px;\"> <b>Exemplum</b> </p>"
   ]
  },
  {
   "cell_type": "code",
   "execution_count": 12,
   "id": "5e599640-d7d0-4b26-bf6f-671d1940c0a0",
   "metadata": {
    "collapsed": true,
    "jupyter": {
     "outputs_hidden": true,
     "source_hidden": true
    }
   },
   "outputs": [
    {
     "name": "stdout",
     "output_type": "stream",
     "text": [
      "['/usr/lib/python312.zip', '/usr/lib/python3.12', '/usr/lib/python3.12/lib-dynload', '', '/home/owinnie/GitHub/winisSchoolOfCoding/PythonCourse/winis/lib/python3.12/site-packages']\n"
     ]
    }
   ],
   "source": [
    "import sys\n",
    "print(sys.path)  # Output: List of directories Python searches for modules"
   ]
  },
  {
   "cell_type": "markdown",
   "id": "f2e00b26-dd19-43b4-b21a-311f327afe74",
   "metadata": {},
   "source": [
    "<h2 style=\"font-size: 2em;\">53. Importing</h2>\n",
    "<p style=\"font-size: 16px;\">Importatio est processus oneris modulorum et reddens functiones et classes eius in alio modulo praesto.</p>\n",
    "\n",
    "<p style=\"font-size: 16px;\"> <b>Exemplum</b> </p>"
   ]
  },
  {
   "cell_type": "code",
   "execution_count": 13,
   "id": "982f84a3-b963-45d1-8890-eb7a09b223da",
   "metadata": {
    "collapsed": true,
    "jupyter": {
     "outputs_hidden": true,
     "source_hidden": true
    }
   },
   "outputs": [
    {
     "name": "stdout",
     "output_type": "stream",
     "text": [
      "4.0\n"
     ]
    }
   ],
   "source": [
    "import math\n",
    "print(math.sqrt(16)) "
   ]
  },
  {
   "cell_type": "markdown",
   "id": "953e7b03-be18-452c-9ae6-cf0566212faf",
   "metadata": {},
   "source": [
    "<h2 style=\"font-size: 2em;\">54. Importer</h2>\n",
    "<p style=\"font-size: 16px;\">Importer est qui responsabilitatem habet ad inveniendum et onerandum modulorum. Operatur ut tam finder quam loader.</p>\n"
   ]
  },
  {
   "cell_type": "markdown",
   "id": "9c80d9df-84d1-4464-a40a-e37bdb369468",
   "metadata": {},
   "source": [
    "<h2 style=\"font-size: 2em;\">55. Interactive</h2>\n",
    "<p style=\"font-size: 16px;\">Python praebet interpretem interactivum ubi potes codicem scribere et statim resultata videre.</p>\n",
    "\n",
    "<p style=\"font-size: 16px;\"> <b>Exemplum</b> </p>"
   ]
  },
  {
   "cell_type": "code",
   "execution_count": null,
   "id": "791f168d-8ffc-47ca-aa56-8c25db95ddce",
   "metadata": {
    "jupyter": {
     "source_hidden": true
    }
   },
   "outputs": [],
   "source": [
    "$ python\n",
    ">>> print(\"Hello, world!\")\n",
    "Hello, world!"
   ]
  },
  {
   "cell_type": "markdown",
   "id": "9cd77e09-8145-41bd-ae53-8cec45e24316",
   "metadata": {},
   "source": [
    "<h2 style=\"font-size: 2em;\">56. Interpreted</h2>\n",
    "<p style=\"font-size: 16px;\">Python est lingua interpretata, significans codicem eius exsequi directe sine compilandum in codicem machinum.</p>\n"
   ]
  },
  {
   "cell_type": "markdown",
   "id": "a23143b9-c28a-4861-b5ce-2b3c6b6de1e3",
   "metadata": {},
   "source": [
    "<h2 style=\"font-size: 2em;\">57. Interpreter Shutdown</h2>\n",
    "<p style=\"font-size: 16px;\">Hoc refert ad phasum cum Python clauditur, liberans resources et exsecutans finalizadores. Accidit postquam principale programmatum finem exsecutum est.</p>\n"
   ]
  },
  {
   "cell_type": "markdown",
   "id": "4bd47760-d7df-4024-97de-dd2b43cd67cc",
   "metadata": {},
   "source": [
    "<h2 style=\"font-size: 2em;\">58. Iterable</h2>\n",
    "<p style=\"font-size: 16px;\">Iterabile est quodlibet objectum quod capacitatem habet reddendi membra sua unum ad tempus. Lists, stringas, et dictionaria sunt exempla.</p>\n",
    "<p style=\"font-size: 16px;\"> <b>Exemplum</b> </p>"
   ]
  },
  {
   "cell_type": "code",
   "execution_count": 15,
   "id": "c0d008c2-2c24-4b5d-aa98-329ac6ec6182",
   "metadata": {
    "collapsed": true,
    "jupyter": {
     "outputs_hidden": true,
     "source_hidden": true
    }
   },
   "outputs": [
    {
     "name": "stdout",
     "output_type": "stream",
     "text": [
      "h\n",
      "e\n",
      "l\n",
      "l\n",
      "o\n"
     ]
    }
   ],
   "source": [
    "for char in \"hello\":\n",
    "    print(char)"
   ]
  },
  {
   "cell_type": "markdown",
   "id": "a1a3f745-257b-4058-bf12-86471e6688b3",
   "metadata": {},
   "source": [
    "<h2 style=\"font-size: 2em;\">59. Iterator</h2>\n",
    "<p style=\"font-size: 16px;\">Iterator est obiectum quod implementat methodum <code>__next__()</code>, reddens elementa successiva. Cum exhaustum est, suscitat <code>StopIteration</code>.</p>\n",
    "\n",
    "<p style=\"font-size: 16px;\"> <b>Exemplum</b> </p>"
   ]
  },
  {
   "cell_type": "code",
   "execution_count": 16,
   "id": "c4603b6e-76b2-4d20-81d3-8f8933ab8e36",
   "metadata": {
    "collapsed": true,
    "jupyter": {
     "outputs_hidden": true,
     "source_hidden": true
    }
   },
   "outputs": [
    {
     "name": "stdout",
     "output_type": "stream",
     "text": [
      "1\n"
     ]
    }
   ],
   "source": [
    "it = iter([1, 2, 3])\n",
    "print(next(it)) "
   ]
  },
  {
   "cell_type": "markdown",
   "id": "893b1cce-1231-4acc-a657-5b5ff3b617c3",
   "metadata": {},
   "source": [
    "<h2 style=\"font-size: 2em;\">60. Key Function</h2>\n",
    "<p style=\"font-size: 16px;\">Functionem clavem adhibetur ad definiendum consuetudinem ordinandi aut ordinandi in functionibus sicut <code>sorted()</code> vel <code>min()</code>.</p>\n",
    "\n",
    "<p style=\"font-size: 16px;\"> <b>Exemplum</b> </p>"
   ]
  },
  {
   "cell_type": "code",
   "execution_count": 17,
   "id": "97802e51-0416-4a31-ac79-aed84ab0a378",
   "metadata": {
    "collapsed": true,
    "jupyter": {
     "outputs_hidden": true,
     "source_hidden": true
    }
   },
   "outputs": [
    {
     "name": "stdout",
     "output_type": "stream",
     "text": [
      "['Alice', 'bob', 'Charlie']\n"
     ]
    }
   ],
   "source": [
    "names = [\"Alice\", \"bob\", \"Charlie\"]\n",
    "print(sorted(names, key=str.lower))"
   ]
  },
  {
   "cell_type": "markdown",
   "id": "713cf999-f0fd-4911-a2e0-5cc816d1d3a5",
   "metadata": {},
   "source": [
    "<h2 style=\"font-size: 2em;\">61. Keyword Argument</h2>\n",
    "<p style=\"font-size: 16px;\">Argumentum clavem traditur functioni utens nomine argumenti, meliorans legibilitatem et flexibilitatem.</p>\n",
    "\n",
    "<p style=\"font-size: 16px;\"> <b>Exemplum</b> </p>"
   ]
  },
  {
   "cell_type": "code",
   "execution_count": 18,
   "id": "52cfa01a-b7be-4326-b375-4844fe264678",
   "metadata": {
    "collapsed": true,
    "jupyter": {
     "outputs_hidden": true,
     "source_hidden": true
    }
   },
   "outputs": [
    {
     "name": "stdout",
     "output_type": "stream",
     "text": [
      "Hi, Alice\n"
     ]
    }
   ],
   "source": [
    "def greet(name, greeting=\"Hello\"):\n",
    "    print(f\"{greeting}, {name}\")\n",
    "\n",
    "greet(\"Alice\", greeting=\"Hi\") "
   ]
  },
  {
   "cell_type": "markdown",
   "id": "982fe33f-115b-49a3-b575-98deb936a400",
   "metadata": {},
   "source": [
    "<h2 style=\"font-size: 2em;\">62. Lambda</h2>\n",
    "<p style=\"font-size: 16px;\">Functione lambda est functionem anonymam, unam-liner definitam utens verbo <code>lambda</code>.</p>\n",
    "\n",
    "<p style=\"font-size: 16px;\"> <b>Exemplum</b> </p>"
   ]
  },
  {
   "cell_type": "code",
   "execution_count": 19,
   "id": "605712a7-1a1a-481c-a926-3e89ac967932",
   "metadata": {
    "collapsed": true,
    "jupyter": {
     "outputs_hidden": true,
     "source_hidden": true
    }
   },
   "outputs": [
    {
     "name": "stdout",
     "output_type": "stream",
     "text": [
      "5\n"
     ]
    }
   ],
   "source": [
    "add = lambda x, y: x + y\n",
    "print(add(2, 3)) "
   ]
  },
  {
   "cell_type": "markdown",
   "id": "b4c795de-b860-415b-8268-07740d80a3dd",
   "metadata": {},
   "source": [
    "<h2 style=\"font-size: 2em;\">63. LBYL (Look Before You Leap)</h2>\n",
    "<p style=\"font-size: 16px;\">LBYL est stilus codicis qui condiciones antequam actio perficiatur ad vitanda errores comprobando.</p>\n",
    "\n",
    "<p style=\"font-size: 16px;\"> <b>Exemplum</b> </p>"
   ]
  },
  {
   "cell_type": "code",
   "execution_count": 20,
   "id": "672cbb01-d520-4b19-9e7e-3439dddd9813",
   "metadata": {
    "jupyter": {
     "source_hidden": true
    }
   },
   "outputs": [],
   "source": [
    "d = {'a': 1}\n",
    "if 'b' in d:\n",
    "    print(d['b'])\n",
    "# No error is raised since the key is checked first."
   ]
  },
  {
   "cell_type": "markdown",
   "id": "652fad1f-ede8-4be4-ba03-8d2ac2d4459d",
   "metadata": {},
   "source": [
    "<h2 style=\"font-size: 2em;\">64. List</h2>\n",
    "<p style=\"font-size: 16px;\">Index est structura datae inbuilt in Python quae colligit ordinatas, mutabiles collectiones rerum.</p>\n",
    "\n",
    "<p style=\"font-size: 16px;\"> <b>Exemplum</b> </p>"
   ]
  },
  {
   "cell_type": "code",
   "execution_count": 21,
   "id": "41f0510d-7c18-4fb9-95d2-9f7a234c90a0",
   "metadata": {
    "collapsed": true,
    "jupyter": {
     "outputs_hidden": true,
     "source_hidden": true
    }
   },
   "outputs": [
    {
     "name": "stdout",
     "output_type": "stream",
     "text": [
      "1\n"
     ]
    }
   ],
   "source": [
    "my_list = [1, 2, 3]\n",
    "print(my_list[0])  "
   ]
  },
  {
   "cell_type": "markdown",
   "id": "cce8b0b4-128d-4639-b01c-56571e094a62",
   "metadata": {},
   "source": [
    "<h2 style=\"font-size: 2em;\">65. List Comprehension</h2>\n",
    "<p style=\"font-size: 16px;\">Comprehensio index est modus concisus ad creandum indices utens expressione.</p>\n",
    "\n",
    "<p style=\"font-size: 16px;\"> <b>Exemplum</b> </p>"
   ]
  },
  {
   "cell_type": "code",
   "execution_count": 22,
   "id": "2a942a50-22fc-4238-92af-1bf383430982",
   "metadata": {
    "collapsed": true,
    "jupyter": {
     "outputs_hidden": true,
     "source_hidden": true
    }
   },
   "outputs": [
    {
     "name": "stdout",
     "output_type": "stream",
     "text": [
      "[0, 1, 4, 9, 16]\n"
     ]
    }
   ],
   "source": [
    "squares = [x*x for x in range(5)]\n",
    "print(squares) "
   ]
  },
  {
   "cell_type": "markdown",
   "id": "ca2a046d-d77e-4b5c-97b5-6cfbd41c1110",
   "metadata": {},
   "source": [
    "<h2 style=\"font-size: 2em;\">66. Loader</h2>\n",
    "<p style=\"font-size: 16px;\">Loader est responsabilis pro onerando codicem modulorum postquam a finder inventum est.</p>\n"
   ]
  },
  {
   "cell_type": "markdown",
   "id": "14b6eca1-de27-47c1-874b-a7818cf0c0c5",
   "metadata": {},
   "source": [
    "<h2 style=\"font-size: 2em;\">67. Locale Encoding</h2>\n",
    "<p style=\"font-size: 16px;\">Codificatio locale est systematis default characterum codificatio, quae variat per suggestum et saepe fundatur in configutationibus systematis locali.</p>\n"
   ]
  },
  {
   "cell_type": "markdown",
   "id": "35383052-35e9-4259-8df5-501c7249d413",
   "metadata": {},
   "source": [
    "<h2 style=\"font-size: 2em;\">69. Magic Method (Special Method)</h2>\n",
    "<p style=\"font-size: 16px;\">Methodi magicae sunt methodi speciales in Python qui incipiunt et finem habent cum duobus subscriptis (<code>__</code>). Illi permittunt customizationem comportamenti pro operationibus inbuilt.</p>\n",
    "\n",
    "<p style=\"font-size: 16px;\"> <b>Exemplum</b> </p>"
   ]
  },
  {
   "cell_type": "code",
   "execution_count": 23,
   "id": "20e420a6-1a78-41c0-95c0-6d8e7f0e9b1c",
   "metadata": {
    "collapsed": true,
    "jupyter": {
     "outputs_hidden": true,
     "source_hidden": true
    }
   },
   "outputs": [
    {
     "name": "stdout",
     "output_type": "stream",
     "text": [
      "Value: 10\n"
     ]
    }
   ],
   "source": [
    "class MyClass:\n",
    "    def __init__(self, value):\n",
    "        self.value = value\n",
    "    \n",
    "    def __str__(self):\n",
    "        return f\"Value: {self.value}\"\n",
    "\n",
    "obj = MyClass(10)\n",
    "print(obj) "
   ]
  },
  {
   "cell_type": "markdown",
   "id": "497b7530-07a4-4e5e-969a-840a930be7c6",
   "metadata": {},
   "source": [
    "<h2 style=\"font-size: 2em;\">70. Mapping</h2>\n",
    "<p style=\"font-size: 16px;\">Mapping est obiectum container quod associat claves cum valoribus. Exempla includunt dict et collections.defaultdict.</p>\n",
    "\n",
    "<p style=\"font-size: 16px;\"> <b>Exemplum</b> </p>"
   ]
  },
  {
   "cell_type": "code",
   "execution_count": 24,
   "id": "396146ee-032b-416f-839f-de4cdfa3df9d",
   "metadata": {
    "collapsed": true,
    "jupyter": {
     "outputs_hidden": true,
     "source_hidden": true
    }
   },
   "outputs": [
    {
     "name": "stdout",
     "output_type": "stream",
     "text": [
      "Alice\n"
     ]
    }
   ],
   "source": [
    "my_dict = {'name': 'Alice', 'age': 30}\n",
    "print(my_dict['name']) "
   ]
  },
  {
   "cell_type": "markdown",
   "id": "e5b548ba-3be0-40e3-9bb3-adecd86d2b0d",
   "metadata": {},
   "source": [
    "<h2 style=\"font-size: 1.7em;\">71. Metaclass</h2>\n",
    "<p style=\"font-size: 16px;\">Metaclass est classis classis, quae moderatur quomodo classes creantur. Potes creare consuetudinem comportamentum pro creatione classis utens metaclasses.</p>\n",
    "\n",
    "<p style=\"font-size: 16px;\"> <b>Exemplum</b> </p>"
   ]
  },
  {
   "cell_type": "code",
   "execution_count": 27,
   "id": "6da94efe-ed94-4798-ae4c-596277d1621c",
   "metadata": {
    "collapsed": true,
    "jupyter": {
     "outputs_hidden": true,
     "source_hidden": true
    }
   },
   "outputs": [
    {
     "name": "stdout",
     "output_type": "stream",
     "text": [
      "Creating class MyClass\n"
     ]
    }
   ],
   "source": [
    "class Meta(type):\n",
    "    def __new__(cls, name, bases, dct):\n",
    "        print(f\"Creating class {name}\")\n",
    "        return super().__new__(cls, name, bases, dct)\n",
    "\n",
    "class MyClass(metaclass=Meta):\n",
    "    pass"
   ]
  },
  {
   "cell_type": "markdown",
   "id": "44cc937a-8315-47ea-9745-d8eb0370e27d",
   "metadata": {},
   "source": [
    "<p style=\"font-size: 16px;\"> <b>Use Cases</b> </p>"
   ]
  },
  {
   "cell_type": "code",
   "execution_count": 28,
   "id": "d2710552-c708-45f8-bdd4-88bfd4cfc62c",
   "metadata": {
    "collapsed": true,
    "jupyter": {
     "outputs_hidden": true,
     "source_hidden": true
    }
   },
   "outputs": [
    {
     "name": "stdout",
     "output_type": "stream",
     "text": [
      "Created class First\n",
      "Created class Second\n",
      "Created class Person\n",
      "<class '__main__.First'>\n",
      "<class '__main__.Second'>\n",
      "<class '__main__.Person'>\n",
      "<__main__.First object at 0x752d5c36c920>\n",
      "<Person({'name': 'Winnie', 'age': 20})>\n",
      "Creating class Gender with base[parent] classes ()\n",
      "Creating class Female with base[parent] classes (<class '__main__.Gender'>,)\n",
      "Created class SingleMeta\n",
      "<__main__.Third object at 0x752d5c36cc20>  ,  5\n",
      "Created class SingleMeta\n",
      "<__main__.Third object at 0x752d5c36cc20>  ,  10\n",
      "True  ,  True\n",
      "Created class Fourth\n",
      "Calling greet with args: ('Ashley',), and kwargs: {}\n",
      "Hello Ashley\n",
      "Created class Fifth\n",
      "Hello Nelly\n"
     ]
    }
   ],
   "source": [
    "# Usus metaclassium\n",
    "\n",
    "\n",
    "\"\"\" 1. Modificare comportamentum classis \"\"\"\n",
    "# DEFINE THE META CLASS\n",
    "from typing import Any\n",
    "\n",
    "\n",
    "class Meta(type):\n",
    "    def __new__(cls, name, bases, dct):\n",
    "        print(f\"Classis {name} creata est\")\n",
    "        return super().__new__(cls, name, bases, dct)\n",
    "    \n",
    "# CREATE A CLASS FROM THE META\n",
    "class First(metaclass=Meta):\n",
    "    ...\n",
    "\n",
    "\n",
    "\"\"\" 2. Imperium nominis attributorum\n",
    "e.g Omnia attributa classis debent esse capitalia \"\"\"\n",
    "# DEFINE THE META CLASS\n",
    "class UpperMeta(type):\n",
    "    def __new__(cls, name, bases, dct):\n",
    "        for k in dct:\n",
    "            if not k.isupper() and not k.startswith('__'):\n",
    "                raise ValueError(F\"Attributum {k} non est in caps\")\n",
    "        print(f\"Classis {name} creata est\")\n",
    "        return super().__new__(cls, name, bases, dct)\n",
    "\n",
    "# CREATE A CLASS FROM THE META\n",
    "class Second(metaclass=UpperMeta):\n",
    "    AGE = 10\n",
    "    YEAR = 2014\n",
    "    # name = \"Nnie\"\n",
    "\n",
    "\n",
    "\n",
    "\"\"\" 3. Additio __repr__ method \"\"\"\n",
    "# DEFINE THE META CLASS\n",
    "class ReprMeta(type):\n",
    "    def __new__(cls, name, bases, dct: dict):\n",
    "        if \"__repr__\" not in dct:\n",
    "            def __repr__(self):\n",
    "                return f\"<{self.__class__.__name__}({self.__dict__})>\"\n",
    "            dct[\"__repr__\"] = __repr__\n",
    "        print(f\"Classis {name} creata est\")\n",
    "        return super().__new__(cls, name, bases, dct)\n",
    "\n",
    "# CREATE A CLASS FROM THE META\n",
    "class Person(metaclass=ReprMeta):\n",
    "    def __init__(self, name: str, age: int) -> None:\n",
    "        self.name = name\n",
    "        self.age = age\n",
    "\n",
    "# CREATE OBJECT OF TYPE PERSON\n",
    "p0 = First()\n",
    "p1 = Person(\"Winnie\", 20)\n",
    "\n",
    "# PRINT THE OBJECTS\n",
    "print(First)\n",
    "print(Second)\n",
    "print(Person)\n",
    "print(p0)\n",
    "print(p1)\n",
    "\n",
    "\n",
    "\"\"\" 4. Logging class creation cum bases \"\"\"\n",
    "# DEFINE THE META CLASS\n",
    "class LoggingMeta(type):\n",
    "    def __new__(cls, name, bases, dct):\n",
    "        print(f\"Creando classis {name} cum basibus[classibus parent] {bases}\")\n",
    "        return super().__new__(cls, name, bases, dct)\n",
    "\n",
    "# CREATE A CLASS FROM THE META\n",
    "class Gender(metaclass=LoggingMeta):\n",
    "    ...\n",
    "\n",
    "class Female(Gender):\n",
    "    ...\n",
    "\n",
    "\n",
    "\"\"\" 5. Patterna Singleton \"\"\"\n",
    "# DEFINE THE META CLASS\n",
    "class SingleMeta(type):\n",
    "    _instances = {}\n",
    "    def __call__(cls, *args: Any, **kwargs: Any) -> Any:\n",
    "        if cls not in cls._instances:\n",
    "            instance = super().__call__(*args, **kwargs)\n",
    "            cls._instances[cls] = instance\n",
    "        else:\n",
    "            instance = cls._instances[cls]\n",
    "            instance.__init__(*args, **kwargs)\n",
    "        print(f\"Classis {cls.__class__.__name__} creata est\")\n",
    "        # return cls._instances[cls]\n",
    "        return instance\n",
    "    \n",
    "    # def __new__(cls, name, bases, dct):\n",
    "    #     instance = super().__new__(cls, name, bases, dct)\n",
    "    #     if name not in cls._instances:\n",
    "    #         cls._instances[name] = instance\n",
    "    #     else:\n",
    "    #         instance = cls._instances[name]\n",
    "    #     print(f\"Classis {name} creata est\")\n",
    "    #     return instance\n",
    "\n",
    "# CREATE A CLASS FROM THE META\n",
    "class Third(metaclass=SingleMeta):\n",
    "    def __init__(self, value: int) -> None:\n",
    "        self.value = value\n",
    "\n",
    "s1 = Third(5)\n",
    "print(s1, \" , \", s1.value)\n",
    "s2 = Third(10)\n",
    "print(s2, \" , \", s2.value)\n",
    "\n",
    "print(s1 is s2, \" , \", s1 == s2)\n",
    "\n",
    "\n",
    "\"\"\" 6. Modificare comportamentum secundum attributa \"\"\"\n",
    "# DEFINE THE META CLASS\n",
    "class TracingMeta(type):\n",
    "    def __new__(cls, name, bases, dct):\n",
    "        trace = dct.get('trace', False)\n",
    "        if trace:\n",
    "            for k, v in dct.items():\n",
    "                if callable(v) and not k.startswith(\"__\"):\n",
    "                    origi = v\n",
    "                    def wrapper(self, *args, **kwargs):\n",
    "                        print(f\"Calling {k} cum args: {args}, et kwargs: {kwargs}\")\n",
    "                        return origi(self, *args, **kwargs)\n",
    "                    dct[k] = wrapper\n",
    "        print(f\"Classis {name} creata est\")\n",
    "        return super().__new__(cls, name, bases, dct)\n",
    "\n",
    "# CREATE A CLASS FROM THE META\n",
    "class Fourth(metaclass=TracingMeta):\n",
    "    trace = True\n",
    "\n",
    "    def greet(self, name):\n",
    "        print(f\"Salve {name}\")\n",
    "\n",
    "obj1 = Fourth()\n",
    "obj1.greet(\"Ashley\")\n",
    "\n",
    "class Fifth(metaclass=TracingMeta):\n",
    "\n",
    "    def greet(self, name):\n",
    "        print(f\"Salve {name}\")\n",
    "\n",
    "obj1 = Fifth()\n",
    "obj1.greet(\"Nelly\")"
   ]
  },
  {
   "cell_type": "markdown",
   "id": "ed6136c3-a7b9-495b-81f0-bdfbd2175291",
   "metadata": {},
   "source": [
    "<h2 style=\"font-size: 2em;\">72. Method</h2>\n",
    "<p style=\"font-size: 16px;\">Methodus est functio quae intra classis definitur et ad exemplare obligatur.</p>\n",
    "\n",
    "<p style=\"font-size: 16px;\"> <b>Exemplum</b> </p>"
   ]
  },
  {
   "cell_type": "code",
   "execution_count": 29,
   "id": "396eb94c-56a2-4203-8563-cbb0171dc806",
   "metadata": {
    "collapsed": true,
    "jupyter": {
     "outputs_hidden": true,
     "source_hidden": true
    }
   },
   "outputs": [
    {
     "name": "stdout",
     "output_type": "stream",
     "text": [
      "Hello, World!\n"
     ]
    }
   ],
   "source": [
    "class MyClass:\n",
    "    def say_hello(self):\n",
    "        print(\"Hello, World!\")\n",
    "\n",
    "obj = MyClass()\n",
    "obj.say_hello()"
   ]
  },
  {
   "cell_type": "markdown",
   "id": "11bf6fb8-f779-47bd-ab0a-f3f4798d3ed8",
   "metadata": {},
   "source": [
    "<h2 style=\"font-size: 2em;\">73. Method Resolution Order (MRO)</h2>\n",
    "<p style=\"font-size: 16px;\">MRO ordinem definit quo classes basicae quaeruntur cum methodum vel attributum quaeritur.</p>\n",
    "\n",
    "<p style=\"font-size: 16px;\"> <b>Exemplum</b> </p>"
   ]
  },
  {
   "cell_type": "code",
   "execution_count": 30,
   "id": "ace7faaf-cba4-4b1f-832c-a18bc0788f85",
   "metadata": {
    "collapsed": true,
    "jupyter": {
     "outputs_hidden": true,
     "source_hidden": true
    }
   },
   "outputs": [
    {
     "name": "stdout",
     "output_type": "stream",
     "text": [
      "[<class '__main__.C'>, <class '__main__.B'>, <class '__main__.A'>, <class 'object'>]\n"
     ]
    }
   ],
   "source": [
    "class A: pass\n",
    "class B(A): pass\n",
    "class C(B): pass\n",
    "\n",
    "print(C.mro())"
   ]
  },
  {
   "cell_type": "markdown",
   "id": "99720d91-c26b-4ea2-a440-3193243716a8",
   "metadata": {},
   "source": [
    "<h2 style=\"font-size: 2em;\">74. Module</h2>\n",
    "<p style=\"font-size: 16px;\">Modulus est file continens definitiones et enuntiationes Pythonis.</p>\n",
    "\n",
    "<p style=\"font-size: 16px;\"> <b>Exemplum</b> </p>"
   ]
  },
  {
   "cell_type": "code",
   "execution_count": 31,
   "id": "69239e46-d6ca-481c-b42b-7cb2c38d854d",
   "metadata": {
    "collapsed": true,
    "jupyter": {
     "outputs_hidden": true,
     "source_hidden": true
    }
   },
   "outputs": [
    {
     "name": "stdout",
     "output_type": "stream",
     "text": [
      "4.0\n"
     ]
    }
   ],
   "source": [
    "import math\n",
    "print(math.sqrt(16)) "
   ]
  },
  {
   "cell_type": "markdown",
   "id": "73ea5a34-6623-4835-8666-20834f2a14a6",
   "metadata": {},
   "source": [
    "<h2 style=\"font-size: 2em;\">75. Module Spec</h2>\n",
    "<p style=\"font-size: 16px;\">Objectum ModuleSpec continet informationem de quomodo modulorum onus imponatur.</p>\n",
    "\n",
    "<p style=\"font-size: 16px;\"> <b>Exemplum</b> </p>"
   ]
  },
  {
   "cell_type": "code",
   "execution_count": 32,
   "id": "4465aabd-e679-4a88-9870-c9536d010298",
   "metadata": {
    "collapsed": true,
    "jupyter": {
     "outputs_hidden": true,
     "source_hidden": true
    }
   },
   "outputs": [
    {
     "name": "stdout",
     "output_type": "stream",
     "text": [
      "ModuleSpec(name='math', loader=<class '_frozen_importlib.BuiltinImporter'>, origin='built-in')\n"
     ]
    }
   ],
   "source": [
    "import importlib.util\n",
    "spec = importlib.util.find_spec('math')\n",
    "print(spec)"
   ]
  },
  {
   "cell_type": "markdown",
   "id": "05ed4c57-c1d6-485c-a014-e1cdf69745ed",
   "metadata": {},
   "source": [
    "<h2 style=\"font-size: 2em;\">76. Mutable</h2>\n",
    "<p style=\"font-size: 16px;\">Objecta mutabilia post creationem mutari possunt (e.g., indices, dictae).</p>\n",
    "\n",
    "<p style=\"font-size: 16px;\"> <b>Exemplum</b> </p>"
   ]
  },
  {
   "cell_type": "code",
   "execution_count": 33,
   "id": "f24ef97b-634d-42c9-85ee-9a6522be3e17",
   "metadata": {
    "collapsed": true,
    "jupyter": {
     "outputs_hidden": true,
     "source_hidden": true
    }
   },
   "outputs": [
    {
     "name": "stdout",
     "output_type": "stream",
     "text": [
      "[1, 2, 3, 4]\n"
     ]
    }
   ],
   "source": [
    "my_list = [1, 2, 3]\n",
    "my_list.append(4)  # Mutates the list\n",
    "print(my_list) "
   ]
  },
  {
   "cell_type": "markdown",
   "id": "6b8c50f9-cffe-451e-9bc0-403cd1bf3a17",
   "metadata": {},
   "source": [
    "<h2 style=\"font-size: 2em;\">77. Named Tuple</h2>\n",
    "<p style=\"font-size: 16px;\">Tuple nominatum est subclassis tuplorum ubi campi per nomen accesibilis sunt.</p>\n",
    "\n",
    "<p style=\"font-size: 16px;\"> <b>Exemplum</b> </p>"
   ]
  },
  {
   "cell_type": "code",
   "execution_count": 34,
   "id": "66b2ce3b-2e34-49f8-ac1a-e5d394137de8",
   "metadata": {
    "collapsed": true,
    "jupyter": {
     "outputs_hidden": true,
     "source_hidden": true
    }
   },
   "outputs": [
    {
     "name": "stdout",
     "output_type": "stream",
     "text": [
      "1 2\n"
     ]
    }
   ],
   "source": [
    "from collections import namedtuple\n",
    "Point = namedtuple('Point', ['x', 'y'])\n",
    "p = Point(1, 2)\n",
    "print(p.x, p.y) "
   ]
  },
  {
   "cell_type": "markdown",
   "id": "907ad300-461f-4bd5-81d5-1acc924e795c",
   "metadata": {},
   "source": [
    "<h2 style=\"font-size: 2em;\">78. Namespace</h2>\n",
    "<p style=\"font-size: 16px;\">Namespace est continens ubi nomina ad objecta referuntur. Conflicta nominum vitat.</p>\n",
    "\n",
    "<p style=\"font-size: 16px;\"> <b>Exemplum</b> </p>"
   ]
  },
  {
   "cell_type": "code",
   "execution_count": 35,
   "id": "9e771c70-39cd-45da-961c-59481e64d07c",
   "metadata": {
    "jupyter": {
     "source_hidden": true
    }
   },
   "outputs": [],
   "source": [
    "x = 10  # Global namespace\n",
    "def func():\n",
    "    y = 5  # Local namespace\n",
    "\n",
    "func()"
   ]
  },
  {
   "cell_type": "markdown",
   "id": "11ecb495-1d55-484f-a64d-cd7452358cf9",
   "metadata": {},
   "source": [
    "<h2 style=\"font-size: 2em;\">79. Namespace Package</h2>\n",
    "<p style=\"font-size: 16px;\">Paccus qui servit ut continens subpaccorum sed caret file <code>__init__.py</code>.</p>\n",
    "\n",
    "<p style=\"font-size: 16px;\"> <b>Exemplum</b> </p>"
   ]
  },
  {
   "cell_type": "code",
   "execution_count": null,
   "id": "cf438a28-6219-4bf8-9aa3-61165af13964",
   "metadata": {
    "jupyter": {
     "source_hidden": true
    }
   },
   "outputs": [],
   "source": [
    "my_namespace/\n",
    "    pkg1/\n",
    "    pkg2/"
   ]
  },
  {
   "cell_type": "markdown",
   "id": "d370242e-cbb6-449d-bcd5-852da96d9a48",
   "metadata": {},
   "source": [
    "<h2 style=\"font-size: 2em;\">80. Nested Scope</h2>\n",
    "<p style=\"font-size: 16px;\">Scopes nested permitunt functionibus intra functiones referre ad variabiles in functionibus externis.</p>\n",
    "\n",
    "<p style=\"font-size: 16px;\"> <b>Exemplum</b> </p>"
   ]
  },
  {
   "cell_type": "code",
   "execution_count": 36,
   "id": "c48720c5-e026-40cb-b53a-a69c96bd453a",
   "metadata": {
    "collapsed": true,
    "jupyter": {
     "outputs_hidden": true,
     "source_hidden": true
    }
   },
   "outputs": [
    {
     "name": "stdout",
     "output_type": "stream",
     "text": [
      "10\n"
     ]
    }
   ],
   "source": [
    "def outer():\n",
    "    x = 10\n",
    "    def inner():\n",
    "        print(x)  # Refers to x from the outer function\n",
    "    inner()\n",
    "\n",
    "outer() "
   ]
  },
  {
   "cell_type": "markdown",
   "id": "c98bc010-0872-48ac-8cdf-3558cc6c274d",
   "metadata": {},
   "source": [
    "<h2 style=\"font-size: 2em;\">81. New-Style Class</h2>\n",
    "<p style=\"font-size: 16px;\">Omnes classes in Python 3 sunt classis novae formae, significans eas hereditarie ab objecto.</p>\n",
    "\n",
    "<p style=\"font-size: 16px;\"> <b>Exemplum</b> </p>"
   ]
  },
  {
   "cell_type": "code",
   "execution_count": 37,
   "id": "9ac84afe-78af-44a5-ba76-38c6647edc34",
   "metadata": {
    "collapsed": true,
    "jupyter": {
     "outputs_hidden": true,
     "source_hidden": true
    }
   },
   "outputs": [
    {
     "name": "stdout",
     "output_type": "stream",
     "text": [
      "True\n"
     ]
    }
   ],
   "source": [
    "class MyClass:\n",
    "    pass\n",
    "\n",
    "print(isinstance(MyClass(), object)) "
   ]
  },
  {
   "cell_type": "markdown",
   "id": "eed8ed1d-c8a0-4cd5-bc8f-2dd95d3e3d09",
   "metadata": {},
   "source": [
    "<h2 style=\"font-size: 2em;\">82. Object</h2>\n",
    "<p style=\"font-size: 16px;\">Objectum est exemplarium classis in Python, et omnia sunt objecta in Python.</p>\n",
    "\n",
    "<p style=\"font-size: 16px;\"> <b>Exemplum</b> </p>"
   ]
  },
  {
   "cell_type": "code",
   "execution_count": 38,
   "id": "3d716cb9-858f-4b35-8a16-534572e17ed5",
   "metadata": {
    "collapsed": true,
    "jupyter": {
     "outputs_hidden": true,
     "source_hidden": true
    }
   },
   "outputs": [
    {
     "name": "stdout",
     "output_type": "stream",
     "text": [
      "True\n"
     ]
    }
   ],
   "source": [
    "x = 10\n",
    "print(isinstance(x, object)) "
   ]
  },
  {
   "cell_type": "markdown",
   "id": "31d23c02-b7f8-492b-b894-98f7caea4a01",
   "metadata": {},
   "source": [
    "<h2 style=\"font-size: 2em;\">83. Package</h2>\n",
    "<p style=\"font-size: 16px;\">Paccus est modulus qui continet submodulos. Continet <code>__init__.py</code></p>\n",
    "\n",
    "<p style=\"font-size: 16px;\"> <b>Exemplum</b> </p>"
   ]
  },
  {
   "cell_type": "code",
   "execution_count": null,
   "id": "8a0e011d-af2c-440d-afe5-ff60a65c4968",
   "metadata": {
    "jupyter": {
     "source_hidden": true
    }
   },
   "outputs": [],
   "source": [
    "my_package/\n",
    "    __init__.py\n",
    "    module1.py\n",
    "    module2.py"
   ]
  },
  {
   "cell_type": "markdown",
   "id": "85d7e0e1-5eb6-47ef-a6ff-3e9e36bee052",
   "metadata": {},
   "source": [
    "<h2 style=\"font-size: 2em;\">84. Parameter</h2>\n",
    "<p style=\"font-size: 16px;\">Parametrum est variabilis nominata in definitione functionis.</p>\n",
    "\n",
    "<p style=\"font-size: 16px;\"> <b>Exemplum</b> </p>"
   ]
  },
  {
   "cell_type": "code",
   "execution_count": 39,
   "id": "d87e2e07-6613-4d6a-9db1-f6f568f8135d",
   "metadata": {
    "collapsed": true,
    "jupyter": {
     "outputs_hidden": true,
     "source_hidden": true
    }
   },
   "outputs": [
    {
     "name": "stdout",
     "output_type": "stream",
     "text": [
      "15\n"
     ]
    }
   ],
   "source": [
    "def func(a, b=10):\n",
    "    return a + b\n",
    "\n",
    "print(func(5))  "
   ]
  },
  {
   "cell_type": "markdown",
   "id": "f02d3bcd-be16-4b93-83ed-ccbc77af709f",
   "metadata": {},
   "source": [
    "<h2 style=\"font-size: 2em;\">85. Path Entry</h2>\n",
    "<p style=\"font-size: 16px;\">Locatio singularis in itinere importationis quam explorator basatus in itinere quaerit ut modulorum.</p>\n",
    "\n",
    "<p style=\"font-size: 16px;\"> <b>Exemplum</b> </p>"
   ]
  },
  {
   "cell_type": "code",
   "execution_count": 40,
   "id": "fbb6997c-25a3-4107-b444-d5e5d31e2055",
   "metadata": {
    "collapsed": true,
    "jupyter": {
     "outputs_hidden": true,
     "source_hidden": true
    }
   },
   "outputs": [
    {
     "name": "stdout",
     "output_type": "stream",
     "text": [
      "['/usr/lib/python312.zip', '/usr/lib/python3.12', '/usr/lib/python3.12/lib-dynload', '', '/home/owinnie/GitHub/winisSchoolOfCoding/PythonCourse/winis/lib/python3.12/site-packages']\n"
     ]
    }
   ],
   "source": [
    "import sys\n",
    "print(sys.path)"
   ]
  },
  {
   "cell_type": "markdown",
   "id": "a52c597f-6720-43cd-ad02-8ae75735d5ba",
   "metadata": {},
   "source": [
    "<h2 style=\"font-size: 2em;\">86. Path Entry Finder</h2>\n",
    "<p style=\"font-size: 16px;\">Objectum quod modulorum invenit basatum in itinere.</p>\n"
   ]
  },
  {
   "cell_type": "markdown",
   "id": "d9481e4d-dc7c-4855-846e-5ff9b353ab5c",
   "metadata": {},
   "source": [
    "<h2 style=\"font-size: 2em;\">87. Path Entry Hook</h2>\n",
    "<p style=\"font-size: 16px;\">Callable quae iteratum exitum quaerentem returnat.</p>\n"
   ]
  },
  {
   "cell_type": "markdown",
   "id": "d43ccd70-238f-45ae-b5b6-af25e62896aa",
   "metadata": {},
   "source": [
    "<h2 style=\"font-size: 2em;\">88. Path Based Finder</h2>\n",
    "<p style=\"font-size: 16px;\">Default meta iteratum quaerens quod importationem via modulorum quaerit.</p>\n"
   ]
  },
  {
   "cell_type": "markdown",
   "id": "c199ec95-0ff5-4f3c-817e-cdb09d8d5467",
   "metadata": {},
   "source": [
    "<h2 style=\"font-size: 2em;\">89. Path-Like Object</h2>\n",
    "<p style=\"font-size: 16px;\">Objectum repraesentans iteratum systematis, sive string sive objectum os.PathLike implementans.</p>\n",
    "\n",
    "<p style=\"font-size: 16px;\"> <b>Exemplum</b> </p>"
   ]
  },
  {
   "cell_type": "code",
   "execution_count": 41,
   "id": "5a80ff64-59b3-4e21-8873-b96743c5db26",
   "metadata": {
    "collapsed": true,
    "jupyter": {
     "outputs_hidden": true,
     "source_hidden": true
    }
   },
   "outputs": [
    {
     "name": "stdout",
     "output_type": "stream",
     "text": [
      "path/to/file\n"
     ]
    }
   ],
   "source": [
    "import os\n",
    "print(os.fspath(\"path/to/file\"))"
   ]
  },
  {
   "cell_type": "markdown",
   "id": "aa2be008-9338-4f8a-bd6c-ee298ac00a7f",
   "metadata": {},
   "source": [
    "<h2 style=\"font-size: 2em;\">90. PEP (Python Enhancement Proposal)</h2>\n",
    "<p style=\"font-size: 16px;\">PEP est documentum consilii praebens informationem vel novas functiones pro Python.</p>\n",
    "\n",
    "<p style=\"font-size: 16px;\"> <b>Exemplum</b> </p>"
   ]
  },
  {
   "cell_type": "code",
   "execution_count": null,
   "id": "626e01f3-eb85-41c7-b1ff-209709cf5ef8",
   "metadata": {
    "jupyter": {
     "source_hidden": true
    }
   },
   "outputs": [],
   "source": [
    "PEP 8: Style Guide for Python Code"
   ]
  },
  {
   "cell_type": "markdown",
   "id": "f7511494-29f7-4f89-8aa4-beb9ccdd83db",
   "metadata": {},
   "source": [
    "<h2 style=\"font-size: 2em;\">91. Portion</h2>\n",
    "<p style=\"font-size: 16px;\">Set fileorum qui contribuunt ad namespace package.</p>\n"
   ]
  },
  {
   "cell_type": "markdown",
   "id": "74bf9aab-c807-41e6-9281-ec0a22cf40d7",
   "metadata": {},
   "source": [
    "<h2 style=\"font-size: 2em;\">92. Positional Argument</h2>\n",
    "<p style=\"font-size: 16px;\">Argumentum quod ad functionem transit ex positione sua.</p>\n",
    "\n",
    "<p style=\"font-size: 16px;\"> <b>Exemplum</b> </p>"
   ]
  },
  {
   "cell_type": "code",
   "execution_count": 42,
   "id": "924f126e-ab1a-41a2-9a42-09c43bb48eef",
   "metadata": {
    "collapsed": true,
    "jupyter": {
     "outputs_hidden": true,
     "source_hidden": true
    }
   },
   "outputs": [
    {
     "name": "stdout",
     "output_type": "stream",
     "text": [
      "Hello, Alice!\n"
     ]
    }
   ],
   "source": [
    "def greet(name):\n",
    "    print(f\"Hello, {name}!\")\n",
    "\n",
    "greet(\"Alice\") "
   ]
  },
  {
   "cell_type": "markdown",
   "id": "736f17cd-c0d9-47e8-a8f5-d8d1e34a46b8",
   "metadata": {},
   "source": [
    "<h2 style=\"font-size: 2em;\">93. Provisional API</h2>\n",
    "<p style=\"font-size: 16px;\">API provisionalis est quod in futuris editionibus mutari potest, etiam si pars bibliothecae standard est.</p>\n"
   ]
  },
  {
   "cell_type": "markdown",
   "id": "b4602ea8-63cf-4445-95db-6eebbf09d866",
   "metadata": {},
   "source": [
    "<h2 style=\"font-size: 2em;\">94. Provisional Package</h2>\n",
    "<p style=\"font-size: 16px;\">Paccus qui API provisionalis continet.</p>\n"
   ]
  },
  {
   "cell_type": "markdown",
   "id": "53da6302-2b80-48a5-8817-535d44e67b5a",
   "metadata": {},
   "source": [
    "<h2 style=\"font-size: 2em;\">95. Python 3000 (Py3k)</h2>\n",
    "<p style=\"font-size: 16px;\">Python 3000 refert ad Python 3.x, quod erat magnum mutatum linguae.</p>\n"
   ]
  },
  {
   "cell_type": "markdown",
   "id": "6a66e013-2ee1-4a0a-a55c-cbb87de7ba21",
   "metadata": {},
   "source": [
    "<h2 style=\"font-size: 2em;\">96. Pythonic</h2>\n",
    "<p style=\"font-size: 16px;\">Codex qui praxim Python idiomaticam sequitur.</p>\n",
    "\n",
    "<p style=\"font-size: 16px;\"> <b>Exemplum</b> </p>"
   ]
  },
  {
   "cell_type": "code",
   "execution_count": 43,
   "id": "743e32d1-3e7d-4f27-86b1-7b8ab9030d75",
   "metadata": {
    "collapsed": true,
    "jupyter": {
     "outputs_hidden": true,
     "source_hidden": true
    }
   },
   "outputs": [
    {
     "name": "stdout",
     "output_type": "stream",
     "text": [
      "1\n",
      "2\n",
      "3\n",
      "4\n",
      "1\n",
      "2\n",
      "3\n",
      "4\n"
     ]
    }
   ],
   "source": [
    "# Pythonic way\n",
    "for item in my_list:\n",
    "    print(item)\n",
    "\n",
    "# Non-Pythonic way\n",
    "for i in range(len(my_list)):\n",
    "    print(my_list[i])"
   ]
  },
  {
   "cell_type": "markdown",
   "id": "55b2f235-0d9a-4637-a591-206eb40a2c44",
   "metadata": {},
   "source": [
    "<h2 style=\"font-size: 2em;\">97. Qualified Name</h2>\n",
    "<p style=\"font-size: 16px;\">Via punctata repraesentans locum objecti.</p>\n",
    "<p style=\"font-size: 16px;\"> <b>Exemplum</b> </p>"
   ]
  },
  {
   "cell_type": "code",
   "execution_count": 44,
   "id": "f8e8dc01-6b13-4849-b037-d2ed6c4fb1db",
   "metadata": {
    "collapsed": true,
    "jupyter": {
     "outputs_hidden": true,
     "source_hidden": true
    }
   },
   "outputs": [
    {
     "name": "stdout",
     "output_type": "stream",
     "text": [
      "A.B\n"
     ]
    }
   ],
   "source": [
    "class A:\n",
    "    class B:\n",
    "        pass\n",
    "\n",
    "print(A.B.__qualname__) "
   ]
  },
  {
   "cell_type": "markdown",
   "id": "b5842e57-0201-4c56-8d29-cafde9494821",
   "metadata": {},
   "source": [
    "<h2 style=\"font-size: 2em;\">98. Reference Count</h2>\n",
    "<p style=\"font-size: 16px;\">In Python, unumquodque objectum habet numerum referentiarum — numerum referentiarum ad illud punctarum. Cum hic numerus ad nullum decidit, memoria illi objecto assignata liberatur (deallocatur). Nonnulla objecta, ut constantes in constructo (e.g., None, True, False), sunt \"immortalia\" — eorum numeri referentiarum numquam mutatur, ita nunquam deallocantur. Numerum referentiarum objecti per sys.getrefcount() comprobari potes.</p>\n",
    "<p style=\"font-size: 16px;\"> <b>Exemplum</b> </p>"
   ]
  },
  {
   "cell_type": "code",
   "execution_count": 61,
   "id": "9fc3d4c7-86e5-499a-b3b8-8df6094342c0",
   "metadata": {
    "collapsed": true,
    "jupyter": {
     "outputs_hidden": true,
     "source_hidden": true
    }
   },
   "outputs": [
    {
     "name": "stdout",
     "output_type": "stream",
     "text": [
      "2\n",
      "3\n"
     ]
    }
   ],
   "source": [
    "import sys\n",
    "a = []\n",
    "print(sys.getrefcount(a))  \n",
    "b = a\n",
    "print(sys.getrefcount(a)) "
   ]
  },
  {
   "cell_type": "markdown",
   "id": "f3e31da5-db1c-412b-a9dc-b4baf27c4374",
   "metadata": {},
   "source": [
    "<h2 style=\"font-size: 2em;\">99. Regular Package</h2>\n",
    "<p style=\"font-size: 16px;\">Paccus regularis in Python est directorium quod continet file <code>__init__.py</code>. Hic file potest continere codicem initializationis ad paccus. Paccus regularis sinit te conglomerare modulos pertinentes in unum paccus.</p>\n",
    "<p style=\"font-size: 16px;\"> <b>Exemplum</b> </p>"
   ]
  },
  {
   "cell_type": "code",
   "execution_count": null,
   "id": "59c37279-fd95-4ddf-ad45-20e7e8c0ac49",
   "metadata": {
    "jupyter": {
     "source_hidden": true
    }
   },
   "outputs": [],
   "source": [
    "my_package/\n",
    "    __init__.py\n",
    "    module1.py\n",
    "    module2.py"
   ]
  },
  {
   "cell_type": "markdown",
   "id": "3c9eded2-939a-48b3-9937-1051ace4e6fd",
   "metadata": {},
   "source": [
    "<h2 style=\"font-size: 2em;\">100. __slots__</h2>\n",
    "<p style=\"font-size: 16px;\">Usus <code>__slots__</code> in classi potest conservare memoriam restringendo attributa quae exemplaria classis habere possunt. Elimina necessitatem dictionarii exemplaris, qui attributa dynamicum servat. Tamen, tantum usus esse debet cum magnum numerum exemplarium in applicationibus memoriae criticae administrando.</p>\n",
    "<p style=\"font-size: 16px;\"> <b>Exemplum</b> </p>"
   ]
  },
  {
   "cell_type": "code",
   "execution_count": 60,
   "id": "1aa3dc38-b2c1-4dad-a2b2-0f2e658fe2d9",
   "metadata": {
    "jupyter": {
     "source_hidden": true
    }
   },
   "outputs": [],
   "source": [
    "class Person:\n",
    "    __slots__ = ['name', 'age']  # Predefine allowable attributes\n",
    "    \n",
    "    def __init__(self, name, age):\n",
    "        self.name = name\n",
    "        self.age = age\n",
    "\n",
    "p = Person('Alice', 30)\n",
    "# p.address = \"New York\"  # This will raise an AttributeError"
   ]
  },
  {
   "cell_type": "markdown",
   "id": "1c2b389e-c71c-4b22-8998-f60e49f56690",
   "metadata": {},
   "source": [
    "<h2 style=\"font-size: 2em;\">101. Sequence</h2>\n",
    "<p style=\"font-size: 16px;\">Series in Python est iterabile quae indexing sustinet et longitudinem definitam habet. Sustinet accessum elementorum utendo indices integris (<code>__getitem__()</code>) et habet methodum longitudinis (<code>__len__()</code>).</p>\n",
    "<p style=\"font-size: 16px;\"> <b>Exemplum</b> </p>"
   ]
  },
  {
   "cell_type": "code",
   "execution_count": 59,
   "id": "9f891b38-ac1e-4793-84d9-bace70d10184",
   "metadata": {
    "collapsed": true,
    "jupyter": {
     "outputs_hidden": true,
     "source_hidden": true
    }
   },
   "outputs": [
    {
     "name": "stdout",
     "output_type": "stream",
     "text": [
      "2\n",
      "3\n"
     ]
    }
   ],
   "source": [
    "my_list = [1, 2, 3]\n",
    "print(my_list[1])  \n",
    "print(len(my_list))  "
   ]
  },
  {
   "cell_type": "markdown",
   "id": "f532ef9f-d103-495e-b44c-dc2dab20423d",
   "metadata": {},
   "source": [
    "<h2 style=\"font-size: 2em;\">102. Set Comprehension</h2>\n",
    "<p style=\"font-size: 16px;\">Comprehensio set est compacta via construendi set per filtrandum et processum elementorum ex iterabili.</p>\n",
    "<p style=\"font-size: 16px;\"> <b>Exemplum</b> </p>"
   ]
  },
  {
   "cell_type": "code",
   "execution_count": 58,
   "id": "dd833f0b-1939-4a2b-9275-d6d0bc4522b8",
   "metadata": {
    "collapsed": true,
    "jupyter": {
     "outputs_hidden": true,
     "source_hidden": true
    }
   },
   "outputs": [
    {
     "name": "stdout",
     "output_type": "stream",
     "text": [
      "{'r', 'd'}\n"
     ]
    }
   ],
   "source": [
    "unique_chars = {char for char in 'abracadabra' if char not in 'abc'}\n",
    "print(unique_chars) "
   ]
  },
  {
   "cell_type": "markdown",
   "id": "5286dc4a-67fc-437d-9578-b82dce057ca1",
   "metadata": {},
   "source": [
    "<h2 style=\"font-size: 2em;\">103. Single Dispatch</h2>\n",
    "<p style=\"font-size: 16px;\">Single dispatch refert ad electionem implementationis functionis secundum genus unius argumenti. Python praebet decorator <code>functools.singledispatch</code> ad hoc assequendum.</p>\n",
    "<p style=\"font-size: 16px;\"> <b>Exemplum</b> </p>"
   ]
  },
  {
   "cell_type": "code",
   "execution_count": 57,
   "id": "e000afe1-e43a-498c-8790-31308ac8b968",
   "metadata": {
    "collapsed": true,
    "jupyter": {
     "outputs_hidden": true,
     "source_hidden": true
    }
   },
   "outputs": [
    {
     "name": "stdout",
     "output_type": "stream",
     "text": [
      "Processing integer 5\n",
      "Processing string 'hi'\n"
     ]
    }
   ],
   "source": [
    "from functools import singledispatch\n",
    "\n",
    "@singledispatch\n",
    "def process(value):\n",
    "    print(f\"Default process for {value}\")\n",
    "\n",
    "@process.register(int)\n",
    "def _(value):\n",
    "    print(f\"Processing integer {value}\")\n",
    "\n",
    "@process.register(str)\n",
    "def _(value):\n",
    "    print(f\"Processing string '{value}'\")\n",
    "\n",
    "process(5)    \n",
    "process(\"hi\") "
   ]
  },
  {
   "cell_type": "markdown",
   "id": "77b7b080-df40-4806-bc96-c1ce959f6aaa",
   "metadata": {},
   "source": [
    "<h2 style=\"font-size: 2em;\">104. Slice</h2>\n",
    "<p style=\"font-size: 16px;\">Slice repraesentat partem series. Potes slices creare utendo notatione colonis : intra brackets quadratos [].</p>\n",
    "<p style=\"font-size: 16px;\"> <b>Exemplum</b> </p>"
   ]
  },
  {
   "cell_type": "code",
   "execution_count": 56,
   "id": "a1c64338-89fd-4f3e-a302-fc335907cd7e",
   "metadata": {
    "collapsed": true,
    "jupyter": {
     "outputs_hidden": true,
     "source_hidden": true
    }
   },
   "outputs": [
    {
     "name": "stdout",
     "output_type": "stream",
     "text": [
      "[20, 30, 40]\n"
     ]
    }
   ],
   "source": [
    "my_list = [10, 20, 30, 40, 50]\n",
    "sub_list = my_list[1:4]  # Slice from index 1 to 3\n",
    "print(sub_list) "
   ]
  },
  {
   "cell_type": "markdown",
   "id": "fdbac175-bfe0-428e-88ad-25b32a8e65ba",
   "metadata": {},
   "source": [
    "<h2 style=\"font-size: 2em;\">105. Special Method</h2>\n",
    "<p style=\"font-size: 16px;\">Methodi speciales (etiam notae \"methodi magici\") sunt methodi in Python qui habent duos underscores ante et post nomina eorum. Hae methodi a Python invocantur ad speciales operationes perficiendas ut additionem (<code>__add__()</code>) vel repraesentationem stringi (<code>__repr__()</code>).</p>\n",
    "<p style=\"font-size: 16px;\"> <b>Exemplum</b> </p>"
   ]
  },
  {
   "cell_type": "code",
   "execution_count": 55,
   "id": "3282c475-c006-4343-ab5c-01256862b609",
   "metadata": {
    "collapsed": true,
    "jupyter": {
     "outputs_hidden": true,
     "source_hidden": true
    }
   },
   "outputs": [
    {
     "name": "stdout",
     "output_type": "stream",
     "text": [
      "15\n"
     ]
    }
   ],
   "source": [
    "class MyNumber:\n",
    "    def __init__(self, value):\n",
    "        self.value = value\n",
    "    \n",
    "    def __add__(self, other):\n",
    "        return MyNumber(self.value + other.value)\n",
    "\n",
    "a = MyNumber(5)\n",
    "b = MyNumber(10)\n",
    "c = a + b  # Calls the __add__() method\n",
    "print(c.value)  "
   ]
  },
  {
   "cell_type": "markdown",
   "id": "5abb98ef-299b-4793-8b9f-814c9f5492eb",
   "metadata": {},
   "source": [
    "<h2 style=\"font-size: 2em;\">106. Statement</h2>\n",
    "<p style=\"font-size: 16px;\">Enuntiatio est linea codicis quae aliquam actionem perficit. Exempla includunt expressiones, enuntiationes si, for loop, et vocationes functionis.</p>\n",
    "<p style=\"font-size: 16px;\"> <b>Exemplum</b> </p>"
   ]
  },
  {
   "cell_type": "code",
   "execution_count": 54,
   "id": "2e722726-c417-408e-b162-0e7fb767ac5a",
   "metadata": {
    "collapsed": true,
    "jupyter": {
     "outputs_hidden": true,
     "source_hidden": true
    }
   },
   "outputs": [
    {
     "name": "stdout",
     "output_type": "stream",
     "text": [
      "Positive number\n"
     ]
    }
   ],
   "source": [
    "x = 5  # Assignment statement\n",
    "if x > 0:  # if statement\n",
    "    print(\"Positive number\")"
   ]
  },
  {
   "cell_type": "markdown",
   "id": "6f32daef-bbb9-4f88-915e-7158b2ffdfb5",
   "metadata": {},
   "source": [
    "<h2 style=\"font-size: 2em;\">107. Static Type Checker</h2>\n",
    "<p style=\"font-size: 16px;\">Verificator typorum staticus analysat codicem Python pro erroribus typorum sine eo exsequendo. Comprobat si codex sequitur indicia typorum specificata utens modulo typing.</p>\n",
    "<p style=\"font-size: 16px;\"> <b>Exemplum</b> </p>"
   ]
  },
  {
   "cell_type": "code",
   "execution_count": 53,
   "id": "55613642-010e-4a24-825a-4bc3a63ccc9f",
   "metadata": {
    "jupyter": {
     "source_hidden": true
    }
   },
   "outputs": [],
   "source": [
    "def add(a: int, b: int) -> int:\n",
    "    return a + b\n",
    "\n",
    "# Running mypy on this code will ensure that correct types are used."
   ]
  },
  {
   "cell_type": "markdown",
   "id": "af795553-2738-4a45-b524-baf181019410",
   "metadata": {},
   "source": [
    "<h2 style=\"font-size: 2em;\">108. Strong Reference</h2>\n",
    "<p style=\"font-size: 16px;\">Referentia valida est referentia ad objectum quae curat ut objectum non possit colligi ab scaena usque ad removalem referentiae. In API C Python, functiones ut <code>Py_INCREF()</code> creant referentias validas, et <code>Py_DECREF()</code> eas removet.</p>"
   ]
  },
  {
   "cell_type": "markdown",
   "id": "7cca03d2-9d34-4434-ba53-351b91754cd8",
   "metadata": {},
   "source": [
    "<h2 style=\"font-size: 2em;\">109. Text Encoding</h2>\n",
    "<p style=\"font-size: 16px;\">Codificatio textus est processus conversionis stringae in seriem byteorum. Necessarium est cum servando vel transmitendo stringas. Codificationes communes includunt UTF-8 et ASCII.</p>\n",
    "<p style=\"font-size: 16px;\"> <b>Exemplum</b> </p>"
   ]
  },
  {
   "cell_type": "code",
   "execution_count": 52,
   "id": "e2fb65d4-b2b6-4fd8-b820-e35afc42775d",
   "metadata": {
    "collapsed": true,
    "jupyter": {
     "outputs_hidden": true,
     "source_hidden": true
    }
   },
   "outputs": [
    {
     "name": "stdout",
     "output_type": "stream",
     "text": [
      "b'Hello'\n"
     ]
    }
   ],
   "source": [
    "text = \"Hello\"\n",
    "encoded_text = text.encode('utf-8')\n",
    "print(encoded_text) "
   ]
  },
  {
   "cell_type": "markdown",
   "id": "7cc906cb-19f1-4b94-b5b6-2caa5762c701",
   "metadata": {},
   "source": [
    "<h2 style=\"font-size: 2em;\">110. Text File</h2>\n",
    "<p style=\"font-size: 16px;\">File textus est file quod continet data textualia (string), saepe legitur vel scribitur utens objectis str. File internum curat codificationem cum aperitur in modo textus.</p>\n",
    "<p style=\"font-size: 16px;\"> <b>Exemplum</b> </p>"
   ]
  },
  {
   "cell_type": "code",
   "execution_count": 51,
   "id": "f14ec095-87a5-4602-bfa2-b3d9d8854cbf",
   "metadata": {
    "jupyter": {
     "source_hidden": true
    }
   },
   "outputs": [],
   "source": [
    "with open('file.txt', 'w') as file:\n",
    "    file.write(\"Hello, World!\")"
   ]
  },
  {
   "cell_type": "markdown",
   "id": "882e3122-e799-4372-b771-dbacaeec1adf",
   "metadata": {},
   "source": [
    "<h2 style=\"font-size: 2em;\">111. Triple-Quoted String</h2>\n",
    "<p style=\"font-size: 16px;\">Stringa tripliciter citata circumdata est tribus exemplariis citationum (\"\"\" vel '''). Permittit stringas pluribus lineis et citationes non escapatas intra stringam.</p>\n",
    "<p style=\"font-size: 16px;\"> <b>Exemplum</b> </p>"
   ]
  },
  {
   "cell_type": "code",
   "execution_count": 50,
   "id": "4c98c159-5735-44e9-85c1-db1fe80d5f72",
   "metadata": {
    "collapsed": true,
    "jupyter": {
     "outputs_hidden": true,
     "source_hidden": true
    }
   },
   "outputs": [
    {
     "name": "stdout",
     "output_type": "stream",
     "text": [
      "This is a \n",
      "multi-line string with \"double\" and 'single' quotes.\n"
     ]
    }
   ],
   "source": [
    "docstring = \"\"\"This is a \n",
    "multi-line string with \"double\" and 'single' quotes.\"\"\"\n",
    "print(docstring)"
   ]
  },
  {
   "cell_type": "markdown",
   "id": "4791c0c7-8bb8-4e30-baef-05b1eea38612",
   "metadata": {},
   "source": [
    "<h2 style=\"font-size: 2em;\">112. Type</h2>\n",
    "<p style=\"font-size: 16px;\">Unumquodque objectum in Python habet genus quod determinat eius mores. Potes accedere generi objecti utens <code>type()</code> vel <code>__class__</code>.</p>\n",
    "<p style=\"font-size: 16px;\"> <b>Exemplum</b> </p>"
   ]
  },
  {
   "cell_type": "code",
   "execution_count": 49,
   "id": "f7c1fc88-4ac7-4f52-bb78-52d4d1879525",
   "metadata": {
    "collapsed": true,
    "jupyter": {
     "outputs_hidden": true,
     "source_hidden": true
    }
   },
   "outputs": [
    {
     "name": "stdout",
     "output_type": "stream",
     "text": [
      "<class 'int'>\n"
     ]
    }
   ],
   "source": [
    "x = 10\n",
    "print(type(x)) "
   ]
  },
  {
   "cell_type": "markdown",
   "id": "7d889176-2789-47eb-9567-0a2e415decb8",
   "metadata": {},
   "source": [
    "<h2 style=\"font-size: 2em;\">113. Type Alias</h2>\n",
    "<p style=\"font-size: 16px;\">Alias generis est synonyma pro genere, typice adhibetur in indiciis generis ad reddendum codicem clariorem.</p>\n",
    "<p style=\"font-size: 16px;\"> <b>Exemplum</b> </p>"
   ]
  },
  {
   "cell_type": "code",
   "execution_count": 48,
   "id": "30cd1d5b-0b25-4756-acff-04b90182cb08",
   "metadata": {
    "jupyter": {
     "source_hidden": true
    }
   },
   "outputs": [],
   "source": [
    "Color = tuple[int, int, int]\n",
    "\n",
    "def get_color() -> Color:\n",
    "    return (255, 0, 0)"
   ]
  },
  {
   "cell_type": "markdown",
   "id": "7f54ea04-18ff-4774-a206-39348d63d08a",
   "metadata": {},
   "source": [
    "<h2 style=\"font-size: 2em;\">114. Type Hint</h2>\n",
    "<p style=\"font-size: 16px;\">Indicia genera specificant genera expectata pro variabilibus, argumentis functionis, vel valoribus reddendis. Non exigit Python, sed adiuvat cum claritate codicis et verificatio typorum staticorum.</p>\n",
    "<p style=\"font-size: 16px;\"> <b>Exemplum</b> </p>"
   ]
  },
  {
   "cell_type": "code",
   "execution_count": 47,
   "id": "3f39465d-9e2f-4aef-9af2-8e25769bafa0",
   "metadata": {
    "jupyter": {
     "source_hidden": true
    }
   },
   "outputs": [],
   "source": [
    "def add(a: int, b: int) -> int:\n",
    "    return a + b"
   ]
  },
  {
   "cell_type": "markdown",
   "id": "90cd3b38-d86c-45b8-8027-e73ad39efc5a",
   "metadata": {},
   "source": [
    "<h2 style=\"font-size: 2em;\">115. Universal Newlines</h2>\n",
    "<p style=\"font-size: 16px;\">Universal nova lineamenta sinunt Python tractare diversos characteres finium lineae (\\n, \\r\\n, \\r) cum legendis vel scribendis file textus.</p>\n"
   ]
  },
  {
   "cell_type": "markdown",
   "id": "40d3b864-1f84-488f-99a5-c3ae5e72d2d2",
   "metadata": {},
   "source": [
    "<h2 style=\"font-size: 2em;\">116. Variable Annotation</h2>\n",
    "<p style=\"font-size: 16px;\">Annotationes variabilium specificant genus variabilis vel attributi classis, plerumque ut pars indiciorum generis.</p>\n",
    "<p style=\"font-size: 16px;\"> <b>Exemplum</b> </p>"
   ]
  },
  {
   "cell_type": "code",
   "execution_count": 46,
   "id": "5c13649e-5043-4cbb-9959-a39a32d4dfd6",
   "metadata": {
    "jupyter": {
     "source_hidden": true
    }
   },
   "outputs": [],
   "source": [
    "name: str = \"Alice\""
   ]
  },
  {
   "cell_type": "markdown",
   "id": "c429f653-8fa3-457e-a242-a9b4d0930ca0",
   "metadata": {},
   "source": [
    "<h2 style=\"font-size: 2em;\">117. Virtual Environment</h2>\n",
    "<p style=\"font-size: 16px;\">Ambitus virtualis est ambitus Python isolatus qui sinit te installare et administrare paccus sine afficere installationem globalem Python.</p>\n",
    "<p style=\"font-size: 16px;\"> <b>Exemplum</b> </p>"
   ]
  },
  {
   "cell_type": "code",
   "execution_count": null,
   "id": "7757f5c4-b72e-4bc4-bac0-55fb8ac04b71",
   "metadata": {
    "jupyter": {
     "source_hidden": true
    }
   },
   "outputs": [],
   "source": [
    "python -m venv myenv\n",
    "source myenv/bin/activate"
   ]
  },
  {
   "cell_type": "markdown",
   "id": "7d123a65-d796-41b7-a536-daeb610ba517",
   "metadata": {},
   "source": [
    "<h2 style=\"font-size: 2em;\">118. Virtual Machine</h2>\n",
    "<p style=\"font-size: 16px;\">Machina virtualis (VM) est ambitus software-imitatus qui exsecutatur bytecode. Python habet machinam virtualem quae exsequitur bytecode generatum a compilatore Python.</p>\n"
   ]
  },
  {
   "cell_type": "markdown",
   "id": "bf548591-dee7-44b9-a20f-2a1a96995980",
   "metadata": {},
   "source": [
    "<h2 style=\"font-size: 2em;\">119. Zen of Python</h2>\n",
    "<p style=\"font-size: 16px;\">\"Zen of Python\" est congeries principiorum quae ducunt philosophiae designandi Python. Potes id videre scribendo <code>import this</code> in shell Python.</p>\n",
    "<p style=\"font-size: 16px;\"> <b>Exemplum</b> </p>"
   ]
  },
  {
   "cell_type": "code",
   "execution_count": 45,
   "id": "22ddeb70-2148-4731-b0d9-3907b1a28c31",
   "metadata": {
    "collapsed": true,
    "jupyter": {
     "outputs_hidden": true,
     "source_hidden": true
    }
   },
   "outputs": [
    {
     "name": "stdout",
     "output_type": "stream",
     "text": [
      "The Zen of Python, by Tim Peters\n",
      "\n",
      "Beautiful is better than ugly.\n",
      "Explicit is better than implicit.\n",
      "Simple is better than complex.\n",
      "Complex is better than complicated.\n",
      "Flat is better than nested.\n",
      "Sparse is better than dense.\n",
      "Readability counts.\n",
      "Special cases aren't special enough to break the rules.\n",
      "Although practicality beats purity.\n",
      "Errors should never pass silently.\n",
      "Unless explicitly silenced.\n",
      "In the face of ambiguity, refuse the temptation to guess.\n",
      "There should be one-- and preferably only one --obvious way to do it.\n",
      "Although that way may not be obvious at first unless you're Dutch.\n",
      "Now is better than never.\n",
      "Although never is often better than *right* now.\n",
      "If the implementation is hard to explain, it's a bad idea.\n",
      "If the implementation is easy to explain, it may be a good idea.\n",
      "Namespaces are one honking great idea -- let's do more of those!\n"
     ]
    }
   ],
   "source": [
    "import this\n",
    "# Output:\n",
    "# The Zen of Python, by Tim Peters\n",
    "# Beautiful is better than ugly.\n",
    "# Explicit is better than implicit.\n",
    "# Simple is better than complex.\n",
    "# ..."
   ]
  }
 ],
 "metadata": {
  "kernelspec": {
   "display_name": "winis",
   "language": "python",
   "name": "winis"
  },
  "language_info": {
   "codemirror_mode": {
    "name": "ipython",
    "version": 3
   },
   "file_extension": ".py",
   "mimetype": "text/x-python",
   "name": "python",
   "nbconvert_exporter": "python",
   "pygments_lexer": "ipython3",
   "version": "3.12.3"
  }
 },
 "nbformat": 4,
 "nbformat_minor": 5
}
