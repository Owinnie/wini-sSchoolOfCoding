{
 "cells": [
  {
   "cell_type": "markdown",
   "id": "c4b4f2e0-b932-4237-a631-0f9439f54111",
   "metadata": {},
   "source": [
    "<h1 style=\"font-size: 3em;\"> Parts of the Python Glossary Explained </h1>\n",
    "\n",
    "<p style=\"font-size: 18px;\">Hello and Welcome to this section. Here we'll discuss some parts of the Python glossary with examples. This will make it easier for anyone to grasp the common Python concepts. </p>\n",
    "\n",
    "<p style=\"font-size: 18px; color:red; font-weight:bolder\">Ready....</p>"
   ]
  },
  {
   "cell_type": "markdown",
   "id": "5a1e9641-6950-4956-bd4b-0df6c6075b61",
   "metadata": {},
   "source": [
    "<h2 style=\"font-size: 2em;\"> 1. Ellipsis (...)</h2>\n",
    "\n",
    "<ul>\n",
    "    <li style=\"font-size: 16px;\">A special object in Python represented by three dots (...). It's mostly used in specific scenarios, especially in extended slicing and function placeholders.</li>\n",
    "    <li style=\"font-size: 16px;\">Ellipsis is the only instance of the type types.EllipsisType, meaning there's just one Ellipsis object across the entire program.</li>\n",
    "</ul>\n",
    "\n",
    "<h3 style=\"font-size: 1.7em;\"> Use Cases </h3>\n",
    "<h4 style=\"font-size: 1.4em;\"> A) Extended Slicing Syntax </h4>\n",
    "<p style=\"font-size: 16px;\">Often used in slicing for multidimensional arrays, such as with libraries like NumPy. It helps to represent a placeholder for many colon (:) operators in slicing.</p>\n",
    "\n",
    "<p style=\"font-size: 16px;\"> <b>Example</b> </p>"
   ]
  },
  {
   "cell_type": "code",
   "execution_count": 2,
   "id": "6c17ffc8-b513-4f78-8826-0cd92cfc3b60",
   "metadata": {
    "collapsed": true,
    "jupyter": {
     "outputs_hidden": true,
     "source_hidden": true
    }
   },
   "outputs": [
    {
     "name": "stdout",
     "output_type": "stream",
     "text": [
      "[[ 1  4  7]\n",
      " [10 13 16]\n",
      " [19 22 25]]\n"
     ]
    }
   ],
   "source": [
    "import numpy as np\n",
    "\n",
    "\n",
    "arr = np.arange(27).reshape(3, 3, 3)\n",
    "print(arr[..., 1])\n",
    "\n",
    "# np.arange(27) => Creates a sequence of 27 numbers (from 0 to 26)\n",
    "# .reshape(3, 3, 3) => reshape this sequence into a 3D array of shape (3, 3, 3)\n",
    "\n",
    "# [[[ 0  1  2]    First 3x3 layer\n",
    "#   [ 3  4  5]\n",
    "#   [ 6  7  8]]\n",
    "\n",
    "#  [[ 9 10 11]    Second 3x3 layer\n",
    "#   [12 13 14]\n",
    "#   [15 16 17]]\n",
    "\n",
    "#  [[18 19 20]    Third 3x3 layer\n",
    "#   [21 22 23]\n",
    "#   [24 25 26]]]\n",
    "\n",
    "# arr[..., 1] => use Ellipsis to slice across multiple dimensions\n",
    "# ... (Ellipsis) is a placeholder that represents all preceding dimensions\n",
    "# So, arr[..., 1] means \"Give me the second column (1 index) from all the layers (3D array).\"\n",
    "# For the first layer ([[ 0, 1, 2], [ 3, 4, 5], [ 6, 7, 8]]), the second column is [1, 4, 7]\n",
    "# For the second layer ([[ 9, 10, 11], [12, 13, 14], [15, 16, 17]]), the second column is [10, 13, 16]\n",
    "# For the third layer ([[18, 19, 20], [21, 22, 23], [24, 25, 26]]), the second column is [19, 22, 25]"
   ]
  },
  {
   "cell_type": "markdown",
   "id": "2c7bd32e-ce36-43de-b1c2-fe717d4ea0de",
   "metadata": {},
   "source": [
    "<h4 style=\"font-size: 1.4em;\"> B) As a Placeholder </h4>\n",
    "<p style=\"font-size: 16px;\">Used as a placeholder in code, signaling that some part of the function or block isn't implemented yet. This can be useful during development as a reminder to complete later</p>\n",
    "\n",
    "<p style=\"font-size: 16px;\"> <b>Example</b> </p>"
   ]
  },
  {
   "cell_type": "code",
   "execution_count": 3,
   "id": "76f2902b-93f1-4f51-a15d-c15f6da6222a",
   "metadata": {
    "jupyter": {
     "source_hidden": true
    }
   },
   "outputs": [],
   "source": [
    "def add():\n",
    "    ..."
   ]
  },
  {
   "cell_type": "markdown",
   "id": "0e7e44c6-734e-44a9-9c54-9352e18a8241",
   "metadata": {},
   "source": [
    "<h4 style=\"font-size: 1.4em;\"> C) Multiline statements (indented code block within parentheses) </h4>\n",
    "<p style=\"font-size: 16px;\">When a statement is too long to fit on a single line, you can split it across multiple lines using parentheses. The ... appears in the <b style=\"color: red;\">interactive shell prompt</b> to indicate that Python expects more input</p>\n",
    "\n",
    "<p style=\"font-size: 16px;\"> <b>Example</b> </p>"
   ]
  },
  {
   "cell_type": "code",
   "execution_count": 2,
   "id": "05912da4-3295-4107-b033-cac5c41b3092",
   "metadata": {
    "collapsed": true,
    "jupyter": {
     "outputs_hidden": true,
     "source_hidden": true
    }
   },
   "outputs": [
    {
     "name": "stdout",
     "output_type": "stream",
     "text": [
      ">>> summed = (\n",
      "...     5 + 10 +\n",
      "...     2 + 3\n",
      "... )\n",
      ">>> summed\n",
      "20\n"
     ]
    }
   ],
   "source": [
    "# Simulating Python shell interaction in a notebook\n",
    "print(\"\"\">>> summed = (\n",
    "...     5 + 10 +\n",
    "...     2 + 3\n",
    "... )\n",
    ">>> summed\n",
    "20\"\"\")"
   ]
  },
  {
   "cell_type": "markdown",
   "id": "dcf99bb6-f196-44f8-b082-8d4d33a05d2b",
   "metadata": {},
   "source": [
    "<h4 style=\"font-size: 1.4em;\"> D) Multiline strings using triple quotes </h4>\n",
    "<p style=\"font-size: 16px;\">When using triple quotes to create a multiline string, the ... prompt appears after the first line</p>\n",
    "\n",
    "<p style=\"font-size: 16px;\"> <b>Example</b> </p>"
   ]
  },
  {
   "cell_type": "code",
   "execution_count": 4,
   "id": "5b16983c-fea9-429d-9cda-bc8db87854b3",
   "metadata": {
    "collapsed": true,
    "jupyter": {
     "outputs_hidden": true,
     "source_hidden": true
    }
   },
   "outputs": [
    {
     "name": "stdout",
     "output_type": "stream",
     "text": [
      ">>> text = \"\"\n",
      "...     This is a multiline string.\n",
      "...     It spans several lines.\n",
      "... \"\"\n",
      ">>> print(text)\n",
      "This is a multiline string.\n",
      "It spans several lines.\n"
     ]
    }
   ],
   "source": [
    "# Simulating Python shell interaction in a notebook\n",
    "print(\"\"\">>> text = \"\"\n",
    "...     This is a multiline string.\n",
    "...     It spans several lines.\n",
    "... \"\"\n",
    ">>> print(text)\n",
    "This is a multiline string.\n",
    "It spans several lines.\"\"\")"
   ]
  },
  {
   "cell_type": "markdown",
   "id": "b69ff271-e403-4828-97b7-7b4802658d1b",
   "metadata": {},
   "source": [
    "<h4 style=\"font-size: 1.4em;\"> E) Within loops or conditional statements </h4>\n",
    "<p style=\"font-size: 16px;\">If you're writing a loop or conditional statement that spans multiple lines, the ... prompt will appear for indentation</p>\n",
    "\n",
    "<p style=\"font-size: 16px;\"> <b>Example</b> </p>"
   ]
  },
  {
   "cell_type": "code",
   "execution_count": 7,
   "id": "8e5c1b0e-1b1b-4cb0-996e-4ce69509cfd3",
   "metadata": {
    "collapsed": true,
    "jupyter": {
     "outputs_hidden": true,
     "source_hidden": true
    }
   },
   "outputs": [
    {
     "name": "stdout",
     "output_type": "stream",
     "text": [
      ">>> for i in range(3):\n",
      "...         print(i)\n",
      "...     \n",
      "0\n",
      "1\n",
      "2\n",
      "\n"
     ]
    }
   ],
   "source": [
    "# Simulating Python shell interaction in a notebook\n",
    "print(\"\"\">>> for i in range(3):\n",
    "...         print(i)\n",
    "...     \n",
    "0\n",
    "1\n",
    "2\n",
    "\"\"\")"
   ]
  },
  {
   "cell_type": "markdown",
   "id": "f093b261-62c2-4270-8bde-1fe76d415f8b",
   "metadata": {},
   "source": [
    "<h4 style=\"font-size: 1.4em;\"> F) Using a decorator </h4>\n",
    "<p style=\"font-size: 16px;\">When defining a function with a decorator, ... appears after the decorator until the function body is fully written</p>\n",
    "\n",
    "<p style=\"font-size: 16px;\"> <b>Example</b> </p>"
   ]
  },
  {
   "cell_type": "code",
   "execution_count": 13,
   "id": "61119717-28de-43d5-a9b7-2162a60c608d",
   "metadata": {
    "collapsed": true,
    "jupyter": {
     "outputs_hidden": true,
     "source_hidden": true
    }
   },
   "outputs": [
    {
     "name": "stdout",
     "output_type": "stream",
     "text": [
      ">>> @staticmethod\n",
      "... def my_function():\n",
      "...    print(\"This is a static method\")\n",
      "... \n",
      ">>> my_function()\n",
      "This is a static method\n"
     ]
    }
   ],
   "source": [
    "# Simulating Python shell interaction in a notebook\n",
    "print(\"\"\">>> @staticmethod\n",
    "... def my_function():\n",
    "...    print(\"This is a static method\")\n",
    "... \n",
    ">>> my_function()\n",
    "This is a static method\"\"\")"
   ]
  },
  {
   "cell_type": "markdown",
   "id": "5adc68dc-4c5b-4ac3-9069-fe509150ae5d",
   "metadata": {},
   "source": [
    "<h2 <p style=\"font-size: 2em;\"> 1b. types.EllipsisType</h2>\n",
    "<p style=\"font-size: 16px;\">EllipsisType is the type of the Ellipsis object. In Python, everything has a type, and Ellipsis is no different. The only object of this type is the Ellipsis object itself.</p>\n",
    "\n",
    "<p style=\"font-size: 16px;\"> <b>Example</b> </p>"
   ]
  },
  {
   "cell_type": "code",
   "execution_count": 16,
   "id": "96a7a8b9-b4d0-4e90-9165-e676d5bebf0a",
   "metadata": {
    "collapsed": true,
    "jupyter": {
     "outputs_hidden": true,
     "source_hidden": true
    }
   },
   "outputs": [
    {
     "name": "stdout",
     "output_type": "stream",
     "text": [
      ">>> type(Ellipsis)\n",
      "<class 'ellipsis'>\n"
     ]
    }
   ],
   "source": [
    "print(\"\"\">>> type(Ellipsis)\n",
    "<class 'ellipsis'>\"\"\")"
   ]
  },
  {
   "cell_type": "markdown",
   "id": "4e46ab89-6eaf-441b-8998-38f2f92dc1b5",
   "metadata": {},
   "source": [
    "<h2 style=\"font-size: 2em;\"> 1c. types.GenericAlias</h2>\n",
    "<p style=\"font-size: 16px;\">GenericAlias allows parameterized generics in the type hinting system. This means you can now parameterize built-in collections, like list, dict, etc., with specific types, such as list[int] or dict[str, int].</p>\n",
    "\n",
    "<p style=\"font-size: 16px;\"> <b>Example</b> </p>"
   ]
  },
  {
   "cell_type": "code",
   "execution_count": 15,
   "id": "e149ed97-9977-4849-ba4b-942143d1fdef",
   "metadata": {
    "collapsed": true,
    "jupyter": {
     "outputs_hidden": true,
     "source_hidden": true
    }
   },
   "outputs": [
    {
     "name": "stdout",
     "output_type": "stream",
     "text": [
      "True\n",
      "True\n"
     ]
    }
   ],
   "source": [
    "from types import GenericAlias\n",
    "\n",
    "# Checking if list[int] is equal to creating a GenericAlias for list and int\n",
    "print(list[int] == GenericAlias(list, (int,)))\n",
    "\n",
    "\n",
    "# Checking if dict[str, int] is equal to creating a GenericAlias for dict and (str, int)\n",
    "print(dict[str, int] == GenericAlias(dict, (str, int)))\n",
    "\n",
    "# t_origin: This is the base class you're parameterizing\n",
    "# t_args: This is a tuple representing the types used to parameterize"
   ]
  },
  {
   "cell_type": "code",
   "execution_count": 17,
   "id": "82ff253a-643e-4120-bb97-f4af37e47d1f",
   "metadata": {
    "collapsed": true,
    "jupyter": {
     "outputs_hidden": true,
     "source_hidden": true
    }
   },
   "outputs": [
    {
     "name": "stdout",
     "output_type": "stream",
     "text": [
      "10\n"
     ]
    }
   ],
   "source": [
    "from typing import List\n",
    "\n",
    "def sum_list(numbers: List[int]) -> int:\n",
    "    return sum(numbers)\n",
    "\n",
    "result = sum_list([1, 2, 3, 4])\n",
    "print(result)"
   ]
  },
  {
   "cell_type": "markdown",
   "id": "e04e5d45-b91f-4a22-8e96-02b0ec97d1d3",
   "metadata": {},
   "source": [
    "<h2 style=\"font-size: 2em;\">2. Abstract Base Classes (ABC)</h2>\n",
    "    <p style=\"font-size: 16px;\">An Abstract Base Class (ABC) defines a common interface for a group of related classes. It serves as a blueprint for its subclasses, ensuring that they implement specific methods.</p>\n",
    "    <h3 style=\"font-size: 1.7em;\">Key Concepts</h3>\n",
    "    <ul>\n",
    "        <li style=\"font-size: 16px;\">Common Interface: ABCs allow for a common interface, ensuring that all derived classes implement certain methods.</li>\n",
    "        <li style=\"font-size: 16px;\">Duck Typing: ABCs complement Python's duck-typing, where the type of an object is determined by its behavior (methods and properties), not by its explicit type.</li>\n",
    "        <li style=\"font-size: 16px;\">Virtual Subclasses: These are classes that aren’t required to explicitly inherit from the ABC but can still be recognized as subclasses via isinstance() or issubclass().</li>\n",
    "        <li style=\"font-size: 16px;\">Python has built-in ABCs in modules like collections.abc (lists, sets) and numbers, but you can also create your own ABCs using the abc module.</li>\n",
    "    </ul>\n",
    "\n",
    "<p style=\"font-size: 16px;\"> <b>Example</b> </p>"
   ]
  },
  {
   "cell_type": "code",
   "execution_count": 20,
   "id": "712e8bc2-5dc7-4e96-8bba-c2dbe1ed7abe",
   "metadata": {
    "collapsed": true,
    "jupyter": {
     "outputs_hidden": true,
     "source_hidden": true
    }
   },
   "outputs": [
    {
     "name": "stdout",
     "output_type": "stream",
     "text": [
      "Area: 12\n",
      "Perimeter: 14\n",
      "My width is 3\n"
     ]
    }
   ],
   "source": [
    "from abc import ABC, abstractmethod\n",
    "\n",
    "# Define an abstract base class\n",
    "class Shape(ABC):\n",
    "    \n",
    "    # Define an abstract method that all subclasses must implement\n",
    "    @abstractmethod\n",
    "    def area(self):\n",
    "        pass\n",
    "    \n",
    "    @abstractmethod\n",
    "    def perimeter(self):\n",
    "        pass\n",
    "\n",
    "# A concrete class that inherits from the ABC\n",
    "class Rectangle(Shape):\n",
    "    \n",
    "    def __init__(self, width, height):\n",
    "        self.width = width\n",
    "        self.height = height\n",
    "    \n",
    "    # Implement the abstract methods\n",
    "    def area(self):\n",
    "        return self.width * self.height\n",
    "    \n",
    "    def perimeter(self):\n",
    "        return 2 * (self.width + self.height)\n",
    "\n",
    "# Instantiate the Rectangle class\n",
    "rect = Rectangle(3, 4)\n",
    "print(f\"Area: {rect.area()}\")        # Output: Area: 12\n",
    "print(f\"Perimeter: {rect.perimeter()}\")  # Output: Perimeter: 14\n",
    "\n",
    "class Square(Rectangle):\n",
    "    \n",
    "    def __init__(self, width, height):\n",
    "        self.width = width\n",
    "        self.height = height\n",
    "    \n",
    "    def printwdth(self):\n",
    "        print(f\"My width is {self.width}\")\n",
    "\n",
    "s = Square(3, 4)\n",
    "s.printwdth()\n",
    "\n",
    "# Trying to instantiate the abstract class will raise an error\n",
    "# shape = Shape()  # This will raise a TypeError\n"
   ]
  },
  {
   "cell_type": "markdown",
   "id": "42b326cc-9d48-490e-b47a-521c3c3642bb",
   "metadata": {},
   "source": [
    "<h2 style=\"font-size: 2em;\">2b. Virtual Subclasses</h2>\n",
    "    <p style=\"font-size: 16px;\">A virtual subclass does not explicitly inherit from an ABC but can be registered to be recognized as such.</p>\n",
    "    <p style=\"font-size: 16px;\"> <b>Example</b> </p>"
   ]
  },
  {
   "cell_type": "code",
   "execution_count": 22,
   "id": "9c4ac622-4c22-4595-bbd5-96757adc2a58",
   "metadata": {
    "collapsed": true,
    "jupyter": {
     "outputs_hidden": true,
     "source_hidden": true
    }
   },
   "outputs": [
    {
     "name": "stdout",
     "output_type": "stream",
     "text": [
      "True\n"
     ]
    }
   ],
   "source": [
    "class Circle:\n",
    "    def area(self):\n",
    "        return 3.14\n",
    "    \n",
    "    def perimeter(self):\n",
    "        return 6.28\n",
    "\n",
    "# Register Circle as a virtual subclass of Shape\n",
    "Shape.register(Circle)  # Base class . register (virtual class)\n",
    "\n",
    "# Now, Circle is considered a subclass of Shape\n",
    "# even without explicit inheritance\n",
    "c = Circle()\n",
    "print(isinstance(c, Shape))  \n"
   ]
  },
  {
   "cell_type": "markdown",
   "id": "548bee81-a22b-43dc-b967-d459a6a1c562",
   "metadata": {},
   "source": [
    "<h2 style=\"font-size: 2em;\">3. Annotations in Python</h2>\n",
    "    <p style=\"font-size: 16px;\">Annotations are a way to add type hints or additional metadata to variables, function parameters, and return values, providing clarity on expected types.</p>\n",
    "    <h3 style=\"font-size: 1.7em;\">Uses of Annotations:</h3>\n",
    "    <ul>\n",
    "        <li style=\"font-size: 16px;\">Variables: Suggest the type of a variable.</li>\n",
    "        <li style=\"font-size: 16px;\">Functions: Suggest the types of parameters and return values.</li>\n",
    "        <li style=\"font-size: 16px;\">Python stores these annotations in a special attribute called <code>__annotations__</code>.</li>\n",
    "    </ul>\n",
    "    <h3 style=\"font-size: 1.7em;\">Key Points:</h3>\n",
    "    <ul>\n",
    "        <li style=\"font-size: 16px;\">Annotations Do Not Enforce Types: They provide hints about what type should be used, but Python does not raise errors if the types don’t match.</li>\n",
    "        <li style=\"font-size: 16px;\">Stored in <code>__annotations__</code>: Function and variable annotations are stored in the <code>__annotations__</code> dictionary.</li>\n",
    "    </ul>\n",
    "    <p style=\"font-size: 16px;\"> <b>Example</b> </p>"
   ]
  },
  {
   "cell_type": "code",
   "execution_count": 27,
   "id": "d2ea1da1-4745-4e94-9d5d-789dc5ca72fe",
   "metadata": {
    "collapsed": true,
    "jupyter": {
     "outputs_hidden": true,
     "source_hidden": true
    }
   },
   "outputs": [
    {
     "name": "stdout",
     "output_type": "stream",
     "text": [
      "{'x': <class 'int'>}\n",
      "{'name': <class 'str'>, 'return': <class 'str'>}\n",
      "{'attr': <class 'float'>}\n",
      "Hello, 20\n"
     ]
    }
   ],
   "source": [
    "# 1. Global variable annotation\n",
    "x: int = 10\n",
    "print(__annotations__)\n",
    "\n",
    "# 2. Function with annotated parameters and return type\n",
    "def greet(name: str) -> str:\n",
    "    return f\"Hello, {name}\"\n",
    "print(greet.__annotations__)\n",
    "\n",
    "#3. Accessing Class Attribute Annotations\n",
    "class MyClass:\n",
    "    attr: float = 3.14\n",
    "print(MyClass.__annotations__)\n",
    "\n",
    "\n",
    "# Annotations don't enforce types\n",
    "print(greet(20))"
   ]
  },
  {
   "cell_type": "markdown",
   "id": "abba7447-a536-4a04-8a79-b78dd7314028",
   "metadata": {},
   "source": [
    "<h2 style=\"font-size: 2em;\">4. PEP 484 and PEP 526</h2>\n",
    "    <p style=\"font-size: 16px;\">PEP 484: Introduced type hints to Python, explaining how to use annotations for type hinting.</p>\n",
    "    <p style=\"font-size: 16px;\">PEP 526: Introduced variable annotations, allowing annotations for variables and class attributes without requiring immediate assignment.</p>\n",
    "    <h3 style=\"font-size: 1.7em;\">Best Practices</h3>\n",
    "    <ul>\n",
    "        <li style=\"font-size: 16px;\">Use annotations consistently for better readability.</li>\n",
    "        <li style=\"font-size: 16px;\">Consider using a type checker like mypy for enforcing type correctness.</li>\n",
    "        <li style=\"font-size: 16px;\">Annotations enhance clarity, helping both developers and tools understand the expected types.</li>\n",
    "    </ul>\n",
    "<p style=\"font-size: 16px;\"> <b>Example</b> </p>"
   ]
  },
  {
   "cell_type": "code",
   "execution_count": 29,
   "id": "0a466fba-bfbf-4ff1-8701-f1b78eeed9ea",
   "metadata": {
    "jupyter": {
     "source_hidden": true
    }
   },
   "outputs": [],
   "source": [
    "# PEP 526\n",
    "# 1. Declaring a variable with a type annotation but no initial value\n",
    "x: int  # x is expected to be of type 'int'\n",
    "\n",
    "# Now assign a value later\n",
    "x = 10\n",
    "\n",
    "# 2. Class Attribute Annotation Without Initial Value\n",
    "class MyClass:\n",
    "    # Declaring a class attribute with a type annotation\n",
    "    name: str  # name is expected to be of type 'str'\n",
    "\n",
    "# Now assign a value after creating an instance\n",
    "obj = MyClass()\n",
    "obj.name = \"Alice\""
   ]
  },
  {
   "cell_type": "markdown",
   "id": "4e27a648-8b03-4ffe-b379-520d1f9619a7",
   "metadata": {},
   "source": [
    "<h2 style=\"font-size: 2em;\">5. Arguments in Python</h2>\n",
    "<p style=\"font-size: 16px;\">An argument is a value passed to a function when it is called. Arguments provide the necessary input for the function to perform its operations.</p>\n",
    "\n",
    "<h3 style=\"font-size: 1.7em;\">Two main types of arguments</h3>\n",
    "\n",
    "<h4 style=\"font-size: 1.4em;\">A) Positional Arguments</h4>\n",
    "<p style=\"font-size: 16px;\">These are passed to a function in the order they are defined. The function expects the arguments to be provided in the exact sequence.</p>\n",
    "\n",
    "<p style=\"font-size: 16px;\"> <b>Example</b> </p>"
   ]
  },
  {
   "cell_type": "code",
   "execution_count": 1,
   "id": "1664640a-0770-4f41-ba60-89f63710992f",
   "metadata": {
    "collapsed": true,
    "jupyter": {
     "outputs_hidden": true,
     "source_hidden": true
    }
   },
   "outputs": [
    {
     "name": "stdout",
     "output_type": "stream",
     "text": [
      "8\n",
      "8\n"
     ]
    }
   ],
   "source": [
    "def add(a, b):\n",
    "    return a + b\n",
    "\n",
    "result = add(3, 5)  # 3 and 5 are positional arguments\n",
    "print(result)\n",
    "\n",
    "# Use `*` to pass elements of an iterable as positional arguments\n",
    "args = (3, 5)\n",
    "result = add(*args)\n",
    "print(result)"
   ]
  },
  {
   "cell_type": "markdown",
   "id": "b5580463-5a99-4f55-be21-92f32847b06a",
   "metadata": {},
   "source": [
    "<h4 style=\"font-size: 1.4em;\">B) Keyword Arguments</h4>\n",
    "<p style=\"font-size: 16px;\">These are passed using the name=value syntax, allowing you to specify which argument corresponds to which parameter. They can be provided in any order.</p>\n",
    "\n",
    "<p style=\"font-size: 16px;\"> <b>Example</b> </p>"
   ]
  },
  {
   "cell_type": "code",
   "execution_count": 2,
   "id": "b12f842d-3ddf-4f42-b179-ee63b557a2e1",
   "metadata": {
    "collapsed": true,
    "jupyter": {
     "outputs_hidden": true,
     "source_hidden": true
    }
   },
   "outputs": [
    {
     "name": "stdout",
     "output_type": "stream",
     "text": [
      "8\n",
      "8\n"
     ]
    }
   ],
   "source": [
    "# Call the function using keyword arguments\n",
    "result = add(a=3, b=5)\n",
    "print(result)\n",
    "\n",
    "# Pass keyword arguments from a dictionary\n",
    "kwargs = {'a': 3, 'b': 5}\n",
    "result = add(**kwargs)\n",
    "print(result)"
   ]
  },
  {
   "cell_type": "markdown",
   "id": "a41250dc-6c5f-4a1d-9d00-e28a984a6ab7",
   "metadata": {},
   "source": [
    "<h4 style=\"font-size: 1.4em;\">c) Mixing Positional and Keyword Arguments</h4>\n",
    "<p style=\"font-size: 16px;\">You can mix positional and keyword arguments in a function call, but positional arguments <b style=\"color: red;\">must always come first.</b></p>\n",
    "\n",
    "<p style=\"font-size: 16px;\"> <b>Example</b> </p>"
   ]
  },
  {
   "cell_type": "code",
   "execution_count": 6,
   "id": "d18d39a3-95aa-43d4-ae8a-85f7908f28db",
   "metadata": {
    "collapsed": true,
    "jupyter": {
     "outputs_hidden": true,
     "source_hidden": true
    }
   },
   "outputs": [
    {
     "name": "stdout",
     "output_type": "stream",
     "text": [
      "8\n"
     ]
    }
   ],
   "source": [
    "# Mixing positional and keyword arguments\n",
    "# Else you will get a SyntaxError\n",
    "result = add(3, b=5)\n",
    "print(result)"
   ]
  },
  {
   "cell_type": "markdown",
   "id": "bc8b8c45-97a9-42fb-a31c-2af7002b513b",
   "metadata": {},
   "source": [
    "<h2 style=\"font-size: 1.7em;\">6. Asynchronous Context Manager</h2>\n",
    "<p style=\"font-size: 16px;\">Allows resource management asynchronously using the async with statement. It must define <code>__aenter__()</code> and <code>__aexit__()</code>, both of which are asynchronous methods that return awaitable objects.</p>\n",
    "\n",
    "<p style=\"font-size: 16px;\"> <b>Example</b> </p>"
   ]
  },
  {
   "cell_type": "code",
   "execution_count": 8,
   "id": "84aa9cbf-639e-4523-b99a-7e9c2ee0355a",
   "metadata": {
    "collapsed": true,
    "jupyter": {
     "outputs_hidden": true,
     "source_hidden": true
    }
   },
   "outputs": [
    {
     "name": "stdout",
     "output_type": "stream",
     "text": [
      "Entering context\n",
      "Inside context\n",
      "Exiting context\n"
     ]
    }
   ],
   "source": [
    "import asyncio\n",
    "\n",
    "class AsyncContextManager:\n",
    "    async def __aenter__(self):\n",
    "        print(\"Entering context\")\n",
    "        return self\n",
    "    \n",
    "    async def __aexit__(self, exc_type, exc_value, traceback):\n",
    "        print(\"Exiting context\")\n",
    "\n",
    "async def main():\n",
    "    async with AsyncContextManager() as manager:\n",
    "        print(\"Inside context\")\n",
    "\n",
    "# Running the asynchronous code\n",
    "# asyncio.run(main())\n",
    "await main()"
   ]
  },
  {
   "cell_type": "code",
   "execution_count": 14,
   "id": "c7cc9bc7-d0c3-4a70-afe5-e6a8f798425f",
   "metadata": {
    "collapsed": true,
    "jupyter": {
     "outputs_hidden": true,
     "source_hidden": true
    }
   },
   "outputs": [
    {
     "name": "stdout",
     "output_type": "stream",
     "text": [
      "sample.txt Successfully downloaded\n"
     ]
    }
   ],
   "source": [
    "# Practical example\n",
    "import aiohttp\n",
    "import asyncio\n",
    "\n",
    "\n",
    "class AsyncFileDownload:\n",
    "    def __init__(self, url: str, dest: str) -> None:\n",
    "        self.url = url\n",
    "        self.dest = dest\n",
    "\n",
    "    async def __aenter__(self):\n",
    "        self.session = aiohttp.ClientSession()  # establish session\n",
    "        return self\n",
    "    \n",
    "    async def __aexit__(self, exc_type, exc_value, traceback):\n",
    "        await self.session.close()\n",
    "\n",
    "    async def downloadFile(self):\n",
    "        async with self.session.get(self.url) as res:\n",
    "            if res.status == 200:\n",
    "                cont = await res.read()\n",
    "                with open(self.dest, 'wb') as f:\n",
    "                    f.write(cont)\n",
    "                print(f\"{self.dest} Successfully downloaded\")\n",
    "            else:\n",
    "                print(f\"{res.status}: Failed download\")\n",
    "\n",
    "async def main():\n",
    "    url = \"https://www.gutenberg.org/files/1342/1342-0.txt\"\n",
    "    dest = \"sample.txt\"\n",
    "    async with AsyncFileDownload(url, dest) as downloader:\n",
    "        await downloader.downloadFile()\n",
    "\n",
    "if __name__ == \"__main__\":\n",
    "    # asyncio.run(main())\n",
    "    await main()"
   ]
  },
  {
   "cell_type": "markdown",
   "id": "5b01abba-0b12-4fa8-a569-20bcf5ad1289",
   "metadata": {},
   "source": [
    "<h2 style=\"font-size: 1.7em;\">7. Asynchronous Generator</h2>\n",
    "<p style=\"font-size: 16px;\">A function that can yield values asynchronously and is used in an <code>async for</code> loop. It looks like a coroutine but uses the <code>yield</code> statement to produce values.</p>\n",
    "\n",
    "<p style=\"font-size: 16px;\"> <b>Example</b> </p>"
   ]
  },
  {
   "cell_type": "code",
   "execution_count": 10,
   "id": "4e6d1651-7664-496f-980f-f9aab89aa0a8",
   "metadata": {
    "collapsed": true,
    "jupyter": {
     "outputs_hidden": true,
     "source_hidden": true
    }
   },
   "outputs": [
    {
     "name": "stdout",
     "output_type": "stream",
     "text": [
      "Received: 0\n",
      "Received: 1\n",
      "Received: 2\n"
     ]
    }
   ],
   "source": [
    "import asyncio\n",
    "\n",
    "# Define an asynchronous generator\n",
    "async def async_generator():\n",
    "    for i in range(3):\n",
    "        await asyncio.sleep(1)  # Simulate an async operation\n",
    "        yield i  # Yield values asynchronously\n",
    "\n",
    "# Consuming an asynchronous generator\n",
    "async def main():\n",
    "    async for value in async_generator():\n",
    "        print(f\"Received: {value}\")\n",
    "\n",
    "# Running the asynchronous code\n",
    "# asyncio.run(main())\n",
    "await main()"
   ]
  },
  {
   "cell_type": "markdown",
   "id": "16e62f95-cf45-4090-8118-05768b99a0ed",
   "metadata": {},
   "source": [
    "<h2 style=\"font-size: 1.7em;\">8. Asynchronous Generator Iterator</h2>\n",
    "<p style=\"font-size: 16px;\">When calling an asynchronous generator function, it returns an asynchronous generator iterator that implements the <code>__anext__()</code> method, allowing control over the execution of the generator.</p>\n",
    "\n",
    "<p style=\"font-size: 16px;\"> <b>Example</b> </p>"
   ]
  },
  {
   "cell_type": "code",
   "execution_count": 11,
   "id": "a29d4dc6-4d40-4ef7-85bc-24005c08d1af",
   "metadata": {
    "collapsed": true,
    "jupyter": {
     "outputs_hidden": true,
     "source_hidden": true
    }
   },
   "outputs": [
    {
     "name": "stdout",
     "output_type": "stream",
     "text": [
      "1\n",
      "2\n"
     ]
    }
   ],
   "source": [
    "async def async_generator():\n",
    "    yield 1\n",
    "    yield 2\n",
    "\n",
    "async def main():\n",
    "    # Create an asynchronous generator iterator\n",
    "    gen = async_generator()\n",
    "\n",
    "    # Manually fetch values using __anext__()\n",
    "    print(await gen.__anext__())\n",
    "    print(await gen.__anext__())\n",
    "\n",
    "# Running the asynchronous code\n",
    "# asyncio.run(main())\n",
    "await main()"
   ]
  },
  {
   "cell_type": "markdown",
   "id": "674a0e44-53c8-4d62-88fb-3c1187c2d012",
   "metadata": {},
   "source": [
    "<h2 style=\"font-size: 1.7em;\">9. Asynchronous Iterable</h2>\n",
    "<p style=\"font-size: 16px;\">An asynchronous iterable can be used in an async for loop and must implement the <code>__aiter__()</code> method.</p>\n",
    "\n",
    "<p style=\"font-size: 16px;\"> <b>Example</b> </p>"
   ]
  },
  {
   "cell_type": "code",
   "execution_count": 12,
   "id": "b4cc7f91-cc03-42dc-888a-41950d765ad7",
   "metadata": {
    "collapsed": true,
    "jupyter": {
     "outputs_hidden": true,
     "source_hidden": true
    }
   },
   "outputs": [
    {
     "name": "stdout",
     "output_type": "stream",
     "text": [
      "1\n",
      "2\n",
      "3\n"
     ]
    }
   ],
   "source": [
    "class AsyncIterable:\n",
    "    def __init__(self):\n",
    "        self.data = [1, 2, 3]\n",
    "    \n",
    "    def __aiter__(self):\n",
    "        return self\n",
    "\n",
    "    async def __anext__(self):\n",
    "        if not self.data:\n",
    "            raise StopAsyncIteration\n",
    "        await asyncio.sleep(1)  # Simulate an async operation\n",
    "        return self.data.pop(0)\n",
    "\n",
    "async def main():\n",
    "    async for item in AsyncIterable():\n",
    "        print(item)\n",
    "\n",
    "# Running the asynchronous code\n",
    "# asyncio.run(main())\n",
    "await main()"
   ]
  },
  {
   "cell_type": "markdown",
   "id": "1061d6ff-6640-4978-8877-7473694b8f71",
   "metadata": {},
   "source": [
    "<h2 style=\"font-size: 1.7em;\">10. Awaitable</h2>\n",
    "<p style=\"font-size: 16px;\">An object that can be used in an await expression. It can either be a coroutine (function defined with <code>async def</code>) or an object with an <code>__await__()</code> method.</p>\n",
    "<p style=\"font-size: 16px;\"> <b>Example</b> </p>"
   ]
  },
  {
   "cell_type": "code",
   "execution_count": 15,
   "id": "5b7cf93b-61aa-4326-8ab2-eb72f2e8ce08",
   "metadata": {
    "jupyter": {
     "source_hidden": true
    }
   },
   "outputs": [],
   "source": [
    "import asyncio\n",
    "\n",
    "class CustomAwaitable:\n",
    "    def __await__(self):\n",
    "        return (yield from asyncio.sleep(1).__await__())  # Custom await logic\n",
    "\n",
    "async def main():\n",
    "    await CustomAwaitable()  # Awaiting the custom awaitable\n",
    "\n",
    "# Running the asynchronous code\n",
    "# asyncio.run(main())\n",
    "await main()\n",
    "\n",
    "# __await__(self) Method: This is a special method that must be implemented for the object to be awaitable.\n",
    "# When you call await on an instance of this class, Python calls this method.\n",
    "# asyncio.sleep(1).__await__(): This part calls asyncio.sleep(1), \n",
    "# which is a coroutine that pauses execution for 1 second. \n",
    "# The __await__() method of the coroutine is then called, which returns an iterator that will yield control back to the event loop until the sleep operation is complete."
   ]
  },
  {
   "cell_type": "markdown",
   "id": "07dd18f7-2c28-4c72-a3dd-c3ff6dba4e1f",
   "metadata": {},
   "source": [
    "<h2 style=\"font-size: 2em;\">11. Binary File</h2>\n",
    "    <p style=\"font-size: 16px;\">\n",
    "        A binary file contains data in binary format (0s and 1s), unlike a text file that contains readable text. These files are read and written using binary modes such as 'rb' (read binary), 'wb' (write binary), or 'rb+' (read/write binary).\n",
    "    </p>\n",
    "    <p style=\"font-size: 16px;\"> <b>Example</b> </p>"
   ]
  },
  {
   "cell_type": "code",
   "execution_count": 16,
   "id": "44a0b105-8d75-4459-8466-df9f1e1a1d87",
   "metadata": {
    "collapsed": true,
    "jupyter": {
     "outputs_hidden": true,
     "source_hidden": true
    }
   },
   "outputs": [
    {
     "name": "stdout",
     "output_type": "stream",
     "text": [
      "b'\\x00\\x01\\x02\\x03\\x04'\n"
     ]
    }
   ],
   "source": [
    "# Writing binary data to a file\n",
    "with open('binaryfile.bin', 'wb') as f:\n",
    "    f.write(b'\\x00\\x01\\x02\\x03\\x04')  # writing bytes\n",
    "\n",
    "# Reading binary data from a file\n",
    "with open('binaryfile.bin', 'rb') as f:\n",
    "    data = f.read()\n",
    "    print(data)"
   ]
  },
  {
   "cell_type": "markdown",
   "id": "899c2467-597c-44a4-806a-78109161ad56",
   "metadata": {},
   "source": [
    "<h2 style=\"font-size: 1.7em;\">12. Borrowed Reference</h2>\n",
    "    <p style=\"font-size: 16px;\">\n",
    "        A borrowed reference in Python's C API (used when extending or embedding Python in C code) refers to an object reference that the code doesn’t \"own.\" It means the code doesn't increase the reference count, and the object can be garbage-collected at any time unless explicitly turned into a strong reference with Py_INCREF().\n",
    "    </p>\n",
    "    <p style=\"font-size: 16px;\"> <b>Example</b> </p>"
   ]
  },
  {
   "cell_type": "code",
   "execution_count": 17,
   "id": "992a8f64-69bf-4248-b710-968296641967",
   "metadata": {
    "jupyter": {
     "source_hidden": true
    }
   },
   "outputs": [],
   "source": [
    "# PyObject* borrowed_ref = PyList_GetItem(some_list, 0);  // Does not increment reference count\n",
    "# if (borrowed_ref == NULL) {\n",
    "#     return NULL;  // Handle error\n",
    "# }\n",
    "# Py_INCREF(borrowed_ref);  // Safely turn it into a strong reference\n",
    "\n",
    "# PyList_GetItem returns a borrowed reference to the object at index 0. \n",
    "# Since the reference count is not incremented, the object can be destroyed\n",
    "# at any time unless we use Py_INCREF() to convert it into a strong reference."
   ]
  },
  {
   "cell_type": "markdown",
   "id": "df103b5e-755f-4638-8a27-779c7204c2fc",
   "metadata": {},
   "source": [
    "<h2 style=\"font-size: 1.7em;\">13. Bytes-like Object</h2>\n",
    "    <p style=\"font-size: 16px;\">\n",
    "        A bytes-like object is an object that supports Python’s buffer protocol, which allows it to expose raw byte memory (a contiguous block of bytes). These include:</p>  \n",
    "        <ul>\n",
    "            <li style=\"font-size: 16px;\">Bytes (immutable)</li>\n",
    "            <li style=\"font-size: 16px;\">Bytearray (mutable)</li>\n",
    "            <li style=\"font-size: 16px;\">Memoryview (views of byte data) [both mutable and immutable]</li>\n",
    "            <li style=\"font-size: 16px;\">Array.array (mutable)</li>\n",
    "        </ul>\n",
    "    <p style=\"font-size: 16px;\">Bytes-like objects are often used for operations that require raw binary data, such as compression, encryption, and network communication.</p>\n",
    "    <p style=\"font-size: 16px;\"> <b>Example</b> </p>"
   ]
  },
  {
   "cell_type": "code",
   "execution_count": 18,
   "id": "bcaa4359-5ff8-4fc0-b594-cd70f70cddb6",
   "metadata": {
    "collapsed": true,
    "jupyter": {
     "outputs_hidden": true,
     "source_hidden": true
    }
   },
   "outputs": [
    {
     "name": "stdout",
     "output_type": "stream",
     "text": [
      "b'Hello, world!'\n",
      "bytearray(b'Hello')\n",
      "bytearray(b'Gello')\n",
      "71\n"
     ]
    }
   ],
   "source": [
    "# Using bytes (immutable bytes-like object)\n",
    "data = b'Hello, world!'\n",
    "print(data)  # Output: b'Hello, world!'\n",
    "\n",
    "# Using bytearray (mutable bytes-like object)\n",
    "data_mutable = bytearray(b'Hello')\n",
    "print(data_mutable)\n",
    "data_mutable[0] = 0x47  # Modify the byte at index 0\n",
    "print(data_mutable)\n",
    "\n",
    "# Using memoryview (view on bytearray)\n",
    "mem_view = memoryview(data_mutable)\n",
    "print(mem_view[0])\n"
   ]
  },
  {
   "cell_type": "markdown",
   "id": "8b9eae7c-5530-47ed-9426-8dce07dcaa38",
   "metadata": {},
   "source": [
    "<h2 style=\"font-size: 1.7em;\">14. Bytecode</h2>\n",
    "    <p style=\"font-size: 16px;\">\n",
    "        Python bytecode is the intermediate representation of your Python code after it's compiled. It’s executed by the Python virtual machine (CPython). Bytecode is stored in .pyc files for performance optimization during repeated execution. Bytecode is not human-readable, but it is an internal format used to optimize performance.\n",
    "    </p>\n",
    "    <p style=\"font-size: 16px;\"> <b>Example</b> </p>"
   ]
  },
  {
   "cell_type": "code",
   "execution_count": 19,
   "id": "f9da5d55-9a2c-4d4d-acf4-bc9fba8518d6",
   "metadata": {
    "collapsed": true,
    "jupyter": {
     "outputs_hidden": true,
     "source_hidden": true
    }
   },
   "outputs": [
    {
     "name": "stdout",
     "output_type": "stream",
     "text": [
      "  4           0 RESUME                   0\n",
      "\n",
      "  5           2 LOAD_GLOBAL              1 (NULL + print)\n",
      "             12 LOAD_CONST               1 ('Hello, World!')\n",
      "             14 CALL                     1\n",
      "             22 POP_TOP\n",
      "             24 RETURN_CONST             0 (None)\n"
     ]
    }
   ],
   "source": [
    "# Listing bytecode instructions for a Python function using the dis module\n",
    "import dis\n",
    "\n",
    "def hello_world():\n",
    "    print(\"Hello, World!\")\n",
    "\n",
    "dis.dis(hello_world)  # Disassembles the function into bytecode"
   ]
  },
  {
   "cell_type": "markdown",
   "id": "8355e143-96bb-4e78-9e2a-5b0e0d601fab",
   "metadata": {},
   "source": [
    "<h2 style=\"font-size: 1.4em;\">15. Bytes-like Objects</h2>\n",
    "    <p style=\"font-size: 16px;\">\n",
    "        Let’s dive deeper into how bytearray and memoryview work with ASCII values and their hexadecimal representations.\n",
    "    </p>\n",
    "    <ul>\n",
    "        <li style=\"font-size: 16px;\">\n",
    "            <strong>a) Working with bytearray and ASCII/Hexadecimal:</strong> You can manipulate bytearrays at the byte level, where each character is represented by its ASCII code or hexadecimal equivalent.\n",
    "        </li>\n",
    "    </ul>\n",
    "    <p style=\"font-size: 16px;\"> <b>Example</b> </p>"
   ]
  },
  {
   "cell_type": "code",
   "execution_count": 20,
   "id": "7c777673-5deb-42e0-b149-c4d670fe223b",
   "metadata": {
    "collapsed": true,
    "jupyter": {
     "outputs_hidden": true,
     "source_hidden": true
    }
   },
   "outputs": [
    {
     "name": "stdout",
     "output_type": "stream",
     "text": [
      "bytearray(b'Hello')\n",
      "[72, 101, 108, 108, 111]\n",
      "['0x48', '0x65', '0x6c', '0x6c', '0x6f']\n",
      "bytearray(b'Jello')\n"
     ]
    }
   ],
   "source": [
    "data_mutable = bytearray(b'Hello')\n",
    "print(data_mutable)\n",
    "\n",
    "# Viewing ASCII values of each byte\n",
    "ascii_values = [b for b in data_mutable]\n",
    "print(ascii_values)\n",
    "\n",
    "# Viewing hexadecimal representation\n",
    "hex_values = [hex(b) for b in data_mutable]\n",
    "print(hex_values)\n",
    "\n",
    "# Modifying the first byte (ASCII for 'H' is 72, we change it to 'J' which is 74)\n",
    "data_mutable[0] = 0x4A  # 0x4A is hexadecimal for 74, which is ASCII for 'J'\n",
    "print(data_mutable)\n"
   ]
  },
  {
   "cell_type": "markdown",
   "id": "c7baed0e-2587-4fc6-9e5b-8ab07c74cc8b",
   "metadata": {},
   "source": [
    "<ul>\n",
    "    <li style=\"font-size: 16px;\">\n",
    "            <strong>b) Working with memoryview:</strong> memoryview lets you manipulate parts of large binary data efficiently without creating a copy of the data.\n",
    "        </li>\n",
    "</ul>\n",
    "\n",
    "<p style=\"font-size: 16px;\"> <b>Example</b> </p>"
   ]
  },
  {
   "cell_type": "code",
   "execution_count": 21,
   "id": "b36ed2e3-0ed2-4ea4-ac4a-670034e23e77",
   "metadata": {
    "collapsed": true,
    "jupyter": {
     "outputs_hidden": true,
     "source_hidden": true
    }
   },
   "outputs": [
    {
     "name": "stdout",
     "output_type": "stream",
     "text": [
      "[80, 121, 116, 104, 111, 110]\n",
      "bytearray(b'Jython')\n"
     ]
    }
   ],
   "source": [
    "# Creating a bytearray and a memoryview\n",
    "data_mutable = bytearray(b'Python')\n",
    "mem_view = memoryview(data_mutable)\n",
    "\n",
    "# View original ASCII values via memoryview\n",
    "ascii_mem_view = [mem_view[i] for i in range(len(mem_view))]\n",
    "print(ascii_mem_view)\n",
    "\n",
    "# Modify the memoryview to change 'P' to 'J' (80 -> 74)\n",
    "mem_view[0] = 0x4A  # 0x4A is ASCII for 'J'\n",
    "print(data_mutable)\n"
   ]
  },
  {
   "cell_type": "markdown",
   "id": "e96c4c4d-9eec-4703-a3f8-7721fa75efa0",
   "metadata": {},
   "source": [
    "<h2 style=\"font-size: 2em;\">16. Callable</h2>\n",
    "    <p style=\"font-size: 16px;\">\n",
    "        A callable is an object that can be called using parentheses (), usually a function, method, or a class instance that defines the <code>__call__()</code> method.\n",
    "    </p>\n",
    "<p style=\"font-size: 16px;\"> <b>Example</b> </p>"
   ]
  },
  {
   "cell_type": "code",
   "execution_count": 24,
   "id": "884753cc-2465-4ba0-93c6-bea6a071d4cb",
   "metadata": {
    "collapsed": true,
    "jupyter": {
     "outputs_hidden": true,
     "source_hidden": true
    }
   },
   "outputs": [
    {
     "name": "stdout",
     "output_type": "stream",
     "text": [
      "Hello, world!\n",
      "This instance is callable!\n"
     ]
    }
   ],
   "source": [
    "# A function is callable\n",
    "def my_function():\n",
    "    print(\"Hello, world!\")\n",
    "\n",
    "my_function() \n",
    "\n",
    "# A class instance can also be callable if it implements __call__()\n",
    "class MyClass:\n",
    "    def __call__(self):\n",
    "        print(\"This instance is callable!\")\n",
    "\n",
    "obj = MyClass()\n",
    "obj()\n"
   ]
  },
  {
   "cell_type": "markdown",
   "id": "749783a0-5910-4ee2-b4cf-d680555bd7a8",
   "metadata": {},
   "source": [
    "<h2 style=\"font-size: 1.7em;\">17. Callback</h2>\n",
    "    <p style=\"font-size: 16px;\">\n",
    "        A callback is a function passed as an argument to another function, which will be called (or \"called back\") at some later point in the program.\n",
    "    </p>\n",
    "<p style=\"font-size: 16px;\"> <b>Example</b> </p>"
   ]
  },
  {
   "cell_type": "code",
   "execution_count": 25,
   "id": "60bed3bf-58fe-452b-8c62-4dbc79f7083a",
   "metadata": {
    "collapsed": true,
    "jupyter": {
     "outputs_hidden": true,
     "source_hidden": true
    }
   },
   "outputs": [
    {
     "name": "stdout",
     "output_type": "stream",
     "text": [
      "Processing data...\n",
      "Callback called!\n"
     ]
    }
   ],
   "source": [
    "# Define a callback function\n",
    "def callback_function():\n",
    "    print(\"Callback called!\")\n",
    "\n",
    "# Define a function that takes a callback as an argument\n",
    "def process_data(callback):\n",
    "    print(\"Processing data...\")\n",
    "    callback()  # Call the callback function\n",
    "\n",
    "# Use the callback\n",
    "process_data(callback_function)"
   ]
  },
  {
   "cell_type": "markdown",
   "id": "a37d0a1b-b5da-4f3e-9cb7-6a8e2686c5db",
   "metadata": {},
   "source": [
    "<h2 style=\"font-size: 1.7em;\">18. Class</h2>\n",
    "    <p style=\"font-size: 16px;\">\n",
    "        A class is a blueprint for creating objects (instances) in Python. It defines attributes and methods.\n",
    "    </p>\n",
    "<p style=\"font-size: 16px;\"> <b>Example</b> </p>"
   ]
  },
  {
   "cell_type": "code",
   "execution_count": 26,
   "id": "37bdfaf3-57e0-4397-9dc6-e323da668dd7",
   "metadata": {
    "collapsed": true,
    "jupyter": {
     "outputs_hidden": true,
     "source_hidden": true
    }
   },
   "outputs": [
    {
     "name": "stdout",
     "output_type": "stream",
     "text": [
      "Hello, my name is Alice.\n"
     ]
    }
   ],
   "source": [
    "class Person:\n",
    "    def __init__(self, name, age):\n",
    "        self.name = name  # Instance variable\n",
    "        self.age = age    # Instance variable\n",
    "\n",
    "    def greet(self):\n",
    "        print(f\"Hello, my name is {self.name}.\")\n",
    "\n",
    "# Creating an object (instance) of the class\n",
    "person = Person(\"Alice\", 30)\n",
    "person.greet()"
   ]
  },
  {
   "cell_type": "code",
   "execution_count": 25,
   "id": "2049c2e9-a8c0-431e-b267-e489cac426f0",
   "metadata": {
    "collapsed": true,
    "jupyter": {
     "outputs_hidden": true,
     "source_hidden": true
    }
   },
   "outputs": [
    {
     "name": "stdout",
     "output_type": "stream",
     "text": [
      "My name's Winnie\n"
     ]
    }
   ],
   "source": [
    "class Person:\n",
    "    def __init__(self, name: str, age: int) -> None:\n",
    "        self.name = name\n",
    "        self.age = age\n",
    "\n",
    "    def intro(self) -> None:\n",
    "        print(f\"My name's {self.name}\")\n",
    "\n",
    "\n",
    "person1 = Person(\"Winnie\", 22)\n",
    "person1.intro()"
   ]
  },
  {
   "cell_type": "markdown",
   "id": "fec3e182-8d5a-48be-b7b2-fe318e4f1b27",
   "metadata": {},
   "source": [
    "<h2 style=\"font-size: 1.7em;\">19. Class Variable</h2>\n",
    "    <p style=\"font-size: 16px;\">\n",
    "        A class variable is shared by all instances of a class. It's defined inside the class but outside of any method.\n",
    "    </p>\n",
    "<p style=\"font-size: 16px;\"> <b>Example</b> </p>"
   ]
  },
  {
   "cell_type": "code",
   "execution_count": 27,
   "id": "b20d0844-2601-4c75-becd-5e53e9e7d866",
   "metadata": {
    "collapsed": true,
    "jupyter": {
     "outputs_hidden": true,
     "source_hidden": true
    }
   },
   "outputs": [
    {
     "name": "stdout",
     "output_type": "stream",
     "text": [
      "TechCorp\n",
      "TechCorp\n",
      "TechCorp\n"
     ]
    }
   ],
   "source": [
    "class Employee:\n",
    "    company = \"TechCorp\"  # Class variable\n",
    "\n",
    "    def __init__(self, name):\n",
    "        self.name = name  # Instance variable\n",
    "\n",
    "# Accessing the class variable\n",
    "print(Employee.company)\n",
    "\n",
    "emp1 = Employee(\"John\")\n",
    "emp2 = Employee(\"Jane\")\n",
    "\n",
    "# Both instances share the same class variable\n",
    "print(emp1.company)\n",
    "print(emp2.company)"
   ]
  },
  {
   "cell_type": "markdown",
   "id": "d53b21e8-9e82-4c27-840d-c97fa4984f8f",
   "metadata": {},
   "source": [
    "<h2 style=\"font-size: 1.7em;\">20. Complex Number</h2>\n",
    "    <p style=\"font-size: 16px;\">\n",
    "        A complex number in Python has a real part and an imaginary part, represented by <code>j</code>.\n",
    "    </p>\n",
    "<p style=\"font-size: 16px;\"> <b>Example</b> </p>"
   ]
  },
  {
   "cell_type": "code",
   "execution_count": 28,
   "id": "6cff1091-c9e8-4163-86a4-b0ac5b499ab8",
   "metadata": {
    "collapsed": true,
    "jupyter": {
     "outputs_hidden": true,
     "source_hidden": true
    }
   },
   "outputs": [
    {
     "name": "stdout",
     "output_type": "stream",
     "text": [
      "3.0\n",
      "4.0\n",
      "(5+1j)\n"
     ]
    }
   ],
   "source": [
    "# Creating a complex number\n",
    "c = 3 + 4j\n",
    "print(c.real)  \n",
    "print(c.imag)  \n",
    "\n",
    "# Operations with complex numbers\n",
    "c2 = 2 - 3j\n",
    "result = c + c2\n",
    "print(result)"
   ]
  },
  {
   "cell_type": "markdown",
   "id": "5be71ee6-50d5-47e8-8204-ac49ac71c732",
   "metadata": {},
   "source": [
    "<h2 style=\"font-size: 1.7em;\">21. Context Manager</h2>\n",
    "    <p style=\"font-size: 16px;\">\n",
    "        A context manager controls the environment in a <code>with</code> statement, typically handling resource acquisition and release.\n",
    "    </p>\n",
    "<p style=\"font-size: 16px;\"> <b>Example</b> </p>"
   ]
  },
  {
   "cell_type": "code",
   "execution_count": 29,
   "id": "fc31da40-68a7-4be2-a410-21e15604db90",
   "metadata": {
    "collapsed": true,
    "jupyter": {
     "outputs_hidden": true,
     "source_hidden": true
    }
   },
   "outputs": [
    {
     "name": "stdout",
     "output_type": "stream",
     "text": [
      "Entering context\n",
      "Inside the context\n",
      "Exiting context\n"
     ]
    }
   ],
   "source": [
    "# Using a context manager with a file\n",
    "with open(\"example.txt\", \"w\") as file:\n",
    "    file.write(\"Hello, world!\")  # The file is automatically closed after the block\n",
    "\n",
    "# Custom context manager\n",
    "class MyContextManager:\n",
    "    def __enter__(self):\n",
    "        print(\"Entering context\")\n",
    "        return self\n",
    "\n",
    "    def __exit__(self, exc_type, exc_val, exc_tb):\n",
    "        print(\"Exiting context\")\n",
    "\n",
    "with MyContextManager():\n",
    "    print(\"Inside the context\")"
   ]
  },
  {
   "cell_type": "markdown",
   "id": "e7a57f34-22fc-49a5-8878-e69139e58eae",
   "metadata": {},
   "source": [
    "<h2 style=\"font-size: 1.7em;\">22. Context Variable</h2>\n",
    "    <p style=\"font-size: 16px;\">\n",
    "        A context variable is a variable that can have different values depending on the context (e.g., asynchronous tasks).\n",
    "    </p>\n",
    "<p style=\"font-size: 16px;\"> <b>Example</b> </p>"
   ]
  },
  {
   "cell_type": "code",
   "execution_count": 31,
   "id": "f8dc8e7e-3ad2-465d-ab43-32a8490b7341",
   "metadata": {
    "collapsed": true,
    "jupyter": {
     "outputs_hidden": true,
     "source_hidden": true
    }
   },
   "outputs": [
    {
     "name": "stdout",
     "output_type": "stream",
     "text": [
      "default_value\n",
      "new_value\n",
      "default_value\n"
     ]
    }
   ],
   "source": [
    "import contextvars\n",
    "\n",
    "# Create a context variable\n",
    "var = contextvars.ContextVar(\"var\", default=\"default_value\")\n",
    "\n",
    "def print_var():\n",
    "    print(var.get())\n",
    "\n",
    "print_var()\n",
    "\n",
    "# Change the value in a specific context\n",
    "token = var.set(\"new_value\")\n",
    "print_var()\n",
    "\n",
    "# Reset to the previous value\n",
    "var.reset(token)\n",
    "print_var()"
   ]
  },
  {
   "cell_type": "markdown",
   "id": "4d15149a-44e8-44cd-9024-7b80db0c7fd1",
   "metadata": {},
   "source": [
    "<h2 style=\"font-size: 1.7em;\">23. Contiguous</h2>\n",
    "    <p style=\"font-size: 16px;\">\n",
    "        A buffer is contiguous if the data is stored sequentially in memory, like arrays or lists in C/Fortran. In Python, this term is used when dealing with memory layouts of arrays.\n",
    "    </p>\n",
    "<p style=\"font-size: 16px;\"> <b>Example</b> </p>"
   ]
  },
  {
   "cell_type": "code",
   "execution_count": 32,
   "id": "14e833fa-4b2b-49f3-adfb-80f25d2dbd92",
   "metadata": {
    "collapsed": true,
    "jupyter": {
     "outputs_hidden": true,
     "source_hidden": true
    }
   },
   "outputs": [
    {
     "name": "stdout",
     "output_type": "stream",
     "text": [
      "True\n",
      "True\n"
     ]
    }
   ],
   "source": [
    "import numpy as np\n",
    "\n",
    "# Creating a contiguous array (C-contiguous by default)\n",
    "arr = np.array([[1, 2], [3, 4]], order='C')\n",
    "print(arr.flags['C_CONTIGUOUS'])\n",
    "\n",
    "# Creating a Fortran-contiguous array\n",
    "arr_f = np.array([[1, 2], [3, 4]], order='F')\n",
    "print(arr_f.flags['F_CONTIGUOUS'])"
   ]
  },
  {
   "cell_type": "markdown",
   "id": "fe2024c5-e1e8-47b1-b276-373fc273ce44",
   "metadata": {},
   "source": [
    "<h2 style=\"font-size: 1.7em;\">24. Coroutine</h2>\n",
    "    <p style=\"font-size: 16px;\">\n",
    "        A coroutine is a special kind of function that can be paused and resumed at different points.\n",
    "    </p>\n",
    "<p style=\"font-size: 16px;\"> <b>Example</b> </p>"
   ]
  },
  {
   "cell_type": "code",
   "execution_count": 33,
   "id": "00d6ccff-5392-441a-9ca7-446ead8bdf6f",
   "metadata": {
    "collapsed": true,
    "jupyter": {
     "outputs_hidden": true,
     "source_hidden": true
    }
   },
   "outputs": [
    {
     "name": "stdout",
     "output_type": "stream",
     "text": [
      "Start coroutine\n",
      "End coroutine\n"
     ]
    }
   ],
   "source": [
    "# Defining a coroutine\n",
    "async def my_coroutine():\n",
    "    print(\"Start coroutine\")\n",
    "    await asyncio.sleep(1)\n",
    "    print(\"End coroutine\")\n",
    "\n",
    "# Running the coroutine\n",
    "await my_coroutine()"
   ]
  },
  {
   "cell_type": "markdown",
   "id": "6342d8ab-db1a-416d-b71f-a4d803648cae",
   "metadata": {},
   "source": [
    "<h2 style=\"font-size: 1.7em;\">25. Coroutine Function</h2>\n",
    "    <p style=\"font-size: 16px;\">\n",
    "        A coroutine function is a function that returns a coroutine object. It’s defined using <code>async def</code>.\n",
    "    </p>\n",
    "<p style=\"font-size: 16px;\"> <b>Example</b> </p>"
   ]
  },
  {
   "cell_type": "code",
   "execution_count": 34,
   "id": "f8569815-0580-4ec8-8b41-cb3856149d00",
   "metadata": {
    "collapsed": true,
    "jupyter": {
     "outputs_hidden": true,
     "source_hidden": true
    }
   },
   "outputs": [
    {
     "name": "stdout",
     "output_type": "stream",
     "text": [
      "Fetching data...\n",
      "Data fetched\n"
     ]
    }
   ],
   "source": [
    "# Coroutine function\n",
    "async def fetch_data():\n",
    "    print(\"Fetching data...\")\n",
    "    await asyncio.sleep(2)  # Simulate network delay\n",
    "    print(\"Data fetched\")\n",
    "\n",
    "# Running the coroutine function\n",
    "await fetch_data()"
   ]
  },
  {
   "cell_type": "markdown",
   "id": "3d72a364-0d8d-4636-9b68-55cc8a10fa98",
   "metadata": {},
   "source": [
    "<h2 style=\"font-size: 1.7em;\">26. CPython</h2>\n",
    "    <p style=\"font-size: 16px;\">\n",
    "        CPython is the default and most widely used implementation of the Python programming language. It’s the reference implementation that you download from python.org. It compiles Python code into bytecode and executes it using a virtual machine.\n",
    "    </p>\n",
    "<p style=\"font-size: 16px;\"> <b>Example</b> </p>"
   ]
  },
  {
   "cell_type": "code",
   "execution_count": 22,
   "id": "1e742565-37a3-483e-a494-184066d87da1",
   "metadata": {
    "collapsed": true,
    "jupyter": {
     "outputs_hidden": true,
     "source_hidden": true
    }
   },
   "outputs": [
    {
     "name": "stdout",
     "output_type": "stream",
     "text": [
      "This is executed by CPython!\n",
      "CPython\n"
     ]
    }
   ],
   "source": [
    "# When you write and run Python code, you are usually using CPython:\n",
    "print(\"This is executed by CPython!\")\n",
    "\n",
    "# You can verify the implementation:\n",
    "import platform\n",
    "print(platform.python_implementation())"
   ]
  },
  {
   "cell_type": "markdown",
   "id": "fdc171b7-59a0-404e-82ca-9d2500a5bd42",
   "metadata": {},
   "source": [
    "<h2 style=\"font-size: 2em;\">27. Decorator</h2>\n",
    "    <p style=\"font-size: 16px;\">\n",
    "        A decorator is a function that takes another function and extends or alters its behavior without explicitly modifying it. \n",
    "        Decorators are often used to add functionality to existing code in a clean and reusable way.\n",
    "    </p>\n",
    "<p style=\"font-size: 16px;\"> <b>Example</b> </p>"
   ]
  },
  {
   "cell_type": "code",
   "execution_count": 50,
   "id": "60c95c10-29bd-4c61-8f93-f47fa1ea6ae6",
   "metadata": {
    "collapsed": true,
    "jupyter": {
     "outputs_hidden": true,
     "source_hidden": true
    }
   },
   "outputs": [
    {
     "name": "stdout",
     "output_type": "stream",
     "text": [
      "Something before the function.\n",
      "Hello!\n",
      "Something after the function.\n"
     ]
    }
   ],
   "source": [
    "def my_decorator(func):\n",
    "    def wrapper():\n",
    "        print(\"Something before the function.\")\n",
    "        func()\n",
    "        print(\"Something after the function.\")\n",
    "    return wrapper\n",
    "\n",
    "@my_decorator  # This is equivalent to: say_hello = my_decorator(say_hello)\n",
    "def say_hello():\n",
    "    print(\"Hello!\")\n",
    "\n",
    "say_hello()"
   ]
  },
  {
   "cell_type": "code",
   "execution_count": 26,
   "id": "d53d2355-8ca5-4b39-98a2-faa5b5909d5c",
   "metadata": {
    "collapsed": true,
    "jupyter": {
     "outputs_hidden": true,
     "source_hidden": true
    }
   },
   "outputs": [
    {
     "name": "stdout",
     "output_type": "stream",
     "text": [
      "Hello, ready to run\n",
      "5\n",
      "Goodbye\n"
     ]
    },
    {
     "data": {
      "text/plain": [
       "5"
      ]
     },
     "execution_count": 26,
     "metadata": {},
     "output_type": "execute_result"
    }
   ],
   "source": [
    "def greet(f):\n",
    "    def wrapper(*args, **kwargs):\n",
    "        print(\"Hello, ready to run\")\n",
    "        result = f(*args, **kwargs)\n",
    "        print(result)\n",
    "        print(\"Goodbye\")\n",
    "        return result\n",
    "    return wrapper\n",
    "\n",
    "@greet\n",
    "def add(a, b):\n",
    "    return a + b\n",
    "\n",
    "add(2, 3)"
   ]
  },
  {
   "cell_type": "markdown",
   "id": "7cbb7ce2-3547-41f2-975d-f063d36dada3",
   "metadata": {},
   "source": [
    "<h2 style=\"font-size: 2em;\">28. Descriptor</h2>\n",
    "    <p style=\"font-size: 16px;\">\n",
    "        A descriptor is an object that defines the methods <code>__get__()</code>, <code>__set__()</code>, or <code>__delete__()</code>. \n",
    "        Descriptors control what happens when an attribute is retrieved, set, or deleted.\n",
    "    </p>\n",
    "<p style=\"font-size: 16px;\"> <b>Example</b> </p>"
   ]
  },
  {
   "cell_type": "code",
   "execution_count": 49,
   "id": "b7171a7f-a250-4837-ae5b-8c0102a358aa",
   "metadata": {
    "collapsed": true,
    "jupyter": {
     "outputs_hidden": true,
     "source_hidden": true
    }
   },
   "outputs": [
    {
     "name": "stdout",
     "output_type": "stream",
     "text": [
      "This is the value\n",
      "Setting new value!\n"
     ]
    }
   ],
   "source": [
    "class MyDescriptor:\n",
    "    def __get__(self, obj, objtype=None):\n",
    "        return \"This is the value\"\n",
    "\n",
    "    def __set__(self, obj, value):\n",
    "        print(f\"Setting {value}!\")\n",
    "\n",
    "class MyClass:\n",
    "    attr = MyDescriptor()\n",
    "\n",
    "instance = MyClass()\n",
    "print(instance.attr)  # Calls MyDescriptor.__get__()\n",
    "instance.attr = \"new value\"  # Calls MyDescriptor.__set__()"
   ]
  },
  {
   "cell_type": "markdown",
   "id": "3bbd899d-a294-4f5b-aae4-93acd8980a97",
   "metadata": {},
   "source": [
    "<h2 style=\"font-size: 2em;\">29. Dictionary</h2>\n",
    "    <p style=\"font-size: 16px;\">\n",
    "        A dictionary is a collection of key-value pairs, where keys are unique and immutable objects (like strings, numbers, or tuples), \n",
    "        and values can be any object.\n",
    "    </p>\n",
    "<p style=\"font-size: 16px;\"> <b>Example</b> </p>"
   ]
  },
  {
   "cell_type": "code",
   "execution_count": 48,
   "id": "7fa49d4c-914f-43bb-937a-eede5b4cfecf",
   "metadata": {
    "collapsed": true,
    "jupyter": {
     "outputs_hidden": true,
     "source_hidden": true
    }
   },
   "outputs": [
    {
     "name": "stdout",
     "output_type": "stream",
     "text": [
      "Alice\n"
     ]
    }
   ],
   "source": [
    "my_dict = {\"name\": \"Alice\", \"age\": 30}\n",
    "print(my_dict[\"name\"])  # Accessing the value using the key 'name'"
   ]
  },
  {
   "cell_type": "markdown",
   "id": "5f44f547-ccf7-4977-b2bc-ee44efa0cf3d",
   "metadata": {},
   "source": [
    "<h2 style=\"font-size: 2em;\">30. Dictionary Comprehension</h2>\n",
    "    <p style=\"font-size: 16px;\">\n",
    "        A dictionary comprehension is a concise way to create dictionaries using an expression.\n",
    "    </p>\n",
    "<p style=\"font-size: 16px;\"> <b>Example</b> </p>"
   ]
  },
  {
   "cell_type": "code",
   "execution_count": 47,
   "id": "e9943956-a0d9-4a5e-a488-5fc4ad70f9de",
   "metadata": {
    "collapsed": true,
    "jupyter": {
     "outputs_hidden": true,
     "source_hidden": true
    }
   },
   "outputs": [
    {
     "name": "stdout",
     "output_type": "stream",
     "text": [
      "{0: 0, 1: 1, 2: 4, 3: 9, 4: 16}\n"
     ]
    }
   ],
   "source": [
    "squares = {n: n**2 for n in range(5)}\n",
    "print(squares)"
   ]
  },
  {
   "cell_type": "markdown",
   "id": "a422ab33-9a31-4e8c-b4dd-76e89b8ece94",
   "metadata": {},
   "source": [
    "<h2 style=\"font-size: 2em;\">31. Docstring</h2>\n",
    "    <p style=\"font-size: 16px;\">\n",
    "        A docstring is a string literal used to document a module, class, function, or method. It appears as the first statement in the object and is available via the <code>__doc__</code> attribute.\n",
    "    </p>\n",
    "<p style=\"font-size: 16px;\"> <b>Example</b> </p>"
   ]
  },
  {
   "cell_type": "code",
   "execution_count": 46,
   "id": "09a5f0a0-f460-4fbd-9434-25071ae5fd3b",
   "metadata": {
    "collapsed": true,
    "jupyter": {
     "outputs_hidden": true,
     "source_hidden": true
    }
   },
   "outputs": [
    {
     "name": "stdout",
     "output_type": "stream",
     "text": [
      "This function does something.\n"
     ]
    }
   ],
   "source": [
    "def my_function():\n",
    "    \"\"\"This function does something.\"\"\"\n",
    "    pass\n",
    "\n",
    "print(my_function.__doc__)  # Access the docstring\n"
   ]
  },
  {
   "cell_type": "markdown",
   "id": "746edc0a-f71f-4136-af5c-966c484480d0",
   "metadata": {},
   "source": [
    "<h2 style=\"font-size: 2em;\">32. Duck-Typing</h2>\n",
    "    <p style=\"font-size: 16px;\">\n",
    "        Duck-typing means that the type of an object is not checked directly, but rather its behavior is relied upon. \n",
    "        The name comes from the phrase, \"If it looks like a duck and quacks like a duck, it must be a duck.\"\n",
    "    </p>\n",
    "<p style=\"font-size: 16px;\"> <b>Example</b> </p>"
   ]
  },
  {
   "cell_type": "code",
   "execution_count": 45,
   "id": "6113f00c-2775-4921-b687-94c75a5a8884",
   "metadata": {
    "collapsed": true,
    "jupyter": {
     "outputs_hidden": true,
     "source_hidden": true
    }
   },
   "outputs": [
    {
     "name": "stdout",
     "output_type": "stream",
     "text": [
      "Quack!\n",
      "I'm quacking like a duck!\n"
     ]
    }
   ],
   "source": [
    "def quack(duck):\n",
    "    duck.quack()\n",
    "\n",
    "class Duck:\n",
    "    def quack(self):\n",
    "        print(\"Quack!\")\n",
    "\n",
    "class Person:\n",
    "    def quack(self):\n",
    "        print(\"I'm quacking like a duck!\")\n",
    "\n",
    "duck = Duck()\n",
    "person = Person()\n",
    "\n",
    "quack(duck)   # Works\n",
    "quack(person)  # Also works because person has a quack() method"
   ]
  },
  {
   "cell_type": "markdown",
   "id": "13baf6c0-5874-4566-bf47-c4ce9f4bcdcf",
   "metadata": {},
   "source": [
    "<h2 style=\"font-size: 2em;\">33. EAFP (Easier to Ask for Forgiveness than Permission)</h2>\n",
    "    <p style=\"font-size: 16px;\">\n",
    "        In Python, EAFP is a coding style where you assume that everything will work and handle exceptions if things go wrong. \n",
    "        This is in contrast to checking for potential issues before proceeding.\n",
    "    </p>\n",
    "<p style=\"font-size: 16px;\"> <b>Example</b> </p>"
   ]
  },
  {
   "cell_type": "code",
   "execution_count": 44,
   "id": "ceed6caa-a86a-4bfa-8481-bf7f76606746",
   "metadata": {
    "collapsed": true,
    "jupyter": {
     "outputs_hidden": true,
     "source_hidden": true
    }
   },
   "outputs": [
    {
     "name": "stdout",
     "output_type": "stream",
     "text": [
      "Age not found\n"
     ]
    }
   ],
   "source": [
    "# EAFP style\n",
    "try:\n",
    "    my_dict = {\"name\": \"Alice\"}\n",
    "    print(my_dict[\"age\"])  # This will raise a KeyError\n",
    "except KeyError:\n",
    "    print(\"Age not found\")"
   ]
  },
  {
   "cell_type": "markdown",
   "id": "733ef945-07bd-44f0-bfe4-72df5e2c037b",
   "metadata": {},
   "source": [
    "<h2 style=\"font-size: 2em;\">34. f-string (Formatted String)</h2>\n",
    "    <p style=\"font-size: 16px;\">\n",
    "        An f-string is a string prefixed with <code>f</code> or <code>F</code> that allows expressions inside curly braces <code>{}</code> to be evaluated at runtime.\n",
    "    </p>\n",
    "<p style=\"font-size: 16px;\"> <b>Example</b> </p>"
   ]
  },
  {
   "cell_type": "code",
   "execution_count": 43,
   "id": "09fdc2cd-9afe-454e-a032-bfd49c3e99cf",
   "metadata": {
    "collapsed": true,
    "jupyter": {
     "outputs_hidden": true,
     "source_hidden": true
    }
   },
   "outputs": [
    {
     "name": "stdout",
     "output_type": "stream",
     "text": [
      "My name is Alice and I'm 30 years old.\n"
     ]
    }
   ],
   "source": [
    "name = \"Alice\"\n",
    "age = 30\n",
    "print(f\"My name is {name} and I'm {age} years old.\")"
   ]
  },
  {
   "cell_type": "markdown",
   "id": "c3019141-58c9-403e-aebd-230b8b609abf",
   "metadata": {},
   "source": [
    "<h2 style=\"font-size: 2em;\">35. Floor Division</h2>\n",
    "    <p style=\"font-size: 16px;\">\n",
    "        Floor division (<code>//</code>) divides two numbers and rounds down to the nearest integer.\n",
    "    </p>\n",
    "<p style=\"font-size: 16px;\"> <b>Example</b> </p>"
   ]
  },
  {
   "cell_type": "code",
   "execution_count": 42,
   "id": "5c9a7383-0266-49d2-aef1-bf909e9955af",
   "metadata": {
    "collapsed": true,
    "jupyter": {
     "outputs_hidden": true,
     "source_hidden": true
    }
   },
   "outputs": [
    {
     "name": "stdout",
     "output_type": "stream",
     "text": [
      "2\n",
      "-3\n"
     ]
    }
   ],
   "source": [
    "print(11 // 4)  # 11 divided by 4 is 2.75, but it rounds down to 2\n",
    "print(-11 // 4)  # -2.75 rounds down to -3"
   ]
  },
  {
   "cell_type": "markdown",
   "id": "944546a4-29cc-4fb6-a1f7-0f9db05e1f27",
   "metadata": {},
   "source": [
    "<h2 style=\"font-size: 2em;\">36. Function Annotations</h2>\n",
    "    <p style=\"font-size: 16px;\">\n",
    "        Function annotations allow you to specify metadata about function parameters and return values, usually for type hints.\n",
    "    </p>\n",
    "<p style=\"font-size: 16px;\"> <b>Example</b> </p>"
   ]
  },
  {
   "cell_type": "code",
   "execution_count": 41,
   "id": "6417de2a-b279-440b-8f56-57c8c05fe225",
   "metadata": {
    "collapsed": true,
    "jupyter": {
     "outputs_hidden": true,
     "source_hidden": true
    }
   },
   "outputs": [
    {
     "name": "stdout",
     "output_type": "stream",
     "text": [
      "Hello, Alice\n"
     ]
    }
   ],
   "source": [
    "def greet(name: str) -> str:\n",
    "    return f\"Hello, {name}\"\n",
    "\n",
    "print(greet(\"Alice\"))"
   ]
  },
  {
   "cell_type": "markdown",
   "id": "5149f688-3bd5-4e3a-bf2d-e2d483cd859b",
   "metadata": {},
   "source": [
    "<h2 style=\"font-size: 2em;\">37. File Object</h2>\n",
    "    <p style=\"font-size: 16px;\">\n",
    "        A file object in Python represents an open file that can be read from or written to. It provides an API with methods like <code>read()</code>, <code>write()</code>, <code>close()</code>, etc., and is created using the <code>open()</code> function.\n",
    "        File objects can interface with various resources, such as:\n",
    "    </p>\n",
    "    <ul>\n",
    "        <li style=\"font-size: 16px;\">Text files: Handles text data (<code>str</code> objects), using a specific encoding (e.g., UTF-8). You can read and write strings in this mode.</li>\n",
    "        <li style=\"font-size: 16px;\">Binary files: Handles binary data (<code>bytes</code> objects). This mode is used for reading and writing binary data such as images, videos, etc.</li>\n",
    "        <li style=\"font-size: 16px;\">Buffered files: Python uses buffers to optimize read and write operations, handled by classes like <code>io.BufferedReader</code> and <code>io.BufferedWriter</code>.</li>\n",
    "    </ul>\n",
    "<p style=\"font-size: 16px;\"> <b>Example</b> </p>"
   ]
  },
  {
   "cell_type": "code",
   "execution_count": 40,
   "id": "7724fd1e-36cb-455c-a9bf-04486330d87d",
   "metadata": {
    "collapsed": true,
    "jupyter": {
     "outputs_hidden": true,
     "source_hidden": true
    }
   },
   "outputs": [
    {
     "name": "stdout",
     "output_type": "stream",
     "text": [
      "Hello, this is an example.\n"
     ]
    }
   ],
   "source": [
    "# Opening a file (creates a file object)\n",
    "file = open(\"example.txt\", \"w\")  # 'w' means write mode\n",
    "\n",
    "# Writing to the file\n",
    "file.write(\"Hello, this is an example.\")\n",
    "\n",
    "# Closing the file\n",
    "file.close()\n",
    "\n",
    "# Reading a file (creates a file object)\n",
    "file = open(\"example.txt\", \"r\")  # 'r' means read mode\n",
    "\n",
    "# Reading contents of the file\n",
    "content = file.read()\n",
    "print(content)\n",
    "\n",
    "# Closing the file\n",
    "file.close()"
   ]
  },
  {
   "cell_type": "markdown",
   "id": "211d27f4-5f85-4046-a04d-806ab9027000",
   "metadata": {},
   "source": [
    "<h2 style=\"font-size: 2em;\">38. File-like Object</h2>\n",
    "    <p style=\"font-size: 16px;\">\n",
    "        A file-like object behaves similarly to a file object but isn't necessarily tied to a physical file. Examples include sockets, in-memory buffers (<code>io.StringIO</code> or <code>io.BytesIO</code>), or other streams.\n",
    "        File-like objects have methods like <code>read()</code> and <code>write()</code>, similar to file objects.\n",
    "    </p>\n",
    "<p style=\"font-size: 16px;\"> <b>Example</b> </p>"
   ]
  },
  {
   "cell_type": "code",
   "execution_count": 38,
   "id": "152e9c36-a745-49cc-bbd4-d6087c7cea94",
   "metadata": {
    "collapsed": true,
    "jupyter": {
     "outputs_hidden": true,
     "source_hidden": true
    }
   },
   "outputs": [
    {
     "name": "stdout",
     "output_type": "stream",
     "text": [
      "This is an in-memory file-like object.\n"
     ]
    }
   ],
   "source": [
    "import io\n",
    "\n",
    "# Create a StringIO object (in-memory buffer)\n",
    "buffer = io.StringIO()\n",
    "\n",
    "# Writing to the buffer\n",
    "buffer.write(\"This is an in-memory file-like object.\")\n",
    "\n",
    "# Moving the cursor back to the start to read\n",
    "buffer.seek(0)\n",
    "\n",
    "# Reading from the buffer\n",
    "print(buffer.read())  # Output: This is an in-memory file-like object.\n",
    "\n",
    "# Closing the buffer\n",
    "buffer.close()"
   ]
  },
  {
   "cell_type": "markdown",
   "id": "9d4ecf0b-5404-4b86-92ab-7b4a4b7df5fa",
   "metadata": {},
   "source": [
    "<h2 style=\"font-size: 2em;\">39. Filesystem Encoding and Error Handler</h2>\n",
    "    <p style=\"font-size: 16px;\">\n",
    "        The filesystem encoding is the encoding Python uses to convert between bytes and strings when interacting with the operating system (e.g., reading/writing file paths). Python typically uses the locale encoding, which is platform-specific.\n",
    "    </p>\n",
    "    <p style=\"font-size: 16px;\">\n",
    "        <code>sys.getfilesystemencoding()</code> returns the encoding. <code>sys.getfilesystemencodeerrors()</code> returns the error handler in use.\n",
    "    </p>\n",
    "<p style=\"font-size: 16px;\"> <b>Example</b> </p>"
   ]
  },
  {
   "cell_type": "code",
   "execution_count": 37,
   "id": "e9242ef5-a090-4f70-8c0b-f87af8dc8cf4",
   "metadata": {
    "collapsed": true,
    "jupyter": {
     "outputs_hidden": true,
     "source_hidden": true
    }
   },
   "outputs": [
    {
     "name": "stdout",
     "output_type": "stream",
     "text": [
      "Filesystem encoding: utf-8\n",
      "Error handler: surrogateescape\n"
     ]
    }
   ],
   "source": [
    "import sys\n",
    "\n",
    "# Getting the filesystem encoding and error handler\n",
    "encoding = sys.getfilesystemencoding()\n",
    "error_handler = sys.getfilesystemencodeerrors()\n",
    "\n",
    "print(\"Filesystem encoding:\", encoding)\n",
    "print(\"Error handler:\", error_handler)"
   ]
  },
  {
   "cell_type": "markdown",
   "id": "cd2668e4-54da-4403-bc97-e3f25e039f79",
   "metadata": {},
   "source": [
    "<h2 style=\"font-size: 2em;\">40. Finder</h2>\n",
    "    <p style=\"font-size: 16px;\">\n",
    "        A finder is an object responsible for locating and loading Python modules during the import process. Python's import mechanism uses different finders to search for a module:\n",
    "    </p>\n",
    "    <ul>\n",
    "        <li style=\"font-size: 16px;\">Meta path finders: These work with <code>sys.meta_path</code> to find modules, including built-in or third-party modules.</li>\n",
    "        <li style=\"font-size: 16px;\">Path entry finders: These are used for <code>sys.path_hooks</code>, searching specific directories on the filesystem.</li>\n",
    "    </ul>\n",
    "<p style=\"font-size: 16px;\"> <b>Example</b> </p>"
   ]
  },
  {
   "cell_type": "code",
   "execution_count": 36,
   "id": "be969ffe-1bc9-4e3f-8244-138206244369",
   "metadata": {
    "collapsed": true,
    "jupyter": {
     "outputs_hidden": true,
     "source_hidden": true
    }
   },
   "outputs": [
    {
     "name": "stdout",
     "output_type": "stream",
     "text": [
      "Custom module not found!\n"
     ]
    }
   ],
   "source": [
    "import sys\n",
    "import importlib.abc\n",
    "import importlib.util\n",
    "\n",
    "# A simple custom finder\n",
    "class CustomFinder(importlib.abc.MetaPathFinder):\n",
    "    def find_spec(self, fullname, path, target=None):\n",
    "        if fullname == \"my_custom_module\":\n",
    "            spec = importlib.util.spec_from_loader(fullname, loader=None)\n",
    "            return spec\n",
    "\n",
    "# Adding the custom finder to sys.meta_path\n",
    "sys.meta_path.insert(0, CustomFinder())\n",
    "\n",
    "# Now you can try importing 'my_custom_module'\n",
    "try:\n",
    "    import my_custom_module\n",
    "except ImportError:\n",
    "    print(\"Custom module not found!\")"
   ]
  },
  {
   "cell_type": "markdown",
   "id": "fb5744ce-51ab-452b-b627-a0558208515b",
   "metadata": {},
   "source": [
    "<h2 style=\"font-size: 2em;\">41. __future__ Module</h2>\n",
    "    <p style=\"font-size: 16px;\">\n",
    "        The <code>__future__</code> module in Python allows you to use features from future versions of Python in the current version. When you import a feature from <code>__future__</code>, you're telling the Python interpreter to use new syntax or semantics that will become standard in future releases of the language.\n",
    "    </p>\n",
    "<p style=\"font-size: 16px;\"> <b>Example</b> </p>"
   ]
  },
  {
   "cell_type": "code",
   "execution_count": 35,
   "id": "0b9e61af-612d-466c-8173-5f81d84b0bcf",
   "metadata": {
    "collapsed": true,
    "jupyter": {
     "outputs_hidden": true,
     "source_hidden": true
    }
   },
   "outputs": [
    {
     "name": "stdout",
     "output_type": "stream",
     "text": [
      "2.5\n"
     ]
    }
   ],
   "source": [
    "# Import division from future (for Python 2.x compatibility)\n",
    "from __future__ import division\n",
    "\n",
    "# Now division works like Python 3.x (true division)\n",
    "print(5 / 2)  # (in Python 2.x, this would be 2)"
   ]
  },
  {
   "cell_type": "markdown",
   "id": "37705e85-c2f6-4508-afee-9630a99aa67f",
   "metadata": {},
   "source": [
    "<h2 style=\"font-size: 2em;\">42. Garbage Collection</h2>\n",
    "<p style=\"font-size: 16px;\">Garbage collection is the process of automatically freeing memory that is no longer in use. Python uses reference counting and a cyclic garbage collector to handle this. When an object’s reference count drops to zero, Python reclaims that memory. The <code>gc</code> module allows control over the garbage collector.</p>\n",
    "\n",
    "<p style=\"font-size: 16px;\"> <b>Example</b> </p>"
   ]
  },
  {
   "cell_type": "code",
   "execution_count": 1,
   "id": "13dc34e2-a177-4777-a180-a3cf7332fcbb",
   "metadata": {
    "collapsed": true,
    "jupyter": {
     "outputs_hidden": true,
     "source_hidden": true
    }
   },
   "outputs": [
    {
     "data": {
      "text/plain": [
       "123"
      ]
     },
     "execution_count": 1,
     "metadata": {},
     "output_type": "execute_result"
    }
   ],
   "source": [
    "import gc\n",
    "\n",
    "# Control the garbage collector\n",
    "gc.collect()  # Force garbage collection"
   ]
  },
  {
   "cell_type": "markdown",
   "id": "bea7ca9e-e3c0-45b8-9a1f-136df6be6fd9",
   "metadata": {},
   "source": [
    "<h2 style=\"font-size: 2em;\">43. Generator</h2>\n",
    "<p style=\"font-size: 16px;\">A special type of function that uses <code>yield</code> to return a series of values. It allows you to iterate over data without storing it in memory all at once.</p>\n",
    "\n",
    "<p style=\"font-size: 16px;\"> <b>Example</b> </p>"
   ]
  },
  {
   "cell_type": "code",
   "execution_count": 2,
   "id": "7c460f7a-64cf-4226-ac8d-51b6699e4b36",
   "metadata": {
    "collapsed": true,
    "jupyter": {
     "outputs_hidden": true,
     "source_hidden": true
    }
   },
   "outputs": [
    {
     "name": "stdout",
     "output_type": "stream",
     "text": [
      "5\n",
      "4\n",
      "3\n",
      "2\n",
      "1\n"
     ]
    }
   ],
   "source": [
    "def countdown(n):\n",
    "    while n > 0:\n",
    "        yield n\n",
    "        n -= 1\n",
    "\n",
    "for i in countdown(5):\n",
    "    print(i)"
   ]
  },
  {
   "cell_type": "markdown",
   "id": "9ee7e117-6d22-474b-a5ad-1e8114b6e9a9",
   "metadata": {},
   "source": [
    "<h3 style=\"font-size: 1.7em;\">43.1 Generator Iterator</h3>\n",
    "<p style=\"font-size: 16px;\">A generator iterator is the object created when a generator function is called. It allows for lazy iteration over a series of values.</p>\n",
    "\n",
    "<p style=\"font-size: 16px;\"> <b>Example</b> </p>"
   ]
  },
  {
   "cell_type": "code",
   "execution_count": 3,
   "id": "2bc1f99f-057b-4279-9f86-78f9fe719883",
   "metadata": {
    "collapsed": true,
    "jupyter": {
     "outputs_hidden": true,
     "source_hidden": true
    }
   },
   "outputs": [
    {
     "name": "stdout",
     "output_type": "stream",
     "text": [
      "3\n",
      "2\n"
     ]
    }
   ],
   "source": [
    "gen = countdown(3)\n",
    "print(next(gen))\n",
    "print(next(gen))"
   ]
  },
  {
   "cell_type": "markdown",
   "id": "cfab76a1-ad1d-49d4-997c-d022ed22d950",
   "metadata": {},
   "source": [
    "<h3 style=\"font-size: 1.7em;\">43.2 Generator Expression</h3>\n",
    "<p style=\"font-size: 16px;\">A generator expression is a concise way to create a generator using an expression, typically inside parentheses.</p>\n",
    "\n",
    "<p style=\"font-size: 16px;\"> <b>Example</b> </p>"
   ]
  },
  {
   "cell_type": "code",
   "execution_count": 4,
   "id": "1abe8f2d-90ac-4d77-b47e-084718807f16",
   "metadata": {
    "collapsed": true,
    "jupyter": {
     "outputs_hidden": true,
     "source_hidden": true
    }
   },
   "outputs": [
    {
     "name": "stdout",
     "output_type": "stream",
     "text": [
      "30\n"
     ]
    }
   ],
   "source": [
    "gen_exp = (x * x for x in range(5))\n",
    "print(sum(gen_exp))"
   ]
  },
  {
   "cell_type": "markdown",
   "id": "4f8995d1-2fc2-42f8-892f-d6f4ff7bfb96",
   "metadata": {},
   "source": [
    "<h2 style=\"font-size: 2em;\">44. Generic Function</h2>\n",
    "<p style=\"font-size: 16px;\">A generic function is composed of multiple functions, each tailored to different input types. The <code>functools.singledispatch()</code> decorator allows for defining such functions.</p>\n",
    "\n",
    "<p style=\"font-size: 16px;\"> <b>Example</b> </p>"
   ]
  },
  {
   "cell_type": "code",
   "execution_count": 5,
   "id": "3274e4fd-df93-4b9c-90a3-83bba490c0be",
   "metadata": {
    "collapsed": true,
    "jupyter": {
     "outputs_hidden": true,
     "source_hidden": true
    }
   },
   "outputs": [
    {
     "name": "stdout",
     "output_type": "stream",
     "text": [
      "Integer: 10\n",
      "Default: Hello\n"
     ]
    }
   ],
   "source": [
    "from functools import singledispatch\n",
    "\n",
    "@singledispatch\n",
    "def process(value):\n",
    "    print(f\"Default: {value}\")\n",
    "\n",
    "@process.register(int)\n",
    "def _(value):\n",
    "    print(f\"Integer: {value}\")\n",
    "\n",
    "process(10)\n",
    "process(\"Hello\")\n"
   ]
  },
  {
   "cell_type": "markdown",
   "id": "ea1e6901-5237-4335-9b85-b13a5ab5f8ac",
   "metadata": {},
   "source": [
    "<h2 style=\"font-size: 2em;\">45. Generic Type</h2>\n",
    "<p style=\"font-size: 16px;\">A type that can be parameterized, such as a container class like <code>List[T]</code>. It's commonly used with type hints.</p>\n",
    "\n",
    "<p style=\"font-size: 16px;\"> <b>Example</b> </p>"
   ]
  },
  {
   "cell_type": "code",
   "execution_count": 9,
   "id": "ad7bf4cc-3a21-4e59-81cc-d0d20664ee96",
   "metadata": {
    "collapsed": true,
    "jupyter": {
     "outputs_hidden": true,
     "source_hidden": true
    }
   },
   "outputs": [
    {
     "name": "stdout",
     "output_type": "stream",
     "text": [
      "[2, 4, 6]\n"
     ]
    }
   ],
   "source": [
    "from typing import List\n",
    "\n",
    "def process_items(items: List[int]):\n",
    "    return [item * 2 for item in items]\n",
    "\n",
    "print(process_items([1, 2, 3]))\n",
    "\n",
    "# Remember, this is not enforced by Python"
   ]
  },
  {
   "cell_type": "markdown",
   "id": "295a6386-e9e3-4c27-b72e-6d5219cd2f03",
   "metadata": {},
   "source": [
    "<h2 style=\"font-size: 2em;\">46. Global Interpreter Lock (GIL)</h2>\n",
    "<p style=\"font-size: 16px;\">The GIL is a mechanism in CPython that ensures only one thread executes Python bytecode at a time. This simplifies multi-threaded applications but limits parallelism on multi-core systems.</p>"
   ]
  },
  {
   "cell_type": "markdown",
   "id": "69f375e9-f0e2-487f-bf76-53d2f27afbd9",
   "metadata": {},
   "source": [
    "<h2 style=\"font-size: 2em;\">47. Hash-Based PYC</h2>\n",
    "<p style=\"font-size: 16px;\">This refers to Python’s bytecode cache files (with <code>.pyc</code> extension) which use the hash of the source code to determine validity, rather than the modification timestamp.</p>"
   ]
  },
  {
   "cell_type": "markdown",
   "id": "524273df-8b52-4f7f-9f11-b896ca075bdd",
   "metadata": {},
   "source": [
    "<h2 style=\"font-size: 2em;\">48. Hashable</h2>\n",
    "<p style=\"font-size: 16px;\">An object is hashable if it has a fixed hash value during its lifetime. Hashable objects can be used as dictionary keys or set elements.</p>\n",
    "\n",
    "<p style=\"font-size: 16px;\"> <b>Example</b> </p>"
   ]
  },
  {
   "cell_type": "code",
   "execution_count": 10,
   "id": "c6e69f73-57d6-49bf-9eb3-0d4496be4bf9",
   "metadata": {
    "collapsed": true,
    "jupyter": {
     "outputs_hidden": true,
     "source_hidden": true
    }
   },
   "outputs": [
    {
     "data": {
      "text/plain": [
       "8290431938110860586"
      ]
     },
     "execution_count": 10,
     "metadata": {},
     "output_type": "execute_result"
    }
   ],
   "source": [
    "hash(\"hello\")"
   ]
  },
  {
   "cell_type": "markdown",
   "id": "1861ee16-5781-4a08-ac2f-fedd18d9b4cd",
   "metadata": {},
   "source": [
    "<h2 style=\"font-size: 2em;\">49. IDLE</h2>\n",
    "<p style=\"font-size: 16px;\">IDLE is Python’s Integrated Development and Learning Environment. It provides a basic editor and interactive shell for beginners.</p>"
   ]
  },
  {
   "cell_type": "markdown",
   "id": "11263286-1788-4693-a8cd-6fb04c75e4ae",
   "metadata": {},
   "source": [
    "<h2 style=\"font-size: 2em;\">50. Immortal</h2>\n",
    "<p style=\"font-size: 16px;\">An immortal object in Python has a reference count that never changes, ensuring it is never garbage-collected. This concept was introduced in PEP 683. Objects like <code>None</code> and <code>True</code> are immortal.</p>"
   ]
  },
  {
   "cell_type": "markdown",
   "id": "6c8a4ca4-54ed-4008-8f16-066ff2113f2b",
   "metadata": {},
   "source": [
    "<h2 style=\"font-size: 2em;\">51. Immutable</h2>\n",
    "<p style=\"font-size: 16px;\">An immutable object cannot be changed once it is created. Examples include tuples and strings.</p>\n",
    "\n",
    "<p style=\"font-size: 16px;\"> <b>Example</b> </p>"
   ]
  },
  {
   "cell_type": "code",
   "execution_count": 11,
   "id": "54942e89-8be9-4791-8c41-86e733c8297d",
   "metadata": {
    "jupyter": {
     "source_hidden": true
    }
   },
   "outputs": [],
   "source": [
    "x = (1, 2, 3)\n",
    "# x[0] = 4  # This will raise an error since tuples are immutable."
   ]
  },
  {
   "cell_type": "markdown",
   "id": "43bce8d0-ece9-44b1-bba4-1207473ee8ad",
   "metadata": {},
   "source": [
    "<h2 style=\"font-size: 2em;\">52. Import Path</h2>\n",
    "<p style=\"font-size: 16px;\">The import path is a list of directories that Python searches to locate a module during an import operation. This path can be modified by adding new directories to <code>sys.path</code>.</p>\n",
    "\n",
    "<p style=\"font-size: 16px;\"> <b>Example</b> </p>"
   ]
  },
  {
   "cell_type": "code",
   "execution_count": 12,
   "id": "5e599640-d7d0-4b26-bf6f-671d1940c0a0",
   "metadata": {
    "collapsed": true,
    "jupyter": {
     "outputs_hidden": true,
     "source_hidden": true
    }
   },
   "outputs": [
    {
     "name": "stdout",
     "output_type": "stream",
     "text": [
      "['/usr/lib/python312.zip', '/usr/lib/python3.12', '/usr/lib/python3.12/lib-dynload', '', '/home/owinnie/GitHub/winisSchoolOfCoding/PythonCourse/winis/lib/python3.12/site-packages']\n"
     ]
    }
   ],
   "source": [
    "import sys\n",
    "print(sys.path)  # Output: List of directories Python searches for modules"
   ]
  },
  {
   "cell_type": "markdown",
   "id": "d9f84c6e-47dc-451f-a9f1-d434533c8494",
   "metadata": {},
   "source": [
    "<h2 style=\"font-size: 2em;\">53. Importing</h2>\n",
    "<p style=\"font-size: 16px;\">Importing is the process of loading a module and making its functions and classes available in another module.</p>\n",
    "\n",
    "<p style=\"font-size: 16px;\"> <b>Example</b> </p>"
   ]
  },
  {
   "cell_type": "code",
   "execution_count": 13,
   "id": "982f84a3-b963-45d1-8890-eb7a09b223da",
   "metadata": {
    "collapsed": true,
    "jupyter": {
     "outputs_hidden": true,
     "source_hidden": true
    }
   },
   "outputs": [
    {
     "name": "stdout",
     "output_type": "stream",
     "text": [
      "4.0\n"
     ]
    }
   ],
   "source": [
    "import math\n",
    "print(math.sqrt(16)) "
   ]
  },
  {
   "cell_type": "markdown",
   "id": "aea97f7d-3045-4c19-a4a2-58c4ab223a9f",
   "metadata": {},
   "source": [
    "<h2 style=\"font-size: 2em;\">54. Importer</h2>\n",
    "<p style=\"font-size: 16px;\">An importer is responsible for finding and loading a module. It works as both a finder and a loader.</p>"
   ]
  },
  {
   "cell_type": "markdown",
   "id": "a7634746-7f68-4c5b-a661-3f43cbdfb660",
   "metadata": {},
   "source": [
    "<h2 style=\"font-size: 2em;\">55. Interactive</h2>\n",
    "<p style=\"font-size: 16px;\">Python provides an interactive interpreter where you can type code and see results immediately.</p>\n",
    "\n",
    "<p style=\"font-size: 16px;\"> <b>Example</b> </p>"
   ]
  },
  {
   "cell_type": "code",
   "execution_count": null,
   "id": "791f168d-8ffc-47ca-aa56-8c25db95ddce",
   "metadata": {
    "jupyter": {
     "source_hidden": true
    }
   },
   "outputs": [],
   "source": [
    "$ python\n",
    ">>> print(\"Hello, world!\")\n",
    "Hello, world!"
   ]
  },
  {
   "cell_type": "markdown",
   "id": "21df7cc6-b11e-4248-91ec-fb2467f7d64c",
   "metadata": {},
   "source": [
    "<h2 style=\"font-size: 2em;\">56. Interpreted</h2>\n",
    "<p style=\"font-size: 16px;\">Python is an interpreted language, meaning its code is executed directly without compiling into machine code.</p>"
   ]
  },
  {
   "cell_type": "markdown",
   "id": "3631ea02-3a7d-4525-984d-657d4951943c",
   "metadata": {},
   "source": [
    "<h2 style=\"font-size: 2em;\">57. Interpreter Shutdown</h2>\n",
    "<p style=\"font-size: 16px;\">This refers to the phase when Python is shutting down, freeing resources, and running finalizers. It occurs after the main program finishes executing.</p>"
   ]
  },
  {
   "cell_type": "markdown",
   "id": "d77ceb2c-fb56-49d9-8809-560219757010",
   "metadata": {},
   "source": [
    "<h2 style=\"font-size: 2em;\">58. Iterable</h2>\n",
    "<p style=\"font-size: 16px;\">An iterable is any object capable of returning its members one at a time. Lists, strings, and dictionaries are examples.</p>\n",
    "\n",
    "<p style=\"font-size: 16px;\"> <b>Example</b> </p>"
   ]
  },
  {
   "cell_type": "code",
   "execution_count": 15,
   "id": "c0d008c2-2c24-4b5d-aa98-329ac6ec6182",
   "metadata": {
    "collapsed": true,
    "jupyter": {
     "outputs_hidden": true,
     "source_hidden": true
    }
   },
   "outputs": [
    {
     "name": "stdout",
     "output_type": "stream",
     "text": [
      "h\n",
      "e\n",
      "l\n",
      "l\n",
      "o\n"
     ]
    }
   ],
   "source": [
    "for char in \"hello\":\n",
    "    print(char)"
   ]
  },
  {
   "cell_type": "markdown",
   "id": "68c07334-f48d-4295-ba5a-6958417baa7c",
   "metadata": {},
   "source": [
    "<h2 style=\"font-size: 2em;\">59. Iterator</h2>\n",
    "<p style=\"font-size: 16px;\">An iterator is an object that implements the <code>__next__()</code> method, returning successive elements. When it’s exhausted, it raises <code>StopIteration</code>.</p>\n",
    "\n",
    "<p style=\"font-size: 16px;\"> <b>Example</b> </p>"
   ]
  },
  {
   "cell_type": "code",
   "execution_count": 16,
   "id": "c4603b6e-76b2-4d20-81d3-8f8933ab8e36",
   "metadata": {
    "collapsed": true,
    "jupyter": {
     "outputs_hidden": true,
     "source_hidden": true
    }
   },
   "outputs": [
    {
     "name": "stdout",
     "output_type": "stream",
     "text": [
      "1\n"
     ]
    }
   ],
   "source": [
    "it = iter([1, 2, 3])\n",
    "print(next(it)) "
   ]
  },
  {
   "cell_type": "markdown",
   "id": "8a3e1fd1-98f2-4650-849f-bf6c6005eb4b",
   "metadata": {},
   "source": [
    "<h2 style=\"font-size: 2em;\">60. Key Function</h2>\n",
    "<p style=\"font-size: 16px;\">A key function is used to specify custom sorting or ordering behavior in functions like <code>sorted()</code> or <code>min()</code>.</p>\n",
    "\n",
    "<p style=\"font-size: 16px;\"> <b>Example</b> </p>"
   ]
  },
  {
   "cell_type": "code",
   "execution_count": 17,
   "id": "97802e51-0416-4a31-ac79-aed84ab0a378",
   "metadata": {
    "collapsed": true,
    "jupyter": {
     "outputs_hidden": true,
     "source_hidden": true
    }
   },
   "outputs": [
    {
     "name": "stdout",
     "output_type": "stream",
     "text": [
      "['Alice', 'bob', 'Charlie']\n"
     ]
    }
   ],
   "source": [
    "names = [\"Alice\", \"bob\", \"Charlie\"]\n",
    "print(sorted(names, key=str.lower))"
   ]
  },
  {
   "cell_type": "markdown",
   "id": "f55b6a10-cc37-4105-92fe-054cfd33aa71",
   "metadata": {},
   "source": [
    "<h2 style=\"font-size: 2em;\">61. Keyword Argument</h2>\n",
    "<p style=\"font-size: 16px;\">A keyword argument is passed to a function using the argument’s name, improving readability and flexibility.</p>\n",
    "\n",
    "<p style=\"font-size: 16px;\"> <b>Example</b> </p>"
   ]
  },
  {
   "cell_type": "code",
   "execution_count": 18,
   "id": "52cfa01a-b7be-4326-b375-4844fe264678",
   "metadata": {
    "collapsed": true,
    "jupyter": {
     "outputs_hidden": true,
     "source_hidden": true
    }
   },
   "outputs": [
    {
     "name": "stdout",
     "output_type": "stream",
     "text": [
      "Hi, Alice\n"
     ]
    }
   ],
   "source": [
    "def greet(name, greeting=\"Hello\"):\n",
    "    print(f\"{greeting}, {name}\")\n",
    "\n",
    "greet(\"Alice\", greeting=\"Hi\") "
   ]
  },
  {
   "cell_type": "markdown",
   "id": "dc55b077-312d-471d-b651-fd6390b7d40a",
   "metadata": {},
   "source": [
    "<h2 style=\"font-size: 2em;\">62. Lambda</h2>\n",
    "<p style=\"font-size: 16px;\">A lambda function is an anonymous, one-liner function defined using the <code>lambda</code> keyword.</p>\n",
    "\n",
    "<p style=\"font-size: 16px;\"> <b>Example</b> </p>"
   ]
  },
  {
   "cell_type": "code",
   "execution_count": 19,
   "id": "605712a7-1a1a-481c-a926-3e89ac967932",
   "metadata": {
    "collapsed": true,
    "jupyter": {
     "outputs_hidden": true,
     "source_hidden": true
    }
   },
   "outputs": [
    {
     "name": "stdout",
     "output_type": "stream",
     "text": [
      "5\n"
     ]
    }
   ],
   "source": [
    "add = lambda x, y: x + y\n",
    "print(add(2, 3)) "
   ]
  },
  {
   "cell_type": "markdown",
   "id": "948be3c9-9c22-4f90-8bf8-c3a02c5fb41c",
   "metadata": {},
   "source": [
    "<h2 style=\"font-size: 2em;\">63. LBYL (Look Before You Leap)</h2>\n",
    "<p style=\"font-size: 16px;\">LBYL is a coding style that checks conditions before performing an action to prevent errors.</p>\n",
    "\n",
    "<p style=\"font-size: 16px;\"> <b>Example</b> </p>"
   ]
  },
  {
   "cell_type": "code",
   "execution_count": 20,
   "id": "672cbb01-d520-4b19-9e7e-3439dddd9813",
   "metadata": {
    "jupyter": {
     "source_hidden": true
    }
   },
   "outputs": [],
   "source": [
    "d = {'a': 1}\n",
    "if 'b' in d:\n",
    "    print(d['b'])\n",
    "# No error is raised since the key is checked first."
   ]
  },
  {
   "cell_type": "markdown",
   "id": "68511a93-5216-457f-99e9-7f1090b9744a",
   "metadata": {},
   "source": [
    "<h2 style=\"font-size: 2em;\">64. List</h2>\n",
    "<p style=\"font-size: 16px;\">A list is a built-in data structure in Python that stores ordered, mutable collections of items.</p>\n",
    "\n",
    "<p style=\"font-size: 16px;\"> <b>Example</b> </p>"
   ]
  },
  {
   "cell_type": "code",
   "execution_count": 21,
   "id": "41f0510d-7c18-4fb9-95d2-9f7a234c90a0",
   "metadata": {
    "collapsed": true,
    "jupyter": {
     "outputs_hidden": true,
     "source_hidden": true
    }
   },
   "outputs": [
    {
     "name": "stdout",
     "output_type": "stream",
     "text": [
      "1\n"
     ]
    }
   ],
   "source": [
    "my_list = [1, 2, 3]\n",
    "print(my_list[0])  "
   ]
  },
  {
   "cell_type": "markdown",
   "id": "11b45bb9-da72-4928-8c81-8a5bc8bd5aa8",
   "metadata": {},
   "source": [
    "<h2 style=\"font-size: 2em;\">65. List Comprehension</h2>\n",
    "<p style=\"font-size: 16px;\">A list comprehension is a concise way to create lists using an expression.</p>\n",
    "\n",
    "<p style=\"font-size: 16px;\"> <b>Example</b> </p>"
   ]
  },
  {
   "cell_type": "code",
   "execution_count": 22,
   "id": "2a942a50-22fc-4238-92af-1bf383430982",
   "metadata": {
    "collapsed": true,
    "jupyter": {
     "outputs_hidden": true,
     "source_hidden": true
    }
   },
   "outputs": [
    {
     "name": "stdout",
     "output_type": "stream",
     "text": [
      "[0, 1, 4, 9, 16]\n"
     ]
    }
   ],
   "source": [
    "squares = [x*x for x in range(5)]\n",
    "print(squares) "
   ]
  },
  {
   "cell_type": "markdown",
   "id": "1b6ff132-4571-4274-80e5-100ec3fca2a5",
   "metadata": {},
   "source": [
    "<h2 style=\"font-size: 2em;\">66. Loader</h2>\n",
    "<p style=\"font-size: 16px;\">A loader is responsible for loading a module’s code after it has been found by a finder.</p>"
   ]
  },
  {
   "cell_type": "markdown",
   "id": "ce98747e-06de-4d47-853f-f75b7c24e99b",
   "metadata": {},
   "source": [
    "<h2 style=\"font-size: 2em;\">67. Locale Encoding</h2>\n",
    "<p style=\"font-size: 16px;\">The locale encoding is the system’s default character encoding, which varies by platform and is often based on the system locale settings.</p>"
   ]
  },
  {
   "cell_type": "markdown",
   "id": "677aae6d-801a-4609-a3a7-5d188e39a787",
   "metadata": {},
   "source": [
    "<h2 style=\"font-size: 2em;\">69. Magic Method (Special Method)</h2>\n",
    "<p style=\"font-size: 16px;\">Magic methods are special methods in Python that begin and end with double underscores (<code>__</code>). They allow customization of behavior for built-in operations.</p>\n",
    "<p style=\"font-size: 16px;\"> <b>Example</b> </p>"
   ]
  },
  {
   "cell_type": "code",
   "execution_count": 23,
   "id": "20e420a6-1a78-41c0-95c0-6d8e7f0e9b1c",
   "metadata": {
    "collapsed": true,
    "jupyter": {
     "outputs_hidden": true,
     "source_hidden": true
    }
   },
   "outputs": [
    {
     "name": "stdout",
     "output_type": "stream",
     "text": [
      "Value: 10\n"
     ]
    }
   ],
   "source": [
    "class MyClass:\n",
    "    def __init__(self, value):\n",
    "        self.value = value\n",
    "    \n",
    "    def __str__(self):\n",
    "        return f\"Value: {self.value}\"\n",
    "\n",
    "obj = MyClass(10)\n",
    "print(obj) "
   ]
  },
  {
   "cell_type": "markdown",
   "id": "2110e19e-78b7-4da6-b8b6-14df5e8cc878",
   "metadata": {},
   "source": [
    "<h2 style=\"font-size: 2em;\">70. Mapping</h2>\n",
    "<p style=\"font-size: 16px;\">A mapping is a container object that associates keys with values. Examples include dict and collections.defaultdict.</p>\n",
    "\n",
    "<p style=\"font-size: 16px;\"> <b>Example</b> </p>"
   ]
  },
  {
   "cell_type": "code",
   "execution_count": 24,
   "id": "396146ee-032b-416f-839f-de4cdfa3df9d",
   "metadata": {
    "collapsed": true,
    "jupyter": {
     "outputs_hidden": true,
     "source_hidden": true
    }
   },
   "outputs": [
    {
     "name": "stdout",
     "output_type": "stream",
     "text": [
      "Alice\n"
     ]
    }
   ],
   "source": [
    "my_dict = {'name': 'Alice', 'age': 30}\n",
    "print(my_dict['name']) "
   ]
  },
  {
   "cell_type": "markdown",
   "id": "0a80ba3c-d06a-4cd6-82a0-4f41a769ac32",
   "metadata": {},
   "source": [
    "<h2 style=\"font-size: 1.7em;\">71. Metaclass</h2>\n",
    "<p style=\"font-size: 16px;\">A metaclass is the class of a class, controlling how classes are created. You can create custom behavior for class creation using metaclasses.</p>\n",
    "\n",
    "<p style=\"font-size: 16px;\"> <b>Example</b> </p>"
   ]
  },
  {
   "cell_type": "code",
   "execution_count": 27,
   "id": "6da94efe-ed94-4798-ae4c-596277d1621c",
   "metadata": {
    "collapsed": true,
    "jupyter": {
     "outputs_hidden": true,
     "source_hidden": true
    }
   },
   "outputs": [
    {
     "name": "stdout",
     "output_type": "stream",
     "text": [
      "Creating class MyClass\n"
     ]
    }
   ],
   "source": [
    "class Meta(type):\n",
    "    def __new__(cls, name, bases, dct):\n",
    "        print(f\"Creating class {name}\")\n",
    "        return super().__new__(cls, name, bases, dct)\n",
    "\n",
    "class MyClass(metaclass=Meta):\n",
    "    pass"
   ]
  },
  {
   "cell_type": "markdown",
   "id": "44cc937a-8315-47ea-9745-d8eb0370e27d",
   "metadata": {},
   "source": [
    "<p style=\"font-size: 16px;\"> <b>Use Cases</b> </p>"
   ]
  },
  {
   "cell_type": "code",
   "execution_count": 28,
   "id": "d2710552-c708-45f8-bdd4-88bfd4cfc62c",
   "metadata": {
    "collapsed": true,
    "jupyter": {
     "outputs_hidden": true,
     "source_hidden": true
    }
   },
   "outputs": [
    {
     "name": "stdout",
     "output_type": "stream",
     "text": [
      "Created class First\n",
      "Created class Second\n",
      "Created class Person\n",
      "<class '__main__.First'>\n",
      "<class '__main__.Second'>\n",
      "<class '__main__.Person'>\n",
      "<__main__.First object at 0x752d5c36c920>\n",
      "<Person({'name': 'Winnie', 'age': 20})>\n",
      "Creating class Gender with base[parent] classes ()\n",
      "Creating class Female with base[parent] classes (<class '__main__.Gender'>,)\n",
      "Created class SingleMeta\n",
      "<__main__.Third object at 0x752d5c36cc20>  ,  5\n",
      "Created class SingleMeta\n",
      "<__main__.Third object at 0x752d5c36cc20>  ,  10\n",
      "True  ,  True\n",
      "Created class Fourth\n",
      "Calling greet with args: ('Ashley',), and kwargs: {}\n",
      "Hello Ashley\n",
      "Created class Fifth\n",
      "Hello Nelly\n"
     ]
    }
   ],
   "source": [
    "# Meta classes use cases\n",
    "\n",
    "\n",
    "\"\"\" 1. Modify class behaviour \"\"\"\n",
    "# DEFINE THE META CLASS\n",
    "from typing import Any\n",
    "\n",
    "\n",
    "class Meta(type):\n",
    "    def __new__(cls, name, bases, dct):\n",
    "        print(f\"Created class {name}\")\n",
    "        return super().__new__(cls, name, bases, dct)\n",
    "    \n",
    "# CREATE A CLASS FROM THE META\n",
    "class First(metaclass=Meta):\n",
    "    ...\n",
    "\n",
    "\n",
    "\"\"\" 2. Enforcing attribute naming conventions\n",
    "e.g All class attributes must be uppercase \"\"\"\n",
    "# DEFINE THE META CLASS\n",
    "class UpperMeta(type):\n",
    "    def __new__(cls, name, bases, dct):\n",
    "        for k in dct:\n",
    "            if not k.isupper() and not k.startswith('__'):\n",
    "                raise ValueError(F\"Attribute {k} is not in caps\")\n",
    "        print(f\"Created class {name}\")\n",
    "        return super().__new__(cls, name, bases, dct)\n",
    "\n",
    "# CREATE A CLASS FROM THE META\n",
    "class Second(metaclass=UpperMeta):\n",
    "    AGE = 10\n",
    "    YEAR = 2014\n",
    "    # name = \"Nnie\"\n",
    "\n",
    "\n",
    "\n",
    "\"\"\" 3. Adding __repr__ method \"\"\"\n",
    "# DEFINE THE META CLASS\n",
    "class ReprMeta(type):\n",
    "    def __new__(cls, name, bases, dct: dict):\n",
    "        if \"__repr__\" not in dct:\n",
    "            def __repr__(self):\n",
    "                return f\"<{self.__class__.__name__}({self.__dict__})>\"\n",
    "            dct[\"__repr__\"] = __repr__\n",
    "        print(f\"Created class {name}\")\n",
    "        return super().__new__(cls, name, bases, dct)\n",
    "\n",
    "# CREATE A CLASS FROM THE META\n",
    "class Person(metaclass=ReprMeta):\n",
    "    def __init__(self, name: str, age: int) -> None:\n",
    "        self.name = name\n",
    "        self.age = age\n",
    "\n",
    "# CREATE OBJECT OF TYPE PERSON\n",
    "p0 = First()\n",
    "p1 = Person(\"Winnie\", 20)\n",
    "\n",
    "# PRINT THE OBJECTS\n",
    "print(First)\n",
    "print(Second)\n",
    "print(Person)\n",
    "print(p0)\n",
    "print(p1)\n",
    "\n",
    "\n",
    "\"\"\" 4. Logging class creation w bases \"\"\"\n",
    "# DEFINE THE META CLASS\n",
    "class LoggingMeta(type):\n",
    "    def __new__(cls, name, bases, dct):\n",
    "        print(f\"Creating class {name} with base[parent] classes {bases}\")\n",
    "        return super().__new__(cls, name, bases, dct)\n",
    "\n",
    "# CREATE A CLASS FROM THE META\n",
    "class Gender(metaclass=LoggingMeta):\n",
    "    ...\n",
    "\n",
    "class Female(Gender):\n",
    "    ...\n",
    "\n",
    "\n",
    "\"\"\" 5. Singleton pattern \"\"\"\n",
    "# DEFINE THE META CLASS\n",
    "class SingleMeta(type):\n",
    "    _instances = {}\n",
    "    def __call__(cls, *args: Any, **kwargs: Any) -> Any:\n",
    "        if cls not in cls._instances:\n",
    "            instance = super().__call__(*args, **kwargs)\n",
    "            cls._instances[cls] = instance\n",
    "        else:\n",
    "            instance = cls._instances[cls]\n",
    "            instance.__init__(*args, **kwargs)\n",
    "        print(f\"Created class {cls.__class__.__name__}\")\n",
    "        # return cls._instances[cls]\n",
    "        return instance\n",
    "    \n",
    "    # def __new__(cls, name, bases, dct):\n",
    "    #     instance = super().__new__(cls, name, bases, dct)\n",
    "    #     if name not in cls._instances:\n",
    "    #         cls._instances[name] = instance\n",
    "    #     else:\n",
    "    #         instance = cls._instances[name]\n",
    "    #     print(f\"Created class {name}\")\n",
    "    #     return instance\n",
    "\n",
    "# CREATE A CLASS FROM THE META\n",
    "class Third(metaclass=SingleMeta):\n",
    "    def __init__(self, value: int) -> None:\n",
    "        self.value = value\n",
    "\n",
    "s1 = Third(5)\n",
    "print(s1, \" , \", s1.value)\n",
    "s2 = Third(10)\n",
    "print(s2, \" , \", s2.value)\n",
    "\n",
    "print(s1 is s2, \" , \", s1 == s2)\n",
    "\n",
    "\n",
    "\"\"\" 6. Modify behaviour based on attributes \"\"\"\n",
    "# DEFINE THE META CLASS\n",
    "class TracingMeta(type):\n",
    "    def __new__(cls, name, bases, dct):\n",
    "        trace = dct.get('trace', False)\n",
    "        if trace:\n",
    "            for k, v in dct.items():\n",
    "                if callable(v) and not k.startswith(\"__\"):\n",
    "                    origi = v\n",
    "                    def wrapper(self, *args, **kwargs):\n",
    "                        print(f\"Calling {k} with args: {args}, and kwargs: {kwargs}\")\n",
    "                        return origi(self, *args, **kwargs)\n",
    "                    dct[k] = wrapper\n",
    "        print(f\"Created class {name}\")\n",
    "        return super().__new__(cls, name, bases, dct)\n",
    "\n",
    "# CREATE A CLASS FROM THE META\n",
    "class Fourth(metaclass=TracingMeta):\n",
    "    trace = True\n",
    "\n",
    "    def greet(self, name):\n",
    "        print(f\"Hello {name}\")\n",
    "\n",
    "obj1 = Fourth()\n",
    "obj1.greet(\"Ashley\")\n",
    "\n",
    "class Fifth(metaclass=TracingMeta):\n",
    "\n",
    "    def greet(self, name):\n",
    "        print(f\"Hello {name}\")\n",
    "\n",
    "obj1 = Fifth()\n",
    "obj1.greet(\"Nelly\")"
   ]
  },
  {
   "cell_type": "markdown",
   "id": "61db27d9-d3bc-4c63-84fd-470c1a52f7ae",
   "metadata": {},
   "source": [
    "<h2 style=\"font-size: 2em;\">72. Method</h2>\n",
    "<p style=\"font-size: 16px;\">A method is a function that is defined within a class and is bound to an instance.</p>\n",
    "\n",
    "<p style=\"font-size: 16px;\"> <b>Example</b> </p>"
   ]
  },
  {
   "cell_type": "code",
   "execution_count": 29,
   "id": "396eb94c-56a2-4203-8563-cbb0171dc806",
   "metadata": {
    "collapsed": true,
    "jupyter": {
     "outputs_hidden": true,
     "source_hidden": true
    }
   },
   "outputs": [
    {
     "name": "stdout",
     "output_type": "stream",
     "text": [
      "Hello, World!\n"
     ]
    }
   ],
   "source": [
    "class MyClass:\n",
    "    def say_hello(self):\n",
    "        print(\"Hello, World!\")\n",
    "\n",
    "obj = MyClass()\n",
    "obj.say_hello()"
   ]
  },
  {
   "cell_type": "markdown",
   "id": "6a39d39a-9b69-4f76-8f18-4077aef0891d",
   "metadata": {},
   "source": [
    "<h2 style=\"font-size: 2em;\">73. Method Resolution Order (MRO)</h2>\n",
    "<p style=\"font-size: 16px;\">MRO defines the order in which base classes are searched when looking for a method or attribute.</p>\n",
    "\n",
    "<p style=\"font-size: 16px;\"> <b>Example</b> </p>"
   ]
  },
  {
   "cell_type": "code",
   "execution_count": 30,
   "id": "ace7faaf-cba4-4b1f-832c-a18bc0788f85",
   "metadata": {
    "collapsed": true,
    "jupyter": {
     "outputs_hidden": true,
     "source_hidden": true
    }
   },
   "outputs": [
    {
     "name": "stdout",
     "output_type": "stream",
     "text": [
      "[<class '__main__.C'>, <class '__main__.B'>, <class '__main__.A'>, <class 'object'>]\n"
     ]
    }
   ],
   "source": [
    "class A: pass\n",
    "class B(A): pass\n",
    "class C(B): pass\n",
    "\n",
    "print(C.mro())"
   ]
  },
  {
   "cell_type": "markdown",
   "id": "37bab634-f82e-4a6b-a465-264d0d75891f",
   "metadata": {},
   "source": [
    "<h2 style=\"font-size: 2em;\">74. Module</h2>\n",
    "<p style=\"font-size: 16px;\">A module is a file containing Python definitions and statements.</p>\n",
    "\n",
    "<p style=\"font-size: 16px;\"> <b>Example</b> </p>"
   ]
  },
  {
   "cell_type": "code",
   "execution_count": 31,
   "id": "69239e46-d6ca-481c-b42b-7cb2c38d854d",
   "metadata": {
    "collapsed": true,
    "jupyter": {
     "outputs_hidden": true,
     "source_hidden": true
    }
   },
   "outputs": [
    {
     "name": "stdout",
     "output_type": "stream",
     "text": [
      "4.0\n"
     ]
    }
   ],
   "source": [
    "import math\n",
    "print(math.sqrt(16)) "
   ]
  },
  {
   "cell_type": "markdown",
   "id": "2fd56ecf-c243-4641-984a-9bdfddebc5bb",
   "metadata": {},
   "source": [
    "<h2 style=\"font-size: 2em;\">75. Module Spec</h2>\n",
    "<p style=\"font-size: 16px;\">A ModuleSpec object contains information about how to load a module.</p>\n",
    "\n",
    "<p style=\"font-size: 16px;\"> <b>Example</b> </p>"
   ]
  },
  {
   "cell_type": "code",
   "execution_count": 32,
   "id": "4465aabd-e679-4a88-9870-c9536d010298",
   "metadata": {
    "collapsed": true,
    "jupyter": {
     "outputs_hidden": true,
     "source_hidden": true
    }
   },
   "outputs": [
    {
     "name": "stdout",
     "output_type": "stream",
     "text": [
      "ModuleSpec(name='math', loader=<class '_frozen_importlib.BuiltinImporter'>, origin='built-in')\n"
     ]
    }
   ],
   "source": [
    "import importlib.util\n",
    "spec = importlib.util.find_spec('math')\n",
    "print(spec)"
   ]
  },
  {
   "cell_type": "markdown",
   "id": "5041aa17-4e57-4fcf-be89-8fe91fb67695",
   "metadata": {},
   "source": [
    "<h2 style=\"font-size: 2em;\">76. Mutable</h2>\n",
    "<p style=\"font-size: 16px;\">Mutable objects can be changed after their creation (e.g., lists, dictionaries).</p>\n",
    "\n",
    "<p style=\"font-size: 16px;\"> <b>Example</b> </p>"
   ]
  },
  {
   "cell_type": "code",
   "execution_count": 33,
   "id": "f24ef97b-634d-42c9-85ee-9a6522be3e17",
   "metadata": {
    "collapsed": true,
    "jupyter": {
     "outputs_hidden": true,
     "source_hidden": true
    }
   },
   "outputs": [
    {
     "name": "stdout",
     "output_type": "stream",
     "text": [
      "[1, 2, 3, 4]\n"
     ]
    }
   ],
   "source": [
    "my_list = [1, 2, 3]\n",
    "my_list.append(4)  # Mutates the list\n",
    "print(my_list) "
   ]
  },
  {
   "cell_type": "markdown",
   "id": "49cff6fd-e487-4c09-a138-c24bfef178ee",
   "metadata": {},
   "source": [
    "<h2 style=\"font-size: 2em;\">77. Named Tuple</h2>\n",
    "<p style=\"font-size: 16px;\">A named tuple is a subclass of tuples where fields are accessible by name.</p>\n",
    "\n",
    "<p style=\"font-size: 16px;\"> <b>Example</b> </p>"
   ]
  },
  {
   "cell_type": "code",
   "execution_count": 34,
   "id": "66b2ce3b-2e34-49f8-ac1a-e5d394137de8",
   "metadata": {
    "collapsed": true,
    "jupyter": {
     "outputs_hidden": true,
     "source_hidden": true
    }
   },
   "outputs": [
    {
     "name": "stdout",
     "output_type": "stream",
     "text": [
      "1 2\n"
     ]
    }
   ],
   "source": [
    "from collections import namedtuple\n",
    "Point = namedtuple('Point', ['x', 'y'])\n",
    "p = Point(1, 2)\n",
    "print(p.x, p.y) "
   ]
  },
  {
   "cell_type": "markdown",
   "id": "376392a0-453e-4117-bf1c-6df98d1ee441",
   "metadata": {},
   "source": [
    "<h2 style=\"font-size: 2em;\">78. Namespace</h2>\n",
    "<p style=\"font-size: 16px;\">A namespace is a container where names are mapped to objects. It avoids naming conflicts.</p>\n",
    "\n",
    "<p style=\"font-size: 16px;\"> <b>Example</b> </p>"
   ]
  },
  {
   "cell_type": "code",
   "execution_count": 35,
   "id": "9e771c70-39cd-45da-961c-59481e64d07c",
   "metadata": {
    "jupyter": {
     "source_hidden": true
    }
   },
   "outputs": [],
   "source": [
    "x = 10  # Global namespace\n",
    "def func():\n",
    "    y = 5  # Local namespace\n",
    "\n",
    "func()"
   ]
  },
  {
   "cell_type": "markdown",
   "id": "2fc4d4cd-bf2a-4522-8516-8f87fce6e358",
   "metadata": {},
   "source": [
    "<h2 style=\"font-size: 2em;\">79. Namespace Package</h2>\n",
    "<p style=\"font-size: 16px;\">A package that serves as a container for subpackages but lacks an __init__.py file.</p>\n",
    "\n",
    "<p style=\"font-size: 16px;\"> <b>Example</b> </p>"
   ]
  },
  {
   "cell_type": "code",
   "execution_count": null,
   "id": "cf438a28-6219-4bf8-9aa3-61165af13964",
   "metadata": {
    "jupyter": {
     "source_hidden": true
    }
   },
   "outputs": [],
   "source": [
    "my_namespace/\n",
    "    pkg1/\n",
    "    pkg2/"
   ]
  },
  {
   "cell_type": "markdown",
   "id": "4d0352c3-4585-4b83-821e-7fa4aa4a0dca",
   "metadata": {},
   "source": [
    "<h2 style=\"font-size: 2em;\">80. Nested Scope</h2>\n",
    "<p style=\"font-size: 16px;\">Nested scopes allow functions within functions to refer to variables in outer functions.</p>\n",
    "\n",
    "<p style=\"font-size: 16px;\"> <b>Example</b> </p>"
   ]
  },
  {
   "cell_type": "code",
   "execution_count": 36,
   "id": "c48720c5-e026-40cb-b53a-a69c96bd453a",
   "metadata": {
    "collapsed": true,
    "jupyter": {
     "outputs_hidden": true,
     "source_hidden": true
    }
   },
   "outputs": [
    {
     "name": "stdout",
     "output_type": "stream",
     "text": [
      "10\n"
     ]
    }
   ],
   "source": [
    "def outer():\n",
    "    x = 10\n",
    "    def inner():\n",
    "        print(x)  # Refers to x from the outer function\n",
    "    inner()\n",
    "\n",
    "outer() "
   ]
  },
  {
   "cell_type": "markdown",
   "id": "8fd06d67-d762-4cb7-bf38-644a8df95543",
   "metadata": {},
   "source": [
    "<h2 style=\"font-size: 2em;\">81. New-Style Class</h2>\n",
    "<p style=\"font-size: 16px;\">All classes in Python 3 are new-style classes, meaning they inherit from object.</p>\n",
    "\n",
    "<p style=\"font-size: 16px;\"> <b>Example</b> </p>"
   ]
  },
  {
   "cell_type": "code",
   "execution_count": 37,
   "id": "9ac84afe-78af-44a5-ba76-38c6647edc34",
   "metadata": {
    "collapsed": true,
    "jupyter": {
     "outputs_hidden": true,
     "source_hidden": true
    }
   },
   "outputs": [
    {
     "name": "stdout",
     "output_type": "stream",
     "text": [
      "True\n"
     ]
    }
   ],
   "source": [
    "class MyClass:\n",
    "    pass\n",
    "\n",
    "print(isinstance(MyClass(), object)) "
   ]
  },
  {
   "cell_type": "markdown",
   "id": "5d4f67c5-8c5a-4ab8-9d9c-7d02cc2970c6",
   "metadata": {},
   "source": [
    "<h2 style=\"font-size: 2em;\">82. Object</h2>\n",
    "<p style=\"font-size: 16px;\">An object is an instance of a class in Python, and everything is an object in Python.</p>\n",
    "\n",
    "<p style=\"font-size: 16px;\"> <b>Example</b> </p>"
   ]
  },
  {
   "cell_type": "code",
   "execution_count": 38,
   "id": "3d716cb9-858f-4b35-8a16-534572e17ed5",
   "metadata": {
    "collapsed": true,
    "jupyter": {
     "outputs_hidden": true,
     "source_hidden": true
    }
   },
   "outputs": [
    {
     "name": "stdout",
     "output_type": "stream",
     "text": [
      "True\n"
     ]
    }
   ],
   "source": [
    "x = 10\n",
    "print(isinstance(x, object)) "
   ]
  },
  {
   "cell_type": "markdown",
   "id": "a2a378b6-a934-481e-a583-f59f2601c3d7",
   "metadata": {},
   "source": [
    "<h2 style=\"font-size: 2em;\">83. Package</h2>\n",
    "<p style=\"font-size: 16px;\">A package is a module that contains submodules. It contains <code>__init__.py</code></p>\n",
    "\n",
    "<p style=\"font-size: 16px;\"> <b>Example</b> </p>"
   ]
  },
  {
   "cell_type": "code",
   "execution_count": null,
   "id": "8a0e011d-af2c-440d-afe5-ff60a65c4968",
   "metadata": {
    "jupyter": {
     "source_hidden": true
    }
   },
   "outputs": [],
   "source": [
    "my_package/\n",
    "    __init__.py\n",
    "    module1.py\n",
    "    module2.py"
   ]
  },
  {
   "cell_type": "markdown",
   "id": "da3351e4-b94e-4bcf-8713-6dc3ba44ed99",
   "metadata": {},
   "source": [
    "<h2 style=\"font-size: 2em;\">84. Parameter</h2>\n",
    "<p style=\"font-size: 16px;\">A parameter is a named variable in a function definition.</p>\n",
    "\n",
    "<p style=\"font-size: 16px;\"> <b>Example</b> </p>"
   ]
  },
  {
   "cell_type": "code",
   "execution_count": 39,
   "id": "d87e2e07-6613-4d6a-9db1-f6f568f8135d",
   "metadata": {
    "collapsed": true,
    "jupyter": {
     "outputs_hidden": true,
     "source_hidden": true
    }
   },
   "outputs": [
    {
     "name": "stdout",
     "output_type": "stream",
     "text": [
      "15\n"
     ]
    }
   ],
   "source": [
    "def func(a, b=10):\n",
    "    return a + b\n",
    "\n",
    "print(func(5))  "
   ]
  },
  {
   "cell_type": "markdown",
   "id": "a238e496-052a-4fe5-a3e8-78a10aad2c12",
   "metadata": {},
   "source": [
    "<h2 style=\"font-size: 2em;\">85. Path Entry</h2>\n",
    "<p style=\"font-size: 16px;\">A single location on the import path that a path-based finder searches to locate modules.</p>\n",
    "\n",
    "<p style=\"font-size: 16px;\"> <b>Example</b> </p>"
   ]
  },
  {
   "cell_type": "code",
   "execution_count": 40,
   "id": "fbb6997c-25a3-4107-b444-d5e5d31e2055",
   "metadata": {
    "collapsed": true,
    "jupyter": {
     "outputs_hidden": true,
     "source_hidden": true
    }
   },
   "outputs": [
    {
     "name": "stdout",
     "output_type": "stream",
     "text": [
      "['/usr/lib/python312.zip', '/usr/lib/python3.12', '/usr/lib/python3.12/lib-dynload', '', '/home/owinnie/GitHub/winisSchoolOfCoding/PythonCourse/winis/lib/python3.12/site-packages']\n"
     ]
    }
   ],
   "source": [
    "import sys\n",
    "print(sys.path)"
   ]
  },
  {
   "cell_type": "markdown",
   "id": "9a43afc4-5b1f-4ae1-8f5a-ca19d90c0136",
   "metadata": {},
   "source": [
    "<h2 style=\"font-size: 2em;\">86. Path Entry Finder</h2>\n",
    "<p style=\"font-size: 16px;\">An object that finds modules based on a path entry.</p>"
   ]
  },
  {
   "cell_type": "markdown",
   "id": "3a0eeb8c-5753-4135-ba72-d9c40dbd48b7",
   "metadata": {},
   "source": [
    "<h2 style=\"font-size: 2em;\">87. Path Entry Hook</h2>\n",
    "<p style=\"font-size: 16px;\">A callable that returns a path entry finder.</p>"
   ]
  },
  {
   "cell_type": "markdown",
   "id": "051e2e2c-ab54-462d-a5e5-33d287fb9929",
   "metadata": {},
   "source": [
    "<h2 style=\"font-size: 2em;\">88. Path Based Finder</h2>\n",
    "<p style=\"font-size: 16px;\">A default meta path finder that searches an import path for modules.</p>"
   ]
  },
  {
   "cell_type": "markdown",
   "id": "8dcc771b-d1e4-4444-ab4f-61d90e0ff678",
   "metadata": {},
   "source": [
    "<h2 style=\"font-size: 2em;\">89. Path-Like Object</h2>\n",
    "<p style=\"font-size: 16px;\">An object representing a filesystem path, either a string or an object implementing os.PathLike.</p>\n",
    "\n",
    "<p style=\"font-size: 16px;\"> <b>Example</b> </p>"
   ]
  },
  {
   "cell_type": "code",
   "execution_count": 41,
   "id": "5a80ff64-59b3-4e21-8873-b96743c5db26",
   "metadata": {
    "collapsed": true,
    "jupyter": {
     "outputs_hidden": true,
     "source_hidden": true
    }
   },
   "outputs": [
    {
     "name": "stdout",
     "output_type": "stream",
     "text": [
      "path/to/file\n"
     ]
    }
   ],
   "source": [
    "import os\n",
    "print(os.fspath(\"path/to/file\"))"
   ]
  },
  {
   "cell_type": "markdown",
   "id": "f5c27161-87f6-46eb-8a0e-3a25234a52d1",
   "metadata": {},
   "source": [
    "<h2 style=\"font-size: 2em;\">90. PEP (Python Enhancement Proposal)</h2>\n",
    "<p style=\"font-size: 16px;\">A PEP is a design document providing information or new features for Python.</p>\n",
    "\n",
    "<p style=\"font-size: 16px;\"> <b>Example</b> </p>"
   ]
  },
  {
   "cell_type": "code",
   "execution_count": null,
   "id": "626e01f3-eb85-41c7-b1ff-209709cf5ef8",
   "metadata": {
    "jupyter": {
     "source_hidden": true
    }
   },
   "outputs": [],
   "source": [
    "PEP 8: Style Guide for Python Code"
   ]
  },
  {
   "cell_type": "markdown",
   "id": "99ab91e7-b929-4b78-a9d5-bc35ce9c0755",
   "metadata": {},
   "source": [
    "<h2 style=\"font-size: 2em;\">91. Portion</h2>\n",
    "<p style=\"font-size: 16px;\">A set of files that contribute to a namespace package.</p>"
   ]
  },
  {
   "cell_type": "markdown",
   "id": "e1f1b91b-0d2f-4123-9c51-cd27b5b37a75",
   "metadata": {},
   "source": [
    "<h2 style=\"font-size: 2em;\">92. Positional Argument</h2>\n",
    "<p style=\"font-size: 16px;\">An argument that is passed to a function based on its position.</p>\n",
    "\n",
    "<p style=\"font-size: 16px;\"> <b>Example</b> </p>"
   ]
  },
  {
   "cell_type": "code",
   "execution_count": 42,
   "id": "924f126e-ab1a-41a2-9a42-09c43bb48eef",
   "metadata": {
    "collapsed": true,
    "jupyter": {
     "outputs_hidden": true,
     "source_hidden": true
    }
   },
   "outputs": [
    {
     "name": "stdout",
     "output_type": "stream",
     "text": [
      "Hello, Alice!\n"
     ]
    }
   ],
   "source": [
    "def greet(name):\n",
    "    print(f\"Hello, {name}!\")\n",
    "\n",
    "greet(\"Alice\") "
   ]
  },
  {
   "cell_type": "markdown",
   "id": "19e590c6-e923-4f09-983a-7d36298a30e9",
   "metadata": {},
   "source": [
    "<h2 style=\"font-size: 2em;\">93. Provisional API</h2>\n",
    "<p style=\"font-size: 16px;\">A provisional API is one that may change in future releases, even though it is part of the standard library.</p>"
   ]
  },
  {
   "cell_type": "markdown",
   "id": "f266a855-8ac9-4534-a71f-9ad3fc770b08",
   "metadata": {},
   "source": [
    "<h2 style=\"font-size: 2em;\">94. Provisional Package</h2>\n",
    "<p style=\"font-size: 16px;\">A package that contains a provisional API.</p>"
   ]
  },
  {
   "cell_type": "markdown",
   "id": "16dc23e5-db19-48dd-a4bd-b472a5dae3bf",
   "metadata": {},
   "source": [
    "<h2 style=\"font-size: 2em;\">95. Python 3000 (Py3k)</h2>\n",
    "<p style=\"font-size: 16px;\">Python 3000 refers to Python 3.x, which was a major overhaul of the language.</p>"
   ]
  },
  {
   "cell_type": "markdown",
   "id": "f37e6c0b-e0e5-43d7-bed4-93fb822c02db",
   "metadata": {},
   "source": [
    "<h2 style=\"font-size: 2em;\">96. Pythonic</h2>\n",
    "<p style=\"font-size: 16px;\">Code that follows idiomatic Python practices.</p>\n",
    "\n",
    "<p style=\"font-size: 16px;\"> <b>Example</b> </p>"
   ]
  },
  {
   "cell_type": "code",
   "execution_count": 43,
   "id": "743e32d1-3e7d-4f27-86b1-7b8ab9030d75",
   "metadata": {
    "collapsed": true,
    "jupyter": {
     "outputs_hidden": true,
     "source_hidden": true
    }
   },
   "outputs": [
    {
     "name": "stdout",
     "output_type": "stream",
     "text": [
      "1\n",
      "2\n",
      "3\n",
      "4\n",
      "1\n",
      "2\n",
      "3\n",
      "4\n"
     ]
    }
   ],
   "source": [
    "# Pythonic way\n",
    "for item in my_list:\n",
    "    print(item)\n",
    "\n",
    "# Non-Pythonic way\n",
    "for i in range(len(my_list)):\n",
    "    print(my_list[i])"
   ]
  },
  {
   "cell_type": "markdown",
   "id": "e8e65c9b-4bb6-4d5e-a4e4-b72277ee77e1",
   "metadata": {},
   "source": [
    "<h2 style=\"font-size: 2em;\">97. Qualified Name</h2>\n",
    "<p style=\"font-size: 16px;\">A dotted path representing the location of an object.</p>\n",
    "<p style=\"font-size: 16px;\"> <b>Example</b> </p>"
   ]
  },
  {
   "cell_type": "code",
   "execution_count": 44,
   "id": "f8e8dc01-6b13-4849-b037-d2ed6c4fb1db",
   "metadata": {
    "collapsed": true,
    "jupyter": {
     "outputs_hidden": true,
     "source_hidden": true
    }
   },
   "outputs": [
    {
     "name": "stdout",
     "output_type": "stream",
     "text": [
      "A.B\n"
     ]
    }
   ],
   "source": [
    "class A:\n",
    "    class B:\n",
    "        pass\n",
    "\n",
    "print(A.B.__qualname__) "
   ]
  },
  {
   "cell_type": "markdown",
   "id": "934330bf-b8ca-47e4-95bf-e522b6a6f112",
   "metadata": {},
   "source": [
    "<h2 style=\"font-size: 2em;\">98. Reference Count</h2>\n",
    "<p style=\"font-size: 16px;\">In Python, each object has a reference count — the number of references pointing to it. When this count drops to zero, the memory allocated for that object is freed (deallocated). Some objects, like built-in constants (e.g., None, True, False), are \"immortal\" — their reference counts are never modified, so they are never deallocated. You can check an object's reference count using sys.getrefcount().</p>\n",
    "<p style=\"font-size: 16px;\"> <b>Example</b> </p>"
   ]
  },
  {
   "cell_type": "code",
   "execution_count": 61,
   "id": "9fc3d4c7-86e5-499a-b3b8-8df6094342c0",
   "metadata": {
    "collapsed": true,
    "jupyter": {
     "outputs_hidden": true,
     "source_hidden": true
    }
   },
   "outputs": [
    {
     "name": "stdout",
     "output_type": "stream",
     "text": [
      "2\n",
      "3\n"
     ]
    }
   ],
   "source": [
    "import sys\n",
    "a = []\n",
    "print(sys.getrefcount(a))  \n",
    "b = a\n",
    "print(sys.getrefcount(a)) "
   ]
  },
  {
   "cell_type": "markdown",
   "id": "0dd3ebb9-9c22-4923-8967-28d5141d2e0c",
   "metadata": {},
   "source": [
    "<h2 style=\"font-size: 2em;\">99. Regular Package</h2>\n",
    "<p style=\"font-size: 16px;\">A regular package in Python is a directory that contains an __init__.py file. This file can contain package-level initialization code. Regular packages allow you to group related modules together into a single package.</p>\n",
    "<p style=\"font-size: 16px;\"> <b>Example</b> </p>"
   ]
  },
  {
   "cell_type": "code",
   "execution_count": null,
   "id": "59c37279-fd95-4ddf-ad45-20e7e8c0ac49",
   "metadata": {
    "jupyter": {
     "source_hidden": true
    }
   },
   "outputs": [],
   "source": [
    "my_package/\n",
    "    __init__.py\n",
    "    module1.py\n",
    "    module2.py"
   ]
  },
  {
   "cell_type": "markdown",
   "id": "6949d264-559b-433b-a627-097bde9e19d2",
   "metadata": {},
   "source": [
    "<h2 style=\"font-size: 2em;\">100. __slots__</h2>\n",
    "<p style=\"font-size: 16px;\">Using __slots__ in a class can save memory by restricting the attributes that instances of the class can have. It eliminates the need for an instance dictionary, which stores attributes dynamically. However, it should only be used when managing a large number of instances in memory-critical applications.</p>\n",
    "<p style=\"font-size: 16px;\"> <b>Example</b> </p>"
   ]
  },
  {
   "cell_type": "code",
   "execution_count": 60,
   "id": "1aa3dc38-b2c1-4dad-a2b2-0f2e658fe2d9",
   "metadata": {
    "jupyter": {
     "source_hidden": true
    }
   },
   "outputs": [],
   "source": [
    "class Person:\n",
    "    __slots__ = ['name', 'age']  # Predefine allowable attributes\n",
    "    \n",
    "    def __init__(self, name, age):\n",
    "        self.name = name\n",
    "        self.age = age\n",
    "\n",
    "p = Person('Alice', 30)\n",
    "# p.address = \"New York\"  # This will raise an AttributeError"
   ]
  },
  {
   "cell_type": "markdown",
   "id": "ac57478a-2875-4653-a18e-baf74162c051",
   "metadata": {},
   "source": [
    "<h2 style=\"font-size: 2em;\">101. Sequence</h2>\n",
    "<p style=\"font-size: 16px;\">A sequence in Python is an iterable that supports indexing and has a defined length. It supports accessing elements using integer indices (__getitem__()) and has a length method (__len__()).</p>\n",
    "<p style=\"font-size: 16px;\"> <b>Example</b> </p>"
   ]
  },
  {
   "cell_type": "code",
   "execution_count": 59,
   "id": "9f891b38-ac1e-4793-84d9-bace70d10184",
   "metadata": {
    "collapsed": true,
    "jupyter": {
     "outputs_hidden": true,
     "source_hidden": true
    }
   },
   "outputs": [
    {
     "name": "stdout",
     "output_type": "stream",
     "text": [
      "2\n",
      "3\n"
     ]
    }
   ],
   "source": [
    "my_list = [1, 2, 3]\n",
    "print(my_list[1])  \n",
    "print(len(my_list))  "
   ]
  },
  {
   "cell_type": "markdown",
   "id": "cdfd593e-3f78-4b34-82f1-ac746352421d",
   "metadata": {},
   "source": [
    "<h2 style=\"font-size: 2em;\">102. Set Comprehension</h2>\n",
    "<p style=\"font-size: 16px;\">A set comprehension is a compact way of constructing a set by filtering and processing elements from an iterable.</p>\n",
    "<p style=\"font-size: 16px;\"> <b>Example</b> </p>"
   ]
  },
  {
   "cell_type": "code",
   "execution_count": 58,
   "id": "dd833f0b-1939-4a2b-9275-d6d0bc4522b8",
   "metadata": {
    "collapsed": true,
    "jupyter": {
     "outputs_hidden": true,
     "source_hidden": true
    }
   },
   "outputs": [
    {
     "name": "stdout",
     "output_type": "stream",
     "text": [
      "{'r', 'd'}\n"
     ]
    }
   ],
   "source": [
    "unique_chars = {char for char in 'abracadabra' if char not in 'abc'}\n",
    "print(unique_chars) "
   ]
  },
  {
   "cell_type": "markdown",
   "id": "400d92fe-edb2-43f4-a0ae-efb543f61084",
   "metadata": {},
   "source": [
    "<h2 style=\"font-size: 2em;\">103. Single Dispatch</h2>\n",
    "<p style=\"font-size: 16px;\">Single dispatch refers to choosing a function implementation based on the type of a single argument. Python provides the functools.singledispatch decorator to achieve this.</p>\n",
    "<p style=\"font-size: 16px;\"> <b>Example</b> </p>"
   ]
  },
  {
   "cell_type": "code",
   "execution_count": 57,
   "id": "e000afe1-e43a-498c-8790-31308ac8b968",
   "metadata": {
    "collapsed": true,
    "jupyter": {
     "outputs_hidden": true,
     "source_hidden": true
    }
   },
   "outputs": [
    {
     "name": "stdout",
     "output_type": "stream",
     "text": [
      "Processing integer 5\n",
      "Processing string 'hi'\n"
     ]
    }
   ],
   "source": [
    "from functools import singledispatch\n",
    "\n",
    "@singledispatch\n",
    "def process(value):\n",
    "    print(f\"Default process for {value}\")\n",
    "\n",
    "@process.register(int)\n",
    "def _(value):\n",
    "    print(f\"Processing integer {value}\")\n",
    "\n",
    "@process.register(str)\n",
    "def _(value):\n",
    "    print(f\"Processing string '{value}'\")\n",
    "\n",
    "process(5)    \n",
    "process(\"hi\") "
   ]
  },
  {
   "cell_type": "markdown",
   "id": "b9214001-c717-41f4-af9b-ad930e6f501b",
   "metadata": {},
   "source": [
    "<h2 style=\"font-size: 2em;\">104. Slice</h2>\n",
    "<p style=\"font-size: 16px;\">A slice represents a part of a sequence. You can create slices using the colon : notation inside square brackets [].</p>\n",
    "<p style=\"font-size: 16px;\"> <b>Example</b> </p>"
   ]
  },
  {
   "cell_type": "code",
   "execution_count": 56,
   "id": "a1c64338-89fd-4f3e-a302-fc335907cd7e",
   "metadata": {
    "collapsed": true,
    "jupyter": {
     "outputs_hidden": true,
     "source_hidden": true
    }
   },
   "outputs": [
    {
     "name": "stdout",
     "output_type": "stream",
     "text": [
      "[20, 30, 40]\n"
     ]
    }
   ],
   "source": [
    "my_list = [10, 20, 30, 40, 50]\n",
    "sub_list = my_list[1:4]  # Slice from index 1 to 3\n",
    "print(sub_list) "
   ]
  },
  {
   "cell_type": "markdown",
   "id": "29824098-cd1f-4cc9-a53a-d4b8e3b94ffd",
   "metadata": {},
   "source": [
    "<h2 style=\"font-size: 2em;\">105. Special Method</h2>\n",
    "<p style=\"font-size: 16px;\">Special methods (also known as \"magic methods\") are methods in Python that have double underscores before and after their names. These methods are invoked by Python to perform special operations like addition (__add__()) or string representation (__repr__()).</p>\n",
    "<p style=\"font-size: 16px;\"> <b>Example</b> </p>"
   ]
  },
  {
   "cell_type": "code",
   "execution_count": 55,
   "id": "3282c475-c006-4343-ab5c-01256862b609",
   "metadata": {
    "collapsed": true,
    "jupyter": {
     "outputs_hidden": true,
     "source_hidden": true
    }
   },
   "outputs": [
    {
     "name": "stdout",
     "output_type": "stream",
     "text": [
      "15\n"
     ]
    }
   ],
   "source": [
    "class MyNumber:\n",
    "    def __init__(self, value):\n",
    "        self.value = value\n",
    "    \n",
    "    def __add__(self, other):\n",
    "        return MyNumber(self.value + other.value)\n",
    "\n",
    "a = MyNumber(5)\n",
    "b = MyNumber(10)\n",
    "c = a + b  # Calls the __add__() method\n",
    "print(c.value)  "
   ]
  },
  {
   "cell_type": "markdown",
   "id": "33fb934b-2fa4-416c-9874-0290253a6a37",
   "metadata": {},
   "source": [
    "<h2 style=\"font-size: 2em;\">106. Statement</h2>\n",
    "<p style=\"font-size: 16px;\">A statement is a line of code that performs some action. Examples include expressions, if statements, for loops, and function calls.</p>\n",
    "<p style=\"font-size: 16px;\"> <b>Example</b> </p>"
   ]
  },
  {
   "cell_type": "code",
   "execution_count": 54,
   "id": "2e722726-c417-408e-b162-0e7fb767ac5a",
   "metadata": {
    "collapsed": true,
    "jupyter": {
     "outputs_hidden": true,
     "source_hidden": true
    }
   },
   "outputs": [
    {
     "name": "stdout",
     "output_type": "stream",
     "text": [
      "Positive number\n"
     ]
    }
   ],
   "source": [
    "x = 5  # Assignment statement\n",
    "if x > 0:  # if statement\n",
    "    print(\"Positive number\")"
   ]
  },
  {
   "cell_type": "markdown",
   "id": "c133ade9-ede3-4973-9cf2-bf0bb3816419",
   "metadata": {},
   "source": [
    "<h2 style=\"font-size: 2em;\">107. Static Type Checker</h2>\n",
    "<p style=\"font-size: 16px;\">A static type checker analyzes Python code for type errors without running it. It checks if the code follows the type hints specified using the typing module.</p>\n",
    "<p style=\"font-size: 16px;\"> <b>Example</b> </p>"
   ]
  },
  {
   "cell_type": "code",
   "execution_count": 53,
   "id": "55613642-010e-4a24-825a-4bc3a63ccc9f",
   "metadata": {
    "jupyter": {
     "source_hidden": true
    }
   },
   "outputs": [],
   "source": [
    "def add(a: int, b: int) -> int:\n",
    "    return a + b\n",
    "\n",
    "# Running mypy on this code will ensure that correct types are used."
   ]
  },
  {
   "cell_type": "markdown",
   "id": "a9507c26-4882-4108-8a4a-a965fb7e2795",
   "metadata": {},
   "source": [
    "<h2 style=\"font-size: 2em;\">108. Strong Reference</h2>\n",
    "<p style=\"font-size: 16px;\">A strong reference is a reference to an object that ensures the object cannot be garbage collected until the reference is removed. In Python's C API, functions like Py_INCREF() create strong references, and Py_DECREF() removes them.</p>"
   ]
  },
  {
   "cell_type": "markdown",
   "id": "88b711da-426f-445c-922b-dcc96a6826ef",
   "metadata": {},
   "source": [
    "<h2 style=\"font-size: 2em;\">109. Text Encoding</h2>\n",
    "<p style=\"font-size: 16px;\">Text encoding is the process of converting a string into a sequence of bytes. It is necessary when storing or transmitting strings. Common encodings include UTF-8 and ASCII.</p>\n",
    "<p style=\"font-size: 16px;\"> <b>Example</b> </p>"
   ]
  },
  {
   "cell_type": "code",
   "execution_count": 52,
   "id": "e2fb65d4-b2b6-4fd8-b820-e35afc42775d",
   "metadata": {
    "collapsed": true,
    "jupyter": {
     "outputs_hidden": true,
     "source_hidden": true
    }
   },
   "outputs": [
    {
     "name": "stdout",
     "output_type": "stream",
     "text": [
      "b'Hello'\n"
     ]
    }
   ],
   "source": [
    "text = \"Hello\"\n",
    "encoded_text = text.encode('utf-8')\n",
    "print(encoded_text) "
   ]
  },
  {
   "cell_type": "markdown",
   "id": "2ea15973-3b56-425f-9d33-677eb4f2e3c3",
   "metadata": {},
   "source": [
    "<h2 style=\"font-size: 2em;\">110. Text File</h2>\n",
    "<p style=\"font-size: 16px;\">A text file is a file that contains textual data (string), often read or written using str objects. The file handles encoding internally when opening in text mode.</p>\n",
    "<p style=\"font-size: 16px;\"> <b>Example</b> </p>"
   ]
  },
  {
   "cell_type": "code",
   "execution_count": 51,
   "id": "f14ec095-87a5-4602-bfa2-b3d9d8854cbf",
   "metadata": {
    "jupyter": {
     "source_hidden": true
    }
   },
   "outputs": [],
   "source": [
    "with open('file.txt', 'w') as file:\n",
    "    file.write(\"Hello, World!\")"
   ]
  },
  {
   "cell_type": "markdown",
   "id": "04f62d66-1eb9-479b-9850-2ed461bd5c7b",
   "metadata": {},
   "source": [
    "<h2 style=\"font-size: 2em;\">111. Triple-Quoted String</h2>\n",
    "<p style=\"font-size: 16px;\">A triple-quoted string is surrounded by three instances of quotes (\"\"\" or '''). It allows for multi-line strings and unescaped quotes within the string.</p>\n",
    "<p style=\"font-size: 16px;\"> <b>Example</b> </p>"
   ]
  },
  {
   "cell_type": "code",
   "execution_count": 50,
   "id": "4c98c159-5735-44e9-85c1-db1fe80d5f72",
   "metadata": {
    "collapsed": true,
    "jupyter": {
     "outputs_hidden": true,
     "source_hidden": true
    }
   },
   "outputs": [
    {
     "name": "stdout",
     "output_type": "stream",
     "text": [
      "This is a \n",
      "multi-line string with \"double\" and 'single' quotes.\n"
     ]
    }
   ],
   "source": [
    "docstring = \"\"\"This is a \n",
    "multi-line string with \"double\" and 'single' quotes.\"\"\"\n",
    "print(docstring)"
   ]
  },
  {
   "cell_type": "markdown",
   "id": "6ce6369d-b039-4075-b4c3-1d1b31acf774",
   "metadata": {},
   "source": [
    "<h2 style=\"font-size: 2em;\">112. Type</h2>\n",
    "<p style=\"font-size: 16px;\">Every object in Python has a type that determines its behavior. You can access an object's type using type() or __class__.</p>\n",
    "<p style=\"font-size: 16px;\"> <b>Example</b> </p>"
   ]
  },
  {
   "cell_type": "code",
   "execution_count": 49,
   "id": "f7c1fc88-4ac7-4f52-bb78-52d4d1879525",
   "metadata": {
    "jupyter": {
     "source_hidden": true
    }
   },
   "outputs": [
    {
     "name": "stdout",
     "output_type": "stream",
     "text": [
      "<class 'int'>\n"
     ]
    }
   ],
   "source": [
    "x = 10\n",
    "print(type(x)) "
   ]
  },
  {
   "cell_type": "markdown",
   "id": "6422c8a3-5619-4ecf-ae22-a9b718d43e06",
   "metadata": {},
   "source": [
    "<h2 style=\"font-size: 2em;\">113. Type Alias</h2>\n",
    "<p style=\"font-size: 16px;\">A type alias is a synonym for a type, typically used in type hints to make code more readable.</p>\n",
    "<p style=\"font-size: 16px;\"> <b>Example</b> </p>"
   ]
  },
  {
   "cell_type": "code",
   "execution_count": 48,
   "id": "30cd1d5b-0b25-4756-acff-04b90182cb08",
   "metadata": {
    "jupyter": {
     "source_hidden": true
    }
   },
   "outputs": [],
   "source": [
    "Color = tuple[int, int, int]\n",
    "\n",
    "def get_color() -> Color:\n",
    "    return (255, 0, 0)"
   ]
  },
  {
   "cell_type": "markdown",
   "id": "d841ebaf-001f-4b24-9764-1b94d3d5c3df",
   "metadata": {},
   "source": [
    "<h2 style=\"font-size: 2em;\">114. Type Hint</h2>\n",
    "<p style=\"font-size: 16px;\">Type hints specify the expected types for variables, function arguments, or return values. They are not enforced by Python but help with code clarity and static type checking.</p>\n",
    "<p style=\"font-size: 16px;\"> <b>Example</b> </p>"
   ]
  },
  {
   "cell_type": "code",
   "execution_count": 47,
   "id": "3f39465d-9e2f-4aef-9af2-8e25769bafa0",
   "metadata": {
    "jupyter": {
     "source_hidden": true
    }
   },
   "outputs": [],
   "source": [
    "def add(a: int, b: int) -> int:\n",
    "    return a + b"
   ]
  },
  {
   "cell_type": "markdown",
   "id": "abfa7932-4ac2-4228-9d7f-19d672d0b677",
   "metadata": {},
   "source": [
    "<h2 style=\"font-size: 2em;\">115. Universal Newlines</h2>\n",
    "<p style=\"font-size: 16px;\">Universal newlines allow Python to handle different end-of-line characters (\\n, \\r\\n, \\r) when reading or writing text files.</p>"
   ]
  },
  {
   "cell_type": "markdown",
   "id": "55965adb-f73e-4817-b973-11db54a3dd67",
   "metadata": {},
   "source": [
    "<h2 style=\"font-size: 2em;\">116. Variable Annotation</h2>\n",
    "<p style=\"font-size: 16px;\">Variable annotations specify the type of a variable or class attribute, usually as part of type hints.</p>\n",
    "<p style=\"font-size: 16px;\"> <b>Example</b> </p>"
   ]
  },
  {
   "cell_type": "code",
   "execution_count": 46,
   "id": "5c13649e-5043-4cbb-9959-a39a32d4dfd6",
   "metadata": {},
   "outputs": [],
   "source": [
    "name: str = \"Alice\""
   ]
  },
  {
   "cell_type": "markdown",
   "id": "2241ec8b-c29d-4b0e-a352-2894b101901c",
   "metadata": {},
   "source": [
    "<h2 style=\"font-size: 2em;\">117. Virtual Environment</h2>\n",
    "<p style=\"font-size: 16px;\">A virtual environment is an isolated Python environment that allows you to install and manage packages without affecting the global Python installation.</p>\n",
    "<p style=\"font-size: 16px;\"> <b>Example</b> </p>"
   ]
  },
  {
   "cell_type": "code",
   "execution_count": null,
   "id": "7757f5c4-b72e-4bc4-bac0-55fb8ac04b71",
   "metadata": {
    "jupyter": {
     "source_hidden": true
    }
   },
   "outputs": [],
   "source": [
    "python -m venv myenv\n",
    "source myenv/bin/activate"
   ]
  },
  {
   "cell_type": "markdown",
   "id": "40647795-ad9e-4ed0-a95c-e6d88d40320e",
   "metadata": {},
   "source": [
    "<h2 style=\"font-size: 2em;\">118. Virtual Machine</h2>\n",
    "<p style=\"font-size: 16px;\">A virtual machine (VM) is a software-emulated environment that runs bytecode. Python has a virtual machine that executes the bytecode generated by the Python compiler.</p>"
   ]
  },
  {
   "cell_type": "markdown",
   "id": "25f08145-4f2c-4528-a692-55044ef8ac0e",
   "metadata": {},
   "source": [
    "<h2 style=\"font-size: 2em;\">119. Zen of Python</h2>\n",
    "<p style=\"font-size: 16px;\">The \"Zen of Python\" is a set of principles that guide Python's design philosophy. You can view it by typing import this in a Python shell.</p>\n",
    "<p style=\"font-size: 16px;\"> <b>Example</b> </p>"
   ]
  },
  {
   "cell_type": "code",
   "execution_count": 45,
   "id": "22ddeb70-2148-4731-b0d9-3907b1a28c31",
   "metadata": {
    "collapsed": true,
    "jupyter": {
     "outputs_hidden": true,
     "source_hidden": true
    }
   },
   "outputs": [
    {
     "name": "stdout",
     "output_type": "stream",
     "text": [
      "The Zen of Python, by Tim Peters\n",
      "\n",
      "Beautiful is better than ugly.\n",
      "Explicit is better than implicit.\n",
      "Simple is better than complex.\n",
      "Complex is better than complicated.\n",
      "Flat is better than nested.\n",
      "Sparse is better than dense.\n",
      "Readability counts.\n",
      "Special cases aren't special enough to break the rules.\n",
      "Although practicality beats purity.\n",
      "Errors should never pass silently.\n",
      "Unless explicitly silenced.\n",
      "In the face of ambiguity, refuse the temptation to guess.\n",
      "There should be one-- and preferably only one --obvious way to do it.\n",
      "Although that way may not be obvious at first unless you're Dutch.\n",
      "Now is better than never.\n",
      "Although never is often better than *right* now.\n",
      "If the implementation is hard to explain, it's a bad idea.\n",
      "If the implementation is easy to explain, it may be a good idea.\n",
      "Namespaces are one honking great idea -- let's do more of those!\n"
     ]
    }
   ],
   "source": [
    "import this\n",
    "# Output:\n",
    "# The Zen of Python, by Tim Peters\n",
    "# Beautiful is better than ugly.\n",
    "# Explicit is better than implicit.\n",
    "# Simple is better than complex.\n",
    "# ..."
   ]
  }
 ],
 "metadata": {
  "kernelspec": {
   "display_name": "winis",
   "language": "python",
   "name": "winis"
  },
  "language_info": {
   "codemirror_mode": {
    "name": "ipython",
    "version": 3
   },
   "file_extension": ".py",
   "mimetype": "text/x-python",
   "name": "python",
   "nbconvert_exporter": "python",
   "pygments_lexer": "ipython3",
   "version": "3.12.3"
  }
 },
 "nbformat": 4,
 "nbformat_minor": 5
}
